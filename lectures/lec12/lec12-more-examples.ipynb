{
 "cells": [
  {
   "cell_type": "markdown",
   "id": "c5587832",
   "metadata": {
    "slideshow": {
     "slide_type": "slide"
    }
   },
   "source": [
    "# Aside: More Missingness Examples\n",
    "\n",
    "This notebook serves to provide more examples of how to identify missingness mechanisms through data."
   ]
  },
  {
   "cell_type": "code",
   "execution_count": null,
   "id": "92d62289",
   "metadata": {},
   "outputs": [],
   "source": [
    "import pandas as pd\n",
    "import numpy as np\n",
    "import os\n",
    "\n",
    "import plotly.express as px\n",
    "import plotly.figure_factory as ff\n",
    "pd.options.plotting.backend = 'plotly'\n",
    "\n",
    "from scipy.stats import ks_2samp\n",
    "\n",
    "# Used for plotting examples.\n",
    "def create_kde_plotly(df, group_col, group1, group2, vals_col, title=''):\n",
    "    fig = ff.create_distplot(\n",
    "        hist_data=[df.loc[df[group_col] == group1, vals_col], df.loc[df[group_col] == group2, vals_col]],\n",
    "        group_labels=[group1, group2],\n",
    "        show_rug=False, show_hist=False,\n",
    "        colors=['#ef553b', '#636efb'],\n",
    "    )\n",
    "    return fig.update_layout(title=title)"
   ]
  },
  {
   "cell_type": "markdown",
   "id": "3a3a95de",
   "metadata": {
    "slideshow": {
     "slide_type": "slide"
    }
   },
   "source": [
    "## Example: Cars 🚗"
   ]
  },
  {
   "cell_type": "markdown",
   "id": "872d6d34",
   "metadata": {
    "slideshow": {
     "slide_type": "slide"
    }
   },
   "source": [
    "### Example: Cars\n",
    "\n",
    "* We have data on cars that were given tickets.\n",
    "* For each car, we have their `'vin'` number, `'car_make'`, `'car_year'`, and `'car_color'`.\n",
    "* **Question:** Is `'car_color'` missing at random, **dependent on `'car_year'`**?\n",
    "    * Is the distribution of `'car_year'` similar when color is missing vs. not missing?\n",
    "    * How similar is similar enough?\n",
    "    \n",
    "Let's use a permutation test!"
   ]
  },
  {
   "cell_type": "code",
   "execution_count": null,
   "id": "a81a312e",
   "metadata": {},
   "outputs": [],
   "source": [
    "cars = pd.read_csv(os.path.join('data', 'cars.csv'))\n",
    "cars.head()"
   ]
  },
  {
   "cell_type": "code",
   "execution_count": null,
   "id": "793833f4",
   "metadata": {},
   "outputs": [],
   "source": [
    "# Proportion of car colors missing.\n",
    "cars['car_color'].isna().mean()"
   ]
  },
  {
   "cell_type": "code",
   "execution_count": null,
   "id": "7acec2a1",
   "metadata": {},
   "outputs": [],
   "source": [
    "cars['color_missing'] = cars['car_color'].isna()"
   ]
  },
  {
   "cell_type": "code",
   "execution_count": null,
   "id": "44fa9e78",
   "metadata": {},
   "outputs": [],
   "source": [
    "cars.head()"
   ]
  },
  {
   "cell_type": "code",
   "execution_count": null,
   "id": "71244678",
   "metadata": {},
   "outputs": [],
   "source": [
    "(\n",
    "    cars\n",
    "    .pivot_table(index='car_year', columns='color_missing', values=None, aggfunc='size')\n",
    "    .fillna(0)\n",
    "    .apply(lambda x: x / x.sum())\n",
    "    .plot(title='Distribution of Car Years by Missingness of Color')\n",
    ")"
   ]
  },
  {
   "cell_type": "markdown",
   "id": "2d46bfa7",
   "metadata": {},
   "source": [
    "- These distributions look pretty similar. We won't run the permutation test here, but if we did, we'd fail to reject the null. It doesn't seem like the missingness of `'car_color'` depends on `'car_year'`.\n",
    "- To figure out if the missingness of `'car_color'` is MCAR, we'd need to do a similar analysis for all other columns."
   ]
  },
  {
   "cell_type": "markdown",
   "id": "ebc786d4",
   "metadata": {
    "slideshow": {
     "slide_type": "slide"
    }
   },
   "source": [
    "### Missingness of `'car_color'` on `'car_make'`\n",
    "\n",
    "Let's test whether the missingness of `'car_color'` is dependent on `'car_make'`."
   ]
  },
  {
   "cell_type": "code",
   "execution_count": null,
   "id": "2bd92638",
   "metadata": {},
   "outputs": [],
   "source": [
    "cars.head()"
   ]
  },
  {
   "cell_type": "code",
   "execution_count": null,
   "id": "2445c650",
   "metadata": {},
   "outputs": [],
   "source": [
    "emp_distributions = (\n",
    "    cars\n",
    "    .pivot_table(index='car_make', columns='color_missing', values=None, aggfunc='size')\n",
    "    .fillna(0)\n",
    "    .apply(lambda x: x / x.sum())\n",
    ")\n",
    "\n",
    "# There are too many makes to plot them all at once! Instead, we'll take the top 20.\n",
    "emp_distributions.iloc[:20].plot(kind='barh', title='Distribution of Makes by Missingness of Color', \n",
    "                                 barmode='group')"
   ]
  },
  {
   "cell_type": "code",
   "execution_count": null,
   "id": "c0f0ddc6",
   "metadata": {},
   "outputs": [],
   "source": [
    "observed_tvd = emp_distributions.diff(axis=1).iloc[:, -1].abs().sum() / 2\n",
    "observed_tvd"
   ]
  },
  {
   "cell_type": "code",
   "execution_count": null,
   "id": "de85a75b",
   "metadata": {},
   "outputs": [],
   "source": [
    "shuffled = cars.copy()[['car_make', 'color_missing']]\n",
    "\n",
    "n_repetitions = 500\n",
    "tvds = []\n",
    "\n",
    "for _ in range(n_repetitions):\n",
    "    \n",
    "    shuffled['car_make'] = np.random.permutation(shuffled['car_make'])\n",
    "    \n",
    "    pivoted = (\n",
    "        shuffled\n",
    "        .pivot_table(index='car_make', columns='color_missing', values=None, aggfunc='size')\n",
    "        .fillna(0)\n",
    "        .apply(lambda x: x / x.sum())\n",
    "    )\n",
    "    \n",
    "    tvd = pivoted.diff(axis=1).iloc[:, -1].abs().sum() / 2\n",
    "    tvds.append(tvd)"
   ]
  },
  {
   "cell_type": "code",
   "execution_count": null,
   "id": "1cd56c34",
   "metadata": {},
   "outputs": [],
   "source": [
    "fig = px.histogram(pd.DataFrame(tvds), x=0, nbins=50, histnorm='probability', \n",
    "                   title='Empirical Distribution of the TVD')\n",
    "fig.add_vline(x=observed_tvd, line_color='red')\n",
    "fig.add_annotation(text=f'<span style=\"color:red\">Observed TVD = {round(observed_tvd, 2)}</span>',\n",
    "                   x=1.08 * observed_tvd, showarrow=False, y=0.1)\n",
    "fig.update_layout(yaxis_range=[0, 0.15])"
   ]
  },
  {
   "cell_type": "code",
   "execution_count": null,
   "id": "d4f30a94",
   "metadata": {},
   "outputs": [],
   "source": [
    "np.mean(np.array(tvds) >= observed_tvd)"
   ]
  },
  {
   "cell_type": "markdown",
   "id": "55b04b51",
   "metadata": {},
   "source": [
    "Here, we fail to reject the null that the distribution of `'car_make'` is the same whether or not `'car_color'` is missing."
   ]
  },
  {
   "cell_type": "markdown",
   "id": "18ec667b",
   "metadata": {
    "slideshow": {
     "slide_type": "slide"
    }
   },
   "source": [
    "## Example: Payments 💰"
   ]
  },
  {
   "cell_type": "markdown",
   "id": "969aedab",
   "metadata": {
    "slideshow": {
     "slide_type": "slide"
    }
   },
   "source": [
    "### Example: Assessing missingness in payments data\n",
    "\n",
    "* We have payment information for purchases: credit card type, credit card number, date of birth.\n",
    "* Is the credit card number missing at random dependent on the type of card?"
   ]
  },
  {
   "cell_type": "code",
   "execution_count": null,
   "id": "b00dd91d",
   "metadata": {},
   "outputs": [],
   "source": [
    "payments = pd.read_csv(os.path.join('data', 'payment.csv'))\n",
    "payments['cc_isnull'] = payments['credit_card_number'].isna()"
   ]
  },
  {
   "cell_type": "code",
   "execution_count": null,
   "id": "979b08d3",
   "metadata": {},
   "outputs": [],
   "source": [
    "payments.head()"
   ]
  },
  {
   "cell_type": "code",
   "execution_count": null,
   "id": "d7c759a8",
   "metadata": {},
   "outputs": [],
   "source": [
    "emp_distributions = (\n",
    "    payments\n",
    "    .pivot_table(columns='cc_isnull', index='credit_card_type', aggfunc='size')\n",
    "    .fillna(0)\n",
    "    .apply(lambda x:x / x.sum())\n",
    ")\n",
    "\n",
    "emp_distributions.plot(kind='barh', title='Distribution of Card Types', barmode='group')"
   ]
  },
  {
   "cell_type": "code",
   "execution_count": null,
   "id": "6fc51d30",
   "metadata": {},
   "outputs": [],
   "source": [
    "observed_tvd = emp_distributions.diff(axis=1).iloc[:, -1].abs().sum() / 2\n",
    "observed_tvd"
   ]
  },
  {
   "cell_type": "code",
   "execution_count": null,
   "id": "c29d7c35",
   "metadata": {},
   "outputs": [],
   "source": [
    "shuffled = payments.copy()[['credit_card_type', 'cc_isnull']]\n",
    "\n",
    "n_repetitions = 500\n",
    "tvds = []\n",
    "\n",
    "for _ in range(n_repetitions):\n",
    "    \n",
    "    shuffled['credit_card_type'] = np.random.permutation(shuffled['credit_card_type'])\n",
    "    \n",
    "    pivoted = (\n",
    "        shuffled\n",
    "        .pivot_table(index='credit_card_type', columns='cc_isnull', values=None, aggfunc='size')\n",
    "        .fillna(0)\n",
    "        .apply(lambda x: x / x.sum())\n",
    "    )\n",
    "    \n",
    "    tvd = pivoted.diff(axis=1).iloc[:, -1].abs().sum() / 2\n",
    "    tvds.append(tvd)"
   ]
  },
  {
   "cell_type": "markdown",
   "id": "6c7e3c9c",
   "metadata": {
    "slideshow": {
     "slide_type": "slide"
    }
   },
   "source": [
    "### Assessing missingness in payments data\n",
    "\n",
    "* Is the credit card number missing at random dependent on the type of card?\n",
    "* As always, set significance level **beforehand**:\n",
    "    - How important is the column in the modeling process?\n",
    "    - How many null values are there?\n",
    "* Consideration: how important is a faithful imputation?"
   ]
  },
  {
   "cell_type": "code",
   "execution_count": null,
   "id": "972704cc",
   "metadata": {},
   "outputs": [],
   "source": [
    "fig = px.histogram(pd.DataFrame(tvds), x=0, nbins=50, histnorm='probability', \n",
    "                   title='Empirical Distribution of the TVD')\n",
    "fig.add_vline(x=observed_tvd, line_color='red')\n",
    "fig.add_annotation(text=f'<span style=\"color:red\">Observed TVD = {round(observed_tvd, 2)}</span>',\n",
    "                   x=0.06, showarrow=False, y=0.08)\n",
    "fig.update_layout(xaxis_range=[0, 0.25])"
   ]
  },
  {
   "cell_type": "code",
   "execution_count": null,
   "id": "589f8abe",
   "metadata": {},
   "outputs": [],
   "source": [
    "# Same as np.mean(np.array(tvds) >= observed_tvd).\n",
    "np.count_nonzero(np.array(tvds) >= observed_tvd) / len(tvds)"
   ]
  },
  {
   "cell_type": "markdown",
   "id": "d93f714a",
   "metadata": {
    "slideshow": {
     "slide_type": "slide"
    }
   },
   "source": [
    "### Assessing missingness in payments data\n",
    "\n",
    "* Is the credit card number missing at random dependent on the age of shopper?\n",
    "* For quantitative distributions, we've compared means of two groups."
   ]
  },
  {
   "cell_type": "code",
   "execution_count": null,
   "id": "07b3ee2e",
   "metadata": {},
   "outputs": [],
   "source": [
    "payments['date_of_birth'] = pd.to_datetime(payments['date_of_birth'])\n",
    "payments['age'] = (2023 - payments.date_of_birth.dt.year)"
   ]
  },
  {
   "cell_type": "markdown",
   "id": "efd6931d",
   "metadata": {},
   "source": [
    "Note that the age column itself has missing values."
   ]
  },
  {
   "cell_type": "code",
   "execution_count": null,
   "id": "1368b0db",
   "metadata": {},
   "outputs": [],
   "source": [
    "create_kde_plotly(payments[['cc_isnull', 'age']].dropna(), 'cc_isnull', True, False, 'age')"
   ]
  },
  {
   "cell_type": "code",
   "execution_count": null,
   "id": "8114db66",
   "metadata": {},
   "outputs": [],
   "source": [
    "ks_2samp(\n",
    "    payments.groupby('cc_isnull')['age'].get_group(True),\n",
    "    payments.groupby('cc_isnull')['age'].get_group(False)\n",
    ")"
   ]
  }
 ],
 "metadata": {
  "kernelspec": {
   "display_name": "Python 3 (ipykernel)",
   "language": "python",
   "name": "python3"
  },
  "language_info": {
   "codemirror_mode": {
    "name": "ipython",
    "version": 3
   },
   "file_extension": ".py",
   "mimetype": "text/x-python",
   "name": "python",
   "nbconvert_exporter": "python",
   "pygments_lexer": "ipython3",
   "version": "3.9.6"
  },
  "livereveal": {
   "scroll": true
  },
  "rise": {
   "transition": "none"
  }
 },
 "nbformat": 4,
 "nbformat_minor": 5
}
