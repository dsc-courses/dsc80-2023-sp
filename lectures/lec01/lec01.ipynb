{
 "cells": [
  {
   "cell_type": "code",
   "execution_count": null,
   "id": "40077d4e",
   "metadata": {},
   "outputs": [],
   "source": [
    "import pandas as pd\n",
    "import numpy as np\n",
    "\n",
    "import matplotlib.pyplot as plt\n",
    "plt.style.use('ggplot')\n",
    "plt.rcParams['figure.figsize'] = (10, 5)"
   ]
  },
  {
   "cell_type": "markdown",
   "id": "3143de48",
   "metadata": {
    "slideshow": {
     "slide_type": "slide"
    }
   },
   "source": [
    "# Lecture 1 – Introduction\n",
    "\n",
    "## DSC 80, Spring 2023"
   ]
  },
  {
   "cell_type": "markdown",
   "id": "61dfa21e",
   "metadata": {
    "slideshow": {
     "slide_type": "slide"
    }
   },
   "source": [
    "<center><h2>Welcome to DSC 80! 🎉</h2></center>"
   ]
  },
  {
   "cell_type": "markdown",
   "id": "07213ce0",
   "metadata": {
    "slideshow": {
     "slide_type": "slide"
    }
   },
   "source": [
    "### Agenda\n",
    "\n",
    "- Who are we?\n",
    "- What does a data scientist do?\n",
    "- What is this course about, and how will it run?\n",
    "- The data science lifecycle.\n",
    "- A fun example."
   ]
  },
  {
   "cell_type": "markdown",
   "id": "be426149",
   "metadata": {
    "slideshow": {
     "slide_type": "slide"
    }
   },
   "source": [
    "### About the instructor\n",
    "\n",
    "#### Prof. Tauhidur Rahman \n",
    "- Assistant Professor, HDSI and CSE, UCSD\n",
    "- Personal: https://www.tauhidurrahman.com.\n",
    "I co-direct the Laboratory for Mobile Sensing and Ubiquitous Computing (MOSAIC lab). \n",
    "\n",
    "Bio: Ph.D. Cornell University (2017), M.S. University of Texas at Dallas (2012), B.S. Bangladesh University of Engineering and Technology (2009).\n",
    "\n",
    "Research Interest: Mobile and ubiquitous computing, human health and behavior modeling with statistical signal processing and machine learning, novel on-body and off-body sensor development with embedded systems and applied physics.\n",
    "\n",
    "- I joined UCSD in Summer 2022 and previously was at UMass Amherst (Assistant Professor, Computer Science)\n",
    "- Outside the classroom 👨‍🏫: cooking, music, traveling, play with my 6 year old twins, etc."
   ]
  },
  {
   "cell_type": "markdown",
   "id": "acc59b7c",
   "metadata": {
    "slideshow": {
     "slide_type": "slide"
    }
   },
   "source": [
    "<center><img src='imgs/junior.jpg' width=40%></center>"
   ]
  },
  {
   "cell_type": "markdown",
   "id": "9d79a093",
   "metadata": {
    "slideshow": {
     "slide_type": "slide"
    }
   },
   "source": [
    "### Course staff\n",
    "\n",
    "In addition to the instructor, we have **7 tutors** and **1 TA**, who are here to help you in discussion, office hours, and on Ed:\n",
    "\n",
    "**TA:**\n",
    "\n",
    "Praveen Ravi Nair\n",
    "\n",
    "**Tutors:**\n",
    "\n",
    "Yuxin Guo, Weiyue Li, Aishani Mohapatra, Costin Smilovici, Yujia Wang, Tiffany Yu, Diego Zavalza"
   ]
  },
  {
   "cell_type": "markdown",
   "id": "1f67c73a",
   "metadata": {
    "slideshow": {
     "slide_type": "-"
    }
   },
   "source": [
    "Learn more about them at [dsc80.com/staff](https://dsc80.com/staff)."
   ]
  },
  {
   "cell_type": "markdown",
   "id": "edf518ca",
   "metadata": {
    "slideshow": {
     "slide_type": "slide"
    }
   },
   "source": [
    "## What is data science? 🤔"
   ]
  },
  {
   "cell_type": "markdown",
   "id": "d2145c39",
   "metadata": {
    "slideshow": {
     "slide_type": "slide"
    }
   },
   "source": [
    "### What is data science?\n",
    "\n",
    "<br>\n",
    "\n",
    "<center><img src='imgs/what-is-data-science.png' width=60%></center>\n",
    "\n",
    "<center>Everyone seems to have their own definition of what data science is.</center>"
   ]
  },
  {
   "cell_type": "markdown",
   "id": "81d88189",
   "metadata": {
    "slideshow": {
     "slide_type": "slide"
    }
   },
   "source": [
    "### The DSC 10 approach\n",
    "\n",
    "In DSC 10, we told you that data science is about **drawing useful conclusions from data using computation**. \n",
    "\n",
    "In DSC 10, you:"
   ]
  },
  {
   "cell_type": "markdown",
   "id": "755ea4ea",
   "metadata": {
    "slideshow": {
     "slide_type": "fragment"
    }
   },
   "source": [
    "- Used Python to **explore** and **visualize** data."
   ]
  },
  {
   "cell_type": "markdown",
   "id": "b6c51e83",
   "metadata": {
    "slideshow": {
     "slide_type": "fragment"
    }
   },
   "source": [
    "- Used **simulation** to make **inferences** about a population, given just a sample."
   ]
  },
  {
   "cell_type": "markdown",
   "id": "258b5000",
   "metadata": {
    "slideshow": {
     "slide_type": "fragment"
    }
   },
   "source": [
    "- Made **predictions** about the future given data from the past."
   ]
  },
  {
   "cell_type": "markdown",
   "id": "efabcfc5",
   "metadata": {
    "slideshow": {
     "slide_type": "fragment"
    }
   },
   "source": [
    "Let's look at a few more definitions of data science."
   ]
  },
  {
   "cell_type": "markdown",
   "id": "1efb892b",
   "metadata": {
    "slideshow": {
     "slide_type": "slide"
    }
   },
   "source": [
    "### What is data science?\n",
    "\n",
    "<center><img src=\"imgs/image_0.png\"></center>\n",
    "\n",
    "In 2010, Drew Conway published his famous [Data Science Venn Diagram](http://drewconway.com/zia/2013/3/26/the-data-science-venn-diagram)."
   ]
  },
  {
   "cell_type": "markdown",
   "id": "8d0b484f",
   "metadata": {
    "slideshow": {
     "slide_type": "slide"
    }
   },
   "source": [
    "### What is data science?\n",
    "\n",
    "There isn't agreement on which \"Venn Diagram\" is correct!\n",
    "\n",
    "<center><img src=\"imgs/image_1.png\" width=500></center>\n",
    "\n",
    "- **Why not?** The field is new and rapidly developing.\n",
    "- Make sure you're solid on the fundamentals, then find a niche that you enjoy.\n",
    "- Read Kolassa, [Battle of the Data Science Venn Diagrams](http://www.prooffreader.com/2016/09/battle-of-data-science-venn-diagrams.html)."
   ]
  },
  {
   "cell_type": "markdown",
   "id": "dd48a8ec",
   "metadata": {
    "slideshow": {
     "slide_type": "slide"
    }
   },
   "source": [
    "### What does a _data scientist_ do?\n",
    "\n",
    "The chart below is taken from the [2016 Data Science Salary Survey](https://www.oreilly.com/radar/2016-data-science-salary-survey-results/), administered by O'Reilly. They asked respondents what they spend their time doing on a daily basis. What do you notice? <br>\n",
    "\n",
    "<center><img src='imgs/survey.png' width=40%></center>"
   ]
  },
  {
   "cell_type": "markdown",
   "id": "e164e0c6",
   "metadata": {
    "slideshow": {
     "slide_type": "slide"
    }
   },
   "source": [
    "The chart below is taken from the followup [2021 Data/AI Salary Survey](https://www.oreilly.com/radar/2021-data-ai-salary-survey/), also administered by O'Reilly. They asked respondents:\n",
    "\n",
    "> What technologies will have the biggest effect on compensation in the coming year?\n",
    "\n",
    "<center><img src='imgs/2021-most-relevant-skill.png' width=45%></center>"
   ]
  },
  {
   "cell_type": "markdown",
   "id": "5146c163",
   "metadata": {
    "slideshow": {
     "slide_type": "slide"
    }
   },
   "source": [
    "### What does a _data scientist_ do?\n",
    "\n",
    "My take: in DSC 80, and in the DSC major more broadly, we are training you to **ask and answer questions using data**."
   ]
  },
  {
   "cell_type": "markdown",
   "id": "dd1a883b",
   "metadata": {
    "slideshow": {
     "slide_type": "fragment"
    }
   },
   "source": [
    "As you take more courses, we're training you to answer questions whose answers are **ambiguous** – this uncertainly is what makes data science challenging!"
   ]
  },
  {
   "cell_type": "markdown",
   "id": "9d2f8d88",
   "metadata": {
    "slideshow": {
     "slide_type": "fragment"
    }
   },
   "source": [
    "Let's look at some examples of data science in practice."
   ]
  },
  {
   "cell_type": "markdown",
   "id": "86af436e",
   "metadata": {
    "slideshow": {
     "slide_type": "slide"
    }
   },
   "source": [
    "### Analyzing Wordle trends\n",
    "\n",
    "<center><img src='imgs/wordle-moving-average.png' width=70%></center>\n",
    "    \n",
    "Moving average of the average number of guesses taken for each Wordle word, based on patterns shared on Twitter. ([source](https://observablehq.com/@rlesser/wordle-twitter-exploration))"
   ]
  },
  {
   "cell_type": "markdown",
   "id": "69df9b57",
   "metadata": {
    "slideshow": {
     "slide_type": "slide"
    }
   },
   "source": [
    "### Is Wordle Dying? The Data Weighs In\n",
    "\n",
    "<center><img src=\"imgs/wordle-drop.png\" width=40%></center>\n",
    "\n",
    "> Compared to the peak of 350,000 shares in mid-February, a typical day in September 2022 only saw about 32,000 Wordle shares on Twitter. That’s a 91 percent drop in a span of seven months. \n",
    "([source](https://wordfinder.yourdictionary.com/blog/is-wordle-dying-the-data-weighs-in/))"
   ]
  },
  {
   "cell_type": "markdown",
   "id": "08509f43",
   "metadata": {
    "slideshow": {
     "slide_type": "slide"
    }
   },
   "source": [
    "### MOSAIC Lab Projects with Mobile Sensor Data\n",
    "\n",
    "Neuromophic High-Frequency 3D Dancing Pose Estimation in Dynamic Environment\n",
    "[https://www.youtube.com/watch?v=xmqMgzqAxIM].\n",
    "\n",
    "OpiTrack:A Wearable-based Clinical Opioid Use Tracker with Temporal Convolutional Attention Networks\n",
    "[https://www.youtube.com/watch?v=zo2sz6DhK84]\n",
    "\n",
    "MechanoBeat\n",
    "[https://www.youtube.com/watch?v=ZXA_eKm_bR8]"
   ]
  },
  {
   "cell_type": "markdown",
   "id": "4cd37733",
   "metadata": {
    "slideshow": {
     "slide_type": "slide"
    }
   },
   "source": [
    "### Data science involves _people_ 🧍\n",
    "\n",
    "The decisions that we make as data scientists have the potential to impact the livelihoods of other people.\n",
    "\n",
    "- COVID case forecasting.\n",
    "- Admissions and hiring.\n",
    "- Hyper-personalized ad recommendations."
   ]
  },
  {
   "cell_type": "markdown",
   "id": "dfdae8ce",
   "metadata": {
    "slideshow": {
     "slide_type": "slide"
    }
   },
   "source": [
    "### Warning!\n",
    "\n",
    "- Good data analysis is not:\n",
    "    - A simple application of a statistics formula.\n",
    "    - A simple application of statistical software.\n",
    "\n",
    "- There are many tools out there for data science, but they are merely tools. **They don’t do any of the important thinking – that's where you come in!**\n",
    "\n",
    "> _“The purpose of computing is insight, not numbers.”_ - R. Hamming. Numerical Methods for Scientists and Engineers (1962)."
   ]
  },
  {
   "cell_type": "markdown",
   "id": "0c22fafe",
   "metadata": {
    "slideshow": {
     "slide_type": "slide"
    }
   },
   "source": [
    "## Course content"
   ]
  },
  {
   "cell_type": "markdown",
   "id": "f6020d91",
   "metadata": {
    "slideshow": {
     "slide_type": "slide"
    }
   },
   "source": [
    "### Course goals\n",
    "\n",
    "**DSC 80 is about the practice of dealing with messy, ambiguous, and complex data.**\n",
    "\n",
    "In this course, you will...\n",
    "\n",
    "* Practice translating potentially vague questions into quantitative questions about measurable observations.\n",
    "* Learn to reason about \"black-box\" processes (e.g. complicated models).\n",
    "* Understand computational and statistical implications of working with data.\n",
    "* Learn to use real data tools (and rely on documentation).\n",
    "* Get a taste of the \"life of a data scientist.\""
   ]
  },
  {
   "cell_type": "markdown",
   "id": "ac5a59be",
   "metadata": {
    "slideshow": {
     "slide_type": "slide"
    }
   },
   "source": [
    "### Course outcomes\n",
    "\n",
    "After this course, you will...\n",
    "\n",
    "* Be prepared for internships and data science \"take home\" interviews!\n",
    "* Be ready to create your own portfolio of personal projects.\n",
    "* Have the background and maturity to succeed in the upper-division."
   ]
  },
  {
   "cell_type": "markdown",
   "id": "aa976b95",
   "metadata": {
    "slideshow": {
     "slide_type": "slide"
    }
   },
   "source": [
    "### Topics\n",
    "\n",
    "This course was desgined by a former data scientist at Amazon (Aaron Fraenkel). As such, you'll be learning skills that you **need** to know as a data scientist.\n",
    "\n",
    "- Week 1: From `babypandas` to `pandas`\n",
    "- Week 2: More on DataFrames\n",
    "- Week 3: Working with messy data\n",
    "- Week 4: Hypothesis and permutation testing, missing values\n",
    "- Week 5: Imputation, web scraping\n",
    "- Week 6: Web scraping, **Midterm Exam**\n",
    "- Week 7: Text features\n",
    "- Week 8: Feature engineering, `sklearn` basics\n",
    "- Week 9: `sklearn` pipelines and model evaluation\n",
    "- Week 10: Classifier evaluation, fairness\n",
    "- Week 11: **Final Exam**"
   ]
  },
  {
   "cell_type": "markdown",
   "id": "ee4d0050",
   "metadata": {
    "slideshow": {
     "slide_type": "slide"
    }
   },
   "source": [
    "## Course logistics"
   ]
  },
  {
   "cell_type": "markdown",
   "id": "601ddc20",
   "metadata": {
    "slideshow": {
     "slide_type": "slide"
    }
   },
   "source": [
    "### Course website\n",
    "\n",
    "The course website is your one-stop-shop for all things related to the course.\n",
    "\n",
    "<br>\n",
    "\n",
    "<center><h3><a href=\"https://dsc80.com\">dsc80.com</a></h3></center>\n",
    "\n",
    "<br>\n",
    "\n",
    "Make sure to **read the [syllabus](https://dsc80.com/syllabus)**!"
   ]
  },
  {
   "cell_type": "markdown",
   "id": "c261d793",
   "metadata": {
    "slideshow": {
     "slide_type": "slide"
    }
   },
   "source": [
    "### Getting set up\n",
    "\n",
    "- **Ed**: Q&A forum. Must be active here, since this is where all announcements will be made.\n",
    "- **Gradescope**: Where you will submit all assignments for autograding, and where all of your grades will live.\n",
    "- **Canvas**: no.\n",
    "\n",
    "In addition, you must fill out our [Welcome Survey](https://docs.google.com/forms/d/e/1FAIpQLSe0_yIwytkjirqN26bMonQ3wQTzX7itZXd8KBeglaUeAZtIhA/viewform)."
   ]
  },
  {
   "cell_type": "markdown",
   "id": "dae66a40",
   "metadata": {
    "slideshow": {
     "slide_type": "slide"
    }
   },
   "source": [
    "### Accessing course content on GitHub\n",
    "\n",
    "You will access all course content by pulling the course GitHub repository:\n",
    "\n",
    "<br>\n",
    "\n",
    "<center><b><a href=https://github.com/dsc-courses/dsc80-2023-sp>github.com/dsc-courses/dsc80-2023-sp</a></b></center>\n",
    "\n",
    "<br>\n",
    "\n",
    "We will post HTML versions of lecture notebooks on the course website, but otherwise you must `git pull` from this repository to access all course materials (including blank copies of assignments)."
   ]
  },
  {
   "cell_type": "markdown",
   "id": "a7dcec94",
   "metadata": {
    "slideshow": {
     "slide_type": "slide"
    }
   },
   "source": [
    "### Environment setup\n",
    "\n",
    "- You have two choices:\n",
    "    - Set up your own Python environment (**strongly recommended**).\n",
    "    - Use DataHub.\n",
    "- Either way, follow the instructions on the [Tech Support](https://dsc80.com/tech_support) page of the course website.\n",
    "- Once you set up your environment, you will pull the course repo every time a new assignment comes out.\n",
    "- **Note:** You will submit your work to Gradescope directly, without using Git.\n",
    "- Will post a demo video with Lab 1."
   ]
  },
  {
   "cell_type": "markdown",
   "id": "32e15386",
   "metadata": {
    "slideshow": {
     "slide_type": "slide"
    }
   },
   "source": [
    "### Assignments\n",
    "\n",
    "In this course, you will learn by doing!\n",
    "\n",
    "- **Labs (30%)**: 9 total. Due weekly on Mondays (or Tuesday, in Weeks 2 and 7).\n",
    "- **Projects (35% + 5% checkpoints)**: 5 total. Usually due on Thursdays, and usually have a \"checkpoint.\"\n",
    "\n",
    "In DSC 80, assignments will usually consist of both a Jupyter Notebook and a `.py` file. You will write your code in the `.py` file; the Jupyter Notebook will contain problem descriptions and test cases. Lab 1 will explain the workflow."
   ]
  },
  {
   "cell_type": "markdown",
   "id": "3d428dc1",
   "metadata": {
    "slideshow": {
     "slide_type": "slide"
    }
   },
   "source": [
    "### Discussions and lab reflections\n",
    "\n",
    "In order to have you reflect on your lab work, we will offer extra credit each week if you do all 3 of the following:\n",
    "\n",
    "1. Submit the lab.\n",
    "2. Attend discussion in-person (Wednesdays 5-5:50PM in Mandeville Auditorium B-210), where we'll take up solutions to the most recent lab.\n",
    "3. Submit a lab reflection form to Gradescope by Saturday.\n",
    "\n",
    "Each week you do all 3, you'll earn 0.3% of extra credit – this could total 2.7%.\n",
    "\n",
    "**This scheme starts next week**. Discussion will be podcasted."
   ]
  },
  {
   "cell_type": "markdown",
   "id": "599177f8",
   "metadata": {
    "slideshow": {
     "slide_type": "slide"
    }
   },
   "source": [
    "### Exams\n",
    "\n",
    "- **Midterm Exam (10%)**: Wednesday, February 15th, in-person during lecture.\n",
    "- **Final Exam (20%)**: Wednesday, March 22nd, 11:30AM-2:30PM, in-person (location TBD).\n",
    "- Let us know on the [Welcome Survey](https://docs.google.com/forms/d/e/1FAIpQLSe0_yIwytkjirqN26bMonQ3wQTzX7itZXd8KBeglaUeAZtIhA/viewform) if you have a conflict."
   ]
  },
  {
   "cell_type": "markdown",
   "id": "6fc5d28a",
   "metadata": {
    "slideshow": {
     "slide_type": "slide"
    }
   },
   "source": [
    "### A typical week in DSC 80\n",
    "\n",
    "| Sunday | Monday | Tuesday | Wednesday | Thursday | Friday | Saturday |\n",
    "| --- | --- | --- | --- | --- | --- | --- |\n",
    "| | Lecture | | Lecture & Discussion | | Lecture | |\n",
    "| | <span style='color:red'><b>Lab due</b></span> | | | <span style='color:red'><b>Project/checkpoint due</b></span> | | <span style='color:red'><b>Lab reflection due (extra credit)</b></span> |\n"
   ]
  },
  {
   "cell_type": "markdown",
   "id": "534f5fcc",
   "metadata": {
    "slideshow": {
     "slide_type": "slide"
    }
   },
   "source": [
    "### Resources\n",
    "\n",
    "- Your main resource will be lecture notebooks.\n",
    "- Most lectures also have supplemental readings that come from our course notes, [notes.dsc80.com](https://notes.dsc80.com).\n",
    "- Other resources:\n",
    "    - Wes McKinney. \"Python for Data Analysis.\"\n",
    "    - [DSC 10 Course Notes](https://notes.dsc10.com) – great refresher on `babypandas`.\n",
    "    - [Principles and Techniques of Data Science](https://www.textbook.ds100.org/).\n",
    "    - [Computational and Inferential Thinking](https://www.inferentialthinking.com).\n",
    "    - [pandastutor.com](https://pandastutor.com).\n",
    "    - As the quarter progresses, we'll add more resources to the [Resources tab](https://dsc80.com/resources) of the course website."
   ]
  },
  {
   "cell_type": "markdown",
   "id": "b2c18d41",
   "metadata": {
    "slideshow": {
     "slide_type": "slide"
    }
   },
   "source": [
    "### Support 🫂\n",
    "\n",
    "It is no secret that this course requires **a lot** of work - becoming fluent with working with data is hard!\n",
    "\n",
    "- You will learn how to solve problems **independently** – documentation and the internet will be your friends.\n",
    "- Learning how to effectively check your work and debug is extremely useful.\n",
    "- Learning to stick with a problem (*tenacity*) is a very valuable skill; but don't be afraid to ask for help."
   ]
  },
  {
   "cell_type": "markdown",
   "id": "e5edbdb6",
   "metadata": {
    "slideshow": {
     "slide_type": "fragment"
    }
   },
   "source": [
    "Once you've tried to solve problems on your own, we're glad to help.\n",
    "\n",
    "- **Office hours** are offered – most are in-person, but a few are remote. See the [Calendar 📆](https://dsc80.com/office_hours) for details.\n",
    "- **Ed** is your friend too. Make your conceptual questions public, and make your debugging questions private."
   ]
  },
  {
   "cell_type": "markdown",
   "id": "5ecb31ac",
   "metadata": {
    "slideshow": {
     "slide_type": "slide"
    }
   },
   "source": [
    "<center><img src=\"imgs/cape.png\" width=75%></center>\n",
    "\n",
    "<center>You'll have to work a lot, but we'll make the time spent worth it.</center>"
   ]
  },
  {
   "cell_type": "markdown",
   "id": "e3bb2a04",
   "metadata": {
    "slideshow": {
     "slide_type": "slide"
    }
   },
   "source": [
    "## The data science lifecycle 🚴"
   ]
  },
  {
   "cell_type": "markdown",
   "id": "afd51458",
   "metadata": {
    "slideshow": {
     "slide_type": "slide"
    }
   },
   "source": [
    "### The scientific method\n",
    "\n",
    "You learned about the scientific method in elementary school. "
   ]
  },
  {
   "cell_type": "markdown",
   "id": "621c38e0",
   "metadata": {
    "slideshow": {
     "slide_type": "fragment"
    }
   },
   "source": [
    "<center><img src=\"imgs/image_3.png\" width=500></center>"
   ]
  },
  {
   "cell_type": "markdown",
   "id": "56ee9fdd",
   "metadata": {
    "slideshow": {
     "slide_type": "fragment"
    }
   },
   "source": [
    "However, it hides a lot of complexity.\n",
    "- Where did the hypothesis come from?\n",
    "- What data are you modeling? Is the data sufficient?\n",
    "- Under which conditions are the conclusions valid?"
   ]
  },
  {
   "cell_type": "markdown",
   "id": "1a45f8c4",
   "metadata": {
    "slideshow": {
     "slide_type": "slide"
    }
   },
   "source": [
    "### The data science lifecycle\n",
    "\n",
    "<center><img src=\"imgs/DSLC.png\" width=\"40%\"></center>"
   ]
  },
  {
   "cell_type": "markdown",
   "id": "1bb7af57",
   "metadata": {
    "slideshow": {
     "slide_type": "fragment"
    }
   },
   "source": [
    "**All steps lead to more questions!** We'll refer back to the data science lifecycle repeatedly throughout the quarter."
   ]
  },
  {
   "cell_type": "markdown",
   "id": "7bd138d9",
   "metadata": {
    "slideshow": {
     "slide_type": "slide"
    }
   },
   "source": [
    "## Example: myFlightradar24"
   ]
  },
  {
   "cell_type": "markdown",
   "id": "ca637d08",
   "metadata": {
    "slideshow": {
     "slide_type": "slide"
    }
   },
   "source": [
    "<center><img src=\"imgs/radar.png\" width=70%></center>\n",
    "\n",
    "<center><a href=\"https://my.flightradar24.com/surajrampure\">my.flightradar24.com/surajrampure</a></center>"
   ]
  },
  {
   "cell_type": "markdown",
   "id": "b6334a22",
   "metadata": {
    "slideshow": {
     "slide_type": "fragment"
    }
   },
   "source": [
    "**Goal**: recreate this map."
   ]
  },
  {
   "cell_type": "markdown",
   "id": "c4ef23c1",
   "metadata": {
    "slideshow": {
     "slide_type": "slide"
    }
   },
   "source": [
    "### myFlightradar24\n",
    "\n",
    "myFlightradar24 is a free site that allows you to enter information about flights that you've been on and produces interesting visualizations using that information. The dataset we're working with is taken from my personal myFlightradar24 page, and contains every flight I've been on since 2014, plus some additional ones from years prior."
   ]
  },
  {
   "cell_type": "code",
   "execution_count": null,
   "id": "71b856fb",
   "metadata": {
    "scrolled": false
   },
   "outputs": [],
   "source": [
    "flights = pd.read_csv('data/flightdiary_2023_01_09_02_58.csv')\n",
    "flights.head()"
   ]
  },
  {
   "cell_type": "code",
   "execution_count": null,
   "id": "08ac40c0",
   "metadata": {},
   "outputs": [],
   "source": [
    "flights.shape"
   ]
  },
  {
   "cell_type": "markdown",
   "id": "9c0f7f8c",
   "metadata": {
    "slideshow": {
     "slide_type": "slide"
    }
   },
   "source": [
    "### Step 0: Keep just the relevant columns\n",
    "\n",
    "`flights` currently contains a lot of information that we're not going to use."
   ]
  },
  {
   "cell_type": "code",
   "execution_count": null,
   "id": "03195c8d",
   "metadata": {},
   "outputs": [],
   "source": [
    "flights.head()"
   ]
  },
  {
   "cell_type": "code",
   "execution_count": null,
   "id": "343cdb89",
   "metadata": {},
   "outputs": [],
   "source": [
    "flights = flights[['Date', 'Flight number', 'From', 'To', 'Airline']]\n",
    "flights"
   ]
  },
  {
   "cell_type": "markdown",
   "id": "0cb63108",
   "metadata": {
    "slideshow": {
     "slide_type": "slide"
    }
   },
   "source": [
    "### Step 1: Extract 3-letter airport codes\n",
    "\n",
    "These three letter codes (e.g. `'SAN'`, `'JFK'`) are called \"IATA codes.\" They're much more convenient to work with than say, `'San Diego / San Diego International (SAN/KSAN)'`."
   ]
  },
  {
   "cell_type": "code",
   "execution_count": null,
   "id": "021d1e48",
   "metadata": {},
   "outputs": [],
   "source": [
    "flights['From'].head(10)"
   ]
  },
  {
   "cell_type": "markdown",
   "id": "fdf6eb49",
   "metadata": {},
   "source": [
    "Later this quarter, we'll learn how to perform this task in a more robust fashion, but for now, we can use Python string methods."
   ]
  },
  {
   "cell_type": "code",
   "execution_count": null,
   "id": "fb78138a",
   "metadata": {},
   "outputs": [],
   "source": [
    "def extract_iata(full_name):\n",
    "    start = full_name.index('(') + 1\n",
    "    end = full_name.rfind('/')\n",
    "    return full_name[start:end]"
   ]
  },
  {
   "cell_type": "code",
   "execution_count": null,
   "id": "7992e05d",
   "metadata": {},
   "outputs": [],
   "source": [
    "extract_iata('San Diego / San Diego International (SAN/KSAN)')"
   ]
  },
  {
   "cell_type": "code",
   "execution_count": null,
   "id": "65571748",
   "metadata": {},
   "outputs": [],
   "source": [
    "flights['From'] = flights['From'].apply(extract_iata)\n",
    "flights['To'] = flights['To'].apply(extract_iata)"
   ]
  },
  {
   "cell_type": "code",
   "execution_count": null,
   "id": "51d3b93f",
   "metadata": {},
   "outputs": [],
   "source": [
    "flights.head()"
   ]
  },
  {
   "cell_type": "markdown",
   "id": "4a8beebb",
   "metadata": {
    "slideshow": {
     "slide_type": "slide"
    }
   },
   "source": [
    "### Step 2: Find the number of flights between each airport pair\n",
    "\n",
    "The color of the line between a pair of airports is determined by how often one flew between that pair of airports. myFlightradar24 seems to use the following scheme:\n",
    "- The most common few pairs are in black.\n",
    "- The next most common few pairs are in purple.\n",
    "- Otherwise, if a pair has only been flown once, it is colored in orange, and all other pairs are colored in red."
   ]
  },
  {
   "cell_type": "code",
   "execution_count": null,
   "id": "d6fda78a",
   "metadata": {},
   "outputs": [],
   "source": [
    "counts = (flights\n",
    "         .groupby(['From', 'To'])\n",
    "         .count()\n",
    "         .reset_index()\n",
    "         .drop(columns=['Flight number', 'Airline'])\n",
    "         .rename(columns={'Date': 'count'})\n",
    "         .sort_values('count', ascending=False))\n",
    "\n",
    "counts"
   ]
  },
  {
   "cell_type": "markdown",
   "id": "c9ce52ae",
   "metadata": {
    "slideshow": {
     "slide_type": "fragment"
    }
   },
   "source": [
    "**Issue**: This DataFrame counts (A, B) as being different than (B, A), though on the map these appear to be the same. How can we come up with a single row for every pair of airports, **without** using a `for`-loop?"
   ]
  },
  {
   "cell_type": "code",
   "execution_count": null,
   "id": "e75ae28c",
   "metadata": {},
   "outputs": [],
   "source": [
    "homes = ['SAN', 'DTW']\n",
    "counts[\n",
    "    (counts['From'].isin(homes)) &\n",
    "    (counts['To'].isin(homes))\n",
    "]"
   ]
  },
  {
   "cell_type": "markdown",
   "id": "9de41c05",
   "metadata": {
    "slideshow": {
     "slide_type": "slide"
    }
   },
   "source": [
    "### Step 3: Create unique strings for each airport pair\n",
    "\n",
    "Suppose two IATA codes are `'XYZ'` and `'ABC'`. We can combine them to create a single string, by:\n",
    "- Sorting them alphabetically.\n",
    "- Concatenating them with `'-'`.\n",
    "\n",
    "In this case, that yields `'ABC-XYZ'`. If we do this for all rows in `counts`, we can then group by these new strings and construct one row per airport pair!"
   ]
  },
  {
   "cell_type": "code",
   "execution_count": null,
   "id": "1a845ded",
   "metadata": {},
   "outputs": [],
   "source": [
    "counts.head()"
   ]
  },
  {
   "cell_type": "code",
   "execution_count": null,
   "id": "7291d791",
   "metadata": {},
   "outputs": [],
   "source": [
    "def concatenate_iata(row):\n",
    "    code1 = row['From']\n",
    "    code2 = row['To']\n",
    "    return '-'.join(np.sort([code1, code2]))\n",
    "\n",
    "concatenate_iata(counts.iloc[1])"
   ]
  },
  {
   "cell_type": "code",
   "execution_count": null,
   "id": "d229485b",
   "metadata": {},
   "outputs": [],
   "source": [
    "counts['Both'] = counts.apply(concatenate_iata, axis=1)\n",
    "counts"
   ]
  },
  {
   "cell_type": "markdown",
   "id": "1b91f60f",
   "metadata": {
    "slideshow": {
     "slide_type": "slide"
    }
   },
   "source": [
    "### Step 4: Actually find the number of flights between each airport pair"
   ]
  },
  {
   "cell_type": "code",
   "execution_count": null,
   "id": "86996d85",
   "metadata": {},
   "outputs": [],
   "source": [
    "both_counts = counts.groupby('Both').agg({'count': 'sum', 'From': np.min, 'To': np.max}).sort_values('count', ascending=False)\n",
    "both_counts"
   ]
  },
  {
   "cell_type": "markdown",
   "id": "8a9946e3",
   "metadata": {
    "slideshow": {
     "slide_type": "slide"
    }
   },
   "source": [
    "### Step 5: Find the latitude and longitude of each airport\n",
    "\n",
    "In order to draw a map, we need to know the position of each airport. Our dataset doesn't currently have that information, so we'll need to acquire it from somewhere else.\n",
    "\n",
    "Fortunately, we have access to a CSV that contains this information!"
   ]
  },
  {
   "cell_type": "code",
   "execution_count": null,
   "id": "47e87cd9",
   "metadata": {
    "scrolled": true
   },
   "outputs": [],
   "source": [
    "airports = pd.read_csv('data/airports.csv')\n",
    "airports.head()"
   ]
  },
  {
   "cell_type": "markdown",
   "id": "e5208fcd",
   "metadata": {},
   "source": [
    "Let's keep only the rows where the `'iata_code'` is not missing, and only the relevant columns."
   ]
  },
  {
   "cell_type": "code",
   "execution_count": null,
   "id": "1aa885e8",
   "metadata": {
    "scrolled": true
   },
   "outputs": [],
   "source": [
    "airports = airports.loc[airports['iata_code'].notnull(), ['iata_code', 'latitude_deg', 'longitude_deg']]\n",
    "airports.head()"
   ]
  },
  {
   "cell_type": "markdown",
   "id": "c2ea8fd2",
   "metadata": {
    "slideshow": {
     "slide_type": "slide"
    }
   },
   "source": [
    "There are two ways to combine the information in this DataFrame with `both_counts`:\n",
    "- `merge` the two DataFrames.\n",
    "- Perform a \"hash join,\" in which we make a dictionary mapping `'iata_code'`s to locations, and then use the dictionary to find the location of each airport given its `'iata_code'`.\n",
    "\n",
    "Let's try the latter. To do so, we need to construct a dictionary with the required information."
   ]
  },
  {
   "cell_type": "code",
   "execution_count": null,
   "id": "472795a2",
   "metadata": {
    "scrolled": false
   },
   "outputs": [],
   "source": [
    "iata_to_location = airports.set_index('iata_code').T.to_dict(orient='list')\n",
    "iata_to_location['SAN']"
   ]
  },
  {
   "cell_type": "code",
   "execution_count": null,
   "id": "2a4838b2",
   "metadata": {},
   "outputs": [],
   "source": [
    "both_counts.head()"
   ]
  },
  {
   "cell_type": "code",
   "execution_count": null,
   "id": "f8fe427a",
   "metadata": {},
   "outputs": [],
   "source": [
    "both_counts['From loc'] = both_counts['From'].apply(lambda x: iata_to_location[x])\n",
    "both_counts['Away loc'] = both_counts['To'].apply(lambda x: iata_to_location[x])"
   ]
  },
  {
   "cell_type": "code",
   "execution_count": null,
   "id": "1ce03823",
   "metadata": {},
   "outputs": [],
   "source": [
    "both_counts.head()"
   ]
  },
  {
   "cell_type": "markdown",
   "id": "74f4482d",
   "metadata": {
    "slideshow": {
     "slide_type": "fragment"
    }
   },
   "source": [
    "We're getting closer..."
   ]
  },
  {
   "cell_type": "markdown",
   "id": "ecef4b87",
   "metadata": {
    "slideshow": {
     "slide_type": "slide"
    }
   },
   "source": [
    "### Step 6: Draw a line between a single pair of airports\n",
    "\n",
    "We'll use the `folium` package to draw lines. It's not included in the `dsc80` conda environment we're having you set up, so we must install it."
   ]
  },
  {
   "cell_type": "code",
   "execution_count": null,
   "id": "8dbc74b7",
   "metadata": {},
   "outputs": [],
   "source": [
    "!pip install folium"
   ]
  },
  {
   "cell_type": "code",
   "execution_count": null,
   "id": "8d65a38f",
   "metadata": {},
   "outputs": [],
   "source": [
    "import folium"
   ]
  },
  {
   "cell_type": "markdown",
   "id": "77032ce4",
   "metadata": {},
   "source": [
    "The core object in `folium` is the `Map`. To initialize one, it's a good idea to provide it a \"center\" – we can use the [my hometown, on the eastern part of the continent](https://www.latlong.net/place/windsor-on-canada-3352.html). "
   ]
  },
  {
   "cell_type": "code",
   "execution_count": null,
   "id": "ae22ba32",
   "metadata": {
    "scrolled": true
   },
   "outputs": [],
   "source": [
    "flight_map = folium.Map(location=(42.317432, -83.026772), zoom_start=2, width='80%', height='60%')\n",
    "flight_map"
   ]
  },
  {
   "cell_type": "markdown",
   "id": "6dab24d9",
   "metadata": {
    "slideshow": {
     "slide_type": "slide"
    }
   },
   "source": [
    "To draw a line between two points, we create `folium.PolyLine` object, and call the `add_to` method on it."
   ]
  },
  {
   "cell_type": "code",
   "execution_count": null,
   "id": "a5167239",
   "metadata": {},
   "outputs": [],
   "source": [
    "both_counts.head()"
   ]
  },
  {
   "cell_type": "code",
   "execution_count": null,
   "id": "3e5eb820",
   "metadata": {},
   "outputs": [],
   "source": [
    "folium.PolyLine(both_counts.iloc[0].loc['From loc':].values, color='purple').add_to(flight_map)"
   ]
  },
  {
   "cell_type": "code",
   "execution_count": null,
   "id": "7a5bcebc",
   "metadata": {},
   "outputs": [],
   "source": [
    "flight_map"
   ]
  },
  {
   "cell_type": "markdown",
   "id": "282f971a",
   "metadata": {
    "slideshow": {
     "slide_type": "fragment"
    }
   },
   "source": [
    "Great! Now we need to do this for all pairs of airports, and make sure the color of each line matches the frequency of the route."
   ]
  },
  {
   "cell_type": "markdown",
   "id": "f193c8f2",
   "metadata": {
    "slideshow": {
     "slide_type": "slide"
    }
   },
   "source": [
    "### Step 6: Draw a line for each pair of airports"
   ]
  },
  {
   "cell_type": "markdown",
   "id": "c8b52c7e",
   "metadata": {},
   "source": [
    "We'll use the scheme mentioned earlier to determine the color of each line."
   ]
  },
  {
   "cell_type": "code",
   "execution_count": null,
   "id": "e6920761",
   "metadata": {},
   "outputs": [],
   "source": [
    "def compute_color(count):\n",
    "    if count > np.percentile(both_counts['count'], 98):\n",
    "        return 'black'\n",
    "    elif count > np.percentile(both_counts['count'], 95):\n",
    "        return 'purple'\n",
    "    elif count > 1:\n",
    "        return 'red'\n",
    "    else:\n",
    "        return 'orange'"
   ]
  },
  {
   "cell_type": "markdown",
   "id": "bb84c75d",
   "metadata": {},
   "source": [
    "Now, we'll create a `folium.PolyLine` for each pair in `both_counts`, setting the color appropriately."
   ]
  },
  {
   "cell_type": "code",
   "execution_count": null,
   "id": "a29b7d0e",
   "metadata": {},
   "outputs": [],
   "source": [
    "both_counts.head()"
   ]
  },
  {
   "cell_type": "code",
   "execution_count": null,
   "id": "3d74ac67",
   "metadata": {},
   "outputs": [],
   "source": [
    "for route_str, row in both_counts.iterrows():\n",
    "    route = [row['From loc'], row['Away loc']]\n",
    "    color = compute_color(row['count'])\n",
    "    folium.PolyLine(route, color=color).add_to(flight_map)"
   ]
  },
  {
   "cell_type": "markdown",
   "id": "6adc83ba",
   "metadata": {
    "slideshow": {
     "slide_type": "slide"
    }
   },
   "source": [
    "Let's see what we've produced!"
   ]
  },
  {
   "cell_type": "code",
   "execution_count": null,
   "id": "39ebb97f",
   "metadata": {},
   "outputs": [],
   "source": [
    "flight_map"
   ]
  },
  {
   "cell_type": "markdown",
   "id": "e42b2c18",
   "metadata": {
    "slideshow": {
     "slide_type": "fragment"
    }
   },
   "source": [
    "It's not perfect:\n",
    "- There are no labels for the individual airports.\n",
    "- It doesn't draw the [geodesic](https://en.wikipedia.org/wiki/Geodesic) line between each pair of airports.\n",
    "\n",
    "We don't have time to make these fixes now, but try making those changes yourself (and let us know how it goes)!"
   ]
  },
  {
   "cell_type": "markdown",
   "id": "4170226a",
   "metadata": {
    "slideshow": {
     "slide_type": "slide"
    }
   },
   "source": [
    "### Next time\n",
    "\n",
    "- A deep dive into `pandas`.\n",
    "- **Lab 1 will be released tomorrow!**"
   ]
  }
 ],
 "metadata": {
  "celltoolbar": "Slideshow",
  "kernelspec": {
   "display_name": "Python 3 (ipykernel)",
   "language": "python",
   "name": "python3"
  },
  "language_info": {
   "codemirror_mode": {
    "name": "ipython",
    "version": 3
   },
   "file_extension": ".py",
   "mimetype": "text/x-python",
   "name": "python",
   "nbconvert_exporter": "python",
   "pygments_lexer": "ipython3",
   "version": "3.8.16"
  },
  "livereveal": {
   "scroll": true
  },
  "rise": {
   "transition": "none"
  }
 },
 "nbformat": 4,
 "nbformat_minor": 5
}
