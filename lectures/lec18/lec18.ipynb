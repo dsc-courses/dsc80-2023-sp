{
 "cells": [
  {
   "cell_type": "code",
   "execution_count": null,
   "id": "7904f660",
   "metadata": {
    "slideshow": {
     "slide_type": "skip"
    }
   },
   "outputs": [],
   "source": [
    "import pandas as pd\n",
    "import numpy as np\n",
    "import re\n",
    "\n",
    "pd.options.plotting.backend = 'plotly'\n",
    "\n",
    "import util"
   ]
  },
  {
   "cell_type": "markdown",
   "id": "6ca51859",
   "metadata": {
    "slideshow": {
     "slide_type": "slide"
    }
   },
   "source": [
    "# Lecture 18 – Regular Expressions, Bag of Words\n",
    "\n",
    "## DSC 80, Spring 2023"
   ]
  },
  {
   "cell_type": "markdown",
   "id": "22824200",
   "metadata": {
    "slideshow": {
     "slide_type": "slide"
    }
   },
   "source": [
    "### Agenda\n",
    "\n",
    "- More regular expressions, including how to use them in Python.\n",
    "    - Example: Log parsing.\n",
    "    - Limitations.\n",
    "    - Remember to look [here](dsc80.com/resources/#regular-expressions](https://dsc80.com/resources/#regular-expressions) for resources.\n",
    "- Text features.\n",
    "- Bag of words 💰."
   ]
  },
  {
   "cell_type": "markdown",
   "id": "e5ee28e6",
   "metadata": {
    "slideshow": {
     "slide_type": "slide"
    }
   },
   "source": [
    "## More regular expressions"
   ]
  },
  {
   "cell_type": "markdown",
   "id": "68e84227",
   "metadata": {
    "slideshow": {
     "slide_type": "slide"
    }
   },
   "source": [
    "### Even more regex syntax\n",
    "\n",
    "| operation | example | matches ✅ | does not match ❌ |\n",
    "|:--- |:---|:---|:---|\n",
    "| <span style='color:purple'><b>escape character</b></span> | `ucsd\\.edu` | `'ucsd.edu'` | `'ucsd!edu'` |\n",
    "| <span style='color:purple'><b>beginning of line</b></span> | `^ark` | `'ark two'`<br>`'ark o ark'` | `'dark'` |\n",
    "| <span style='color:purple'><b>end of line</b></span>  | `ark$` | `'dark'`<br>`'ark o ark'` | `'ark two'` |\n",
    "| <span style='color:purple'><b>zero or one</b></span> | `cat?` | `'ca'`<br>`'cat'` | `'cart'` (matches `'ca'` only) |\n",
    "| <span style='color:purple'><b>built-in character classes*</b></span> | `\\w+` <br> `\\d+` | `'billy'`<br>`'231231'` | `'this person'`<br>`'858 people'` |\n",
    "| <span style='color:purple'><b>character class negation</b></span> | `[^a-z]+` | `'KINGTRITON551'`<br>`'1721$$'` | `'porch'`<br>`'billy.edu'` |"
   ]
  },
  {
   "cell_type": "markdown",
   "id": "254814d6",
   "metadata": {
    "slideshow": {
     "slide_type": "slide"
    }
   },
   "source": [
    "### Example (built-in character classes)\n",
    "\n",
    "****Note: in Python's implementation of regex,*** \n",
    "- `\\d` refers to digits.\n",
    "- `\\w` refers to alphanumeric characters (`[A-Z][a-z][0-9]_`).\n",
    "- `\\s` refers to whitespace.\n",
    "- `\\b` is a word boundary."
   ]
  },
  {
   "cell_type": "markdown",
   "id": "9bebd0b1",
   "metadata": {
    "slideshow": {
     "slide_type": "fragment"
    }
   },
   "source": [
    "- What does `\\d{3} \\d{3}-\\d{4}` match?\n",
    "- What does `\\bcat\\b` match? Does it find a match in `'my cat is hungry'`? What about `'concatenate'`?"
   ]
  },
  {
   "cell_type": "markdown",
   "id": "ceb205bd",
   "metadata": {
    "slideshow": {
     "slide_type": "slide"
    }
   },
   "source": [
    "### Exercise\n",
    "\n",
    "Write a regular expression that matches any string that:\n",
    "- is between 5 and 10 characters long, and\n",
    "- is made up of only vowels (either uppercase or lowercase, including `'Y'` and `'y'`), periods, and spaces.\n",
    "\n",
    "Examples include `'yoo.ee.IOU'` and `'AI.I oey'`.\n",
    "\n",
    "<br>\n",
    "\n",
    "<details>\n",
    "<summary>\n",
    "    ✅ Click here to see the answer <b>after</b> you've tried it yourself at <a href='https://regex101.com'>regex101.com</a>.\n",
    "</summary>\n",
    "\n",
    "One answer: <code>^[aeiouyAEIOUY. ]{5,10}$</code>\n",
    " \n",
    "<br>\n",
    "\n",
    "<b>Key idea:</b> Within a character class (i.e. <code>[...]</code>), special characters do not generally need to be escaped.\n",
    "\n",
    "\n",
    "    \n",
    "</details>"
   ]
  },
  {
   "cell_type": "markdown",
   "id": "4c945280",
   "metadata": {
    "slideshow": {
     "slide_type": "slide"
    }
   },
   "source": [
    "## Regex in Python"
   ]
  },
  {
   "cell_type": "markdown",
   "id": "530b3f99",
   "metadata": {
    "slideshow": {
     "slide_type": "slide"
    }
   },
   "source": [
    "### `re` in Python\n",
    "\n",
    "The `re` package is built into Python. It allows us to use regular expressions to find, extract, and replace strings."
   ]
  },
  {
   "cell_type": "code",
   "execution_count": null,
   "id": "4e345803",
   "metadata": {
    "scrolled": false
   },
   "outputs": [],
   "source": [
    "import re"
   ]
  },
  {
   "cell_type": "markdown",
   "id": "b79f7824",
   "metadata": {
    "slideshow": {
     "slide_type": "fragment"
    }
   },
   "source": [
    "`re.search` takes in a string `regex` and a string `text` and returns the location and substring corresponding to the **first** match of `regex` in `text`."
   ]
  },
  {
   "cell_type": "code",
   "execution_count": null,
   "id": "5951a080",
   "metadata": {
    "scrolled": false
   },
   "outputs": [],
   "source": [
    "re.search('AB*A', \n",
    "          'here is a string for you: ABBBA. here is another: ABBBBBBBA')"
   ]
  },
  {
   "cell_type": "markdown",
   "id": "b9b96b4c",
   "metadata": {
    "slideshow": {
     "slide_type": "fragment"
    }
   },
   "source": [
    "`re.findall` takes in a string `regex` and a string `text` and returns a list of all matches of `regex` in `text`. You'll use this most often."
   ]
  },
  {
   "cell_type": "code",
   "execution_count": null,
   "id": "c925fc4c",
   "metadata": {
    "scrolled": false
   },
   "outputs": [],
   "source": [
    "re.findall('AB*A', \n",
    "           'here is a string for you: ABBBA. here is another: ABBBBBBBA')"
   ]
  },
  {
   "cell_type": "markdown",
   "id": "fa1f6f86",
   "metadata": {
    "slideshow": {
     "slide_type": "fragment"
    }
   },
   "source": [
    "`re.sub` takes in a string `regex`, a string `repl`, and a string `text`, and replaces all matches of `regex` in `text` with `repl`."
   ]
  },
  {
   "cell_type": "code",
   "execution_count": null,
   "id": "299f12c1",
   "metadata": {
    "scrolled": false
   },
   "outputs": [],
   "source": [
    "re.sub('AB*A', \n",
    "       'billy', \n",
    "       'here is a string for you: ABBBA. here is another: ABBBBBBBA')"
   ]
  },
  {
   "cell_type": "markdown",
   "id": "0a4f19f7",
   "metadata": {
    "slideshow": {
     "slide_type": "slide"
    }
   },
   "source": [
    "### Raw strings\n",
    "\n",
    "When using regular expressions in Python, it's a good idea to use **raw strings**, denoted by an `r` before the quotes, e.g. `r'exp'`."
   ]
  },
  {
   "cell_type": "code",
   "execution_count": null,
   "id": "59189302",
   "metadata": {
    "slideshow": {
     "slide_type": "-"
    }
   },
   "outputs": [],
   "source": [
    "re.findall('\\bcat\\b', 'my cat is hungry')"
   ]
  },
  {
   "cell_type": "code",
   "execution_count": null,
   "id": "575ad059",
   "metadata": {},
   "outputs": [],
   "source": [
    "re.findall(r'\\bcat\\b', 'my cat is hungry')"
   ]
  },
  {
   "cell_type": "code",
   "execution_count": null,
   "id": "3d418165",
   "metadata": {},
   "outputs": [],
   "source": [
    "# Huh?\n",
    "print('\\bcat\\b')"
   ]
  },
  {
   "cell_type": "markdown",
   "id": "fb79937f",
   "metadata": {
    "slideshow": {
     "slide_type": "slide"
    }
   },
   "source": [
    "### Capture groups\n",
    "* Surround a regex with `(` and `)` to define a **capture group** within a pattern.\n",
    "- Capture groups are useful for extracting relevant parts of a string."
   ]
  },
  {
   "cell_type": "code",
   "execution_count": null,
   "id": "cc7a31d3",
   "metadata": {
    "scrolled": false
   },
   "outputs": [],
   "source": [
    "re.findall(r'\\w+@(\\w+)\\.edu', \n",
    "           'my old email was billy@notucsd.edu, my new email is notbilly@ucsd.edu')"
   ]
  },
  {
   "cell_type": "markdown",
   "id": "23a894cb",
   "metadata": {
    "slideshow": {
     "slide_type": "fragment"
    }
   },
   "source": [
    "- Notice what happens if we remove the `(` and `)`!"
   ]
  },
  {
   "cell_type": "code",
   "execution_count": null,
   "id": "9ec23800",
   "metadata": {
    "scrolled": false
   },
   "outputs": [],
   "source": [
    "re.findall(r'\\w+@\\w+\\.edu', \n",
    "           'my old email was billy@notucsd.edu, my new email is notbilly@ucsd.edu')"
   ]
  },
  {
   "cell_type": "markdown",
   "id": "4141a59e",
   "metadata": {
    "slideshow": {
     "slide_type": "fragment"
    }
   },
   "source": [
    "- Earlier, we also saw that parentheses can be used to group parts of a regex together. When using `re.findall`, all groups are treated as capturing groups."
   ]
  },
  {
   "cell_type": "code",
   "execution_count": null,
   "id": "6b4fa612",
   "metadata": {
    "scrolled": false
   },
   "outputs": [],
   "source": [
    "# A regex that matches strings with two of the same vowel followed by 3 digits\n",
    "# We only want to capture the digits, but...\n",
    "re.findall(r'(aa|ee|ii|oo|uu)(\\d{3})', 'eeoo124')"
   ]
  },
  {
   "cell_type": "markdown",
   "id": "4c752441",
   "metadata": {
    "slideshow": {
     "slide_type": "slide"
    }
   },
   "source": [
    "## Example: Log parsing"
   ]
  },
  {
   "cell_type": "markdown",
   "id": "7107a04e",
   "metadata": {
    "slideshow": {
     "slide_type": "slide"
    }
   },
   "source": [
    "Web servers typically record every request made of them in the \"logs\"."
   ]
  },
  {
   "cell_type": "code",
   "execution_count": null,
   "id": "46d1dcc3",
   "metadata": {
    "scrolled": false,
    "slideshow": {
     "slide_type": "-"
    }
   },
   "outputs": [],
   "source": [
    "s = '''132.249.20.188 - - [24/Feb/2023:12:26:15 -0800] \"GET /my/home/ HTTP/1.1\" 200 2585'''"
   ]
  },
  {
   "cell_type": "markdown",
   "id": "d7c7b00a",
   "metadata": {},
   "source": [
    "Let's use our new regex syntax (including capturing groups) to extract the day, month, year, and time from the log string `s`."
   ]
  },
  {
   "cell_type": "code",
   "execution_count": null,
   "id": "abff9776",
   "metadata": {
    "scrolled": false
   },
   "outputs": [],
   "source": [
    "exp = '\\[(.+)\\/(.+)\\/(.+):(.+):(.+):(.+) .+\\]'\n",
    "re.findall(exp, s)"
   ]
  },
  {
   "cell_type": "markdown",
   "id": "426932e2",
   "metadata": {
    "slideshow": {
     "slide_type": "fragment"
    }
   },
   "source": [
    "While above regex works, it is not very **specific**. It _works_ on incorrectly formatted log strings."
   ]
  },
  {
   "cell_type": "code",
   "execution_count": null,
   "id": "9226de42",
   "metadata": {
    "scrolled": false
   },
   "outputs": [],
   "source": [
    "other_s = '[adr/jduy/wffsdffs:r4s4:4wsgdfd:asdf 7]'\n",
    "re.findall(exp, other_s)"
   ]
  },
  {
   "cell_type": "markdown",
   "id": "0a645d57",
   "metadata": {
    "slideshow": {
     "slide_type": "slide"
    }
   },
   "source": [
    "### The more specific, the better!    "
   ]
  },
  {
   "cell_type": "markdown",
   "id": "03affa61",
   "metadata": {
    "slideshow": {
     "slide_type": "fragment"
    }
   },
   "source": [
    "- Be as specific in your pattern matching as possible – you don't want to match and extract strings that don't fit the pattern you care about.\n",
    "    - `.*` matches every possible string, but we don't use it very often.\n"
   ]
  },
  {
   "cell_type": "markdown",
   "id": "973ee8eb",
   "metadata": {
    "slideshow": {
     "slide_type": "fragment"
    }
   },
   "source": [
    "- A better date extraction regex:\n",
    "```\n",
    "\\[(\\d{2})\\/([A-Z]{1}[a-z]{2})\\/(\\d{4}):(\\d{2}):(\\d{2}):(\\d{2}) -\\d{4}\\]\n",
    "```\n",
    "    - `\\d{2}` matches any 2-digit number.\n",
    "    - `[A-Z]{1}` matches any single occurrence of any uppercase letter.\n",
    "    - `[a-z]{2}` matches any 2 consecutive occurrences of lowercase letters.\n",
    "    - Remember, special characters (`[`, `]`, `/`) need to be escaped with `\\`."
   ]
  },
  {
   "cell_type": "code",
   "execution_count": null,
   "id": "60a3e026",
   "metadata": {
    "scrolled": false
   },
   "outputs": [],
   "source": [
    "s"
   ]
  },
  {
   "cell_type": "code",
   "execution_count": null,
   "id": "0f07f175",
   "metadata": {
    "scrolled": false
   },
   "outputs": [],
   "source": [
    "new_exp = '\\[(\\d{2})\\/([A-Z]{1}[a-z]{2})\\/(\\d{4}):(\\d{2}):(\\d{2}):(\\d{2}) -\\d{4}\\]'\n",
    "re.findall(new_exp, s)"
   ]
  },
  {
   "cell_type": "markdown",
   "id": "d23bde76",
   "metadata": {},
   "source": [
    "A benefit of `new_exp` over `exp` is that it doesn't capture anything when the string doesn't follow the format we specified."
   ]
  },
  {
   "cell_type": "code",
   "execution_count": null,
   "id": "4b43ad1f",
   "metadata": {
    "scrolled": false
   },
   "outputs": [],
   "source": [
    "other_s"
   ]
  },
  {
   "cell_type": "code",
   "execution_count": null,
   "id": "2fc12ac1",
   "metadata": {
    "scrolled": false
   },
   "outputs": [],
   "source": [
    "re.findall(new_exp, other_s)"
   ]
  },
  {
   "cell_type": "markdown",
   "id": "c44cea83",
   "metadata": {
    "slideshow": {
     "slide_type": "slide"
    }
   },
   "source": [
    "## Limitations"
   ]
  },
  {
   "cell_type": "markdown",
   "id": "26521adc",
   "metadata": {
    "slideshow": {
     "slide_type": "slide"
    }
   },
   "source": [
    "### Limitations of regexes\n",
    "\n",
    "Writing a regular expression is like writing a program.\n",
    "* You need to know the syntax well.\n",
    "* They can be easier to write than to read.\n",
    "* They can be difficult to debug.\n",
    "\n",
    "Regular expressions are terrible at certain types of problems. Examples:\n",
    "* Anything involving counting (same number of instances of a and b).\n",
    "* Anything involving complex structure (palindromes).\n",
    "* Parsing highly complex text structure ([HTML](https://stackoverflow.com/questions/1732348/regex-match-open-tags-except-xhtml-self-contained-tags), for instance)."
   ]
  },
  {
   "cell_type": "markdown",
   "id": "2ddb5070",
   "metadata": {
    "slideshow": {
     "slide_type": "slide"
    }
   },
   "source": [
    "Below is a regular expression that validates email addresses in Perl. See [this article](http://www.ex-parrot.com/~pdw/Mail-RFC822-Address.html) for more details.\n",
    "\n",
    "<center><img src=\"imgs/image_8.png\" width=700></center>"
   ]
  },
  {
   "cell_type": "markdown",
   "id": "e8b8d1a8",
   "metadata": {
    "slideshow": {
     "slide_type": "slide"
    }
   },
   "source": [
    "StackOverflow crashed due to regex! See [this article](https://stackstatus.net/post/147710624694/outage-postmortem-july-20-2016) for the details.\n",
    "\n",
    "<center><img src='imgs/so_regex.png' width=60%></center>"
   ]
  },
  {
   "cell_type": "markdown",
   "id": "286f4554",
   "metadata": {
    "slideshow": {
     "slide_type": "slide"
    }
   },
   "source": [
    "## Text features"
   ]
  },
  {
   "cell_type": "markdown",
   "id": "c74dfe62",
   "metadata": {
    "slideshow": {
     "slide_type": "slide"
    }
   },
   "source": [
    "<center><img src='imgs/DSLC.png' width=40%></center>"
   ]
  },
  {
   "cell_type": "markdown",
   "id": "ba604d65",
   "metadata": {
    "slideshow": {
     "slide_type": "slide"
    }
   },
   "source": [
    "### Review: Regression and features"
   ]
  },
  {
   "cell_type": "markdown",
   "id": "85c1175f",
   "metadata": {
    "slideshow": {
     "slide_type": "fragment"
    }
   },
   "source": [
    "- In DSC 40A, our running example was to use **regression** to predict a data scientist's salary, given their GPA, years of experience, and years of education."
   ]
  },
  {
   "cell_type": "markdown",
   "id": "2f07eca4",
   "metadata": {
    "slideshow": {
     "slide_type": "fragment"
    }
   },
   "source": [
    "- After minimizing empirical risk to determine optimal parameters, $w_0^*, \\dots, w_3^*$, we made predictions using:\n",
    "\n",
    "$$\\text{predicted salary} = w_0^* + w_1^* \\cdot \\text{GPA} + w_2^* \\cdot \\text{experience} + w_3^* \\cdot \\text{education}$$"
   ]
  },
  {
   "cell_type": "markdown",
   "id": "f170b81d",
   "metadata": {
    "slideshow": {
     "slide_type": "fragment"
    }
   },
   "source": [
    "- GPA, years of experience, and years of education are **features** – they represent a data scientist as a vector of _numbers_.\n",
    "    - e.g. Your feature vector may be [3.5, 1, 7]."
   ]
  },
  {
   "cell_type": "markdown",
   "id": "2fe473e8",
   "metadata": {
    "slideshow": {
     "slide_type": "fragment"
    }
   },
   "source": [
    "- **This approach requires features to be numerical.**"
   ]
  },
  {
   "cell_type": "markdown",
   "id": "873aeec4",
   "metadata": {
    "slideshow": {
     "slide_type": "slide"
    }
   },
   "source": [
    "### Moving forward\n",
    "\n",
    "Suppose we'd like to predict the **sentiment** of a piece of text from 1 to 10.\n",
    "- 10: Very positive (happy).\n",
    "- 1: Very negative (sad, angry)."
   ]
  },
  {
   "cell_type": "markdown",
   "id": "bda9206f",
   "metadata": {
    "slideshow": {
     "slide_type": "fragment"
    }
   },
   "source": [
    "Example:\n",
    "- Input: \"DSC 80 is a pretty good class.\"\n",
    "- Output: 7."
   ]
  },
  {
   "cell_type": "markdown",
   "id": "f626fa12",
   "metadata": {
    "slideshow": {
     "slide_type": "fragment"
    }
   },
   "source": [
    "- We can frame this as a regression problem, but we can't directly use what we learned in 40A, because here our inputs are **text**, not **numbers**."
   ]
  },
  {
   "cell_type": "markdown",
   "id": "d1c9d3ba",
   "metadata": {
    "slideshow": {
     "slide_type": "slide"
    }
   },
   "source": [
    "### Text features"
   ]
  },
  {
   "cell_type": "markdown",
   "id": "963ba14a",
   "metadata": {
    "slideshow": {
     "slide_type": "fragment"
    }
   },
   "source": [
    "- **Big question: How do we represent a text document as a feature vector of numbers?**"
   ]
  },
  {
   "cell_type": "markdown",
   "id": "07b85bfa",
   "metadata": {
    "slideshow": {
     "slide_type": "fragment"
    }
   },
   "source": [
    "- If we can do this, we can:\n",
    "    - use a text document as input in a regression or classification model (in a few lectures).\n",
    "    - **quantify** the similarity of two text documents (today)."
   ]
  },
  {
   "cell_type": "markdown",
   "id": "5df81826",
   "metadata": {
    "slideshow": {
     "slide_type": "slide"
    }
   },
   "source": [
    "### Example: San Diego employee salaries\n",
    "\n",
    "- [Transparent California](https://transparentcalifornia.com/salaries/san-diego/) publishes the salaries of all City of San Diego employees.\n",
    "- The latest available data is from 2021."
   ]
  },
  {
   "cell_type": "code",
   "execution_count": null,
   "id": "75c4295f",
   "metadata": {},
   "outputs": [],
   "source": [
    "salaries = pd.read_csv('https://transcal.s3.amazonaws.com/public/export/san-diego-2021.csv')\n",
    "util.anonymize_names(salaries)"
   ]
  },
  {
   "cell_type": "code",
   "execution_count": null,
   "id": "20e87fe2",
   "metadata": {},
   "outputs": [],
   "source": [
    "salaries.head()"
   ]
  },
  {
   "cell_type": "markdown",
   "id": "ebe35ef8",
   "metadata": {
    "slideshow": {
     "slide_type": "slide"
    }
   },
   "source": [
    "### Aside on privacy and ethics"
   ]
  },
  {
   "cell_type": "markdown",
   "id": "8b342aa2",
   "metadata": {
    "slideshow": {
     "slide_type": "fragment"
    }
   },
   "source": [
    "- Even though the data we downloaded is publicly available, employee names still correspond to real people."
   ]
  },
  {
   "cell_type": "markdown",
   "id": "e590a2d2",
   "metadata": {
    "slideshow": {
     "slide_type": "fragment"
    }
   },
   "source": [
    "- Be careful when dealing with PII (personably identifiable information).\n",
    "    - Only work with the data that is needed for your analysis.\n",
    "    - Even when data is public, people have a reasonable right to privacy."
   ]
  },
  {
   "cell_type": "markdown",
   "id": "96e62c3b",
   "metadata": {
    "slideshow": {
     "slide_type": "fragment"
    }
   },
   "source": [
    "- Remember to think about the impacts of your work **outside** of your Jupyter Notebook."
   ]
  },
  {
   "cell_type": "markdown",
   "id": "98372ee8",
   "metadata": {
    "slideshow": {
     "slide_type": "slide"
    }
   },
   "source": [
    "### Goal: Quantifying similarity"
   ]
  },
  {
   "cell_type": "markdown",
   "id": "1b6ed40b",
   "metadata": {
    "slideshow": {
     "slide_type": "fragment"
    }
   },
   "source": [
    "- Our goal is to describe, numerically, how **similar** two job titles are."
   ]
  },
  {
   "cell_type": "markdown",
   "id": "96650fee",
   "metadata": {
    "slideshow": {
     "slide_type": "fragment"
    }
   },
   "source": [
    "- For instance, our similarity metric should tell us that `'Deputy Fire Chief'` and `'Fire Battalion Chief'` are more similar than `'Deputy Fire Chief'` and `'City Attorney'`."
   ]
  },
  {
   "cell_type": "markdown",
   "id": "24b4a9bb",
   "metadata": {
    "slideshow": {
     "slide_type": "fragment"
    }
   },
   "source": [
    "- **Idea:** Two job titles are similar if they contain shared words, regardless of order. So, to measure the similarity between two job titles, let's **count the number of words they share in common**."
   ]
  },
  {
   "cell_type": "markdown",
   "id": "23d3514a",
   "metadata": {
    "slideshow": {
     "slide_type": "fragment"
    }
   },
   "source": [
    "- Before we do this, we need to be confident that the job titles are clean and consistent – let's explore."
   ]
  },
  {
   "cell_type": "markdown",
   "id": "58450d4f",
   "metadata": {
    "slideshow": {
     "slide_type": "slide"
    }
   },
   "source": [
    "### Exploring job titles"
   ]
  },
  {
   "cell_type": "code",
   "execution_count": null,
   "id": "5efa8340",
   "metadata": {},
   "outputs": [],
   "source": [
    "jobtitles = salaries['Job Title']\n",
    "jobtitles.head()"
   ]
  },
  {
   "cell_type": "markdown",
   "id": "e5f0e862",
   "metadata": {},
   "source": [
    "How many employees are in the dataset? How many **unique** job titles are there?"
   ]
  },
  {
   "cell_type": "code",
   "execution_count": null,
   "id": "fb08bf56",
   "metadata": {},
   "outputs": [],
   "source": [
    "jobtitles.shape[0], jobtitles.nunique()"
   ]
  },
  {
   "cell_type": "markdown",
   "id": "dba189e0",
   "metadata": {
    "slideshow": {
     "slide_type": "slide"
    }
   },
   "source": [
    "What are the most common job titles?"
   ]
  },
  {
   "cell_type": "code",
   "execution_count": null,
   "id": "1e95fffc",
   "metadata": {},
   "outputs": [],
   "source": [
    "jobtitles.value_counts().iloc[:100]"
   ]
  },
  {
   "cell_type": "code",
   "execution_count": null,
   "id": "3e32874d",
   "metadata": {},
   "outputs": [],
   "source": [
    "jobtitles.value_counts().iloc[:25].sort_values().plot(kind='barh')"
   ]
  },
  {
   "cell_type": "markdown",
   "id": "8dded72a",
   "metadata": {
    "slideshow": {
     "slide_type": "slide"
    }
   },
   "source": [
    "Are there any missing job titles?"
   ]
  },
  {
   "cell_type": "code",
   "execution_count": null,
   "id": "a5fe0196",
   "metadata": {},
   "outputs": [],
   "source": [
    "jobtitles.isna().sum()"
   ]
  },
  {
   "cell_type": "markdown",
   "id": "1d304c97",
   "metadata": {
    "slideshow": {
     "slide_type": "fragment"
    }
   },
   "source": [
    "There aren't many. To avoid having to deal with missing values later on, let's just drop the two missing job titles now."
   ]
  },
  {
   "cell_type": "code",
   "execution_count": null,
   "id": "0b0996e4",
   "metadata": {},
   "outputs": [],
   "source": [
    "jobtitles = jobtitles[jobtitles.notna()]"
   ]
  },
  {
   "cell_type": "markdown",
   "id": "46bc0496",
   "metadata": {
    "slideshow": {
     "slide_type": "slide"
    }
   },
   "source": [
    "### Canonicalization\n",
    "\n",
    "Remember, our goal is ultimately to count the number of shared words between job titles. But before we start counting the number of shared words, we need to consider the following:"
   ]
  },
  {
   "cell_type": "markdown",
   "id": "699c00ad",
   "metadata": {
    "slideshow": {
     "slide_type": "fragment"
    }
   },
   "source": [
    "- Some job titles may have **punctuation**, like `'-'` and `'&'`, which may count as words when they shouldn't.\n",
    "    - `'Assistant - Manager'` and `'Assistant Manager'` should count as the same job title."
   ]
  },
  {
   "cell_type": "markdown",
   "id": "87571717",
   "metadata": {
    "slideshow": {
     "slide_type": "fragment"
    }
   },
   "source": [
    "- Some job titles may have **\"glue\" words**, like `'to'` and `'the'`, which (we can argue) also shouldn't count as words.\n",
    "    - `'Assistant To The Manager'` and `'Assistant Manager'` should count as the same job title."
   ]
  },
  {
   "cell_type": "markdown",
   "id": "1e90909e",
   "metadata": {
    "slideshow": {
     "slide_type": "fragment"
    }
   },
   "source": [
    "Let's address the above issues. The process of converting job titles so that they are always represented the same way is called **canonicalization**."
   ]
  },
  {
   "cell_type": "markdown",
   "id": "87cc4536",
   "metadata": {
    "slideshow": {
     "slide_type": "slide"
    }
   },
   "source": [
    "### Punctuation\n",
    "\n",
    "Are there job titles with unnecessary punctuation that we can remove? \n",
    "\n",
    "- To find out, we can write a regular expression that looks for characters other than letters, numbers, and spaces.\n",
    "\n",
    "- We can use regular expressions with the `.str` methods we learned earlier in the quarter just by using `regex=True`."
   ]
  },
  {
   "cell_type": "code",
   "execution_count": null,
   "id": "b6a81710",
   "metadata": {},
   "outputs": [],
   "source": [
    "# Uses character class negation\n",
    "jobtitles.str.contains(r'[^A-Za-z0-9 ]', regex=True).sum()"
   ]
  },
  {
   "cell_type": "code",
   "execution_count": null,
   "id": "c7ed0b45",
   "metadata": {},
   "outputs": [],
   "source": [
    "jobtitles[jobtitles.str.contains(r'[^A-Za-z0-9 ]', regex=True)].head()"
   ]
  },
  {
   "cell_type": "markdown",
   "id": "d7be4dc6",
   "metadata": {},
   "source": [
    "It seems like we should replace these pieces of punctuation with a single space."
   ]
  },
  {
   "cell_type": "markdown",
   "id": "20b8ef00",
   "metadata": {
    "slideshow": {
     "slide_type": "slide"
    }
   },
   "source": [
    "### \"Glue\" words\n",
    "\n",
    "Are there job titles with \"glue\" words in the middle, such as `'Assistant to the Manager'`?"
   ]
  },
  {
   "cell_type": "markdown",
   "id": "289118f3",
   "metadata": {},
   "source": [
    "To figure out if any titles contain the word `'to'`, we **can't** just do the following, because it will evaluate to `True` for job titles that have `'to'` anywhere in them, even if not as a standalone word."
   ]
  },
  {
   "cell_type": "code",
   "execution_count": null,
   "id": "2016f200",
   "metadata": {},
   "outputs": [],
   "source": [
    "# Why are we converting to lowercase?\n",
    "jobtitles.str.lower().str.contains('to').sum()"
   ]
  },
  {
   "cell_type": "code",
   "execution_count": null,
   "id": "f9a5ffdf",
   "metadata": {},
   "outputs": [],
   "source": [
    "jobtitles[jobtitles.str.lower().str.contains('to')]"
   ]
  },
  {
   "cell_type": "markdown",
   "id": "16f785b0",
   "metadata": {},
   "source": [
    "Instead, we need to look for `'to'` separated by word boundaries."
   ]
  },
  {
   "cell_type": "code",
   "execution_count": null,
   "id": "33ba1aa6",
   "metadata": {},
   "outputs": [],
   "source": [
    "jobtitles.str.lower().str.contains(r'\\bto\\b', regex=True).sum()"
   ]
  },
  {
   "cell_type": "code",
   "execution_count": null,
   "id": "14dfd8e3",
   "metadata": {
    "scrolled": true
   },
   "outputs": [],
   "source": [
    "jobtitles[jobtitles.str.lower().str.contains(r'\\bto\\b', regex=True)]"
   ]
  },
  {
   "cell_type": "markdown",
   "id": "f9050c72",
   "metadata": {},
   "source": [
    "We can look for other filler words too, like `'the'` and `'for'`."
   ]
  },
  {
   "cell_type": "code",
   "execution_count": null,
   "id": "54b1bce5",
   "metadata": {},
   "outputs": [],
   "source": [
    "jobtitles[jobtitles.str.lower().str.contains(r'\\bthe\\b', regex=True)]"
   ]
  },
  {
   "cell_type": "code",
   "execution_count": null,
   "id": "2e7f8817",
   "metadata": {},
   "outputs": [],
   "source": [
    "jobtitles[jobtitles.str.lower().str.contains(r'\\bfor\\b', regex=True)]"
   ]
  },
  {
   "cell_type": "markdown",
   "id": "037a46b7",
   "metadata": {},
   "source": [
    "We should probably remove these \"glue\" words."
   ]
  },
  {
   "cell_type": "markdown",
   "id": "2a51b396",
   "metadata": {
    "slideshow": {
     "slide_type": "slide"
    }
   },
   "source": [
    "### Fixing punctuation and removing \"glue\" words\n",
    "\n",
    "Let's put the following two steps together, and canonicalize job titles by:\n",
    "- converting to lowercase,\n",
    "- removing each occurrence of `'to'`, `'the'`, and `'for'`,\n",
    "- replacing each non-letter/digit/space character with a space, and\n",
    "- replacing each sequence of multiple spaces with a single space."
   ]
  },
  {
   "cell_type": "code",
   "execution_count": null,
   "id": "aabd488a",
   "metadata": {},
   "outputs": [],
   "source": [
    "jobtitles = (\n",
    "    jobtitles\n",
    "    .str.lower()\n",
    "    .str.replace(r'\\bto\\b|\\bthe\\b|\\bfor\\b', '', regex=True)\n",
    "    .str.replace('[^A-Za-z0-9 ]', ' ', regex=True)\n",
    "    .str.replace(' +', ' ', regex=True)               # ' +' matches 1 or more occurrences of a space.\n",
    "    .str.strip()                                      # Removes leading/trailing spaces if present.\n",
    ")"
   ]
  },
  {
   "cell_type": "code",
   "execution_count": null,
   "id": "8cc333a4",
   "metadata": {},
   "outputs": [],
   "source": [
    "jobtitles.sample(10)"
   ]
  },
  {
   "cell_type": "markdown",
   "id": "bf166a9b",
   "metadata": {
    "slideshow": {
     "slide_type": "slide"
    }
   },
   "source": [
    "### Possible issue: inconsistent representations\n",
    "\n",
    "Another possible issue is that some job titles may have inconsistent representations of the same word (e.g. `'Asst.'` vs `'Assistant'`)."
   ]
  },
  {
   "cell_type": "code",
   "execution_count": null,
   "id": "cda644f1",
   "metadata": {},
   "outputs": [],
   "source": [
    "jobtitles[jobtitles.str.contains('asst')].value_counts()"
   ]
  },
  {
   "cell_type": "code",
   "execution_count": null,
   "id": "784e19fd",
   "metadata": {},
   "outputs": [],
   "source": [
    "jobtitles[jobtitles.str.contains('assistant')].value_counts().head()"
   ]
  },
  {
   "cell_type": "markdown",
   "id": "4a6ef98a",
   "metadata": {
    "slideshow": {
     "slide_type": "fragment"
    }
   },
   "source": [
    "The 2020 salaries dataset had several of these issues, but fortunately they appear to be fixed for us in the 2021 dataset (thanks, Transparent California)."
   ]
  },
  {
   "cell_type": "markdown",
   "id": "b4ff5ce7",
   "metadata": {
    "slideshow": {
     "slide_type": "slide"
    }
   },
   "source": [
    "## Bag of words 💰"
   ]
  },
  {
   "cell_type": "markdown",
   "id": "9aa84920",
   "metadata": {
    "slideshow": {
     "slide_type": "slide"
    }
   },
   "source": [
    "### Text similarity\n",
    "\n",
    "Recall, our idea is to measure the similarity of two job titles by counting the number of shared words between the job titles. How do we actually do that, for all of the job titles we have?"
   ]
  },
  {
   "cell_type": "markdown",
   "id": "7b462b66",
   "metadata": {
    "slideshow": {
     "slide_type": "slide"
    }
   },
   "source": [
    "### A counts matrix\n",
    "\n",
    "Let's create a \"counts\" matrix, such that:\n",
    "- there is 1 row per job title,\n",
    "- there is 1 column per **unique** word that is used in job titles, and\n",
    "- the value in row `title` and column `word` is the number of occurrences of `word` in `title`."
   ]
  },
  {
   "cell_type": "markdown",
   "id": "f62f0ec6",
   "metadata": {
    "slideshow": {
     "slide_type": "slide"
    }
   },
   "source": [
    "Such a matrix might look like:\n",
    "\n",
    "| | senior | lecturer | teaching | professor | assistant | associate |\n",
    "| --- | --- | --- | --- | --- | --- | --- |\n",
    "| **senior lecturer** | 1 | 1 | 0 | 0 | 0 | 0 |\n",
    "| **assistant teaching professor** | 0 | 0 | 1 | 1 | 1 | 0 | \n",
    "| **associate professor** | 0 | 0 | 0 | 1 | 0 | 1 |\n",
    "| **senior assistant to the assistant professor** | 1 | 0 | 0 | 1 | 2 | 0 |"
   ]
  },
  {
   "cell_type": "markdown",
   "id": "ea899f5b",
   "metadata": {
    "slideshow": {
     "slide_type": "slide"
    }
   },
   "source": [
    "### Creating a counts matrix"
   ]
  },
  {
   "cell_type": "markdown",
   "id": "c5b4eae4",
   "metadata": {},
   "source": [
    "First, we need to determine all words that are used across all job titles."
   ]
  },
  {
   "cell_type": "code",
   "execution_count": null,
   "id": "301d276c",
   "metadata": {
    "scrolled": true
   },
   "outputs": [],
   "source": [
    "jobtitles.str.split()"
   ]
  },
  {
   "cell_type": "code",
   "execution_count": null,
   "id": "93f63725",
   "metadata": {},
   "outputs": [],
   "source": [
    "all_words = jobtitles.str.split().sum()\n",
    "all_words[:10]"
   ]
  },
  {
   "cell_type": "markdown",
   "id": "455b1fab",
   "metadata": {
    "slideshow": {
     "slide_type": "slide"
    }
   },
   "source": [
    "Next, to determine the columns of our matrix, we need to find a list of all **unique** words used in titles. We can do this with `np.unique`, but `value_counts` shows us the distribution, which is interesting."
   ]
  },
  {
   "cell_type": "code",
   "execution_count": null,
   "id": "346850eb",
   "metadata": {},
   "outputs": [],
   "source": [
    "unique_words = pd.Series(all_words).value_counts()\n",
    "unique_words.head(10)"
   ]
  },
  {
   "cell_type": "code",
   "execution_count": null,
   "id": "254bdaaf",
   "metadata": {},
   "outputs": [],
   "source": [
    "len(unique_words)"
   ]
  },
  {
   "cell_type": "markdown",
   "id": "605c27fa",
   "metadata": {
    "slideshow": {
     "slide_type": "fragment"
    }
   },
   "source": [
    "Note that in `unique_words.index`, job titles are sorted by number of occurrences!"
   ]
  },
  {
   "cell_type": "markdown",
   "id": "dd9d3869",
   "metadata": {
    "slideshow": {
     "slide_type": "slide"
    }
   },
   "source": [
    "For each of the 327 unique words that are used in job titles, we can count the number of occurrences of the word in each job title.\n",
    "- `'deputy fire chief'` contains the word `'deputy'` once, the word `'fire'` once, and the word `'chief'` once.\n",
    "- `'assistant managers assistant'` contains the word `'assistant'` twice and the word `'managers'` once."
   ]
  },
  {
   "cell_type": "code",
   "execution_count": null,
   "id": "2fe1abe9",
   "metadata": {},
   "outputs": [],
   "source": [
    "# Created using a dictionary to avoid a \"DataFrame is highly fragmented\" warning.\n",
    "counts_dict = {}\n",
    "for word in unique_words.index:\n",
    "    re_pat = fr'\\b{word}\\b'\n",
    "    counts_dict[word] = jobtitles.str.count(re_pat).astype(int).tolist()\n",
    "    \n",
    "counts_df = pd.DataFrame(counts_dict)"
   ]
  },
  {
   "cell_type": "code",
   "execution_count": null,
   "id": "4ea26cb0",
   "metadata": {
    "scrolled": true
   },
   "outputs": [],
   "source": [
    "counts_df.head()"
   ]
  },
  {
   "cell_type": "markdown",
   "id": "b11932e2",
   "metadata": {},
   "source": [
    "`counts_df` has one row for all 12303 employees, and one column for each unique word that is used in a job title."
   ]
  },
  {
   "cell_type": "code",
   "execution_count": null,
   "id": "ae90ba30",
   "metadata": {},
   "outputs": [],
   "source": [
    "counts_df.shape"
   ]
  },
  {
   "cell_type": "markdown",
   "id": "d5470f68",
   "metadata": {},
   "source": [
    "To put into context what the numbers in `counts_df` mean, we can show the actual job title for each row."
   ]
  },
  {
   "cell_type": "code",
   "execution_count": null,
   "id": "65c2d3f8",
   "metadata": {},
   "outputs": [],
   "source": [
    "counts_df = counts_df.set_index(jobtitles)\n",
    "counts_df"
   ]
  },
  {
   "cell_type": "markdown",
   "id": "0c2d1081",
   "metadata": {},
   "source": [
    "The fourth row tells us that the fourth job title contains `'police'` once and `'officer'` once."
   ]
  },
  {
   "cell_type": "markdown",
   "id": "6d7497e4",
   "metadata": {
    "slideshow": {
     "slide_type": "slide"
    }
   },
   "source": [
    "### Interpreting the counts matrix"
   ]
  },
  {
   "cell_type": "code",
   "execution_count": null,
   "id": "f00cd6fd",
   "metadata": {},
   "outputs": [],
   "source": [
    "counts_df.head()"
   ]
  },
  {
   "cell_type": "markdown",
   "id": "0f240158",
   "metadata": {},
   "source": [
    "The Series below describes the 20 most common words used in job titles, along with the number of times they appeared in all job titles (including repeats). We will call these words \"top 20\" words."
   ]
  },
  {
   "cell_type": "code",
   "execution_count": null,
   "id": "2fd3dac3",
   "metadata": {
    "scrolled": true
   },
   "outputs": [],
   "source": [
    "# Remember, the columns of counts_df are ordered by number of occurrences.\n",
    "counts_df.iloc[:, :20].sum()"
   ]
  },
  {
   "cell_type": "markdown",
   "id": "17cbee97",
   "metadata": {},
   "source": [
    "The Series below describes the **number of top 20 words** used in each job title."
   ]
  },
  {
   "cell_type": "code",
   "execution_count": null,
   "id": "a055ab2e",
   "metadata": {
    "scrolled": true
   },
   "outputs": [],
   "source": [
    "counts_df.iloc[:, :20].sum(axis=1)"
   ]
  },
  {
   "cell_type": "markdown",
   "id": "8769612f",
   "metadata": {
    "slideshow": {
     "slide_type": "slide"
    }
   },
   "source": [
    "### Question: What job titles are most similar to `'deputy fire chief'`?"
   ]
  },
  {
   "cell_type": "markdown",
   "id": "d5d14948",
   "metadata": {
    "slideshow": {
     "slide_type": "fragment"
    }
   },
   "source": [
    "- Remember, our idea was to count the number of shared words between two job titles."
   ]
  },
  {
   "cell_type": "markdown",
   "id": "5d66e423",
   "metadata": {
    "slideshow": {
     "slide_type": "fragment"
    }
   },
   "source": [
    "- We now have access to `counts_df`, which contains a row vector for each job title."
   ]
  },
  {
   "cell_type": "markdown",
   "id": "6f83892e",
   "metadata": {
    "slideshow": {
     "slide_type": "fragment"
    }
   },
   "source": [
    "- How can we use it to count the number of shared words between two job titles, i.e. the **similarity** of two job titles?"
   ]
  },
  {
   "cell_type": "markdown",
   "id": "8abeb42b",
   "metadata": {
    "slideshow": {
     "slide_type": "slide"
    }
   },
   "source": [
    "To start, let's compare the row vectors for `'deputy fire chief'` and `'fire battalion chief'`."
   ]
  },
  {
   "cell_type": "code",
   "execution_count": null,
   "id": "730f1fb8",
   "metadata": {
    "scrolled": true
   },
   "outputs": [],
   "source": [
    "dfc = counts_df.loc['deputy fire chief'].iloc[0]\n",
    "dfc"
   ]
  },
  {
   "cell_type": "code",
   "execution_count": null,
   "id": "c1c56a81",
   "metadata": {},
   "outputs": [],
   "source": [
    "fbc = counts_df.loc['fire battalion chief'].iloc[0]\n",
    "fbc"
   ]
  },
  {
   "cell_type": "markdown",
   "id": "33cbbcd2",
   "metadata": {},
   "source": [
    "We can stack these two vectors horizontally."
   ]
  },
  {
   "cell_type": "code",
   "execution_count": null,
   "id": "557eb8bd",
   "metadata": {},
   "outputs": [],
   "source": [
    "pair_counts = (\n",
    "    pd.concat([dfc, fbc], axis=1)\n",
    "    .sort_values(by=['deputy fire chief', 'fire battalion chief'], ascending=False)\n",
    "    .head(10)\n",
    "    .T\n",
    ")\n",
    "\n",
    "pair_counts"
   ]
  },
  {
   "cell_type": "markdown",
   "id": "0cb1144b",
   "metadata": {
    "slideshow": {
     "slide_type": "fragment"
    }
   },
   "source": [
    "One way to measure how similar the above two vectors are is through their **dot product**."
   ]
  },
  {
   "cell_type": "code",
   "execution_count": null,
   "id": "a3e6d9ea",
   "metadata": {},
   "outputs": [],
   "source": [
    "np.sum(pair_counts.iloc[0] * pair_counts.iloc[1])"
   ]
  },
  {
   "cell_type": "markdown",
   "id": "d829862d",
   "metadata": {
    "slideshow": {
     "slide_type": "fragment"
    }
   },
   "source": [
    "Here, since both vectors consist only of 1s and 0s, the dot product is equal to the **number of shared words** between the two job titles."
   ]
  },
  {
   "cell_type": "markdown",
   "id": "d3efce65",
   "metadata": {
    "slideshow": {
     "slide_type": "slide"
    }
   },
   "source": [
    "### Aside: Dot product\n",
    "\n",
    "- Recall, if $\\vec{a} = \\begin{bmatrix} a_1 & a_2 & ... & a_n \\end{bmatrix}^T$ and $\\vec{b} = \\begin{bmatrix} b_1 & b_2 & ... & b_n \\end{bmatrix}^T$ are two vectors, then their **dot product** $\\vec{a} \\cdot \\vec{b}$ is defined as:\n",
    "\n",
    "$$\\vec{a} \\cdot \\vec{b} = a_1b_1 + a_2b_2 + ... + a_nb_n$$"
   ]
  },
  {
   "cell_type": "markdown",
   "id": "db440089",
   "metadata": {
    "slideshow": {
     "slide_type": "fragment"
    }
   },
   "source": [
    "- The dot product also has a **geometric** interpretation. If $|\\vec{a}|$ and $|\\vec{b}|$ are the $L_2$ norms (lengths) of $\\vec{a}$ and $\\vec{b}$, and $\\theta$ is the angle between $\\vec{a}$ and $\\vec{b}$, then:\n",
    "\n",
    "$$\\vec{a} \\cdot \\vec{b} = |\\vec{a}| |\\vec{b}| \\cos \\theta$$\n",
    "\n",
    "<center><img src='imgs/dot-prod.png' width=20%>(<a href=\"https://byjus.com/physics/scalar-and-vector-products/\">source</a>)</center>"
   ]
  },
  {
   "cell_type": "markdown",
   "id": "7ec2388b",
   "metadata": {
    "slideshow": {
     "slide_type": "fragment"
    }
   },
   "source": [
    "- $\\cos \\theta$ is equal to its maximum value (1) when $\\theta = 0$, i.e. when $\\vec{a}$ and $\\vec{b}$ point in the same direction. "
   ]
  },
  {
   "cell_type": "markdown",
   "id": "b2a70d25",
   "metadata": {
    "slideshow": {
     "slide_type": "fragment"
    }
   },
   "source": [
    "- 🚨 **Key idea: The more similar two unit vectors are, the larger their dot product is!**"
   ]
  },
  {
   "cell_type": "markdown",
   "id": "7d041d25",
   "metadata": {
    "slideshow": {
     "slide_type": "slide"
    }
   },
   "source": [
    "### Computing similarities\n",
    "\n",
    "To find the job title that is most similar to `'deputy fire chief'`, we can compute the dot product of the `'deputy fire chief'` word vector with all other titles' word vectors, and find the title with the highest dot product."
   ]
  },
  {
   "cell_type": "code",
   "execution_count": null,
   "id": "5ff15953",
   "metadata": {
    "scrolled": true
   },
   "outputs": [],
   "source": [
    "counts_df.head()"
   ]
  },
  {
   "cell_type": "code",
   "execution_count": null,
   "id": "55504644",
   "metadata": {},
   "outputs": [],
   "source": [
    "dfc"
   ]
  },
  {
   "cell_type": "markdown",
   "id": "f8ab9f8f",
   "metadata": {},
   "source": [
    "To do so, we can apply `np.dot` to each row that doesn't correspond to `'deputy fire chief'`."
   ]
  },
  {
   "cell_type": "code",
   "execution_count": null,
   "id": "6a887fa7",
   "metadata": {},
   "outputs": [],
   "source": [
    "dots = (\n",
    "    counts_df[counts_df.index != 'deputy fire chief']\n",
    "    .apply(lambda s: np.dot(s, dfc), axis=1)\n",
    "    .sort_values(ascending=False)\n",
    ")\n",
    "\n",
    "dots"
   ]
  },
  {
   "cell_type": "markdown",
   "id": "def81254",
   "metadata": {},
   "source": [
    "The unique job titles that are **most similar** to `'deputy fire chief'` are given below."
   ]
  },
  {
   "cell_type": "code",
   "execution_count": null,
   "id": "88c3c2d5",
   "metadata": {},
   "outputs": [],
   "source": [
    "np.unique(dots.index[dots == dots.max()])"
   ]
  },
  {
   "cell_type": "markdown",
   "id": "955afa7d",
   "metadata": {},
   "source": [
    "Note that they all share two words in common with `'deputy fire chief'`.\n",
    "\n",
    "**Note:** To truly use the dot product as a measure of similarity, we should **normalize** by the lengths of the word vectors. More on this next time."
   ]
  },
  {
   "cell_type": "markdown",
   "id": "fccb0ce4",
   "metadata": {
    "slideshow": {
     "slide_type": "slide"
    }
   },
   "source": [
    "### Bag of words\n",
    "\n",
    "- The **bag of words** model represents texts (e.g. job titles, sentences, documents) as **vectors of word counts**.\n",
    "    - The \"counts\" matrices we have worked with so far were created using the bag of words model.\n",
    "    - The bag of words model defines a **vector space** in $\\mathbb{R}^{\\text{number of unique words}}$.\n",
    "- It is called \"bag of words\" because it doesn't consider **order**.\n",
    "\n",
    "<center><img src='imgs/bag-of-words.jpeg' width=45%></center>\n",
    "\n",
    "<center><a href=\"https://42f6861cgkip12ijm63i3orf-wpengine.netdna-ssl.com/wp-content/uploads/2020/12/2020-07-bagofwords.jpg\">(source)</a></center>"
   ]
  },
  {
   "cell_type": "markdown",
   "id": "2399af24",
   "metadata": {
    "slideshow": {
     "slide_type": "slide"
    }
   },
   "source": [
    "### Aside: Interactive bag of words demo\n",
    "\n",
    "Check [this](https://svelte.dev/repl/98d158ef6fb842d09c66ed20b9a31e99?version=3.55.1) site out – it automatically generates a bag of words matrix for you!\n",
    "\n",
    "<center><img src='imgs/bow-interactive.png' width=50%>(<a href=\"https://twitter.com/jdwlbr/status/1622704535511916544?s=20\">source</a>)</center>"
   ]
  },
  {
   "cell_type": "markdown",
   "id": "269efd96",
   "metadata": {
    "slideshow": {
     "slide_type": "slide"
    }
   },
   "source": [
    "## Summary, next time"
   ]
  },
  {
   "cell_type": "markdown",
   "id": "934fb660",
   "metadata": {
    "slideshow": {
     "slide_type": "slide"
    }
   },
   "source": [
    "### Summary\n",
    "\n",
    "- `pandas` `.str` methods can use regular expressions; just set `regex=True`.\n",
    "- One way to turn texts, like `'deputy fire chief'`, into feature vectors, is to count the number of occurrences of each word in the text, ignoring order. This is done using the **bag of words** model.\n",
    "    - It allows you to measure the \"similarity\" of two words by taking the dot product of their word vectors."
   ]
  },
  {
   "cell_type": "markdown",
   "id": "b62dad56",
   "metadata": {
    "slideshow": {
     "slide_type": "slide"
    }
   },
   "source": [
    "### Next time\n",
    "\n",
    "- More on the bag of words model and its pitfalls.\n",
    "- An improvement to the bag of words model."
   ]
  }
 ],
 "metadata": {
  "celltoolbar": "Slideshow",
  "kernelspec": {
   "display_name": "Python 3 (ipykernel)",
   "language": "python",
   "name": "python3"
  },
  "language_info": {
   "codemirror_mode": {
    "name": "ipython",
    "version": 3
   },
   "file_extension": ".py",
   "mimetype": "text/x-python",
   "name": "python",
   "nbconvert_exporter": "python",
   "pygments_lexer": "ipython3",
   "version": "3.9.6"
  },
  "livereveal": {
   "scroll": true
  },
  "rise": {
   "transition": "none"
  }
 },
 "nbformat": 4,
 "nbformat_minor": 5
}
