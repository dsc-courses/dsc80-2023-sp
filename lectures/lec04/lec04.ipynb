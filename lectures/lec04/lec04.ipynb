{
 "cells": [
  {
   "cell_type": "code",
   "execution_count": null,
   "id": "8c8a44b8",
   "metadata": {
    "slideshow": {
     "slide_type": "skip"
    }
   },
   "outputs": [],
   "source": [
    "import pandas as pd\n",
    "import numpy as np\n",
    "\n",
    "import warnings\n",
    "warnings.simplefilter('ignore')"
   ]
  },
  {
   "cell_type": "markdown",
   "id": "ce9e66d9",
   "metadata": {
    "slideshow": {
     "slide_type": "slide"
    }
   },
   "source": [
    "# Lecture 4 – Grouping\n",
    "\n",
    "## DSC 80, Spring 2023"
   ]
  },
  {
   "cell_type": "markdown",
   "id": "22824200",
   "metadata": {
    "slideshow": {
     "slide_type": "slide"
    }
   },
   "source": [
    "### Agenda\n",
    "\n",
    "- Data granularity.\n",
    "- Grouping.\n",
    "- `DataFrameGroupBy` objects and aggregation.\n",
    "- Other `DataFrameGroupBy` methods."
   ]
  },
  {
   "cell_type": "markdown",
   "id": "e65a8331",
   "metadata": {
    "slideshow": {
     "slide_type": "slide"
    }
   },
   "source": [
    "## Data granularity"
   ]
  },
  {
   "cell_type": "markdown",
   "id": "1108c767",
   "metadata": {
    "slideshow": {
     "slide_type": "slide"
    }
   },
   "source": [
    "### Granularity\n",
    "\n",
    "- **Granularity** refers to the level of detail present in data.\n",
    "    - Fine: small details.\n",
    "    - Coarse: bigger picture.\n",
    "- Most commonly, rows in a DataFrame correspond to individuals, and columns correspond to attributes. Data formatted in this way is called [tidy data](https://r4ds.had.co.nz/tidy-data.html)."
   ]
  },
  {
   "cell_type": "markdown",
   "id": "f44454a4",
   "metadata": {
    "slideshow": {
     "slide_type": "fragment"
    }
   },
   "source": [
    "- In the following example, what is an individual?\n",
    "\n",
    "| Name | Assignment | Score |\n",
    "| --- | --- | --- |\n",
    "| Billy | Homework 1 | 94 |\n",
    "| Sally | Homework 1 | 98 |\n",
    "| Molly | Homework 1 | 82 |\n",
    "| Sally | Homework 2 | 47 |"
   ]
  },
  {
   "cell_type": "markdown",
   "id": "b39d644f",
   "metadata": {
    "slideshow": {
     "slide_type": "slide"
    }
   },
   "source": [
    "### Levels of granularity\n",
    "\n",
    "<center><img src='imgs/caper.png' width=30%></center>\n",
    "\n",
    "Each student submits CAPEs once for each course they are in."
   ]
  },
  {
   "cell_type": "markdown",
   "id": "10fc4e20",
   "metadata": {
    "slideshow": {
     "slide_type": "fragment"
    }
   },
   "source": [
    "| Student Name | Quarter | Course | Instructor | Recommend? | Expected Grade | Hours Per Week | Comments |\n",
    "| --- | --- | --- | --- | --- | --- | --- | --- |\n",
    "| Willy | SP23 | DSC 80 | Tauhidur Rahman | No | A- | 14 | I hate this class |\n",
    "| Billy | WI23 | DSC 80 | Suraj Rampure | No | A- | 12 | Fantastic |\n",
    "| Billy | WI23 | DSC 40B | Justin Eldridge | Yes | B+ | 9 | go big O |\n",
    "| Sally | WI23 | DSC 10 | Janine Tiefenbruck | Yes | A | 11 | baby pandas are so cute |\n",
    "| Molly | WI23 | DSC 80 | Suraj Rampure | Yes | A+ | 2 | I wish there was music in class |\n",
    "| Molly | WI23 | DSC 95 | Marina Langlois | No | A | 3 | I loved DSC 30, but 95 wasn't hard enough :( |"
   ]
  },
  {
   "cell_type": "markdown",
   "id": "1a2f8aca",
   "metadata": {
    "slideshow": {
     "slide_type": "slide"
    }
   },
   "source": [
    "Only instructors can see individual responses. At [cape.ucsd.edu](https://cape.ucsd.edu), overall class statistics are visible."
   ]
  },
  {
   "cell_type": "markdown",
   "id": "d2260e5e",
   "metadata": {
    "slideshow": {
     "slide_type": "-"
    }
   },
   "source": [
    "| Quarter | Course | Instructor | Recommend (%) | Expected Grade | Hours Per Week |\n",
    "| --- | --- | --- | --- | --- | --- |\n",
    "| SP23 | DSC 80 | Tauhidur Rahman | 6% | 3.00 (B) | 15.32 |\n",
    "| WI23 | DSC 80 | Suraj Rampure | 96% | 3.15 (B) | 13.32 |\n",
    "| WI23 | DSC 40B | Justin Eldridge | 89% | 3.35 (B+) | 8.54 |\n",
    "| WI23 | DSC 10 | Janine Tiefenbruck | 94% | 3.45 (B+) | 11.49 |\n",
    "| WI23 | DSC 95 | Marina Langlois | 91% | 4.0 (A) | 9.21\n",
    "\n",
    "### btw, this is not real data :) ."
   ]
  },
  {
   "cell_type": "markdown",
   "id": "c4a9c387",
   "metadata": {
    "slideshow": {
     "slide_type": "slide"
    }
   },
   "source": [
    "The university may be interested in looking at CAPEs results by department."
   ]
  },
  {
   "cell_type": "markdown",
   "id": "87fe8311",
   "metadata": {
    "slideshow": {
     "slide_type": "-"
    }
   },
   "source": [
    "| Quarter | Department | Recommend (%) | Expected Grade | Hours Per Week |\n",
    "| --- | --- | --- | --- | --- |\n",
    "| WI23 | DSC | 91% | 3.01 (B) | 12.29 |\n",
    "| WI23 | BILD | 85% | 2.78 (C+) | 13.21 |"
   ]
  },
  {
   "cell_type": "markdown",
   "id": "9b5601c9",
   "metadata": {
    "slideshow": {
     "slide_type": "slide"
    }
   },
   "source": [
    "Prospective students may be interested in comparing course evaluations across different universities."
   ]
  },
  {
   "cell_type": "markdown",
   "id": "21008337",
   "metadata": {
    "slideshow": {
     "slide_type": "-"
    }
   },
   "source": [
    "| University | Recommend (%) | Average GPA | Hours Per Week |\n",
    "| --- | --- | --- | --- |\n",
    "| UC San Diego | 94% | 3.12 (B) | 42.19 |\n",
    "| UC Irvine | 89% | 3.15 (B) | 38.44 |\n",
    "| SDSU | 88% | 2.99 (B-) | 36.89 |"
   ]
  },
  {
   "cell_type": "markdown",
   "id": "f52e5de1",
   "metadata": {
    "slideshow": {
     "slide_type": "slide"
    }
   },
   "source": [
    "### Collecting data\n",
    "\n",
    "- If you can control how your dataset is created, you should opt for **finer granularity**, i.e. for more detail.\n",
    "- You can always remove detail, but you cannot add detail if it is not already present in the dataset.\n",
    "- However, obtaining fine-grained data can take more time and space."
   ]
  },
  {
   "cell_type": "markdown",
   "id": "6cce9b4d",
   "metadata": {
    "slideshow": {
     "slide_type": "slide"
    }
   },
   "source": [
    "### Manipulating granularity\n",
    "\n",
    "- In the CAPEs example, we looked at the same information – course evaluations – at varying levels of detail.\n",
    "- We'll now explore how to change the level of granularity present in our dataset.\n",
    "    - While it may seem like we are \"losing information,\" removing detail can help us understand bigger-picture trends in our data."
   ]
  },
  {
   "cell_type": "markdown",
   "id": "860cdec9",
   "metadata": {
    "slideshow": {
     "slide_type": "slide"
    }
   },
   "source": [
    "### Example: Penguins\n",
    "\n",
    "<center><img src=\"imgs/lter_penguins.png\" width=60%>\n",
    "<i><a href=\"https://github.com/allisonhorst/palmerpenguins/blob/main/README.md\">Artwork by @allison_horst</a></i>\n",
    "\n",
    "</center>\n",
    "\n",
    "The dataset we'll work with for the rest of the lecture involves various measurements taken of three species of penguins in Antarctica."
   ]
  },
  {
   "cell_type": "code",
   "execution_count": null,
   "id": "9961f647",
   "metadata": {},
   "outputs": [],
   "source": [
    "import seaborn as sns\n",
    "penguins = sns.load_dataset('penguins').dropna()\n",
    "penguins.head()"
   ]
  },
  {
   "cell_type": "code",
   "execution_count": null,
   "id": "5a8faa1f",
   "metadata": {},
   "outputs": [],
   "source": [
    "#What is the distribution of different 'species' in this dataset?\n",
    "penguins['species'].value_counts()"
   ]
  },
  {
   "cell_type": "code",
   "execution_count": null,
   "id": "45aba6dd",
   "metadata": {
    "slideshow": {
     "slide_type": "-"
    }
   },
   "outputs": [],
   "source": [
    "#Overall, what is the distribution of different islan\n",
    "penguins['island'].value_counts()"
   ]
  },
  {
   "cell_type": "markdown",
   "id": "f5e419eb",
   "metadata": {
    "slideshow": {
     "slide_type": "slide"
    }
   },
   "source": [
    "### Discussion Question\n",
    "\n",
    "Create a Series, indexed by `'species'`, that contains the mean `'body_mass_g'` of each `'species'`."
   ]
  },
  {
   "cell_type": "code",
   "execution_count": null,
   "id": "a9eb3fb7",
   "metadata": {},
   "outputs": [],
   "source": [
    "#Lets try to do it for one 'species' first! Here we do it for 'Adelie'.\n",
    "species_only = penguins.loc[penguins['species'] == 'Adelie']\n",
    "species_only['body_mass_g'].mean()"
   ]
  },
  {
   "cell_type": "markdown",
   "id": "60a2b631",
   "metadata": {
    "slideshow": {
     "slide_type": "slide"
    }
   },
   "source": [
    "### Naive approach: looping through unique values"
   ]
  },
  {
   "cell_type": "code",
   "execution_count": null,
   "id": "50496266",
   "metadata": {},
   "outputs": [],
   "source": [
    "species_map = pd.Series([], dtype=float)\n",
    "\n",
    "for species in penguins['species'].unique():\n",
    "    species_only = penguins.loc[penguins['species'] == species]\n",
    "    species_map.loc[species] = species_only['body_mass_g'].mean()\n",
    "    \n",
    "species_map"
   ]
  },
  {
   "cell_type": "markdown",
   "id": "9640b749",
   "metadata": {
    "slideshow": {
     "slide_type": "fragment"
    }
   },
   "source": [
    "- For each unique `'species'`, we make a pass through the entire dataset.\n",
    "    - The asymptotic runtime of this procedure is $\\Theta(ns)$, where $n$ is the number of rows and $s$ is the number of unique species."
   ]
  },
  {
   "cell_type": "markdown",
   "id": "5e36d145",
   "metadata": {
    "slideshow": {
     "slide_type": "fragment"
    }
   },
   "source": [
    "- While there are other loop-based solutions that only involve a single pass over the DataFrame, we'd like to avoid Python loops entirely, as they're slow."
   ]
  },
  {
   "cell_type": "markdown",
   "id": "f5698fac",
   "metadata": {
    "slideshow": {
     "slide_type": "slide"
    }
   },
   "source": [
    "## Grouping"
   ]
  },
  {
   "cell_type": "markdown",
   "id": "54045087",
   "metadata": {
    "slideshow": {
     "slide_type": "slide"
    }
   },
   "source": [
    "### 🤔"
   ]
  },
  {
   "cell_type": "code",
   "execution_count": null,
   "id": "59a1739d",
   "metadata": {},
   "outputs": [],
   "source": [
    "penguins.groupby('species').mean()"
   ]
  },
  {
   "cell_type": "markdown",
   "id": "ad80eded",
   "metadata": {
    "slideshow": {
     "slide_type": "fragment"
    }
   },
   "source": [
    "Somehow, the `groupby` method computes what we're looking for in just one line. How?"
   ]
  },
  {
   "cell_type": "markdown",
   "id": "8e29695a",
   "metadata": {
    "slideshow": {
     "slide_type": "slide"
    }
   },
   "source": [
    "### Aside: Pandas Tutor\n",
    "\n",
    "[Pandas Tutor](https://pandastutor.com/) is the equivalent of [Python Tutor](https://pythontutor.com/), which you saw in DSC 20, but for `pandas`. \n",
    "\n",
    "You can use it by:\n",
    "- Going to the website and entering `pandas` code directly.\n",
    "- Installing it locally (`!pip install pandas-tutor`), enabling it in your notebook (`%reload_ext pandas_tutor`) and using the `%%pt`  cell magic to visualize the last expression in a cell. \n",
    "\n",
    "We'll do the latter, since it doesn't require us leaving our Jupyter Notebook (and because the website doesn't allow us to upload datasets)."
   ]
  },
  {
   "cell_type": "code",
   "execution_count": null,
   "id": "c46d03d7",
   "metadata": {},
   "outputs": [],
   "source": [
    "%reload_ext pandas_tutor"
   ]
  },
  {
   "cell_type": "code",
   "execution_count": null,
   "id": "41eec08b",
   "metadata": {},
   "outputs": [],
   "source": [
    "%%pt\n",
    "\n",
    "penguins.groupby('species').mean()"
   ]
  },
  {
   "cell_type": "markdown",
   "id": "2f8d0708",
   "metadata": {
    "slideshow": {
     "slide_type": "slide"
    }
   },
   "source": [
    "### \"Split-apply-combine\" paradigm\n",
    "\n",
    "The `groupby` method involves three steps: **split**, **apply**, and **combine**. This is the same terminology that the [`pandas` documentation](https://pandas.pydata.org/docs/user_guide/groupby.html) uses.\n",
    "\n",
    "<center><img src=\"imgs/image_0.png\" width=40%></center>"
   ]
  },
  {
   "cell_type": "markdown",
   "id": "39509686",
   "metadata": {
    "slideshow": {
     "slide_type": "fragment"
    }
   },
   "source": [
    "- **Split** breaks up and \"groups\" the rows of a DataFrame according to the specified **key**. There is one \"group\" for every unique value of the key."
   ]
  },
  {
   "cell_type": "markdown",
   "id": "09e8dd76",
   "metadata": {
    "slideshow": {
     "slide_type": "fragment"
    }
   },
   "source": [
    "- **Apply** uses a function (e.g. aggregation, transformation, filtration) within the individual groups."
   ]
  },
  {
   "cell_type": "markdown",
   "id": "96bd5a41",
   "metadata": {
    "slideshow": {
     "slide_type": "fragment"
    }
   },
   "source": [
    "- **Combine** stitches the results of these operations into an output DataFrame."
   ]
  },
  {
   "cell_type": "markdown",
   "id": "5aa6546c",
   "metadata": {
    "slideshow": {
     "slide_type": "fragment"
    }
   },
   "source": [
    "- The split-apply-combine pattern can be **parallelized** to work on multiple computers or threads, by sending computations for each group to different processors."
   ]
  },
  {
   "cell_type": "markdown",
   "id": "cce87043",
   "metadata": {
    "slideshow": {
     "slide_type": "slide"
    }
   },
   "source": [
    "### More examples\n",
    "\n",
    "Before we dive deep into the internals, let's look at a few more examples."
   ]
  },
  {
   "cell_type": "code",
   "execution_count": null,
   "id": "c369de12",
   "metadata": {
    "scrolled": true
   },
   "outputs": [],
   "source": [
    "penguins.head()"
   ]
  },
  {
   "cell_type": "markdown",
   "id": "59eb0a68",
   "metadata": {
    "slideshow": {
     "slide_type": "fragment"
    }
   },
   "source": [
    "Which `'species'` has the highest median `'bill_length_mm'`?"
   ]
  },
  {
   "cell_type": "code",
   "execution_count": null,
   "id": "54ddf7bc",
   "metadata": {},
   "outputs": [],
   "source": [
    "penguins.groupby('species').median()['bill_length_mm'].idxmax()"
   ]
  },
  {
   "cell_type": "markdown",
   "id": "87e5021c",
   "metadata": {
    "slideshow": {
     "slide_type": "fragment"
    }
   },
   "source": [
    "What proportion of penguins of each `'species'` live on `'Dream'` island?"
   ]
  },
  {
   "cell_type": "code",
   "execution_count": null,
   "id": "1df4b98e",
   "metadata": {},
   "outputs": [],
   "source": [
    "(\n",
    "    penguins.assign(on_Dream=penguins['island'] == 'Dream')\n",
    "            .groupby('species')\n",
    "            .mean()['on_Dream']\n",
    ")"
   ]
  },
  {
   "cell_type": "markdown",
   "id": "c6bfa96e",
   "metadata": {
    "slideshow": {
     "slide_type": "slide"
    }
   },
   "source": [
    "## `DataFrameGroupBy` objects and aggregation"
   ]
  },
  {
   "cell_type": "markdown",
   "id": "6d6e2cd3",
   "metadata": {
    "slideshow": {
     "slide_type": "slide"
    }
   },
   "source": [
    "### `DataFrameGroupBy` objects\n",
    "\n",
    "We've just evaluated a few expressions of the following form."
   ]
  },
  {
   "cell_type": "code",
   "execution_count": null,
   "id": "14ede341",
   "metadata": {},
   "outputs": [],
   "source": [
    "penguins.groupby('species').mean()"
   ]
  },
  {
   "cell_type": "markdown",
   "id": "95ee51b5",
   "metadata": {
    "slideshow": {
     "slide_type": "fragment"
    }
   },
   "source": [
    "There are two method calls in the expression above: `.groupby('species')` and `.mean()`. What happens if we remove the latter?"
   ]
  },
  {
   "cell_type": "code",
   "execution_count": null,
   "id": "16bdc987",
   "metadata": {},
   "outputs": [],
   "source": [
    "penguins.groupby('species')"
   ]
  },
  {
   "cell_type": "markdown",
   "id": "092a96d6",
   "metadata": {
    "slideshow": {
     "slide_type": "slide"
    }
   },
   "source": [
    "### Peeking under the hood\n",
    "\n",
    "If `df` is a DataFrame, then `df.groupby(key)` returns a `DataFrameGroupBy` object.\n",
    "\n",
    "This object represents the \"split\" in \"split-apply-combine\"."
   ]
  },
  {
   "cell_type": "code",
   "execution_count": null,
   "id": "b6c3ecfa",
   "metadata": {},
   "outputs": [],
   "source": [
    "# Creates one group for each unique value in the species column.\n",
    "penguin_groups = penguins.groupby('species')\n",
    "penguin_groups"
   ]
  },
  {
   "cell_type": "markdown",
   "id": "beae456a",
   "metadata": {
    "slideshow": {
     "slide_type": "fragment"
    }
   },
   "source": [
    "`DataFrameGroupBy` objects have a `groups` attribute, which is a dictionary in which the keys are group names and the values are lists of row labels."
   ]
  },
  {
   "cell_type": "code",
   "execution_count": null,
   "id": "1526d3ff",
   "metadata": {},
   "outputs": [],
   "source": [
    "penguin_groups.groups"
   ]
  },
  {
   "cell_type": "markdown",
   "id": "f2d52d95",
   "metadata": {
    "slideshow": {
     "slide_type": "fragment"
    }
   },
   "source": [
    "`DataFrameGroupBy` objects also have a `get_group(key)` method, which returns a DataFrame with only the values for the given key."
   ]
  },
  {
   "cell_type": "code",
   "execution_count": null,
   "id": "5a8bcea7",
   "metadata": {},
   "outputs": [],
   "source": [
    "penguin_groups.get_group('Chinstrap')"
   ]
  },
  {
   "cell_type": "code",
   "execution_count": null,
   "id": "6c3f0700",
   "metadata": {},
   "outputs": [],
   "source": [
    "# Same as the above!\n",
    "penguins[penguins['species'] == 'Chinstrap']"
   ]
  },
  {
   "cell_type": "markdown",
   "id": "b9472556",
   "metadata": {
    "slideshow": {
     "slide_type": "fragment"
    }
   },
   "source": [
    "We usually don't use these attributes and methods, but they're useful in understanding how `groupby` works under the hood."
   ]
  },
  {
   "cell_type": "markdown",
   "id": "178de68f",
   "metadata": {
    "slideshow": {
     "slide_type": "slide"
    }
   },
   "source": [
    "### Aggregation\n",
    "\n",
    "- Once we create a `DataFrameGroupBy` object, we need to **apply** some function to each group, and **combine** the results."
   ]
  },
  {
   "cell_type": "markdown",
   "id": "0a11b35a",
   "metadata": {
    "slideshow": {
     "slide_type": "fragment"
    }
   },
   "source": [
    "- The most common operation we apply to each group is an **aggregation**.\n",
    "    - Aggregation refers to the process of reducing many values to one."
   ]
  },
  {
   "cell_type": "markdown",
   "id": "6fd2f26d",
   "metadata": {
    "slideshow": {
     "slide_type": "fragment"
    }
   },
   "source": [
    "- To perform an aggregation, use an aggregation method on the `DataFrameGroupBy` object, e.g. `.mean()`, `.max()`, or `.median()`."
   ]
  },
  {
   "cell_type": "markdown",
   "id": "45789d69",
   "metadata": {
    "slideshow": {
     "slide_type": "slide"
    }
   },
   "source": [
    "Let's look at some examples."
   ]
  },
  {
   "cell_type": "code",
   "execution_count": null,
   "id": "ecf032ef",
   "metadata": {
    "scrolled": true,
    "slideshow": {
     "slide_type": "-"
    }
   },
   "outputs": [],
   "source": [
    "penguins.head()"
   ]
  },
  {
   "cell_type": "code",
   "execution_count": null,
   "id": "5f9c1d82",
   "metadata": {},
   "outputs": [],
   "source": [
    "penguins.groupby('species').mean()"
   ]
  },
  {
   "cell_type": "code",
   "execution_count": null,
   "id": "d9901725",
   "metadata": {},
   "outputs": [],
   "source": [
    "penguins.groupby('species').sum()"
   ]
  },
  {
   "cell_type": "code",
   "execution_count": null,
   "id": "239f8d70",
   "metadata": {},
   "outputs": [],
   "source": [
    "penguins.groupby('species').last()"
   ]
  },
  {
   "cell_type": "code",
   "execution_count": null,
   "id": "dfcfcbf3",
   "metadata": {
    "scrolled": true
   },
   "outputs": [],
   "source": [
    "penguins.groupby('species').max()"
   ]
  },
  {
   "cell_type": "markdown",
   "id": "c7abccbe",
   "metadata": {
    "slideshow": {
     "slide_type": "slide"
    }
   },
   "source": [
    "### Column independence\n",
    "\n",
    "Within each group, the aggregation method is applied to **each column independently**."
   ]
  },
  {
   "cell_type": "code",
   "execution_count": null,
   "id": "0712c4fe",
   "metadata": {},
   "outputs": [],
   "source": [
    "penguins.groupby('species').max()"
   ]
  },
  {
   "cell_type": "markdown",
   "id": "aea963e9",
   "metadata": {
    "slideshow": {
     "slide_type": "fragment"
    }
   },
   "source": [
    "It **is not** telling us that there is an `'Adelie'` penguin on `'Torgersen'` island with a `'body_mass_g'` of `4775.0`!"
   ]
  },
  {
   "cell_type": "code",
   "execution_count": null,
   "id": "2b7bffd6",
   "metadata": {},
   "outputs": [],
   "source": [
    "# This penguin is on Biscoe island, not Torgersen!\n",
    "penguins.loc[(penguins['species'] == 'Adelie') & (penguins['body_mass_g'] == 4775.0)]"
   ]
  },
  {
   "cell_type": "markdown",
   "id": "48cd6d1d",
   "metadata": {
    "slideshow": {
     "slide_type": "slide"
    }
   },
   "source": [
    "### Discussion Question\n",
    "\n",
    "Find the `'island'` on which the **heaviest** penguin of each `'species'` lives."
   ]
  },
  {
   "cell_type": "code",
   "execution_count": null,
   "id": "b6a58714",
   "metadata": {},
   "outputs": [],
   "source": [
    "penguins.sort_values('body_mass_g', ascending=False).groupby('species').first()"
   ]
  },
  {
   "cell_type": "markdown",
   "id": "bd3d1b61",
   "metadata": {
    "slideshow": {
     "slide_type": "slide"
    }
   },
   "source": [
    "### Column selection and performance implications\n",
    "\n",
    "- By default, the aggregator will be applied to **all** columns that it can be applied to.\n",
    "    - `max` and `min` are defined on strings, while `median` and `mean` are not."
   ]
  },
  {
   "cell_type": "markdown",
   "id": "806490a7",
   "metadata": {
    "slideshow": {
     "slide_type": "fragment"
    }
   },
   "source": [
    "- If we only care about one column, we can select that column before aggregating **to save time**.\n",
    "    - `DataFrameGroupBy` objects support `[]` notation, just like `DataFrame`s."
   ]
  },
  {
   "cell_type": "code",
   "execution_count": null,
   "id": "1847d896",
   "metadata": {
    "slideshow": {
     "slide_type": "fragment"
    }
   },
   "outputs": [],
   "source": [
    "penguins.groupby('species').mean()"
   ]
  },
  {
   "cell_type": "code",
   "execution_count": null,
   "id": "dc7face1",
   "metadata": {},
   "outputs": [],
   "source": [
    "# Works, but involves wasted effort since the other columns had to be aggregated for no reason.\n",
    "penguins.groupby('species').mean()['bill_length_mm']"
   ]
  },
  {
   "cell_type": "code",
   "execution_count": null,
   "id": "5f1b1394",
   "metadata": {},
   "outputs": [],
   "source": [
    "# This is a SeriesGroupBy object!\n",
    "penguins.groupby('species')['bill_length_mm']"
   ]
  },
  {
   "cell_type": "code",
   "execution_count": null,
   "id": "75185169",
   "metadata": {},
   "outputs": [],
   "source": [
    "# Saves time!\n",
    "penguins.groupby('species')['bill_length_mm'].mean()"
   ]
  },
  {
   "cell_type": "markdown",
   "id": "632f5ff4",
   "metadata": {
    "slideshow": {
     "slide_type": "slide"
    }
   },
   "source": [
    "To demonstrate that the former is slower than the latter, we can use `%%timeit`. For reference, we'll also include our earlier `for`-loop-based solution."
   ]
  },
  {
   "cell_type": "code",
   "execution_count": null,
   "id": "dc92adda",
   "metadata": {},
   "outputs": [],
   "source": [
    "%%timeit\n",
    "penguins.groupby('species').mean()['bill_length_mm']"
   ]
  },
  {
   "cell_type": "code",
   "execution_count": null,
   "id": "2bb5cc3e",
   "metadata": {},
   "outputs": [],
   "source": [
    "%%timeit\n",
    "penguins.groupby('species')['bill_length_mm'].mean()"
   ]
  },
  {
   "cell_type": "code",
   "execution_count": null,
   "id": "fc3f9090",
   "metadata": {},
   "outputs": [],
   "source": [
    "%%timeit\n",
    "species_map = pd.Series([], dtype=float)\n",
    "\n",
    "for species in penguins['species'].unique():\n",
    "    species_only = penguins.loc[penguins['species'] == species]\n",
    "    species_map.loc[species] = species_only['body_mass_g'].mean()\n",
    "    \n",
    "species_map"
   ]
  },
  {
   "cell_type": "markdown",
   "id": "d2a190d3",
   "metadata": {
    "slideshow": {
     "slide_type": "slide"
    }
   },
   "source": [
    "### Takeaways"
   ]
  },
  {
   "cell_type": "markdown",
   "id": "723b23cb",
   "metadata": {
    "slideshow": {
     "slide_type": "fragment"
    }
   },
   "source": [
    "- It's important to understand _what_ each piece of your code evaluates to – in the first two timed examples, the code is almost identical, but the performance is quite different.\n",
    "\n",
    "                # Slower\n",
    "                penguins.groupby('species').mean()['bill_length_mm']\n",
    "\n",
    "                # Faster\n",
    "                penguins.groupby('species')['bill_length_mm'].mean()"
   ]
  },
  {
   "cell_type": "markdown",
   "id": "e71c01e3",
   "metadata": {
    "slideshow": {
     "slide_type": "fragment"
    }
   },
   "source": [
    "- The `groupby` method is much quicker than `for`-looping over the DataFrame in Python. It can often produce results using just a **single, fast pass** over the data, updating the sum, mean, count, min, or other aggregate for each group along the way."
   ]
  },
  {
   "cell_type": "markdown",
   "id": "cc94fa49",
   "metadata": {
    "slideshow": {
     "slide_type": "slide"
    }
   },
   "source": [
    "### Beyond default aggregation methods\n",
    "\n",
    "- There are many built-in aggregation methods.\n",
    "- What if you want to apply different aggregation methods to different columns?\n",
    "- What if the aggregation method you want to use doesn't already exist in `pandas`?"
   ]
  },
  {
   "cell_type": "markdown",
   "id": "d50e51cf",
   "metadata": {
    "slideshow": {
     "slide_type": "slide"
    }
   },
   "source": [
    "### The `aggregate` method\n",
    "\n",
    "- The `DataFrameGroupBy` object has a general `aggregate` method, which aggregates using one or more operations.\n",
    "    - Remember, aggregation refers to the process of reducing many values to one.\n",
    "- There are many ways of using `aggregate`; refer to [the documentation](https://pandas.pydata.org/pandas-docs/stable/reference/api/pandas.core.groupby.DataFrameGroupBy.aggregate.html) for a comprehensive list.\n",
    "- Example arguments:\n",
    "    - A single function.\n",
    "    - A list of functions.\n",
    "    - A dictionary mapping column names to functions.\n",
    "- Per [the documentation](https://pandas.pydata.org/pandas-docs/stable/reference/api/pandas.DataFrame.agg.html), `agg` is an alias for `aggregate`."
   ]
  },
  {
   "cell_type": "markdown",
   "id": "dc402b8b",
   "metadata": {
    "slideshow": {
     "slide_type": "slide"
    }
   },
   "source": [
    "### Example\n",
    "\n",
    "How many penguins are there of each `'species'`, and what is the mean `'body_mass_g'` of each species?"
   ]
  },
  {
   "cell_type": "code",
   "execution_count": null,
   "id": "8f425d5e",
   "metadata": {},
   "outputs": [],
   "source": [
    "penguins.groupby('species')['body_mass_g'].aggregate(['count', 'mean'])"
   ]
  },
  {
   "cell_type": "markdown",
   "id": "9bc3326a",
   "metadata": {},
   "source": [
    "Note what happens when we don't select a column before aggregating."
   ]
  },
  {
   "cell_type": "code",
   "execution_count": null,
   "id": "153a1977",
   "metadata": {},
   "outputs": [],
   "source": [
    "penguins.groupby('species').aggregate(['count', 'mean'])"
   ]
  },
  {
   "cell_type": "markdown",
   "id": "ec2fe848",
   "metadata": {
    "slideshow": {
     "slide_type": "slide"
    }
   },
   "source": [
    "### Example\n",
    "\n",
    "What is the maximum `'bill_length_mm'` of each species, and which `'island'`s is each `'species'` found on?"
   ]
  },
  {
   "cell_type": "code",
   "execution_count": null,
   "id": "f274f133",
   "metadata": {},
   "outputs": [],
   "source": [
    "penguins.groupby('species').aggregate({'bill_length_mm': 'max', 'island': 'unique'})"
   ]
  },
  {
   "cell_type": "markdown",
   "id": "ab8a7443",
   "metadata": {
    "slideshow": {
     "slide_type": "slide"
    }
   },
   "source": [
    "### Example\n",
    "\n",
    "What is the **interquartile range** of the `'body_mass_g'` of each `'species'`?"
   ]
  },
  {
   "cell_type": "code",
   "execution_count": null,
   "id": "1a969c21",
   "metadata": {},
   "outputs": [],
   "source": [
    "(\n",
    "    penguins.groupby('species')['body_mass_g']\n",
    "            .aggregate(lambda col: np.percentile(col, 75) - np.percentile(col, 25))\n",
    ")"
   ]
  },
  {
   "cell_type": "markdown",
   "id": "d6c726b3",
   "metadata": {
    "slideshow": {
     "slide_type": "slide"
    }
   },
   "source": [
    "## Other `DataFrameGroupBy` methods"
   ]
  },
  {
   "cell_type": "markdown",
   "id": "478cae01",
   "metadata": {
    "slideshow": {
     "slide_type": "slide"
    }
   },
   "source": [
    "### Split-apply-combine, revisited\n",
    "\n",
    "When we introduced the split-apply-combine pattern, the \"apply\" step involved **aggregation** – our final DataFrame had one row for each group.\n",
    "\n",
    "<center><img src=\"imgs/image_0.png\" width=40%></center>"
   ]
  },
  {
   "cell_type": "markdown",
   "id": "27e959d1",
   "metadata": {
    "slideshow": {
     "slide_type": "fragment"
    }
   },
   "source": [
    "Instead of aggregating during the apply step, we could instead perform a:"
   ]
  },
  {
   "cell_type": "markdown",
   "id": "2e2f9d14",
   "metadata": {
    "slideshow": {
     "slide_type": "fragment"
    }
   },
   "source": [
    "- **Transformation**, in which we perform operations to every value within each group."
   ]
  },
  {
   "cell_type": "markdown",
   "id": "cefe21a6",
   "metadata": {
    "slideshow": {
     "slide_type": "fragment"
    }
   },
   "source": [
    "- **Filtration**, in which we keep only the groups that satisfy some condition."
   ]
  },
  {
   "cell_type": "markdown",
   "id": "f57a9d0b",
   "metadata": {
    "slideshow": {
     "slide_type": "slide"
    }
   },
   "source": [
    "### Transformations\n",
    "\n",
    "- Suppose we want to convert the `'body_mass_g'` column to to z-scores (i.e. standard units), **separately** for each `'species'`:\n",
    "\n",
    "$$z(x_i) = \\frac{x_i - \\text{mean of } x}{\\text{SD of } x}$$"
   ]
  },
  {
   "cell_type": "markdown",
   "id": "30795cc7",
   "metadata": {
    "slideshow": {
     "slide_type": "fragment"
    }
   },
   "source": [
    "- To do so, we can use the `transform` method on a `DataFrameGroupBy` object. The `transform` method takes in a function, which itself takes in a Series and returns a new Series."
   ]
  },
  {
   "cell_type": "code",
   "execution_count": null,
   "id": "d85d6f2b",
   "metadata": {},
   "outputs": [],
   "source": [
    "z_score = lambda x: (x - x.mean()) / x.std(ddof=0)"
   ]
  },
  {
   "cell_type": "markdown",
   "id": "3e4378fe",
   "metadata": {
    "slideshow": {
     "slide_type": "fragment"
    }
   },
   "source": [
    "- A transformation produces a DataFrame or Series of the same size – it is **not** an aggregation!"
   ]
  },
  {
   "cell_type": "code",
   "execution_count": null,
   "id": "8ef3a742",
   "metadata": {
    "scrolled": true,
    "slideshow": {
     "slide_type": "fragment"
    }
   },
   "outputs": [],
   "source": [
    "penguins.head()"
   ]
  },
  {
   "cell_type": "code",
   "execution_count": null,
   "id": "504c68cc",
   "metadata": {},
   "outputs": [],
   "source": [
    "z_scored = penguins.groupby('species').transform(z_score)\n",
    "z_scored.head()"
   ]
  },
  {
   "cell_type": "code",
   "execution_count": null,
   "id": "499fd16f",
   "metadata": {
    "slideshow": {
     "slide_type": "slide"
    }
   },
   "outputs": [],
   "source": [
    "np.random.seed(1)\n",
    "penguins.assign(z_mass=z_scored['body_mass_g']).sample(5)"
   ]
  },
  {
   "cell_type": "markdown",
   "id": "17ace31a",
   "metadata": {
    "slideshow": {
     "slide_type": "fragment"
    }
   },
   "source": [
    "Note that below, penguin 276 has a larger `'body_mass_g'` than penguin 65, but a lower `'z_mass'`. \n",
    "- Penguin 65 has an above average `'body_mass_g'` among `'Adelie'` penguins.\n",
    "- Penguin 276 has a below average `'body_mass_g'` among `'Gentoo'` penguins. Remember from earlier that the average `'body_mass_g'` of `'Gentoo'` penguins is much higher than for other species."
   ]
  },
  {
   "cell_type": "markdown",
   "id": "2ff3bc14",
   "metadata": {
    "slideshow": {
     "slide_type": "slide"
    }
   },
   "source": [
    "### Filtering"
   ]
  },
  {
   "cell_type": "markdown",
   "id": "00afafcd",
   "metadata": {
    "slideshow": {
     "slide_type": "fragment"
    }
   },
   "source": [
    "- To keep only the groups that satisfy a particular condition, use the `filter` method on a `DataFrameGroupBy` object."
   ]
  },
  {
   "cell_type": "markdown",
   "id": "c9db50de",
   "metadata": {
    "slideshow": {
     "slide_type": "fragment"
    }
   },
   "source": [
    "- The `filter` method takes in a function, which itself takes in a DataFrame/Series and return a single Boolean. The result is a new DataFrame/Series with only the groups for which the filter function returned `True`."
   ]
  },
  {
   "cell_type": "markdown",
   "id": "07df880a",
   "metadata": {
    "slideshow": {
     "slide_type": "fragment"
    }
   },
   "source": [
    "For example, suppose we want only the `'species'` whose `'bill_length_mm'` is above 39."
   ]
  },
  {
   "cell_type": "code",
   "execution_count": null,
   "id": "7e0c63c0",
   "metadata": {},
   "outputs": [],
   "source": [
    "penguins.head()"
   ]
  },
  {
   "cell_type": "code",
   "execution_count": null,
   "id": "447eeb69",
   "metadata": {},
   "outputs": [],
   "source": [
    "penguins.groupby('species').filter(lambda df: df['bill_length_mm'].mean() > 39)"
   ]
  },
  {
   "cell_type": "markdown",
   "id": "a372cbf2",
   "metadata": {
    "slideshow": {
     "slide_type": "fragment"
    }
   },
   "source": [
    "No more `'Adelie'`s!"
   ]
  },
  {
   "cell_type": "markdown",
   "id": "e3d21c74",
   "metadata": {
    "slideshow": {
     "slide_type": "slide"
    }
   },
   "source": [
    "Or, as another example, suppose we only want the `'species'` with at least 100 penguins:"
   ]
  },
  {
   "cell_type": "code",
   "execution_count": null,
   "id": "a88db646",
   "metadata": {},
   "outputs": [],
   "source": [
    "penguins.groupby('species').filter(lambda df: df.shape[0] > 100)"
   ]
  },
  {
   "cell_type": "markdown",
   "id": "4891c387",
   "metadata": {
    "slideshow": {
     "slide_type": "fragment"
    }
   },
   "source": [
    "No more `'Chinstrap'`s!"
   ]
  },
  {
   "cell_type": "markdown",
   "id": "8e376960",
   "metadata": {
    "slideshow": {
     "slide_type": "slide"
    }
   },
   "source": [
    "### Grouping with multiple columns\n",
    "\n",
    "When we group with multiple columns, one group is created for **every unique combination** of elements in the specified columns."
   ]
  },
  {
   "cell_type": "code",
   "execution_count": null,
   "id": "a87917b8",
   "metadata": {},
   "outputs": [],
   "source": [
    "species_and_island = penguins.groupby(['species', 'island']).mean()\n",
    "species_and_island"
   ]
  },
  {
   "cell_type": "markdown",
   "id": "db94be88",
   "metadata": {
    "slideshow": {
     "slide_type": "slide"
    }
   },
   "source": [
    "### Grouping and indexes\n",
    "\n",
    "- The `groupby` method creates an index based on the specified columns.\n",
    "- When grouping by multiple columns, the resulting DataFrame has a `MultiIndex`.\n",
    "- Advice: When working with a `MultiIndex`, use `reset_index` or set `as_index=False` in `groupby`."
   ]
  },
  {
   "cell_type": "code",
   "execution_count": null,
   "id": "7ade0a51",
   "metadata": {},
   "outputs": [],
   "source": [
    "species_and_island"
   ]
  },
  {
   "cell_type": "code",
   "execution_count": null,
   "id": "771e57f5",
   "metadata": {},
   "outputs": [],
   "source": [
    "species_and_island['body_mass_g']"
   ]
  },
  {
   "cell_type": "code",
   "execution_count": null,
   "id": "bb58b9eb",
   "metadata": {},
   "outputs": [],
   "source": [
    "species_and_island.loc['Adelie']"
   ]
  },
  {
   "cell_type": "code",
   "execution_count": null,
   "id": "4bc553eb",
   "metadata": {},
   "outputs": [],
   "source": [
    "species_and_island.loc[('Adelie', 'Torgersen')]"
   ]
  },
  {
   "cell_type": "code",
   "execution_count": null,
   "id": "ca4039ed",
   "metadata": {},
   "outputs": [],
   "source": [
    "species_and_island.reset_index()"
   ]
  },
  {
   "cell_type": "code",
   "execution_count": null,
   "id": "8b35fbd1",
   "metadata": {},
   "outputs": [],
   "source": [
    "penguins.groupby(['species', 'island'], as_index=False).mean()"
   ]
  },
  {
   "cell_type": "markdown",
   "id": "5b500565",
   "metadata": {
    "slideshow": {
     "slide_type": "slide"
    }
   },
   "source": [
    "## Summary, next time"
   ]
  },
  {
   "cell_type": "markdown",
   "id": "2945a480",
   "metadata": {
    "slideshow": {
     "slide_type": "slide"
    }
   },
   "source": [
    "### Summary, next time\n",
    "\n",
    "- Grouping allows us to change the level of granularity in a DataFrame.\n",
    "- Grouping involves three steps – split, apply, and combine.\n",
    "- The `groupby` method returns a `DataFrameGroupBy` method, which creates one group for every unique combination of values in the column(s) being grouped on.\n",
    "- Most often, we will use an aggregation method on a `DataFrameGroupBy` object, but we can also use `transform`, `filter`, or the more general `apply` methods. Each one of these methods acts on each group individually.\n",
    "- **Next time:** `pivot` and `pivot_table`. Simpson's paradox."
   ]
  }
 ],
 "metadata": {
  "celltoolbar": "Slideshow",
  "kernelspec": {
   "display_name": "Python 3 (ipykernel)",
   "language": "python",
   "name": "python3"
  },
  "language_info": {
   "codemirror_mode": {
    "name": "ipython",
    "version": 3
   },
   "file_extension": ".py",
   "mimetype": "text/x-python",
   "name": "python",
   "nbconvert_exporter": "python",
   "pygments_lexer": "ipython3",
   "version": "3.9.6"
  },
  "livereveal": {
   "scroll": true
  },
  "rise": {
   "transition": "none"
  }
 },
 "nbformat": 4,
 "nbformat_minor": 5
}
