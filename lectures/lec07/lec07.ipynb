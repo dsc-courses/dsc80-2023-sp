{
 "cells": [
  {
   "cell_type": "code",
   "execution_count": null,
   "id": "8c8a44b8",
   "metadata": {
    "slideshow": {
     "slide_type": "skip"
    }
   },
   "outputs": [],
   "source": [
    "import pandas as pd\n",
    "import numpy as np\n",
    "import os"
   ]
  },
  {
   "cell_type": "markdown",
   "id": "ce9e66d9",
   "metadata": {
    "slideshow": {
     "slide_type": "slide"
    }
   },
   "source": [
    "# Lecture 7 – Relational Algebra, Messy Data\n",
    "\n",
    "## DSC 80, Spring 2023"
   ]
  },
  {
   "cell_type": "markdown",
   "id": "22824200",
   "metadata": {
    "slideshow": {
     "slide_type": "slide"
    }
   },
   "source": [
    "### Agenda\n",
    "\n",
    "- Relational algebra.\n",
    "- Working with messy, real-world data."
   ]
  },
  {
   "cell_type": "markdown",
   "id": "4eee1b35",
   "metadata": {
    "slideshow": {
     "slide_type": "slide"
    }
   },
   "source": [
    "## Relational algebra"
   ]
  },
  {
   "cell_type": "markdown",
   "id": "d1bd3a2e",
   "metadata": {
    "slideshow": {
     "slide_type": "slide"
    }
   },
   "source": [
    "### Birds-eye view of the course"
   ]
  },
  {
   "cell_type": "markdown",
   "id": "1801c315",
   "metadata": {
    "slideshow": {
     "slide_type": "fragment"
    }
   },
   "source": [
    "- In just two weeks, we've covered most of the core DataFrame manipulation tools you'll need to extract insight from data."
   ]
  },
  {
   "cell_type": "markdown",
   "id": "d3d7a1fa",
   "metadata": {
    "slideshow": {
     "slide_type": "fragment"
    }
   },
   "source": [
    "- In future courses, like DSC 100, you'll revisit how to perform many of the same operations in SQL, a language designed to work with **relational databases**.\n",
    "    - A relational database is a database that stores tabular data."
   ]
  },
  {
   "cell_type": "markdown",
   "id": "20e31925",
   "metadata": {
    "slideshow": {
     "slide_type": "fragment"
    }
   },
   "source": [
    "- There, you'll learn more about the _theory_ of DataFrames and databases, and will learn about how to think about operations more abstractly using **relational algebra**."
   ]
  },
  {
   "cell_type": "markdown",
   "id": "6c0bd175",
   "metadata": {
    "slideshow": {
     "slide_type": "slide"
    }
   },
   "source": [
    "### Relational algebra"
   ]
  },
  {
   "cell_type": "markdown",
   "id": "890378c4",
   "metadata": {
    "slideshow": {
     "slide_type": "fragment"
    }
   },
   "source": [
    "- Relational algebra is a system for describing operations that are performed on relations (tables). "
   ]
  },
  {
   "cell_type": "markdown",
   "id": "a664af68",
   "metadata": {
    "slideshow": {
     "slide_type": "fragment"
    }
   },
   "source": [
    "- There are **five _primitive_ relational operators**, each of which produce a new relation."
   ]
  },
  {
   "cell_type": "markdown",
   "id": "a0083f1d",
   "metadata": {
    "slideshow": {
     "slide_type": "fragment"
    }
   },
   "source": [
    "- Like in regular arithmetic, expressions are made up of values and operators. For instance, the following is an expression in relational algebra:\n",
    "\n",
    "$$\\sigma_{\\text{temps.City = countries.City}} \\big( \\text{temps} \\times \\text{countries} \\big)$$"
   ]
  },
  {
   "cell_type": "markdown",
   "id": "ec917258",
   "metadata": {
    "slideshow": {
     "slide_type": "fragment"
    }
   },
   "source": [
    "- Here, we'll give you a brief, imprecise introduction to relational algebra to make the connections more clear in future courses."
   ]
  },
  {
   "cell_type": "markdown",
   "id": "52679186",
   "metadata": {
    "slideshow": {
     "slide_type": "slide"
    }
   },
   "source": [
    "For illustration purposes, let's look at the temperatures and countries example DataFrames from the last lecture, with slight modifications."
   ]
  },
  {
   "cell_type": "code",
   "execution_count": null,
   "id": "2f7f569e",
   "metadata": {
    "slideshow": {
     "slide_type": "-"
    }
   },
   "outputs": [],
   "source": [
    "temps = pd.DataFrame({\n",
    "    'City': ['San Diego', 'Toronto', 'Rome'],\n",
    "    'Temperature': [76, 28, 56],\n",
    "    'Humid': ['No', 'Yes', 'Yes']\n",
    "})\n",
    "\n",
    "other_temps = pd.DataFrame({\n",
    "    'City': ['Los Angeles', 'San Diego', 'Miami'],\n",
    "    'Temperature': [79, 76, 88],\n",
    "    'Humid': ['No', 'No', 'Yes']\n",
    "})\n",
    "\n",
    "countries = pd.DataFrame({\n",
    "    'City': ['Toronto', 'Shanghai', 'San Diego'],\n",
    "    'Country': ['Canada', 'China', 'USA']\n",
    "})"
   ]
  },
  {
   "cell_type": "code",
   "execution_count": null,
   "id": "23780bdf",
   "metadata": {},
   "outputs": [],
   "source": [
    "temps"
   ]
  },
  {
   "cell_type": "code",
   "execution_count": null,
   "id": "b3238b98",
   "metadata": {},
   "outputs": [],
   "source": [
    "other_temps"
   ]
  },
  {
   "cell_type": "code",
   "execution_count": null,
   "id": "9723e02c",
   "metadata": {},
   "outputs": [],
   "source": [
    "countries"
   ]
  },
  {
   "cell_type": "markdown",
   "id": "8339ea5d",
   "metadata": {
    "slideshow": {
     "slide_type": "slide"
    }
   },
   "source": [
    "### Projection ($\\Pi$)\n",
    "\n",
    "Used to project (keep) columns in a relation. Duplicates rows are dropped.\n",
    "\n",
    "$$\\Pi_{(\\text{City, Humid})}(\\text{temps})$$"
   ]
  },
  {
   "cell_type": "code",
   "execution_count": null,
   "id": "3d26d74b",
   "metadata": {},
   "outputs": [],
   "source": [
    "temps[['City','Humid']].drop_duplicates()"
   ]
  },
  {
   "cell_type": "markdown",
   "id": "2337014c",
   "metadata": {
    "slideshow": {
     "slide_type": "slide"
    }
   },
   "source": [
    "### Selection ($\\sigma$)\n",
    "\n",
    "Used to keep rows in a relation that satisfy certain conditions.\n",
    "\n",
    "$$\\sigma_{(\\text{Temperature} > 50)}(\\text{temps})$$"
   ]
  },
  {
   "cell_type": "code",
   "execution_count": null,
   "id": "9d179c4c",
   "metadata": {},
   "outputs": [],
   "source": [
    "temps.loc[temps['Temperature']>50]"
   ]
  },
  {
   "cell_type": "markdown",
   "id": "666263fa",
   "metadata": {
    "slideshow": {
     "slide_type": "slide"
    }
   },
   "source": [
    "Operators can be composed:\n",
    "\n",
    "$$\\Pi_{(\\text{City, Humid})} \\big(\\sigma_{(\\text{Temperature} > 50)}(\\text{temps}) \\big)$$"
   ]
  },
  {
   "cell_type": "code",
   "execution_count": null,
   "id": "6ba8b2ac",
   "metadata": {},
   "outputs": [],
   "source": [
    "temps.loc[temps['Temperature'] > 50, ['City', 'Humid']].drop_duplicates()"
   ]
  },
  {
   "cell_type": "markdown",
   "id": "796d8c79",
   "metadata": {
    "slideshow": {
     "slide_type": "slide"
    }
   },
   "source": [
    "### Cross product ($\\times$)\n",
    "\n",
    "Used to create every possible combination of rows in the first relation with rows in the second relation.\n",
    "\n",
    "$$\\text{temps} \\times \\text{countries}$$"
   ]
  },
  {
   "cell_type": "code",
   "execution_count": null,
   "id": "7f6f639c",
   "metadata": {},
   "outputs": [],
   "source": [
    "# Could also use temps.merge(countries, how='cross').\n",
    "pd.merge(temps, countries, how='cross')"
   ]
  },
  {
   "cell_type": "markdown",
   "id": "d1a12c6f",
   "metadata": {
    "slideshow": {
     "slide_type": "slide"
    }
   },
   "source": [
    "The cross product is not incredibly useful on its own, but it can be used with other operators to perform more meaningful operations.\n",
    "\n",
    "What does the following compute?\n",
    "\n",
    "$$\\sigma_{\\text{temps.City = countries.City}} \\big( \\text{temps} \\times \\text{countries} \\big)$$"
   ]
  },
  {
   "cell_type": "code",
   "execution_count": null,
   "id": "04fa4b7a",
   "metadata": {},
   "outputs": [],
   "source": [
    "both = pd.merge(temps, countries, how='cross')\n",
    "both[both['City_x'] == both['City_y']]"
   ]
  },
  {
   "cell_type": "code",
   "execution_count": null,
   "id": "0b1151fc",
   "metadata": {},
   "outputs": [],
   "source": [
    "temps.merge(countries)"
   ]
  },
  {
   "cell_type": "markdown",
   "id": "20c34551",
   "metadata": {
    "slideshow": {
     "slide_type": "slide"
    }
   },
   "source": [
    "### Union ($\\cup$)\n",
    "\n",
    "Used to combine the rows of two relations. Duplicate rows are dropped. Only works if the two relations have the same attributes (column names)."
   ]
  },
  {
   "cell_type": "markdown",
   "id": "bb0ceef7",
   "metadata": {},
   "source": [
    "$$\\text{temps} \\cup \\text{other_temps}$$"
   ]
  },
  {
   "cell_type": "code",
   "execution_count": null,
   "id": "7c1733e5",
   "metadata": {},
   "outputs": [],
   "source": [
    "pd.concat([temps, other_temps]).drop_duplicates()"
   ]
  },
  {
   "cell_type": "markdown",
   "id": "bd3534b9",
   "metadata": {
    "slideshow": {
     "slide_type": "slide"
    }
   },
   "source": [
    "### Difference ($-$)\n",
    "\n",
    "Used to find the rows that are in one relation but not the other. Only works if the two relations have the same attributes (column names).\n",
    "\n",
    "$$\\text{temps} - \\text{other_temps}$$"
   ]
  },
  {
   "cell_type": "code",
   "execution_count": null,
   "id": "fa180fdc",
   "metadata": {},
   "outputs": [],
   "source": [
    "temps[~temps['City'].isin(other_temps['City'])]"
   ]
  },
  {
   "cell_type": "markdown",
   "id": "7ec98bef",
   "metadata": {
    "slideshow": {
     "slide_type": "slide"
    }
   },
   "source": [
    "### Brief summary"
   ]
  },
  {
   "cell_type": "markdown",
   "id": "1accb6a0",
   "metadata": {
    "slideshow": {
     "slide_type": "fragment"
    }
   },
   "source": [
    "- We saw five operators: project ($\\Pi$), select ($\\sigma$), cross product ($\\times$), union ($\\cup$), and difference ($-$). "
   ]
  },
  {
   "cell_type": "markdown",
   "id": "e612357f",
   "metadata": {
    "slideshow": {
     "slide_type": "fragment"
    }
   },
   "source": [
    "- You'll learn about more operations in relational algebra in the future, including rename ($\\rho$), intersection ($\\cap$), join, aggregate, etc. Additional resources: [Wikipedia](https://en.wikipedia.org/wiki/Relational_algebra#Introduction), [UNSW](https://cgi.cse.unsw.edu.au/~cs3311/20T3/lectures/rel-algebra/slides.html#:~:text=Selection%20returns%20a%20subset%20of,satisfy%20a%20specified%20condition%20C.&text=C%20is%20a%20boolean%20expression%20on%20attributes%20in%20R.&text=Projection%20returns%20a%20set%20of,attributes%20in%20the%20original%20relation.), [UCSD DSC 100](https://drive.google.com/file/d/1-txCsFSltz3bCZ1XzzHgZvVEkIOHVbqq/view?usp=sharing)."
   ]
  },
  {
   "cell_type": "markdown",
   "id": "7fbb3e61",
   "metadata": {
    "slideshow": {
     "slide_type": "fragment"
    }
   },
   "source": [
    "- **Takeaway**: Think about what each line of code you write is doing – don't just guess-and-check until you pass all `otter` cases."
   ]
  },
  {
   "cell_type": "markdown",
   "id": "8a17461f",
   "metadata": {
    "slideshow": {
     "slide_type": "slide"
    }
   },
   "source": [
    "## Introduction to messy data"
   ]
  },
  {
   "cell_type": "markdown",
   "id": "13410e22",
   "metadata": {
    "slideshow": {
     "slide_type": "slide"
    }
   },
   "source": [
    "### There is no such thing as \"raw data\"!\n",
    "\n",
    "* Data are the result of measurements that must be recorded.\n",
    "* Humans design the measurements and record the results.\n",
    "* Data is **always** an imperfect record of the underlying processing being measured."
   ]
  },
  {
   "cell_type": "markdown",
   "id": "7dcf8d36",
   "metadata": {
    "slideshow": {
     "slide_type": "slide"
    }
   },
   "source": [
    "### Data generating process\n",
    "\n",
    "* A **data generating process** is the underlying, real-world (probabilistic) mechanism that generates observed data. \n",
    "* Observed data is an incomplete artifact of the data generating process.\n",
    "* **A data generating process is what a statistical model attempts to describe.**\n",
    "    - From DSC 10: a model is a set of assumptions about how data were generated.\n",
    "    - More on this later in the quarter.\n",
    "- Data cleaning requires an understanding of the data generating process."
   ]
  },
  {
   "cell_type": "markdown",
   "id": "930f2146",
   "metadata": {
    "slideshow": {
     "slide_type": "slide"
    }
   },
   "source": [
    "### Example: COVID case counts 🦠\n",
    "\n",
    "Suppose our **goal** is to determine the number of COVID cases in the US **yesterday**.\n",
    "- What are we really asking for – the number of people who tested positive yesterday, or the number of people who contracted COVID yesterday?\n",
    "- Tested positive on what type of test? How accurate is that type of test?\n",
    "- How often are test results reported? Is there a delay in when test results are reported?"
   ]
  },
  {
   "cell_type": "markdown",
   "id": "49c15993",
   "metadata": {
    "slideshow": {
     "slide_type": "slide"
    }
   },
   "source": [
    "<center><img src='imgs/christmas.png' width=70%></center>\n",
    "\n",
    "Why do you think so few cases were reported on Christmas Day – is it because COVID was less prevalent on Christmas Day as compared to the days before and after, or is it likely for some other reason? 🎅"
   ]
  },
  {
   "cell_type": "markdown",
   "id": "60369239",
   "metadata": {
    "slideshow": {
     "slide_type": "slide"
    }
   },
   "source": [
    "### Data provenance\n",
    "\n",
    "- As data scientists, we often need to work with datasets that others collected, for a purpose that is different than our current interest.\n",
    "- As such, it's important to understand the \"story\" of how a dataset came to be, or the **provenance** of the data. Specifically, we need to be aware of:\n",
    "    1. Assumptions about the data generating process.\n",
    "    2. How the initial values in the dataset came to be.  \n",
    "    3. How any data processing or storage decisions affected the values in the dataset.\n",
    "\n",
    "The bigger picture question we're asking here is, **can we trust our data?**"
   ]
  },
  {
   "cell_type": "markdown",
   "id": "d9124024",
   "metadata": {
    "slideshow": {
     "slide_type": "slide"
    }
   },
   "source": [
    "### Data cleaning 🧹\n",
    "\n",
    "- Data cleaning is the process of transforming data so that it best represents the underlying data generating process.\n",
    "\n",
    "- In practice, data cleaning is often detective work to understand data provenance.\n",
    "    - **Always be skeptical of your data!**"
   ]
  },
  {
   "cell_type": "markdown",
   "id": "e558641d",
   "metadata": {
    "slideshow": {
     "slide_type": "slide"
    }
   },
   "source": [
    "### Keys to data cleaning\n",
    "\n",
    "Data cleaning often addresses: \n",
    "\n",
    "* The **structure** of the recorded data.\n",
    "    - Is the data stored in a tabular format (e.g. CSV, SQL, Google Sheets) or in another format (JSON, XML)?\n",
    "    - Are the individuals properly represented as rows?\n",
    "* The **encoding** and **format** of the values in the data.\n",
    "    - Are the data types of all columns reflective of the **kinds of data** they contain?\n",
    "* Corrupt and \"**incorrect**\" data, and missing values.\n",
    "    - Were there flaws in the data recording process? In other words, is our data **faithful** to the data generating process?\n",
    "    \n",
    "Let's focus on the latter two."
   ]
  },
  {
   "cell_type": "markdown",
   "id": "4d280108",
   "metadata": {
    "slideshow": {
     "slide_type": "slide"
    }
   },
   "source": [
    "## Kinds of data"
   ]
  },
  {
   "cell_type": "markdown",
   "id": "0b41ad00",
   "metadata": {
    "slideshow": {
     "slide_type": "slide"
    }
   },
   "source": [
    "### Kinds of data\n",
    "\n",
    "<center><img src='imgs/data-types.png' width=90%></center>"
   ]
  },
  {
   "cell_type": "markdown",
   "id": "7d7696f2",
   "metadata": {
    "slideshow": {
     "slide_type": "slide"
    }
   },
   "source": [
    "### Discussion Question\n",
    "\n",
    "Determine the kind of each of the following variables.\n",
    "- Fuel economy in miles per gallon.\n",
    "- Number of quarters at UCSD.\n",
    "- Class standing (freshman, sophomore, etc.).\n",
    "- Income bracket (low, medium, high).\n",
    "- Bank account number."
   ]
  },
  {
   "cell_type": "markdown",
   "id": "7883efad",
   "metadata": {
    "slideshow": {
     "slide_type": "slide"
    }
   },
   "source": [
    "### Example: DSC 80 students"
   ]
  },
  {
   "cell_type": "markdown",
   "id": "6eed69e3",
   "metadata": {},
   "source": [
    "In the next cell, we'll load in an example dataset containing information about past DSC 80 students.\n",
    "\n",
    "- `'PID'` and `'Student Name'`: student PID and name.\n",
    "- `'Month'`, `'Day'`, `'Year'`: date when the student was accepted to UCSD.\n",
    "- `'2021 tuition'` and `'2022 tuition'`: amount paid in tuition in 2021 and 2022, respectively.\n",
    "- `'Percent Growth'`: growth between the two aforementioned columns.\n",
    "- `'Paid'`: whether or not the student has paid tuition for this quarter yet.\n",
    "- `'DSC 80 Final Grade'`: either `'Pass'`, `'Fail'`, or a number.\n",
    "\n",
    "What needs to be changed in the DataFrame to extract meaningful insights?"
   ]
  },
  {
   "cell_type": "code",
   "execution_count": null,
   "id": "aa71559c",
   "metadata": {
    "slideshow": {
     "slide_type": "slide"
    }
   },
   "outputs": [],
   "source": [
    "students = pd.read_csv(os.path.join('data', 'students.csv'))\n",
    "students"
   ]
  },
  {
   "cell_type": "markdown",
   "id": "09581901",
   "metadata": {
    "slideshow": {
     "slide_type": "slide"
    }
   },
   "source": [
    "### How much has each student paid in total tuition in 2021 and 2022?"
   ]
  },
  {
   "cell_type": "code",
   "execution_count": null,
   "id": "ca2e91f6",
   "metadata": {},
   "outputs": [],
   "source": [
    "students"
   ]
  },
  {
   "cell_type": "code",
   "execution_count": null,
   "id": "70100279",
   "metadata": {},
   "outputs": [],
   "source": [
    "total = students['2021 tuition'] + students['2022 tuition']\n",
    "total"
   ]
  },
  {
   "cell_type": "markdown",
   "id": "cd5dc392",
   "metadata": {
    "slideshow": {
     "slide_type": "slide"
    }
   },
   "source": [
    "### Check the data types of `students`!\n",
    "\n",
    "* What kinds of data should each column have?\n",
    "    - Qualitative or quantitative?\n",
    "    - Discrete or continuous?\n",
    "    - Ordinal or nominal?\n",
    "* What data type *should* each column have?\n",
    "\n",
    "* Use the `dtypes` attribute or the `info` method to peek at the data types."
   ]
  },
  {
   "cell_type": "code",
   "execution_count": null,
   "id": "85b5d184",
   "metadata": {},
   "outputs": [],
   "source": [
    "students.info()"
   ]
  },
  {
   "cell_type": "markdown",
   "id": "5a74297c",
   "metadata": {
    "slideshow": {
     "slide_type": "slide"
    }
   },
   "source": [
    "### Cleaning `'2021 tuition'` and `'2022 tuition'`\n",
    "\n",
    "* `'2021 tuition'` and `'2022 tuition'` are stored as `object`s (strings), not numerical values.\n",
    "* The `'$'` character causes the entries to be interpreted as strings.\n",
    "* We can use `str` methods to strip the dollar sign.\n",
    "    - Recall, whatever method/operator comes immediately after `.str` will be applied to each element of the Series individually, rather than the Series as a whole."
   ]
  },
  {
   "cell_type": "code",
   "execution_count": null,
   "id": "8cf651bd",
   "metadata": {},
   "outputs": [],
   "source": [
    "# This won't work. Why?\n",
    "students['2021 tuition'].astype(float)"
   ]
  },
  {
   "cell_type": "code",
   "execution_count": null,
   "id": "7501ba43",
   "metadata": {
    "scrolled": true
   },
   "outputs": [],
   "source": [
    "# That's better!\n",
    "students['2021 tuition'].str.strip('$').astype(float)"
   ]
  },
  {
   "cell_type": "markdown",
   "id": "ff7876bb",
   "metadata": {
    "slideshow": {
     "slide_type": "slide"
    }
   },
   "source": [
    "We can loop through the columns of `students` to apply the above procedure. (Looping through columns is fine, just avoid looping through rows.)"
   ]
  },
  {
   "cell_type": "code",
   "execution_count": null,
   "id": "616db180",
   "metadata": {},
   "outputs": [],
   "source": [
    "students = pd.read_csv(os.path.join('data', 'students.csv'))\n",
    "for col in students.columns:\n",
    "    if 'tuition' in col:\n",
    "        students[col] = students[col].str.strip('$').astype(float)\n",
    "        \n",
    "students"
   ]
  },
  {
   "cell_type": "markdown",
   "id": "7deff894",
   "metadata": {},
   "source": [
    "Alternatively, we can do this without a loop by using `str.contains` to find only the columns that contain tuition information."
   ]
  },
  {
   "cell_type": "code",
   "execution_count": null,
   "id": "47351071",
   "metadata": {
    "scrolled": true
   },
   "outputs": [],
   "source": [
    "students = pd.read_csv(os.path.join('data', 'students.csv'))\n",
    "cols = students.columns.str.contains('tuition')\n",
    "students.loc[:, cols] = students.loc[:, cols].apply(lambda s: s.str.strip('$').astype(float), axis=0)\n",
    "students"
   ]
  },
  {
   "cell_type": "markdown",
   "id": "cea4ba90",
   "metadata": {
    "slideshow": {
     "slide_type": "slide"
    }
   },
   "source": [
    "### Cleaning `'Paid'`\n",
    "\n",
    "* Currently, `'Paid'` contains the strings `'Y'` and `'N'`.\n",
    "    * `'Y'`s and `'N'`s typically result from manual data entry.\n",
    "* The `'Paid'` column should contain `True`s and `False`s, or `1`s and `0`s.\n",
    "* One solution: create a Boolean Series through comparison. Could also use the Series `replace` method."
   ]
  },
  {
   "cell_type": "code",
   "execution_count": null,
   "id": "b413bb3f",
   "metadata": {},
   "outputs": [],
   "source": [
    "students['Paid'].value_counts()"
   ]
  },
  {
   "cell_type": "code",
   "execution_count": null,
   "id": "351383a2",
   "metadata": {},
   "outputs": [],
   "source": [
    "students['Paid'] = students['Paid'] == 'Y'\n",
    "students"
   ]
  },
  {
   "cell_type": "markdown",
   "id": "af4b84ff",
   "metadata": {
    "slideshow": {
     "slide_type": "slide"
    }
   },
   "source": [
    "### Cleaning `'Month'`, `'Day'`, and `'Year'`\n",
    "- Currently, these are stored separately using the `int64` data type. This could be *fine* for certain purposes, but ideally they are stored as a single column (e.g. for sorting).\n",
    "- Solution: use `pd.to_datetime` to convert dates to `datetime64` objects."
   ]
  },
  {
   "cell_type": "code",
   "execution_count": null,
   "id": "6fa867c2",
   "metadata": {},
   "outputs": [],
   "source": [
    "students.loc[:, 'Month': 'Year']"
   ]
  },
  {
   "cell_type": "code",
   "execution_count": null,
   "id": "50501859",
   "metadata": {},
   "outputs": [],
   "source": [
    "students['Date'] = pd.to_datetime(students.loc[:, 'Month': 'Year'])\n",
    "students = students.drop(columns=['Month', 'Day', 'Year'])\n",
    "students"
   ]
  },
  {
   "cell_type": "markdown",
   "id": "8a0273f0",
   "metadata": {
    "slideshow": {
     "slide_type": "slide"
    }
   },
   "source": [
    "### Cleaning `'DSC 80 Final Grade'`\n",
    "\n",
    "* Currently, `'DSC 80 Final Grade'`s are stored as `object`s (strings).\n",
    "* Unless we somehow store this column to a numeric type, we can't do any arithmetic with it.\n",
    "* However, due to the existence of strings like `'Pass'`, we can't use `astype` to convert it.\n",
    "* Solution: use `pd.to_numeric(s, errors='coerce')`, where `s` is a Series.\n",
    "    - ⚠️ Be careful with this!\n",
    "    - `errors='coerce'` can cause uninformed destruction of data."
   ]
  },
  {
   "cell_type": "code",
   "execution_count": null,
   "id": "f0a66652",
   "metadata": {},
   "outputs": [],
   "source": [
    "# Won't work!\n",
    "students['DSC 80 Final Grade'].astype(int)"
   ]
  },
  {
   "cell_type": "code",
   "execution_count": null,
   "id": "385ff2e3",
   "metadata": {},
   "outputs": [],
   "source": [
    "pd.to_numeric(students['DSC 80 Final Grade'], errors='coerce')"
   ]
  },
  {
   "cell_type": "code",
   "execution_count": null,
   "id": "ebcb9da0",
   "metadata": {},
   "outputs": [],
   "source": [
    "students['DSC 80 Final Grade'] = pd.to_numeric(students['DSC 80 Final Grade'], errors='coerce')\n",
    "students"
   ]
  },
  {
   "cell_type": "code",
   "execution_count": null,
   "id": "261a968b",
   "metadata": {},
   "outputs": [],
   "source": [
    "pd.to_numeric?"
   ]
  },
  {
   "cell_type": "markdown",
   "id": "37c3c067",
   "metadata": {
    "slideshow": {
     "slide_type": "slide"
    }
   },
   "source": [
    "### Cleaning `'Student Name'`\n",
    "* We want names to be formatted as `'Last Name, First Name'`, a common format.\n",
    "* Solution: use `str` methods once again."
   ]
  },
  {
   "cell_type": "code",
   "execution_count": null,
   "id": "521c7863",
   "metadata": {},
   "outputs": [],
   "source": [
    "students['Student Name']"
   ]
  },
  {
   "cell_type": "code",
   "execution_count": null,
   "id": "c57ffb5d",
   "metadata": {},
   "outputs": [],
   "source": [
    "parts = students['Student Name'].str.split()\n",
    "parts"
   ]
  },
  {
   "cell_type": "code",
   "execution_count": null,
   "id": "f9439899",
   "metadata": {},
   "outputs": [],
   "source": [
    "students['Student Name'] = parts.str[1] + ', ' + parts.str[0]\n",
    "students"
   ]
  },
  {
   "cell_type": "markdown",
   "id": "fbab1d12",
   "metadata": {
    "slideshow": {
     "slide_type": "slide"
    }
   },
   "source": [
    "### More data type ambiguities\n",
    "\n",
    "- 1649043031 looks like a number, but is probably a date.\n",
    "    - As we saw in the last lecture, [Unix timestamps](https://www.unixtimestamp.com) count the number of seconds since January 1st, 1970.\n",
    "\n",
    "- \"USD 1,000,000\" looks like a string, but is actually a number **and** a unit.\n",
    "    \n",
    "- 92093 looks like a number, but is really a zip code (and isn't equal to 92,093).\n",
    "    \n",
    "- Sometimes, `False` appears in a column of country codes. Why might this be? \n",
    "🤔"
   ]
  },
  {
   "cell_type": "markdown",
   "id": "2c85b7dc",
   "metadata": {
    "slideshow": {
     "slide_type": "slide"
    }
   },
   "source": [
    "### Example: the Norway problem 🇳🇴"
   ]
  },
  {
   "cell_type": "code",
   "execution_count": null,
   "id": "ebf0ac8a",
   "metadata": {
    "slideshow": {
     "slide_type": "-"
    }
   },
   "outputs": [],
   "source": [
    "import yaml\n",
    "\n",
    "player = '''\n",
    "name: Magnus Carlsen\n",
    "age: 32\n",
    "country: NO\n",
    "'''"
   ]
  },
  {
   "cell_type": "code",
   "execution_count": null,
   "id": "81a9053d",
   "metadata": {
    "scrolled": true
   },
   "outputs": [],
   "source": [
    "yaml.safe_load(player)"
   ]
  },
  {
   "cell_type": "markdown",
   "id": "bba47bd2",
   "metadata": {
    "slideshow": {
     "slide_type": "slide"
    }
   },
   "source": [
    " ### Unfaithful data"
   ]
  },
  {
   "cell_type": "markdown",
   "id": "e9476e57",
   "metadata": {},
   "source": [
    "### Is the data \"faithful\" to the DGP?\n",
    "\n",
    "- In other words, how well does the data represent reality?\n",
    "\n",
    "- Does the data contain unrealistic or \"incorrect\" values?\n",
    "    - Dates in the future for events in the past.\n",
    "    - Locations that don't exist.\n",
    "    - Negative counts.\n",
    "    - Misspellings of names.\n",
    "    - Large outliers."
   ]
  },
  {
   "cell_type": "markdown",
   "id": "1ed84ac8",
   "metadata": {},
   "source": [
    "### Is the data \"faithful\" to the DGP?\n",
    "    \n",
    "- Does the data violate obvious dependencies?\n",
    "    - Age and birthday don't match. \n",
    "- Was the data entered by hand?\n",
    "     - Spelling errors.\n",
    "     - Fields shifted.\n",
    "     - Did the form require fields or provide default values?  \n",
    "- Are there obvious signs of data falsification (also known as \"curbstoning\")?\n",
    "    - Repeated names.\n",
    "    - Fake looking email addresses.\n",
    "    - Repeated use of uncommon names or fields."
   ]
  },
  {
   "cell_type": "markdown",
   "id": "660a37e9",
   "metadata": {
    "slideshow": {
     "slide_type": "slide"
    }
   },
   "source": [
    "## Summary, next time"
   ]
  },
  {
   "cell_type": "markdown",
   "id": "7393b3ab",
   "metadata": {
    "slideshow": {
     "slide_type": "slide"
    }
   },
   "source": [
    "### Summary\n",
    "\n",
    "- Relational algebra provides a system for describing operations on relations (tables).\n",
    "- Data provenance describes the \"origin story\" of a dataset, from the data generating process to its storage.\n",
    "- Data cleaning is the process of transforming data so that it best represents the underlying data generating process.\n",
    "- We must ensure that each column in a DataFrame uses the correct data type for the kind of data in the column."
   ]
  },
  {
   "cell_type": "markdown",
   "id": "e1561851",
   "metadata": {
    "slideshow": {
     "slide_type": "slide"
    }
   },
   "source": [
    "### Next time\n",
    "\n",
    "- Working with unfaithful data – that is, data that is purely wrong.\n",
    "- (Re)introduction to hypothesis testing."
   ]
  }
 ],
 "metadata": {
  "celltoolbar": "Slideshow",
  "kernelspec": {
   "display_name": "Python 3 (ipykernel)",
   "language": "python",
   "name": "python3"
  },
  "language_info": {
   "codemirror_mode": {
    "name": "ipython",
    "version": 3
   },
   "file_extension": ".py",
   "mimetype": "text/x-python",
   "name": "python",
   "nbconvert_exporter": "python",
   "pygments_lexer": "ipython3",
   "version": "3.9.6"
  },
  "livereveal": {
   "scroll": true
  },
  "rise": {
   "transition": "none"
  }
 },
 "nbformat": 4,
 "nbformat_minor": 5
}
