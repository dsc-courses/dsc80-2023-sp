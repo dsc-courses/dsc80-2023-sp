{
 "cells": [
  {
   "cell_type": "code",
   "execution_count": null,
   "id": "8c8a44b8",
   "metadata": {
    "slideshow": {
     "slide_type": "skip"
    }
   },
   "outputs": [],
   "source": [
    "import pandas as pd\n",
    "import numpy as np\n",
    "import os\n",
    "pd.options.plotting.backend = 'plotly'"
   ]
  },
  {
   "cell_type": "markdown",
   "id": "ce9e66d9",
   "metadata": {
    "slideshow": {
     "slide_type": "slide"
    }
   },
   "source": [
    "# Lecture 8 – Unfaithful Data, Hypothesis Testing\n",
    "\n",
    "## DSC 80, Spring 2023"
   ]
  },
  {
   "cell_type": "markdown",
   "id": "22824200",
   "metadata": {
    "slideshow": {
     "slide_type": "slide"
    }
   },
   "source": [
    "### Agenda\n",
    "\n",
    "- Messy data.\n",
    "- Unfaithful data.\n",
    "- Hypothesis testing."
   ]
  },
  {
   "cell_type": "markdown",
   "id": "72cdeffc",
   "metadata": {
    "slideshow": {
     "slide_type": "slide"
    }
   },
   "source": [
    "## Messy data"
   ]
  },
  {
   "cell_type": "markdown",
   "id": "fbab1d12",
   "metadata": {
    "slideshow": {
     "slide_type": "slide"
    }
   },
   "source": [
    "### More data type ambiguities\n",
    "\n",
    "- 1649043031 looks like a number, but is probably a date.\n",
    "    - As we saw earlier, [Unix timestamps](https://www.unixtimestamp.com) count the number of seconds since January 1st, 1970.\n",
    "\n",
    "- \"USD 1,000,000\" looks like a string, but is actually a number **and** a unit.\n",
    "    \n",
    "- 92093 looks like a number, but is really a zip code (and isn't equal to 92,093).\n",
    "    \n",
    "- Sometimes, `False` appears in a column of country codes. Why might this be? \n",
    "🤔"
   ]
  },
  {
   "cell_type": "markdown",
   "id": "2c85b7dc",
   "metadata": {
    "slideshow": {
     "slide_type": "slide"
    }
   },
   "source": [
    "### Example: The Norway problem 🇳🇴"
   ]
  },
  {
   "cell_type": "code",
   "execution_count": null,
   "id": "ebf0ac8a",
   "metadata": {
    "slideshow": {
     "slide_type": "-"
    }
   },
   "outputs": [],
   "source": [
    "import yaml\n",
    "\n",
    "player = '''\n",
    "name: Magnus Carlsen\n",
    "age: 32\n",
    "country: NO\n",
    "'''"
   ]
  },
  {
   "cell_type": "code",
   "execution_count": null,
   "id": "81a9053d",
   "metadata": {
    "scrolled": true
   },
   "outputs": [],
   "source": [
    "yaml.safe_load(player)"
   ]
  },
  {
   "cell_type": "markdown",
   "id": "2c9ada96",
   "metadata": {
    "slideshow": {
     "slide_type": "slide"
    }
   },
   "source": [
    "## Unfaithful data"
   ]
  },
  {
   "cell_type": "markdown",
   "id": "280ddcad",
   "metadata": {
    "slideshow": {
     "slide_type": "slide"
    }
   },
   "source": [
    "### Is the data \"faithful\" to the DGP?\n",
    "\n",
    "- In other words, how well does the data represent reality?\n",
    "\n",
    "- Does the data contain unrealistic or \"incorrect\" values?\n",
    "    - Dates in the future for events in the past.\n",
    "    - Locations that don't exist.\n",
    "    - Negative counts.\n",
    "    - Misspellings of names.\n",
    "    - Large outliers."
   ]
  },
  {
   "cell_type": "markdown",
   "id": "3761b06a",
   "metadata": {
    "slideshow": {
     "slide_type": "slide"
    }
   },
   "source": [
    "### Is the data \"faithful\" to the DGP?\n",
    "    \n",
    "- Does the data violate obvious dependencies?\n",
    "    - Age and birthday don't match. \n",
    "- Was the data entered by hand?\n",
    "     - Spelling errors.\n",
    "     - Fields shifted.\n",
    "     - Did the form require fields or provide default values?  \n",
    "- Are there obvious signs of data falsification (also known as \"curbstoning\")?\n",
    "    - Repeated names.\n",
    "    - Fake looking email addresses.\n",
    "    - Repeated use of uncommon names or fields."
   ]
  },
  {
   "cell_type": "markdown",
   "id": "4bc541db",
   "metadata": {
    "slideshow": {
     "slide_type": "slide"
    }
   },
   "source": [
    "<center><img src='imgs/data-sd.png' width=70%></center>"
   ]
  },
  {
   "cell_type": "markdown",
   "id": "3d72d38e",
   "metadata": {
    "slideshow": {
     "slide_type": "slide"
    }
   },
   "source": [
    "### Example: Police vehicle stops 🚔\n",
    "\n",
    "The dataset we're working with contains all of the vehicle stops that the San Diego Police Department made in 2016."
   ]
  },
  {
   "cell_type": "code",
   "execution_count": null,
   "id": "a46ade43",
   "metadata": {},
   "outputs": [],
   "source": [
    "stops = pd.read_csv(os.path.join('data', 'vehicle_stops_2016_datasd.csv'))\n",
    "stops.head()"
   ]
  },
  {
   "cell_type": "code",
   "execution_count": null,
   "id": "00d7ed5d",
   "metadata": {},
   "outputs": [],
   "source": [
    "stops.shape"
   ]
  },
  {
   "cell_type": "markdown",
   "id": "b2bc5054",
   "metadata": {
    "slideshow": {
     "slide_type": "slide"
    }
   },
   "source": [
    "### Data types\n",
    "\n",
    "Are the data types correct? If not, are they easily fixable?"
   ]
  },
  {
   "cell_type": "code",
   "execution_count": null,
   "id": "90a1411b",
   "metadata": {
    "scrolled": true
   },
   "outputs": [],
   "source": [
    "stops.head(1)"
   ]
  },
  {
   "cell_type": "code",
   "execution_count": null,
   "id": "3020fba3",
   "metadata": {
    "scrolled": false
   },
   "outputs": [],
   "source": [
    "stops.info()"
   ]
  },
  {
   "cell_type": "markdown",
   "id": "27c4aa08",
   "metadata": {
    "slideshow": {
     "slide_type": "slide"
    }
   },
   "source": [
    "### Unfaithfulness\n",
    "* Are there suspicious values?\n",
    "* If a value is suspicious, can we trust the observation?\n",
    "* For example, consider `'subject_age'` – some are too high to be true, some are too low to be true."
   ]
  },
  {
   "cell_type": "code",
   "execution_count": null,
   "id": "90008bc6",
   "metadata": {},
   "outputs": [],
   "source": [
    "stops['subject_age'].unique()"
   ]
  },
  {
   "cell_type": "code",
   "execution_count": null,
   "id": "9c0aec15",
   "metadata": {},
   "outputs": [],
   "source": [
    "ages = pd.to_numeric(stops['subject_age'], errors='coerce')\n",
    "ages.describe()"
   ]
  },
  {
   "cell_type": "markdown",
   "id": "829d2e36",
   "metadata": {},
   "source": [
    "Ages range all over the place, from 0 to 220. Was a 220 year old really pulled over?"
   ]
  },
  {
   "cell_type": "code",
   "execution_count": null,
   "id": "47006759",
   "metadata": {},
   "outputs": [],
   "source": [
    "stops[ages > 100]"
   ]
  },
  {
   "cell_type": "markdown",
   "id": "03ab6413",
   "metadata": {
    "slideshow": {
     "slide_type": "slide"
    }
   },
   "source": [
    "What about all of the stops that involved people under the legal driving age?"
   ]
  },
  {
   "cell_type": "code",
   "execution_count": null,
   "id": "00442f8d",
   "metadata": {},
   "outputs": [],
   "source": [
    "ages[ages < 16].value_counts()"
   ]
  },
  {
   "cell_type": "code",
   "execution_count": null,
   "id": "6243f705",
   "metadata": {},
   "outputs": [],
   "source": [
    "stops[ages < 16]"
   ]
  },
  {
   "cell_type": "markdown",
   "id": "a0356b30",
   "metadata": {
    "slideshow": {
     "slide_type": "slide"
    }
   },
   "source": [
    "### Unfaithful `'subject_age'`\n",
    "\n",
    "* Ages of `'No Age'` and `0` are likely explicit null values.\n",
    "* What do we do about the exceptionally small and large ages?\n",
    "    - Do we throw the entire row away, even if the rest of row is well-formed?\n",
    "* What about the 14 and 15 year olds?\n",
    "    - Each has more than one occurrence – these could be real entries!"
   ]
  },
  {
   "cell_type": "markdown",
   "id": "57928850",
   "metadata": {
    "slideshow": {
     "slide_type": "slide"
    }
   },
   "source": [
    "### Human-entered data\n",
    "* Which fields were likely entered by a human?\n",
    "* Which fields were likely generated by code?\n",
    "    - What was the original source?"
   ]
  },
  {
   "cell_type": "markdown",
   "id": "5e82bcc8",
   "metadata": {},
   "source": [
    "Let's look at all unique stop causes. Notice that there are three different causes related to bicycles, which should probably all fall under the same cause."
   ]
  },
  {
   "cell_type": "code",
   "execution_count": null,
   "id": "dd5f5cba",
   "metadata": {},
   "outputs": [],
   "source": [
    "stops['stop_cause'].value_counts()"
   ]
  },
  {
   "cell_type": "markdown",
   "id": "ebf45889",
   "metadata": {
    "slideshow": {
     "slide_type": "slide"
    }
   },
   "source": [
    "Let's plot the distribution of ages, within a reasonable range (15 to 85). What do you notice? How could we address this?"
   ]
  },
  {
   "cell_type": "code",
   "execution_count": null,
   "id": "74440a20",
   "metadata": {
    "scrolled": true
   },
   "outputs": [],
   "source": [
    "ages[(ages > 15) & (ages <= 85)].plot(kind='hist')"
   ]
  },
  {
   "cell_type": "markdown",
   "id": "b3641f5d",
   "metadata": {
    "slideshow": {
     "slide_type": "slide"
    }
   },
   "source": [
    "Now let's look at the first few and last few rows of `stops`."
   ]
  },
  {
   "cell_type": "code",
   "execution_count": null,
   "id": "e168b5b8",
   "metadata": {},
   "outputs": [],
   "source": [
    "stops[['timestamp', 'stop_date', 'stop_time']].head()"
   ]
  },
  {
   "cell_type": "code",
   "execution_count": null,
   "id": "8e521d4b",
   "metadata": {},
   "outputs": [],
   "source": [
    "stops[['timestamp', 'stop_date', 'stop_time']].tail(10)"
   ]
  },
  {
   "cell_type": "markdown",
   "id": "7dd8c7da",
   "metadata": {},
   "source": [
    "Do you think `'-0:81'` is a time that a computer would record?"
   ]
  },
  {
   "cell_type": "markdown",
   "id": "6abcf98f",
   "metadata": {
    "slideshow": {
     "slide_type": "slide"
    }
   },
   "source": [
    "### Unfaithful data vs. outliers\n",
    "\n",
    "* Unfaithful data are data that don't accurately represent the data generating process.\n",
    "* Outliers are \"unusual\" observations, unlike the rest of the data. They may be real, or they may be unfaithful.\n",
    "    - For instance, it's possible that a 102-year old was pulled over for speeding.\n",
    "* The two are hard to tell apart; doing so often requires research and domain knowledge."
   ]
  },
  {
   "cell_type": "markdown",
   "id": "852b7360",
   "metadata": {
    "slideshow": {
     "slide_type": "slide"
    }
   },
   "source": [
    "### Watch out for...\n",
    "\n",
    "* **Consistently \"incorrect\" values**.\n",
    "    - Example: Recorded ages of -1 or 99.\n",
    "    - These are often \"default\" values, often used when a value is missing.\n",
    "    - Solution: Change the value to the correct one if it is known!\n",
    "    \n",
    "* **Abnormal artifacts from the data collection process**.\n",
    "    - Example: Spikes in recorded ages at round numbers (25, 30, 35, 40), or spikes in recorded COVID cases on Mondays.\n",
    "    - Solution: Try \"smoothing\", e.g. binning the ages.\n",
    "        \n",
    "* **Unreasonable outliers**.\n",
    "    - Example: Age of 200.\n",
    "    - Solution: Not sure. Could remove the row. Could be indicative of a bug in the data collection process. Could be real!"
   ]
  },
  {
   "cell_type": "markdown",
   "id": "e350c1dc",
   "metadata": {
    "slideshow": {
     "slide_type": "slide"
    }
   },
   "source": [
    "## Missing values"
   ]
  },
  {
   "cell_type": "markdown",
   "id": "22c6210c",
   "metadata": {
    "slideshow": {
     "slide_type": "slide"
    }
   },
   "source": [
    "### Where'd you go?\n",
    "\n",
    "* Missing, or null, values in a dataset can occur from:\n",
    "    - Intentional logic, where a value doesn't make sense.\n",
    "    - A non-response in the measurement process.\n",
    "    - Mistakes in the data recording process.\n",
    "    \n",
    "* Missing values are most often encoded with `NULL`, `None`, `NaN`, `''`, `0`, etc."
   ]
  },
  {
   "cell_type": "markdown",
   "id": "0406c119",
   "metadata": {
    "slideshow": {
     "slide_type": "fragment"
    }
   },
   "source": [
    "- **Important**: While you may have \"dealt\" with null values in Project 1, the extent to which you handled them was calling `.fillna(0)`. As we'll see over the next few weeks, we must take more care in treating null values!"
   ]
  },
  {
   "cell_type": "markdown",
   "id": "ff07bcd2",
   "metadata": {
    "slideshow": {
     "slide_type": "slide"
    }
   },
   "source": [
    "### Common representations of \"null\"\n",
    "\n",
    "- All forms of `0` (e.g. `0`, `'0'`, `'zero'`) are common substitutes for null, **but as we'll see, simply filling nulls with 0 is not always useful statistically**.\n",
    "- -1 is common if a column must be non-negative.\n",
    "- 1900 and 1970 are common if a non-null date is required.\n",
    "    - Remember, Unix time starts counting from January 1, 1970."
   ]
  },
  {
   "cell_type": "markdown",
   "id": "d1ec8bee",
   "metadata": {
    "slideshow": {
     "slide_type": "slide"
    }
   },
   "source": [
    "### Common representations of \"null\"\n",
    "\n",
    "- Some common representations for \"null\" are also real values themselves!\n",
    "- For instance, the point 0°00'00.0\"N+0°00'00.0\"E in the South Atlantic Ocean is called \"Null Island.\"\n",
    "\n",
    "<center><img src='imgs/null.png' width=60%></center>\n",
    "\n",
    "- [This person's name is Mr. Null!](https://www.wired.com/2015/11/null/)\n",
    "- Watch: [Null Island: The Busiest Place That Doesn't Exist](https://www.youtube.com/watch?v=bjvIpI-1w84)."
   ]
  },
  {
   "cell_type": "markdown",
   "id": "5973b231",
   "metadata": {
    "slideshow": {
     "slide_type": "slide"
    }
   },
   "source": [
    "### Missing values in the stops dataset\n",
    "\n",
    "What are the non-`NaN` null values in the stops dataset?\n",
    "- `'service_area'`: `'Unknown'`.\n",
    "- `'subject_age'`: `0`, `'No Age'`.\n",
    "- Others?"
   ]
  },
  {
   "cell_type": "code",
   "execution_count": null,
   "id": "8086a49b",
   "metadata": {},
   "outputs": [],
   "source": [
    "stops"
   ]
  },
  {
   "cell_type": "markdown",
   "id": "7f5cc8b1",
   "metadata": {
    "slideshow": {
     "slide_type": "slide"
    }
   },
   "source": [
    "### Finding null values in `pandas`\n",
    "\n",
    "* Null values are encoded using NumPy's `NaN` value, which is of type `float`.\n",
    "* The `isna` method for DataFrame/Series detects missing values.\n",
    "    - It returns a Boolean DataFrame/Series.\n",
    "    - `isnull` is equivalent to `isna`."
   ]
  },
  {
   "cell_type": "code",
   "execution_count": null,
   "id": "cc2af106",
   "metadata": {},
   "outputs": [],
   "source": [
    "type(np.NaN)"
   ]
  },
  {
   "cell_type": "code",
   "execution_count": null,
   "id": "16bf7dfd",
   "metadata": {},
   "outputs": [],
   "source": [
    "# All of the rows where the subject age is missing.\n",
    "stops[stops['subject_age'].isna()]"
   ]
  },
  {
   "cell_type": "code",
   "execution_count": null,
   "id": "333e9027",
   "metadata": {},
   "outputs": [],
   "source": [
    "# Proportion of values missing in the subject_age column.\n",
    "stops['subject_age'].isna().mean()"
   ]
  },
  {
   "cell_type": "code",
   "execution_count": null,
   "id": "628ddd47",
   "metadata": {},
   "outputs": [],
   "source": [
    "# Proportion of missing values in all columns.\n",
    "stops.isna().mean()"
   ]
  },
  {
   "cell_type": "markdown",
   "id": "17fbd610",
   "metadata": {
    "slideshow": {
     "slide_type": "slide"
    }
   },
   "source": [
    "### Dropping observations with null values\n",
    "- The `dropna` method,\n",
    "    - when used on a Series, returns a new Series with all null entries removed.\n",
    "    - when used on a DataFrame, returns a new DataFrame where all rows with at least one null value are removed.\n",
    "- Don't drop rows unless absolutely necessary!\n",
    "    - Usually, there is still useful information in the other columns."
   ]
  },
  {
   "cell_type": "code",
   "execution_count": null,
   "id": "eb9d7c69",
   "metadata": {},
   "outputs": [],
   "source": [
    "stops.dropna().head()"
   ]
  },
  {
   "cell_type": "code",
   "execution_count": null,
   "id": "b96af84d",
   "metadata": {},
   "outputs": [],
   "source": [
    "stops.dropna().shape"
   ]
  },
  {
   "cell_type": "code",
   "execution_count": null,
   "id": "befb1e23",
   "metadata": {},
   "outputs": [],
   "source": [
    "stops.shape"
   ]
  },
  {
   "cell_type": "markdown",
   "id": "c003daf9",
   "metadata": {
    "slideshow": {
     "slide_type": "slide"
    }
   },
   "source": [
    "### Dropping observations with null values\n",
    "\n",
    "When used on a DataFrame:\n",
    "\n",
    "* `.dropna()` drops **rows** containing **at least one** null value.\n",
    "* `.dropna(how='all')` drops **rows** containing **only** null values.\n",
    "* `.dropna(axis=1)` drops **columns** containing at least one null value.\n",
    "* Other keyword arguments: `thresh`, `subset`."
   ]
  },
  {
   "cell_type": "code",
   "execution_count": null,
   "id": "0d22faca",
   "metadata": {},
   "outputs": [],
   "source": [
    "nans = pd.DataFrame([['dog', 0, 1, np.NaN], ['cat', np.NaN, np.NaN, np.NaN], ['dog', 1, 2, 3]], columns='A B C D'.split())\n",
    "nans"
   ]
  },
  {
   "cell_type": "code",
   "execution_count": null,
   "id": "7a94477e",
   "metadata": {},
   "outputs": [],
   "source": [
    "nans.dropna(how='any')"
   ]
  },
  {
   "cell_type": "code",
   "execution_count": null,
   "id": "614fdb5e",
   "metadata": {},
   "outputs": [],
   "source": [
    "nans.dropna(how='all')"
   ]
  },
  {
   "cell_type": "code",
   "execution_count": null,
   "id": "41ac28a5",
   "metadata": {},
   "outputs": [],
   "source": [
    "nans.dropna(subset=['B', 'C'])"
   ]
  },
  {
   "cell_type": "code",
   "execution_count": null,
   "id": "8621f800",
   "metadata": {},
   "outputs": [],
   "source": [
    "nans.dropna(axis=1)"
   ]
  },
  {
   "cell_type": "markdown",
   "id": "7cb6e5a3",
   "metadata": {
    "slideshow": {
     "slide_type": "slide"
    }
   },
   "source": [
    "### Filling null values\n",
    "\n",
    "As you've seen, the `fillna` method replaces all null values. Specifically:\n",
    "\n",
    "* `.fillna(val)` fills null entries with the value `val`.\n",
    "* `.fillna(dict)` fills null entries using a dictionary `dict` of column/row values.\n",
    "* `.fillna(method='bfill')` and `.fillna(method='ffill')` fill null entries using neighboring non-null entries."
   ]
  },
  {
   "cell_type": "code",
   "execution_count": null,
   "id": "e6880e6d",
   "metadata": {},
   "outputs": [],
   "source": [
    "nans"
   ]
  },
  {
   "cell_type": "code",
   "execution_count": null,
   "id": "22021812",
   "metadata": {},
   "outputs": [],
   "source": [
    "# Filling all NaNs with the same value.\n",
    "nans.fillna('zebra')"
   ]
  },
  {
   "cell_type": "code",
   "execution_count": null,
   "id": "7574fb5d",
   "metadata": {},
   "outputs": [],
   "source": [
    "# Filling NaNs differently for each column.\n",
    "nans.fillna({'B': 'f0', 'C': 'f1', 'D': 'f2'})"
   ]
  },
  {
   "cell_type": "code",
   "execution_count": null,
   "id": "a6549991",
   "metadata": {},
   "outputs": [],
   "source": [
    "# Dictionary of column means.\n",
    "# Note that most numerical methods ignore null values.\n",
    "means = {c: nans[c].mean() for c in nans.columns[1:]}\n",
    "means"
   ]
  },
  {
   "cell_type": "code",
   "execution_count": null,
   "id": "e5303b9f",
   "metadata": {},
   "outputs": [],
   "source": [
    "# Filling NaNs with column means\n",
    "nans.fillna(means)"
   ]
  },
  {
   "cell_type": "code",
   "execution_count": null,
   "id": "7b59a41a",
   "metadata": {},
   "outputs": [],
   "source": [
    "# Another way of doing the same thing.\n",
    "nans.iloc[:, 1:].apply(lambda x: x.fillna(x.mean()), axis=0)"
   ]
  },
  {
   "cell_type": "code",
   "execution_count": null,
   "id": "0d6921b0",
   "metadata": {},
   "outputs": [],
   "source": [
    "# bfill stands for \"backfill\".\n",
    "nans.fillna(method='bfill')"
   ]
  },
  {
   "cell_type": "code",
   "execution_count": null,
   "id": "ea69ee14",
   "metadata": {},
   "outputs": [],
   "source": [
    "# ffill stands for \"forward fill\".\n",
    "nans.fillna(method='ffill')"
   ]
  },
  {
   "cell_type": "markdown",
   "id": "8b6e4865",
   "metadata": {
    "slideshow": {
     "slide_type": "slide"
    }
   },
   "source": [
    "### Filling null values, so far"
   ]
  },
  {
   "cell_type": "markdown",
   "id": "728e24af",
   "metadata": {
    "slideshow": {
     "slide_type": "fragment"
    }
   },
   "source": [
    "- Both in Project 1, and in our brief exploration today, we filled null values either with a constant (like 0), or by using other information in the same column as the null value."
   ]
  },
  {
   "cell_type": "markdown",
   "id": "aa2e626e",
   "metadata": {
    "slideshow": {
     "slide_type": "fragment"
    }
   },
   "source": [
    "- What if we could use values in **other** columns to inform us on how to fill null values in a particular column? For instance, what if we could fill missing values in the `'D'` column differently for rows where:\n",
    "    - The `'A'` column contains `'dog'`.\n",
    "    - The `'A'` column contains `'cat'`."
   ]
  },
  {
   "cell_type": "markdown",
   "id": "1dc01c52",
   "metadata": {
    "slideshow": {
     "slide_type": "fragment"
    }
   },
   "source": [
    "- To do so, we'd need to know whether the missingness of a particular column (like `'D'`) looks like it **depends** on the value of `'A'`."
   ]
  },
  {
   "cell_type": "markdown",
   "id": "1e71e40b",
   "metadata": {
    "slideshow": {
     "slide_type": "fragment"
    }
   },
   "source": [
    "- To establish this relationship, we'd need to perform a **permutation test**, which is a form of **hypothesis test**."
   ]
  },
  {
   "cell_type": "markdown",
   "id": "c1abd3eb",
   "metadata": {
    "slideshow": {
     "slide_type": "slide"
    }
   },
   "source": [
    "## Hypothesis testing"
   ]
  },
  {
   "cell_type": "markdown",
   "id": "7e78e374",
   "metadata": {
    "slideshow": {
     "slide_type": "slide"
    }
   },
   "source": [
    "### Hypothesis testing\n",
    "\n",
    "- There are many competing ways of viewing how the world works.\n",
    "    - That is, competing **models** for how the data were **generated**.\n",
    "- How do we decide which models are unlikely to be true, and which are reasonable?"
   ]
  },
  {
   "cell_type": "markdown",
   "id": "28ef1a15",
   "metadata": {
    "slideshow": {
     "slide_type": "fragment"
    }
   },
   "source": [
    "- We'll start with an intuitive exploration, and cover more details next class."
   ]
  },
  {
   "cell_type": "markdown",
   "id": "de301393",
   "metadata": {
    "slideshow": {
     "slide_type": "slide"
    }
   },
   "source": [
    "### Example: Coin flipping\n",
    "\n",
    "- Suppose we find a coin on the ground. We flip it 100 times, and see 59 heads and 41 tails."
   ]
  },
  {
   "cell_type": "markdown",
   "id": "f4fca20b",
   "metadata": {
    "slideshow": {
     "slide_type": "fragment"
    }
   },
   "source": [
    "- We want to answer the question \"**does this observation (59 heads, 41 tails) look like it came from a fair coin?**\""
   ]
  },
  {
   "cell_type": "markdown",
   "id": "6279bc2a",
   "metadata": {
    "slideshow": {
     "slide_type": "fragment"
    }
   },
   "source": [
    "- More precisely, we want to decide between two possible **hypotheses**.\n",
    "    - **Null Hypothesis**: The coin is fair.\n",
    "    - **Alternative Hypothesis**: The coin is biased in favor of heads."
   ]
  },
  {
   "cell_type": "markdown",
   "id": "fff0449a",
   "metadata": {
    "slideshow": {
     "slide_type": "fragment"
    }
   },
   "source": [
    "- To decide, we need to know how rare it is to see 59 heads and 41 tails, or a result that's even more biased in favor of heads, when flipping a fair coin 100 times."
   ]
  },
  {
   "cell_type": "markdown",
   "id": "bf57826f",
   "metadata": {
    "slideshow": {
     "slide_type": "slide"
    }
   },
   "source": [
    "### Test statistics\n",
    "\n",
    "> To decide, we need to know how rare it is to see **59 heads and 41 tails, or a result that's even more biased in favor of heads**, when flipping a fair coin 100 times."
   ]
  },
  {
   "cell_type": "markdown",
   "id": "50a3b84c",
   "metadata": {
    "slideshow": {
     "slide_type": "fragment"
    }
   },
   "source": [
    "- To make this notion precise, we need to summarize our observation (59 heads and 41 tails) into a single number, called a **test statistic**, which will **help us decide between the two hypotheses**."
   ]
  },
  {
   "cell_type": "markdown",
   "id": "a85b6106",
   "metadata": {
    "slideshow": {
     "slide_type": "fragment"
    }
   },
   "source": [
    "- Then, we can find the **distribution of the test statistic, under the null hypothesis**, which will give us a range of typical values for the test statistic under the assumption that the null hypothesis is true."
   ]
  },
  {
   "cell_type": "markdown",
   "id": "22c97301",
   "metadata": {
    "slideshow": {
     "slide_type": "fragment"
    }
   },
   "source": [
    "- **Question**: What are some possible test statistics in this scenario?"
   ]
  },
  {
   "cell_type": "markdown",
   "id": "58faee57",
   "metadata": {
    "slideshow": {
     "slide_type": "slide"
    }
   },
   "source": [
    "For the alternative hypothesis \"the coin was biased towards heads\", we could use:\n",
    "* $N_H$ (number of heads).\n",
    "* $\\frac{N_H}{100}$ (proportion of heads).\n",
    "* $N_H - 50$ (difference from expected number of heads)."
   ]
  },
  {
   "cell_type": "markdown",
   "id": "e75c695a",
   "metadata": {
    "slideshow": {
     "slide_type": "fragment"
    }
   },
   "source": [
    "For simplicity, we'll start with $N_H$."
   ]
  },
  {
   "cell_type": "markdown",
   "id": "72351226",
   "metadata": {
    "slideshow": {
     "slide_type": "fragment"
    }
   },
   "source": [
    "- **If a value of this test statistic is large, it means there are many heads in 100 flips.** This would suggest that the coin flipped is biased in favor of heads (alternative hypothesis)."
   ]
  },
  {
   "cell_type": "markdown",
   "id": "c0ee82c3",
   "metadata": {
    "slideshow": {
     "slide_type": "fragment"
    }
   },
   "source": [
    "- **If a value of this test statistic is small, it means there are few heads in 100 flips.** This would suggest that the coin flipped is not biased in favor of heads (null hypothesis)."
   ]
  },
  {
   "cell_type": "markdown",
   "id": "895a7709",
   "metadata": {
    "slideshow": {
     "slide_type": "slide"
    }
   },
   "source": [
    "### Generating the null distribution"
   ]
  },
  {
   "cell_type": "markdown",
   "id": "530f0cec",
   "metadata": {
    "slideshow": {
     "slide_type": "fragment"
    }
   },
   "source": [
    "- Now that we've chosen a test statistic, we need to generate the distribution of the test statistic under the assumption the null hypothesis is true, i.e. the **null distribution**."
   ]
  },
  {
   "cell_type": "markdown",
   "id": "9d66ced8",
   "metadata": {
    "slideshow": {
     "slide_type": "fragment"
    }
   },
   "source": [
    "- This distribution will give us, for instance:\n",
    "    - The probability of seeing 4 heads in 100 flips of a fair coin.\n",
    "    - The probability of seeing at most 46 heads in 100 flips of a fair coin.\n",
    "    - **The probability of seeing at least 59 heads in 100 flips of a fair coin.**"
   ]
  },
  {
   "cell_type": "markdown",
   "id": "8f3ee1d9",
   "metadata": {
    "slideshow": {
     "slide_type": "slide"
    }
   },
   "source": [
    "### Generating the null distribution, using math"
   ]
  },
  {
   "cell_type": "markdown",
   "id": "ae7a1467",
   "metadata": {
    "slideshow": {
     "slide_type": "fragment"
    }
   },
   "source": [
    "The number of heads in 100 flips of a fair coin follows the $\\text{Binomial(100, 0.5)}$ distribution, in which\n",
    "\n",
    "$$P(\\text{# heads} = k) = {100 \\choose k} (0.5)^k{(1-0.5)^{100-k}} = {100 \\choose k} 0.5^{100}$$"
   ]
  },
  {
   "cell_type": "code",
   "execution_count": null,
   "id": "6db18b24",
   "metadata": {
    "slideshow": {
     "slide_type": "fragment"
    }
   },
   "outputs": [],
   "source": [
    "from scipy.special import comb\n",
    "\n",
    "def p_k_heads(k):\n",
    "    return comb(100, k) * (0.5) ** 100"
   ]
  },
  {
   "cell_type": "markdown",
   "id": "0b74f38f",
   "metadata": {},
   "source": [
    "The probability that we see at least 59 heads is then:"
   ]
  },
  {
   "cell_type": "code",
   "execution_count": null,
   "id": "a586dffc",
   "metadata": {},
   "outputs": [],
   "source": [
    "sum([p_k_heads(k) for k in range(59, 101)])"
   ]
  },
  {
   "cell_type": "markdown",
   "id": "8cf9868c",
   "metadata": {
    "slideshow": {
     "slide_type": "slide"
    }
   },
   "source": [
    "Let's look at this distribution visually."
   ]
  },
  {
   "cell_type": "code",
   "execution_count": null,
   "id": "ef77e5cb",
   "metadata": {},
   "outputs": [],
   "source": [
    "plot_df = pd.DataFrame().assign(k = range(101))\n",
    "plot_df['p_k'] = p_k_heads(plot_df['k'])\n",
    "plot_df['color'] = plot_df['k'].apply(lambda k: 'orange' if k >= 59 else 'blue')\n",
    "\n",
    "fig = plot_df.plot(kind='bar', x='k', y='p_k', color='color', width=1000)\n",
    "fig.add_annotation(text='This red area is called the p-value!', x=77, y=0.008, showarrow=False)"
   ]
  },
  {
   "cell_type": "markdown",
   "id": "3e1b7254",
   "metadata": {
    "slideshow": {
     "slide_type": "slide"
    }
   },
   "source": [
    "### Making a decision\n",
    "\n",
    "We saw that, in 100 flips of a fair coin, $P(\\text{# heads} \\geq 59)$  is only ~4.4%."
   ]
  },
  {
   "cell_type": "markdown",
   "id": "b80ce62f",
   "metadata": {
    "slideshow": {
     "slide_type": "fragment"
    }
   },
   "source": [
    "- This is quite low – it suggests that our observed result is quite unlikely **under** the null."
   ]
  },
  {
   "cell_type": "markdown",
   "id": "817f557a",
   "metadata": {
    "slideshow": {
     "slide_type": "fragment"
    }
   },
   "source": [
    "- As such, we will **reject** the null hypothesis – our observation is **not consistent** with the hypothesis that the coin is fair."
   ]
  },
  {
   "cell_type": "markdown",
   "id": "a10dba77",
   "metadata": {
    "slideshow": {
     "slide_type": "fragment"
    }
   },
   "source": [
    "- The null still may be true – it's possible that the coin we flipped was fair, and we just happened to see a rare result. For the same reason, we also **cannot \"accept\"** the alternative."
   ]
  },
  {
   "cell_type": "markdown",
   "id": "11b8b6f4",
   "metadata": {
    "slideshow": {
     "slide_type": "fragment"
    }
   },
   "source": [
    "- This probability – **the probability of seeing a result at least as extreme as the observed, under the null hypothesis** – is called the p-value.\n",
    "    - If the p-value is below a pre-defined cutoff (often 5%), we reject the null.\n",
    "    - Otherwise, we fail to reject the null."
   ]
  },
  {
   "cell_type": "markdown",
   "id": "3d4e9db3",
   "metadata": {
    "slideshow": {
     "slide_type": "slide"
    }
   },
   "source": [
    "### Fun fact\n",
    "\n",
    "- One researcher found that coin flips aren't 50/50, but rather are closer to 51/49, biased towards whichever side started facing up.\n",
    "- [Read this](https://www.smithsonianmag.com/science-nature/gamblers-take-note-the-odds-in-a-coin-flip-arent-quite-5050-145465423) for more details."
   ]
  },
  {
   "cell_type": "markdown",
   "id": "660a37e9",
   "metadata": {
    "slideshow": {
     "slide_type": "slide"
    }
   },
   "source": [
    "## Summary, next time"
   ]
  },
  {
   "cell_type": "markdown",
   "id": "7393b3ab",
   "metadata": {
    "slideshow": {
     "slide_type": "slide"
    }
   },
   "source": [
    "### Summary\n",
    "\n",
    "- Data cleaning is the process of transforming data so that it is an accurate representation of the data generating process.\n",
    "- Unfaithful data is data that is not representative of the data generating process. When working with messy data, we must look for:\n",
    "    - Missing values (i.e. \"null\" values).\n",
    "    - Incorrect values.\n",
    "- Useful methods to be aware of: `fillna`, `isna`/`isnull`, `dropna`.\n",
    "- Hypothesis testing allows us to make confident conclusions regarding a data generating process, given some observed data."
   ]
  },
  {
   "cell_type": "markdown",
   "id": "8e259039",
   "metadata": {
    "slideshow": {
     "slide_type": "slide"
    }
   },
   "source": [
    "### Next time\n",
    "\n",
    "- Hypothesis testing via simulation, as you saw in DSC 10. \n",
    "- More examples and test statistics (e.g. TVD)."
   ]
  }
 ],
 "metadata": {
  "celltoolbar": "Slideshow",
  "kernelspec": {
   "display_name": "Python 3 (ipykernel)",
   "language": "python",
   "name": "python3"
  },
  "language_info": {
   "codemirror_mode": {
    "name": "ipython",
    "version": 3
   },
   "file_extension": ".py",
   "mimetype": "text/x-python",
   "name": "python",
   "nbconvert_exporter": "python",
   "pygments_lexer": "ipython3",
   "version": "3.9.6"
  },
  "livereveal": {
   "scroll": true
  },
  "rise": {
   "transition": "none"
  }
 },
 "nbformat": 4,
 "nbformat_minor": 5
}
