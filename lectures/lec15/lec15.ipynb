{
 "cells": [
  {
   "cell_type": "code",
   "execution_count": null,
   "id": "8c8a44b8",
   "metadata": {
    "slideshow": {
     "slide_type": "skip"
    }
   },
   "outputs": [],
   "source": [
    "import pandas as pd\n",
    "import numpy as np\n",
    "import os\n",
    "import requests\n",
    "\n",
    "import util"
   ]
  },
  {
   "cell_type": "markdown",
   "id": "6ca51859",
   "metadata": {
    "slideshow": {
     "slide_type": "slide"
    }
   },
   "source": [
    "# Lecture 15 – Requests and Parsing HTML\n",
    "\n",
    "## DSC 80, Spring 2023"
   ]
  },
  {
   "cell_type": "markdown",
   "id": "22824200",
   "metadata": {
    "slideshow": {
     "slide_type": "slide"
    }
   },
   "source": [
    "### Agenda\n",
    "\n",
    "- Data formats.\n",
    "- APIs and scraping.\n",
    "- The anatomy of HTML documents.\n",
    "- Parsing HTML using Beautiful Soup."
   ]
  },
  {
   "cell_type": "markdown",
   "id": "9e447bab",
   "metadata": {
    "slideshow": {
     "slide_type": "slide"
    }
   },
   "source": [
    "## Data formats"
   ]
  },
  {
   "cell_type": "markdown",
   "id": "68142b5f",
   "metadata": {
    "slideshow": {
     "slide_type": "slide"
    }
   },
   "source": [
    "### The data formats of the internet\n",
    "\n",
    "Responses typically come in one of two formats: HTML or JSON."
   ]
  },
  {
   "cell_type": "markdown",
   "id": "cd5f16cc",
   "metadata": {
    "slideshow": {
     "slide_type": "fragment"
    }
   },
   "source": [
    "- The response body of a `GET` request is usually either JSON (when using an API) or HTML (when accessing a webpage)."
   ]
  },
  {
   "cell_type": "markdown",
   "id": "2f8248fa",
   "metadata": {
    "slideshow": {
     "slide_type": "fragment"
    }
   },
   "source": [
    "- The response body of a `POST` request is usually JSON."
   ]
  },
  {
   "cell_type": "markdown",
   "id": "73f8cebd",
   "metadata": {
    "slideshow": {
     "slide_type": "fragment"
    }
   },
   "source": [
    "- XML is also a common format, but not as popular as it once was."
   ]
  },
  {
   "cell_type": "markdown",
   "id": "44796fee",
   "metadata": {
    "slideshow": {
     "slide_type": "slide"
    }
   },
   "source": [
    "### JSON"
   ]
  },
  {
   "cell_type": "markdown",
   "id": "2046cb5f",
   "metadata": {
    "slideshow": {
     "slide_type": "fragment"
    }
   },
   "source": [
    "- JSON stands for **JavaScript Object Notation**. It is a lightweight format for storing and transferring data."
   ]
  },
  {
   "cell_type": "markdown",
   "id": "db2a5617",
   "metadata": {
    "slideshow": {
     "slide_type": "fragment"
    }
   },
   "source": [
    "- It is:\n",
    "    - very easy for computers to read and write.\n",
    "    - moderately easy for programmers to read and write by hand.\n",
    "    - meant to be generated and parsed."
   ]
  },
  {
   "cell_type": "markdown",
   "id": "508e3001",
   "metadata": {
    "slideshow": {
     "slide_type": "fragment"
    }
   },
   "source": [
    "- Most modern languages have an interface for working with JSON objects.\n",
    "    - JSON objects _resemble_ Python dictionaries (but are not the same!)."
   ]
  },
  {
   "cell_type": "markdown",
   "id": "ff1a792a",
   "metadata": {
    "slideshow": {
     "slide_type": "slide"
    }
   },
   "source": [
    "### JSON data types\n",
    "\n",
    "| Type | Description |\n",
    "| --- | --- |\n",
    "| String | Anything inside double quotes. |\n",
    "| Number | Any number (no difference between ints and floats). |\n",
    "| Boolean | `true` and `false`. |\n",
    "| Null | JSON's empty value, denoted by `null`. |\n",
    "| Array | Like Python lists. |\n",
    "| Object | A collection of key-value pairs, like dictionaries. Keys must be strings, values can be anything (even other objects). |\n",
    "\n",
    "See [json-schema.org](https://json-schema.org/understanding-json-schema/reference/type.html) for more details."
   ]
  },
  {
   "cell_type": "markdown",
   "id": "1e49584b",
   "metadata": {
    "slideshow": {
     "slide_type": "slide"
    }
   },
   "source": [
    "### Example JSON object\n",
    "\n",
    "See `data/family.json`.\n",
    "\n",
    "<center><img src='imgs/hierarchy.png' width=50%></center>"
   ]
  },
  {
   "cell_type": "code",
   "execution_count": null,
   "id": "0096bba7",
   "metadata": {},
   "outputs": [],
   "source": [
    "import json\n",
    "\n",
    "f = open(os.path.join('data', 'family.json'), 'r')\n",
    "family_tree = json.load(f)"
   ]
  },
  {
   "cell_type": "code",
   "execution_count": null,
   "id": "c0df56f4",
   "metadata": {},
   "outputs": [],
   "source": [
    "family_tree"
   ]
  },
  {
   "cell_type": "code",
   "execution_count": null,
   "id": "5d717b05",
   "metadata": {},
   "outputs": [],
   "source": [
    "family_tree['children'][0]['children'][0]['age']"
   ]
  },
  {
   "cell_type": "markdown",
   "id": "66c53aa4",
   "metadata": {
    "slideshow": {
     "slide_type": "slide"
    }
   },
   "source": [
    "### Aside: `eval`"
   ]
  },
  {
   "cell_type": "markdown",
   "id": "58c63e0b",
   "metadata": {
    "slideshow": {
     "slide_type": "fragment"
    }
   },
   "source": [
    "- `eval`, which stands for \"evaluate\", is a function built into Python."
   ]
  },
  {
   "cell_type": "markdown",
   "id": "7e64c348",
   "metadata": {
    "slideshow": {
     "slide_type": "fragment"
    }
   },
   "source": [
    "- It takes in a **string containing a Python expression** and evaluates it in the current context."
   ]
  },
  {
   "cell_type": "code",
   "execution_count": null,
   "id": "071fbf6b",
   "metadata": {},
   "outputs": [],
   "source": [
    "x = 4\n",
    "eval('x + 5')"
   ]
  },
  {
   "cell_type": "markdown",
   "id": "5d59ca5f",
   "metadata": {
    "slideshow": {
     "slide_type": "fragment"
    }
   },
   "source": [
    "- It seems like `eval` can do the same thing that `json.load` does..."
   ]
  },
  {
   "cell_type": "code",
   "execution_count": null,
   "id": "23909326",
   "metadata": {},
   "outputs": [],
   "source": [
    "f = open(os.path.join('data', 'family.json'), 'r')\n",
    "eval(f.read())"
   ]
  },
  {
   "cell_type": "markdown",
   "id": "c7200fc7",
   "metadata": {
    "slideshow": {
     "slide_type": "fragment"
    }
   },
   "source": [
    "- But you should **never use `eval`**. The next slide demonstrates why."
   ]
  },
  {
   "cell_type": "markdown",
   "id": "13687f1f",
   "metadata": {
    "slideshow": {
     "slide_type": "slide"
    }
   },
   "source": [
    "### `eval` gone wrong\n",
    "\n",
    "Observe what happens when we use `eval` on a string representation of a JSON object:"
   ]
  },
  {
   "cell_type": "code",
   "execution_count": null,
   "id": "0aef79df",
   "metadata": {},
   "outputs": [],
   "source": [
    "f_other = open(os.path.join('data', 'evil_family.json'))\n",
    "eval(f_other.read())"
   ]
  },
  {
   "cell_type": "markdown",
   "id": "9cf8adad",
   "metadata": {
    "slideshow": {
     "slide_type": "fragment"
    }
   },
   "source": [
    "- Oh no! Since `evil_family.json`, which could have been downloaded from the internet, contained malicious code, we now lost all of our files.\n"
   ]
  },
  {
   "cell_type": "markdown",
   "id": "c94ff043",
   "metadata": {
    "slideshow": {
     "slide_type": "fragment"
    }
   },
   "source": [
    "- This happened because `eval` **evaluates** all parts of the input string as if it were Python code."
   ]
  },
  {
   "cell_type": "markdown",
   "id": "e6f8fe3a",
   "metadata": {
    "slideshow": {
     "slide_type": "fragment"
    }
   },
   "source": [
    "- You never need to do this – instead, use the `.json()` method of a response object, or use the `json` library."
   ]
  },
  {
   "cell_type": "markdown",
   "id": "be22ed20",
   "metadata": {
    "slideshow": {
     "slide_type": "slide"
    }
   },
   "source": [
    "### Using the `json` module\n",
    "\n",
    "Let's process the same file using the `json` module. Recall:\n",
    "- `json.load(f)` loads a JSON file from a file object.\n",
    "- `json.loads(f)` loads a JSON file from a **s**tring."
   ]
  },
  {
   "cell_type": "code",
   "execution_count": null,
   "id": "8a26d63b",
   "metadata": {},
   "outputs": [],
   "source": [
    "f_other = open(os.path.join('data', 'evil_family.json'))\n",
    "s = f_other.read()\n",
    "s"
   ]
  },
  {
   "cell_type": "code",
   "execution_count": null,
   "id": "63a2329b",
   "metadata": {},
   "outputs": [],
   "source": [
    "json.loads(s)"
   ]
  },
  {
   "cell_type": "markdown",
   "id": "c544faf7",
   "metadata": {
    "slideshow": {
     "slide_type": "fragment"
    }
   },
   "source": [
    "- Since `util.err()` is not a string in JSON (there are no quotes around it), `json.loads` is not able to parse it as a JSON object."
   ]
  },
  {
   "cell_type": "markdown",
   "id": "0aabad14",
   "metadata": {
    "slideshow": {
     "slide_type": "fragment"
    }
   },
   "source": [
    "- This \"safety check\" is intentional."
   ]
  },
  {
   "cell_type": "markdown",
   "id": "bbe64ccb",
   "metadata": {
    "slideshow": {
     "slide_type": "slide"
    }
   },
   "source": [
    "### Handling _unfamiliar_ data"
   ]
  },
  {
   "cell_type": "markdown",
   "id": "6923029b",
   "metadata": {
    "slideshow": {
     "slide_type": "fragment"
    }
   },
   "source": [
    "- Never trust data from an unfamiliar site."
   ]
  },
  {
   "cell_type": "markdown",
   "id": "c173556c",
   "metadata": {
    "slideshow": {
     "slide_type": "fragment"
    }
   },
   "source": [
    "- **Never** use `eval` on \"raw\" data that you didn't create!"
   ]
  },
  {
   "cell_type": "markdown",
   "id": "74c89bb6",
   "metadata": {
    "slideshow": {
     "slide_type": "fragment"
    }
   },
   "source": [
    "- The JSON data format needs to be **parsed**, not evaluated as a dictionary.\n",
    "    - It was designed with safety in mind!"
   ]
  },
  {
   "cell_type": "markdown",
   "id": "515ff589",
   "metadata": {
    "slideshow": {
     "slide_type": "slide"
    }
   },
   "source": [
    "## APIs and scraping"
   ]
  },
  {
   "cell_type": "markdown",
   "id": "86133535",
   "metadata": {
    "slideshow": {
     "slide_type": "slide"
    }
   },
   "source": [
    "### Programmatic requests"
   ]
  },
  {
   "cell_type": "markdown",
   "id": "84e47aa1",
   "metadata": {
    "slideshow": {
     "slide_type": "fragment"
    }
   },
   "source": [
    "* We learned how to use the Python `requests` package to exchange data via HTTP.\n",
    "    - `GET` requests are used to request data **from** a server.\n",
    "    - `POST` requests are used to **send** data to a server."
   ]
  },
  {
   "cell_type": "markdown",
   "id": "cf6a8b4c",
   "metadata": {
    "slideshow": {
     "slide_type": "fragment"
    }
   },
   "source": [
    "* There are two ways of collecting data through a request:\n",
    "    * By using a published API (application programming interface).\n",
    "    * By scraping a webpage to collect its HTML source code."
   ]
  },
  {
   "cell_type": "markdown",
   "id": "012c368e",
   "metadata": {
    "slideshow": {
     "slide_type": "slide"
    }
   },
   "source": [
    "### APIs\n",
    "\n",
    "An API is a service that makes data directly available to the user in a convenient fashion.\n",
    "\n",
    "Advantages:"
   ]
  },
  {
   "cell_type": "markdown",
   "id": "6a32873e",
   "metadata": {
    "slideshow": {
     "slide_type": "fragment"
    }
   },
   "source": [
    "- The data are usually clean, up-to-date, and ready to use."
   ]
  },
  {
   "cell_type": "markdown",
   "id": "cbe9fa8e",
   "metadata": {
    "slideshow": {
     "slide_type": "fragment"
    }
   },
   "source": [
    "- The presence of a API signals that the data provider is okay with you using their data."
   ]
  },
  {
   "cell_type": "markdown",
   "id": "2e704528",
   "metadata": {
    "slideshow": {
     "slide_type": "fragment"
    }
   },
   "source": [
    "- The data provider can plan and regulate data usage.\n",
    "    - Some APIs require you to create an API \"key\", which is like an account for using the API.\n",
    "    - APIs can also give you access to data that isn't publicly available on a webpage."
   ]
  },
  {
   "cell_type": "markdown",
   "id": "44da6d6e",
   "metadata": {
    "slideshow": {
     "slide_type": "fragment"
    }
   },
   "source": [
    "Disadvantages:\n",
    "- APIs don't always exist for the data you want!"
   ]
  },
  {
   "cell_type": "markdown",
   "id": "1233c56a",
   "metadata": {
    "slideshow": {
     "slide_type": "slide"
    }
   },
   "source": [
    "### API terminology\n",
    "\n",
    "- A URL, or uniform resource locator, describes the location of a website or resource.\n",
    "\n",
    "- An **API endpoint** is a URL of the data source that the user wants to make requests to.\n",
    "\n",
    "- For example, on the [Reddit API](https://www.reddit.com/dev/api/):\n",
    "    * the `/comments` endpoint retrieves information about comments.\n",
    "    * the `/hot` endpoint retrieves data about posts labeled \"hot\" right now. \n",
    "    - To access these endpoints, you add the endpoint name to the base URL of the API."
   ]
  },
  {
   "cell_type": "markdown",
   "id": "460afa71",
   "metadata": {
    "slideshow": {
     "slide_type": "slide"
    }
   },
   "source": [
    "### API requests\n",
    "\n",
    "- API requests are just `GET`/`POST` requests to a specially maintained URL.\n",
    "- Let's test out the [Pokémon API](https://pokeapi.co)."
   ]
  },
  {
   "cell_type": "markdown",
   "id": "e05943e0",
   "metadata": {
    "slideshow": {
     "slide_type": "fragment"
    }
   },
   "source": [
    "First, let's make a `GET` request for `'squirtle'`."
   ]
  },
  {
   "cell_type": "code",
   "execution_count": null,
   "id": "f4994b92",
   "metadata": {},
   "outputs": [],
   "source": [
    "r = requests.get('https://pokeapi.co/api/v2/pokemon/squirtle')\n",
    "r"
   ]
  },
  {
   "cell_type": "code",
   "execution_count": null,
   "id": "f3f11fda",
   "metadata": {},
   "outputs": [],
   "source": []
  },
  {
   "cell_type": "markdown",
   "id": "f7c657f7",
   "metadata": {},
   "source": [
    "Remember, the 200 status code is good! Let's take a look at the **content**:"
   ]
  },
  {
   "cell_type": "code",
   "execution_count": null,
   "id": "a9ec92e8",
   "metadata": {},
   "outputs": [],
   "source": [
    "r.content[:1000]"
   ]
  },
  {
   "cell_type": "markdown",
   "id": "3e8d0cd6",
   "metadata": {},
   "source": [
    "Looks like JSON. We can extract the JSON from this request with the `json` method (or by passing `r.text` to `json.loads`)."
   ]
  },
  {
   "cell_type": "code",
   "execution_count": null,
   "id": "7f0ab31d",
   "metadata": {},
   "outputs": [],
   "source": [
    "rr=r.json()\n",
    "rr"
   ]
  },
  {
   "cell_type": "code",
   "execution_count": null,
   "id": "01578d4f",
   "metadata": {},
   "outputs": [],
   "source": [
    "rr.keys()"
   ]
  },
  {
   "cell_type": "code",
   "execution_count": null,
   "id": "eba5c113",
   "metadata": {},
   "outputs": [],
   "source": [
    "rr['weight']"
   ]
  },
  {
   "cell_type": "code",
   "execution_count": null,
   "id": "e1f745bb",
   "metadata": {},
   "outputs": [],
   "source": [
    "rr['abilities'][1]['ability']['name']"
   ]
  },
  {
   "cell_type": "markdown",
   "id": "a0710871",
   "metadata": {
    "slideshow": {
     "slide_type": "slide"
    }
   },
   "source": [
    "Let's try a `GET` request for `'billy'`."
   ]
  },
  {
   "cell_type": "code",
   "execution_count": null,
   "id": "edfc11da",
   "metadata": {},
   "outputs": [],
   "source": [
    "r = requests.get('https://pokeapi.co/api/v2/pokemon/billy')\n",
    "r"
   ]
  },
  {
   "cell_type": "markdown",
   "id": "1c1dd915",
   "metadata": {},
   "source": [
    "Uh oh..."
   ]
  },
  {
   "cell_type": "markdown",
   "id": "60e30f9a",
   "metadata": {
    "slideshow": {
     "slide_type": "slide"
    }
   },
   "source": [
    "### Scraping\n",
    "\n",
    "Scraping is the act of programmatically \"browsing\" the web, downloading the source code (HTML) of pages that you're interested in extracting data from.\n",
    "\n",
    "Advantages:"
   ]
  },
  {
   "cell_type": "markdown",
   "id": "9afc12cf",
   "metadata": {
    "slideshow": {
     "slide_type": "fragment"
    }
   },
   "source": [
    "* You can always do it!\n",
    "    - e.g. Google scrapes webpages in order to make them searchable."
   ]
  },
  {
   "cell_type": "markdown",
   "id": "c2159ce1",
   "metadata": {
    "slideshow": {
     "slide_type": "fragment"
    }
   },
   "source": [
    "Disadvantages:"
   ]
  },
  {
   "cell_type": "markdown",
   "id": "7dd6edc7",
   "metadata": {
    "slideshow": {
     "slide_type": "fragment"
    }
   },
   "source": [
    "- It is often difficult to parse and clean scraped data.\n",
    "    - Source code often includes a lot of content unrelated to the data you're trying to find (e.g. formatting, advertisements, other text)."
   ]
  },
  {
   "cell_type": "markdown",
   "id": "1586e7ae",
   "metadata": {
    "slideshow": {
     "slide_type": "fragment"
    }
   },
   "source": [
    "- Websites can change often, so scraping code can get outdated quickly."
   ]
  },
  {
   "cell_type": "markdown",
   "id": "3dedd360",
   "metadata": {
    "slideshow": {
     "slide_type": "fragment"
    }
   },
   "source": [
    "- Websites may not want you to scrape their data!"
   ]
  },
  {
   "cell_type": "markdown",
   "id": "0cdb3a4d",
   "metadata": {
    "slideshow": {
     "slide_type": "fragment"
    }
   },
   "source": [
    "- **In general, we prefer APIs.**"
   ]
  },
  {
   "cell_type": "markdown",
   "id": "01d068f2",
   "metadata": {
    "slideshow": {
     "slide_type": "slide"
    }
   },
   "source": [
    "### Accessing HTML\n",
    "\n",
    "**Goal**: Access information about HDSI faculty members from the HDSI Faculty page.\n",
    "\n",
    "Let's start by making a `GET` request to the HDSI Faculty page and see what the resulting HTML looks like. "
   ]
  },
  {
   "cell_type": "code",
   "execution_count": null,
   "id": "452ea7b0",
   "metadata": {},
   "outputs": [],
   "source": [
    "r = requests.get('https://datascience.ucsd.edu/faculty/')\n",
    "r"
   ]
  },
  {
   "cell_type": "code",
   "execution_count": null,
   "id": "f80dbd38",
   "metadata": {},
   "outputs": [],
   "source": [
    "faculty_text = r.text\n",
    "len(faculty_text)"
   ]
  },
  {
   "cell_type": "code",
   "execution_count": null,
   "id": "6440e7c5",
   "metadata": {},
   "outputs": [],
   "source": [
    "print(faculty_text[:1000])"
   ]
  },
  {
   "cell_type": "code",
   "execution_count": null,
   "id": "10242e58",
   "metadata": {},
   "outputs": [],
   "source": [
    "'Tauhidur Rahman' in faculty_text"
   ]
  },
  {
   "cell_type": "markdown",
   "id": "08efd3a9",
   "metadata": {
    "slideshow": {
     "slide_type": "slide"
    }
   },
   "source": [
    "Wow, that is gross looking! 😰 \n",
    "\n",
    "- It is **raw** HTML, which web browsers use to display websites.\n",
    "- The information we are looking for – faculty information – is in there somewhere, but we have to search for it and extract it, which we wouldn't have to do if we had an API.\n",
    "- We'll now look at how HTML documents are structured and how to extract information from them."
   ]
  },
  {
   "cell_type": "markdown",
   "id": "d75a992c",
   "metadata": {
    "slideshow": {
     "slide_type": "slide"
    }
   },
   "source": [
    "### Best practices for scraping\n",
    "\n",
    "1. **Send requests slowly** and be upfront about what you are doing!\n",
    "2. Respect the policy published in the page's `robots.txt` file.\n",
    "    - Many sites have a `robots.txt` file in their root directory, which contains a policy that allows or disallows automatic access to their site. \n",
    "3. Don't spoof your User-agent (i.e. don't try to trick the server into thinking you are a person).\n",
    "4. Read the Terms of Service for the site and follow it."
   ]
  },
  {
   "cell_type": "markdown",
   "id": "fc20aea1",
   "metadata": {
    "slideshow": {
     "slide_type": "slide"
    }
   },
   "source": [
    "### Consequences of irresponsible scraping\n",
    "\n",
    "If you make too many requests:\n",
    "* The server may block your IP Address.\n",
    "    - Everyone in your dorm might lose access to Google! (Seriously!)\n",
    "* You may take down the website.\n",
    "    - A journalist scraped and accidentally took down the Cook County Inmate Locater.\n",
    "    - As a result, inmate's families weren't able to contact them while the site was down."
   ]
  },
  {
   "cell_type": "markdown",
   "id": "ed586479",
   "metadata": {
    "slideshow": {
     "slide_type": "slide"
    }
   },
   "source": [
    "## The anatomy of HTML documents"
   ]
  },
  {
   "cell_type": "markdown",
   "id": "23cc2b88",
   "metadata": {
    "slideshow": {
     "slide_type": "slide"
    }
   },
   "source": [
    "### What is HTML?"
   ]
  },
  {
   "cell_type": "markdown",
   "id": "e29409f7",
   "metadata": {
    "slideshow": {
     "slide_type": "fragment"
    }
   },
   "source": [
    "* HTML (HyperText Markup Language) is **the** basic building block of the internet. \n"
   ]
  },
  {
   "cell_type": "markdown",
   "id": "1ac58e4d",
   "metadata": {
    "slideshow": {
     "slide_type": "fragment"
    }
   },
   "source": [
    "* It defines the content and layout of a webpage, and as such, it is what you get back when you scrape a webpage."
   ]
  },
  {
   "cell_type": "markdown",
   "id": "7213fa7d",
   "metadata": {
    "slideshow": {
     "slide_type": "fragment"
    }
   },
   "source": [
    "* See [this tutorial](http://fab.academany.org/2018/labs/fablaboshanghai/students/bob-wu/Fabclass/week2_project_management/HTML.html) for more details."
   ]
  },
  {
   "cell_type": "markdown",
   "id": "97f0d895",
   "metadata": {
    "slideshow": {
     "slide_type": "slide"
    }
   },
   "source": [
    "For instance, here's the content of a very basic webpage."
   ]
  },
  {
   "cell_type": "code",
   "execution_count": null,
   "id": "856c836b",
   "metadata": {},
   "outputs": [],
   "source": [
    "!cat data/lec15_ex1.html"
   ]
  },
  {
   "cell_type": "markdown",
   "id": "8dc0b186",
   "metadata": {
    "slideshow": {
     "slide_type": "fragment"
    }
   },
   "source": [
    "Using `IPython.display.HTML`, we can render it directly in our notebook."
   ]
  },
  {
   "cell_type": "code",
   "execution_count": null,
   "id": "ec1c4f5b",
   "metadata": {
    "slideshow": {
     "slide_type": "-"
    }
   },
   "outputs": [],
   "source": [
    "from IPython.display import HTML\n",
    "HTML(os.path.join('data', 'lec15_ex1.html'))"
   ]
  },
  {
   "cell_type": "markdown",
   "id": "61ab3db3",
   "metadata": {
    "slideshow": {
     "slide_type": "slide"
    }
   },
   "source": [
    "### The anatomy of HTML documents\n",
    "\n",
    "* **HTML document**: The totality of markup that makes up a webpage.\n",
    "\n",
    "* **Document Object Model (DOM)**: The internal representation of a HTML document as a hierarchical **tree** structure.\n",
    "\n",
    "* **HTML element**: An object in the DOM, such as a paragraph, header, or title.\n",
    "* **HTML tags**: Markers that denote the **start** and **end** of an element, such as `<p>` and `</p>`.\n",
    "\n",
    "<center><img src='imgs/dom.jpg'></center>\n",
    "\n",
    "<center><a href='https://simplesnippets.tech/what-is-document-object-modeldom-how-js-interacts-with-dom/'>(source)</a></center>"
   ]
  },
  {
   "cell_type": "markdown",
   "id": "13404bf2",
   "metadata": {
    "slideshow": {
     "slide_type": "slide"
    }
   },
   "source": [
    "### Useful tags to know\n",
    "\n",
    "\n",
    "|Element|Description|\n",
    "|:---|:---|\n",
    "|`<html>`|the document|\n",
    "|`<head>`|the header|\n",
    "|`<body>`|the body|\n",
    "|`<div>` |a logical division of the document|\n",
    "|`<span>`|an *inline* logical division|\n",
    "|`<p>`|a paragraph|\n",
    "| `<a>`| an anchor (hyperlink)|\n",
    "|`<h1>, <h2>, ...`| header(s) |\n",
    "|`<img>`| an image |\n",
    "\n",
    "There are many, many more. See [this article](https://en.wikipedia.org/wiki/HTML_element) for examples."
   ]
  },
  {
   "cell_type": "markdown",
   "id": "0a3532d3",
   "metadata": {
    "slideshow": {
     "slide_type": "slide"
    }
   },
   "source": [
    "### Example: images and hyperlinks\n",
    "\n",
    "Tags can have **attributes**, which further specify how to display information on a webpage."
   ]
  },
  {
   "cell_type": "markdown",
   "id": "beb545d9",
   "metadata": {
    "slideshow": {
     "slide_type": "fragment"
    }
   },
   "source": [
    "For instance, `<img>` tags have `src` and `alt` attributes (among others):\n",
    "\n",
    "```html\n",
    "<img src=\"king-selfie.png\" alt=\"A photograph of King Triton.\" width=500>\n",
    "```"
   ]
  },
  {
   "cell_type": "markdown",
   "id": "7e83cd22",
   "metadata": {
    "slideshow": {
     "slide_type": "fragment"
    }
   },
   "source": [
    "Hyperlinks have `href` attributes: \n",
    "\n",
    "```html\n",
    "Click <a href=\"https://dsc80.com/project3\">this link</a> to access Project 3.\n",
    "```"
   ]
  },
  {
   "cell_type": "markdown",
   "id": "b655cf7a",
   "metadata": {
    "slideshow": {
     "slide_type": "slide"
    }
   },
   "source": [
    "What do you think this webpage looks like?"
   ]
  },
  {
   "cell_type": "code",
   "execution_count": null,
   "id": "12cf573f",
   "metadata": {},
   "outputs": [],
   "source": [
    "!cat data/lec15_ex2.html"
   ]
  },
  {
   "cell_type": "markdown",
   "id": "25fbb9e2",
   "metadata": {
    "slideshow": {
     "slide_type": "slide"
    }
   },
   "source": [
    "### The `<div>` tag\n",
    "\n",
    "```html\n",
    "<div style=\"background-color:lightblue\">\n",
    "  <h3>This is a heading</h3>\n",
    "  <p>This is a paragraph.</p>\n",
    "</div>\n",
    "```\n",
    "\n",
    "* The `<div>` tag defines a division or a \"section\" of an HTML document.\n",
    "    * Think of a `<div>` as a \"cell\" in a Jupyter Notebook.\n",
    "\n",
    "* The `<div>` element is often used as a container for other HTML elements to style them with CSS or to perform operations involving them using JavaScript.\n",
    "\n",
    "* `<div>` elements often have attributes, **which are important when scraping**!"
   ]
  },
  {
   "cell_type": "markdown",
   "id": "fdf6f3ac",
   "metadata": {
    "slideshow": {
     "slide_type": "slide"
    }
   },
   "source": [
    "### Document trees"
   ]
  },
  {
   "cell_type": "markdown",
   "id": "da13e188",
   "metadata": {
    "slideshow": {
     "slide_type": "fragment"
    }
   },
   "source": [
    "Under the document object model (DOM), HTML documents are trees. In DOM trees, child nodes are **ordered**.\n",
    "\n",
    "<center>\n",
    "\n",
    "<img src=\"imgs/webpage_anatomy.png\" width=\"50%\">\n",
    "\n",
    "</center>    \n",
    "\n",
    "What does the DOM tree look like for this document?"
   ]
  },
  {
   "cell_type": "markdown",
   "id": "39915947",
   "metadata": {
    "slideshow": {
     "slide_type": "fragment"
    }
   },
   "source": [
    "<center><img src=\"imgs/dom_tree.png\" width=\"50%\"></center>"
   ]
  },
  {
   "cell_type": "markdown",
   "id": "c642c1c0",
   "metadata": {
    "slideshow": {
     "slide_type": "slide"
    }
   },
   "source": [
    "### Example: Quote scraping\n",
    "\n",
    "Consider the following webpage.\n",
    "\n",
    "<center><img src=\"imgs/quotes2scrape.png\" width=60%></center>\n",
    "\n",
    "- What do you think the DOM tree looks like?\n",
    "- If you had to store the data on this page in a DataFrame, what would the rows and columns represent?"
   ]
  },
  {
   "cell_type": "markdown",
   "id": "363abd65",
   "metadata": {
    "slideshow": {
     "slide_type": "fragment"
    }
   },
   "source": [
    "<center><img src=\"imgs/quote_dom.png\" width=\"50%\"></center>"
   ]
  },
  {
   "cell_type": "markdown",
   "id": "4a797498",
   "metadata": {
    "slideshow": {
     "slide_type": "slide"
    }
   },
   "source": [
    "## Parsing HTML using Beautiful Soup"
   ]
  },
  {
   "cell_type": "markdown",
   "id": "20f74bd7",
   "metadata": {
    "slideshow": {
     "slide_type": "slide"
    }
   },
   "source": [
    "### Beautiful Soup 🍜\n",
    "\n",
    "* [Beautiful Soup 4](https://www.crummy.com/software/BeautifulSoup/bs4/doc/) is a Python HTML parser.\n",
    "    - To \"parse\" means to \"extract meaning from a sequence of symbols\".\n",
    "* **Warning:** Beautiful Soup 4 and Beautiful Soup 3 work differently, so make sure you are using and looking at documentation for Beautiful Soup 4."
   ]
  },
  {
   "cell_type": "markdown",
   "id": "11b42bbd",
   "metadata": {
    "slideshow": {
     "slide_type": "slide"
    }
   },
   "source": [
    "### Example HTML document\n",
    "\n",
    "To start, we'll work with the source code for an HTML page with the DOM tree shown below:\n",
    "\n",
    "<center><img src=\"imgs/dom_tree_1.png\" width=\"50%\"></center>"
   ]
  },
  {
   "cell_type": "markdown",
   "id": "8a3b4ded",
   "metadata": {
    "slideshow": {
     "slide_type": "fragment"
    }
   },
   "source": [
    "The string `html_string` contains an HTML \"document\"."
   ]
  },
  {
   "cell_type": "code",
   "execution_count": null,
   "id": "da0809c0",
   "metadata": {
    "slideshow": {
     "slide_type": "-"
    }
   },
   "outputs": [],
   "source": [
    "html_string = '''\n",
    "<html>\n",
    "    <body>\n",
    "      <div id=\"content\">\n",
    "        <h1>Heading here</h1>\n",
    "        <p>My First paragraph</p>\n",
    "        <p>My <em>second</em> paragraph</p>\n",
    "        <hr>\n",
    "      </div>\n",
    "      <div id=\"nav\">\n",
    "        <ul>\n",
    "          <li>item 1</li>\n",
    "          <li>item 2</li>\n",
    "          <li>item 3</li>\n",
    "        </ul>\n",
    "      </div>\n",
    "    </body>\n",
    "</html>\n",
    "'''.strip()"
   ]
  },
  {
   "cell_type": "code",
   "execution_count": null,
   "id": "b3699a5d",
   "metadata": {
    "scrolled": true
   },
   "outputs": [],
   "source": [
    "HTML(html_string)"
   ]
  },
  {
   "cell_type": "markdown",
   "id": "05a7a4bf",
   "metadata": {
    "slideshow": {
     "slide_type": "slide"
    }
   },
   "source": [
    "### `BeautifulSoup` objects\n",
    "\n",
    "`bs4.BeautifulSoup` takes in a string or file-like object representing HTML (`markup`) and returns a **parsed** document."
   ]
  },
  {
   "cell_type": "code",
   "execution_count": null,
   "id": "8e39ceb3",
   "metadata": {},
   "outputs": [],
   "source": [
    "import bs4"
   ]
  },
  {
   "cell_type": "code",
   "execution_count": null,
   "id": "6ff4c7a7",
   "metadata": {},
   "outputs": [],
   "source": [
    "bs4.BeautifulSoup?"
   ]
  },
  {
   "cell_type": "markdown",
   "id": "352a2bdc",
   "metadata": {},
   "source": [
    "Normally, we pass the result of a `GET` request to `bs4.BeautifulSoup`, but here we will pass our hand-crafted `html_string`."
   ]
  },
  {
   "cell_type": "code",
   "execution_count": null,
   "id": "cbb904c6",
   "metadata": {},
   "outputs": [],
   "source": [
    "soup = bs4.BeautifulSoup(html_string)\n",
    "soup"
   ]
  },
  {
   "cell_type": "code",
   "execution_count": null,
   "id": "213bf464",
   "metadata": {},
   "outputs": [],
   "source": [
    "type(soup)"
   ]
  },
  {
   "cell_type": "markdown",
   "id": "e4cb1154",
   "metadata": {},
   "source": [
    "`BeautifulSoup` objects have several useful attributes, e.g. `text`:"
   ]
  },
  {
   "cell_type": "code",
   "execution_count": null,
   "id": "5454f217",
   "metadata": {},
   "outputs": [],
   "source": [
    "print(soup.text)"
   ]
  },
  {
   "cell_type": "markdown",
   "id": "1f78233a",
   "metadata": {
    "slideshow": {
     "slide_type": "slide"
    }
   },
   "source": [
    "### Traversing through `descendants`\n",
    "\n",
    "The `descendants` attribute traverses a `BeautifulSoup` tree using **depth-first traversal**.\n",
    "\n",
    "Why depth-first? Elements closer to one another on a page are more likely to be related than elements further away.\n",
    "\n",
    "<center><img src=\"imgs/dom_tree_1.png\" width=\"60%\"></center>"
   ]
  },
  {
   "cell_type": "code",
   "execution_count": null,
   "id": "867dc3b8",
   "metadata": {},
   "outputs": [],
   "source": [
    "soup.descendants"
   ]
  },
  {
   "cell_type": "code",
   "execution_count": null,
   "id": "bf0d50ff",
   "metadata": {},
   "outputs": [],
   "source": [
    "for child in soup.descendants:\n",
    "#     print(child) # What would happen if we ran this instead?\n",
    "    if isinstance(child, str):\n",
    "        continue\n",
    "    print(child.name)"
   ]
  },
  {
   "cell_type": "markdown",
   "id": "e0a21d52",
   "metadata": {
    "slideshow": {
     "slide_type": "slide"
    }
   },
   "source": [
    "### Finding elements in a tree\n",
    "\n",
    "Practically speaking, you will not use the `descendants` attribute (or the related `children` attribute) directly very often. Instead, you will use the following methods:\n",
    "\n",
    "- `soup.find(tag)`, which finds the **first** instance of a tag (the first one on the page, i.e. the first one that DFS sees).\n",
    "    - More general: `soup.find(name=None, attrs={}, recursive=True, text=None, **kwargs)`.\n",
    "- `soup.find_all(tag)` will find **all** instances of a tag.\n"
   ]
  },
  {
   "cell_type": "markdown",
   "id": "1468475e",
   "metadata": {
    "slideshow": {
     "slide_type": "slide"
    }
   },
   "source": [
    "### Using `find`\n",
    "\n",
    "Let's try and extract the first `<div>` subtree.\n",
    "\n",
    "<center><img src=\"imgs/dom_tree_1.png\" width=\"60%\"></center>  "
   ]
  },
  {
   "cell_type": "code",
   "execution_count": null,
   "id": "3c7206f8",
   "metadata": {
    "scrolled": true
   },
   "outputs": [],
   "source": [
    "soup"
   ]
  },
  {
   "cell_type": "code",
   "execution_count": null,
   "id": "6c1d60ad",
   "metadata": {
    "scrolled": true
   },
   "outputs": [],
   "source": [
    "div = soup.find('div')\n",
    "div"
   ]
  },
  {
   "cell_type": "markdown",
   "id": "43a9ec73",
   "metadata": {},
   "source": [
    "<center><img src=\"imgs/dom_subtree_1.png\" width=\"30%\"></center>  "
   ]
  },
  {
   "cell_type": "markdown",
   "id": "9e3d7cfc",
   "metadata": {},
   "source": [
    "Let's try and find the `<div>` element that has an `id` attribute equal to `'nav'`."
   ]
  },
  {
   "cell_type": "code",
   "execution_count": null,
   "id": "360d0136",
   "metadata": {},
   "outputs": [],
   "source": [
    "soup.find('div', attrs={'id': 'nav'})"
   ]
  },
  {
   "cell_type": "markdown",
   "id": "dafc1aef",
   "metadata": {},
   "source": [
    "`find` will return the first occurrence of a tag, regardless of its depth in the tree."
   ]
  },
  {
   "cell_type": "code",
   "execution_count": null,
   "id": "f6359708",
   "metadata": {},
   "outputs": [],
   "source": [
    "soup.find('ul')"
   ]
  },
  {
   "cell_type": "code",
   "execution_count": null,
   "id": "f6bf895b",
   "metadata": {},
   "outputs": [],
   "source": [
    "soup.find('li')"
   ]
  },
  {
   "cell_type": "markdown",
   "id": "42ce4de4",
   "metadata": {
    "slideshow": {
     "slide_type": "slide"
    }
   },
   "source": [
    "### Using `find_all`\n",
    "\n",
    "`find_all` returns a list of all matches."
   ]
  },
  {
   "cell_type": "code",
   "execution_count": null,
   "id": "24d0e570",
   "metadata": {},
   "outputs": [],
   "source": [
    "soup.find_all('div')"
   ]
  },
  {
   "cell_type": "code",
   "execution_count": null,
   "id": "0e3fb3a0",
   "metadata": {},
   "outputs": [],
   "source": [
    "soup.find_all('li')"
   ]
  },
  {
   "cell_type": "code",
   "execution_count": null,
   "id": "3e5c50bd",
   "metadata": {},
   "outputs": [],
   "source": [
    "[x.text for x in soup.find_all('li')]"
   ]
  },
  {
   "cell_type": "markdown",
   "id": "713e94fa",
   "metadata": {
    "slideshow": {
     "slide_type": "slide"
    }
   },
   "source": [
    "### Node attributes\n",
    "* The `text` attribute of a tag element gets the text between the opening and closing tags.\n",
    "* The `attrs` attribute lists all attributes of a tag.\n",
    "* The `get(key)` method gets the value of a tag attribute."
   ]
  },
  {
   "cell_type": "code",
   "execution_count": null,
   "id": "d183a0b4",
   "metadata": {},
   "outputs": [],
   "source": [
    "soup.find('p')"
   ]
  },
  {
   "cell_type": "code",
   "execution_count": null,
   "id": "e1a308ab",
   "metadata": {},
   "outputs": [],
   "source": [
    "soup.find('p').text"
   ]
  },
  {
   "cell_type": "code",
   "execution_count": null,
   "id": "b1919b9b",
   "metadata": {},
   "outputs": [],
   "source": [
    "soup.find('div')"
   ]
  },
  {
   "cell_type": "code",
   "execution_count": null,
   "id": "7331ff79",
   "metadata": {},
   "outputs": [],
   "source": [
    "soup.find('div').attrs"
   ]
  },
  {
   "cell_type": "code",
   "execution_count": null,
   "id": "32d5e41c",
   "metadata": {},
   "outputs": [],
   "source": [
    "soup.find('div').get('id')"
   ]
  },
  {
   "cell_type": "markdown",
   "id": "3e5f874f",
   "metadata": {
    "slideshow": {
     "slide_type": "slide"
    }
   },
   "source": [
    "The `get` method must be called directly on the node that contains the attribute you're looking for."
   ]
  },
  {
   "cell_type": "code",
   "execution_count": null,
   "id": "dbae92f9",
   "metadata": {},
   "outputs": [],
   "source": [
    "soup"
   ]
  },
  {
   "cell_type": "code",
   "execution_count": null,
   "id": "ddff20a7",
   "metadata": {},
   "outputs": [],
   "source": [
    "# While there are multiple 'id' attributes, none of them are in the <html> tag at the top.\n",
    "soup.get('id')"
   ]
  },
  {
   "cell_type": "code",
   "execution_count": null,
   "id": "24b4116d",
   "metadata": {
    "scrolled": true
   },
   "outputs": [],
   "source": [
    "soup.find('div').get('id')"
   ]
  },
  {
   "cell_type": "markdown",
   "id": "269efd96",
   "metadata": {
    "slideshow": {
     "slide_type": "slide"
    }
   },
   "source": [
    "## Summary, next time"
   ]
  },
  {
   "cell_type": "markdown",
   "id": "ea3ab7da",
   "metadata": {
    "slideshow": {
     "slide_type": "slide"
    }
   },
   "source": [
    "### Summary\n",
    "\n",
    "- The two main file formats used for storing information on the internet are HTML and JSON.\n",
    "    - JSON objects resemble Python dictionaries, but they are not quite the same. \n",
    "    - Use the `.json()` method of a response object or the `json` package to parse them, **not** `eval`.\n",
    "- APIs allow us to request information from web servers in a convenient fashion.\n",
    "- When APIs don't exist, we instead scrape webpages to access their source HTML and then parse the HTML to extract the information we care about.\n",
    "- Under the document object model (DOM), HTML documents are trees.\n",
    "    - Elements are defined by tags.\n",
    "- Beautiful Soup is an HTML parser that allows us to (somewhat) easily extract information from HTML documents.\n",
    "    - `soup.find` and `soup.find_all` are the functions you will use most often."
   ]
  },
  {
   "cell_type": "markdown",
   "id": "129c64f7",
   "metadata": {
    "slideshow": {
     "slide_type": "slide"
    }
   },
   "source": [
    "### Next time\n",
    "\n",
    "- Friday: More practical scraping examples. Towards string processing and regular expressions."
   ]
  }
 ],
 "metadata": {
  "celltoolbar": "Slideshow",
  "kernelspec": {
   "display_name": "Python 3 (ipykernel)",
   "language": "python",
   "name": "python3"
  },
  "language_info": {
   "codemirror_mode": {
    "name": "ipython",
    "version": 3
   },
   "file_extension": ".py",
   "mimetype": "text/x-python",
   "name": "python",
   "nbconvert_exporter": "python",
   "pygments_lexer": "ipython3",
   "version": "3.9.6"
  },
  "livereveal": {
   "scroll": true
  },
  "rise": {
   "transition": "none"
  }
 },
 "nbformat": 4,
 "nbformat_minor": 5
}
