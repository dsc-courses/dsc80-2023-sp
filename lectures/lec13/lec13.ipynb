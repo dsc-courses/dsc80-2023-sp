{
 "cells": [
  {
   "cell_type": "code",
   "execution_count": null,
   "id": "8c8a44b8",
   "metadata": {
    "slideshow": {
     "slide_type": "skip"
    }
   },
   "outputs": [],
   "source": [
    "import pandas as pd\n",
    "import numpy as np\n",
    "import os\n",
    "\n",
    "import util\n",
    "\n",
    "import plotly.express as px\n",
    "import plotly.figure_factory as ff\n",
    "pd.options.plotting.backend = 'plotly'"
   ]
  },
  {
   "cell_type": "markdown",
   "id": "ce9e66d9",
   "metadata": {
    "slideshow": {
     "slide_type": "slide"
    }
   },
   "source": [
    "# Lecture 13 – Imputation\n",
    "\n",
    "## DSC 80, Spring 2023"
   ]
  },
  {
   "cell_type": "markdown",
   "id": "497cb406",
   "metadata": {
    "slideshow": {
     "slide_type": "slide"
    }
   },
   "source": [
    "### Midterm Exam Logistics\n",
    "\n",
    "- The Midterm Exam is **in-class, in-person on Friday, May 5th**.\n",
    "- It will cover Lectures 1-13, Labs 1-5, and Projects 1-2.\n",
    "- You can bring a single, two-sided note sheet.\n",
    "- To review problems from old exams, go to [practice.dsc80.com](https://practice.dsc80.com).\n",
    "    - Also look at the [Resources](https://dsc80.com/resources) tab on the course website."
   ]
  },
  {
   "cell_type": "markdown",
   "id": "22824200",
   "metadata": {
    "slideshow": {
     "slide_type": "slide"
    }
   },
   "source": [
    "### Agenda\n",
    "\n",
    "- Recap: Identifying missingness mechanisms.\n",
    "- Overview of imputation.\n",
    "- Mean imputation.\n",
    "- Probabilistic imputation."
   ]
  },
  {
   "cell_type": "markdown",
   "id": "a7d6971b",
   "metadata": {
    "slideshow": {
     "slide_type": "slide"
    }
   },
   "source": [
    "## Recap: Identifying missingness mechanisms"
   ]
  },
  {
   "cell_type": "markdown",
   "id": "7192696a",
   "metadata": {
    "slideshow": {
     "slide_type": "slide"
    }
   },
   "source": [
    "### Review: Missingness mechanisms\n",
    "\n",
    "- **Missing by design (MD)**: Whether or not a value is missing depends entirely on the data in other columns. In other words, if we can always predict if a value will be missing given the other columns, the data is MD.\n",
    "- **Not missing at random (NMAR)**: The chance that a value is missing **depends on the actual missing value**!\n",
    "- **Missing at random (MAR)**: The chance that a value is missing **depends on other columns**, but **not** the actual missing value itself.\n",
    "- **Missing completely at random (MCAR)**: The chance that a value is missing is **completely independent** of other columns and the actual missing value."
   ]
  },
  {
   "cell_type": "markdown",
   "id": "da36a3ab",
   "metadata": {
    "slideshow": {
     "slide_type": "slide"
    }
   },
   "source": [
    "### Deciding between MAR and MCAR\n",
    "\n",
    "Recall, the \"[missing value flowchart](https://dsc80.com/resources/lectures/lec12/lec12.html#Flowchart)\" says that we should:"
   ]
  },
  {
   "cell_type": "markdown",
   "id": "17726754",
   "metadata": {
    "slideshow": {
     "slide_type": "fragment"
    }
   },
   "source": [
    "- First, determine whether values are **missing by design (MD)**."
   ]
  },
  {
   "cell_type": "markdown",
   "id": "5cf73c46",
   "metadata": {
    "slideshow": {
     "slide_type": "fragment"
    }
   },
   "source": [
    "- Then, reason about whether values are **not missing at random (NMAR)**."
   ]
  },
  {
   "cell_type": "markdown",
   "id": "7eab7f6a",
   "metadata": {
    "slideshow": {
     "slide_type": "fragment"
    }
   },
   "source": [
    "- Finally, decide whether values are **missing at random (MAR)** or **missing completely at random (MCAR)**."
   ]
  },
  {
   "cell_type": "markdown",
   "id": "321335e6",
   "metadata": {
    "slideshow": {
     "slide_type": "fragment"
    }
   },
   "source": [
    "To decide between MAR and MCAR, we can look at the data itself."
   ]
  },
  {
   "cell_type": "markdown",
   "id": "2a94999a",
   "metadata": {
    "slideshow": {
     "slide_type": "slide"
    }
   },
   "source": [
    "### Deciding between MAR and MCAR"
   ]
  },
  {
   "cell_type": "markdown",
   "id": "6874ac98",
   "metadata": {
    "slideshow": {
     "slide_type": "fragment"
    }
   },
   "source": [
    "- If the missingness of column $X$ is explainable via the other columns in the data, then the missing data is missing at random (MAR).\n",
    "    - The distribution of missing values in column $X$ may look different than the distribution of observed data in column $X$ – that's fine, as long as the missingness can be explained solely by other columns in the data."
   ]
  },
  {
   "cell_type": "markdown",
   "id": "1882b042",
   "metadata": {
    "slideshow": {
     "slide_type": "fragment"
    }
   },
   "source": [
    "- If the missingness of column $X$ doesn't depend on any values in the observed data, it is missing completely at random (MCAR).\n",
    "    - MCAR is equivalent to data being MAR, without dependence on any other columns."
   ]
  },
  {
   "cell_type": "markdown",
   "id": "87ec2dce",
   "metadata": {
    "slideshow": {
     "slide_type": "fragment"
    }
   },
   "source": [
    "- To decide if the missingness in column $X$ looks MCAR, for every other column, compare:\n",
    "    - The distribution of the other column when $X$ is missing.\n",
    "    - The distribution of the other column when $X$ is not missing.\n"
   ]
  },
  {
   "cell_type": "markdown",
   "id": "90546966",
   "metadata": {
    "slideshow": {
     "slide_type": "fragment"
    }
   },
   "source": [
    "- If this pair of distributions looks similar for every other column, then the values in column $X$ _may_ be MCAR.\n",
    "    - Caution: you can't **prove** that data are MCAR, as permutation tests don't allow you to accept the null hypothesis!\n",
    "    - See Lab 5, Question 4."
   ]
  },
  {
   "cell_type": "markdown",
   "id": "f4eeaf9c",
   "metadata": {
    "slideshow": {
     "slide_type": "slide"
    }
   },
   "source": [
    "### Example: Heights\n",
    "\n",
    "Today, we'll use the same `heights` dataset as we did last time."
   ]
  },
  {
   "cell_type": "code",
   "execution_count": null,
   "id": "ffd259fb",
   "metadata": {
    "slideshow": {
     "slide_type": "-"
    }
   },
   "outputs": [],
   "source": [
    "heights = pd.read_csv(os.path.join('data', 'midparent.csv'))\n",
    "heights = (\n",
    "    heights\n",
    "    .rename(columns={'childHeight': 'child', 'childNum': 'number'})\n",
    "    .drop('midparentHeight', axis=1)\n",
    ")\n",
    "heights.head()"
   ]
  },
  {
   "cell_type": "markdown",
   "id": "20d51331",
   "metadata": {
    "slideshow": {
     "slide_type": "slide"
    }
   },
   "source": [
    "### Example: Missingness of `'child'` heights on `'father'`'s heights (MCAR)"
   ]
  },
  {
   "cell_type": "markdown",
   "id": "c77bc453",
   "metadata": {
    "slideshow": {
     "slide_type": "fragment"
    }
   },
   "source": [
    "- **Question**: Is the missingness of `'child'` heights dependent on the `'father'` column?"
   ]
  },
  {
   "cell_type": "markdown",
   "id": "b5bd7f20",
   "metadata": {
    "slideshow": {
     "slide_type": "fragment"
    }
   },
   "source": [
    "- To answer, we can look at two distributions:\n",
    "    - The distribution of `'father'` when `'child'` is missing.\n",
    "    - The distribution of `'father'` when `'child'` is not missing."
   ]
  },
  {
   "cell_type": "markdown",
   "id": "37974caf",
   "metadata": {
    "slideshow": {
     "slide_type": "fragment"
    }
   },
   "source": [
    "- If the two distributions look similar, then the missingness of `'child'` looks to be independent of `'father'`.\n",
    "    - To test whether two distributions look similar, we use a permutation test."
   ]
  },
  {
   "cell_type": "markdown",
   "id": "4a11f25c",
   "metadata": {
    "slideshow": {
     "slide_type": "slide"
    }
   },
   "source": [
    "Aside: In `util.py`, there are several functions that we've created to help us with this lecture. \n",
    "- `make_mcar` takes in a dataset and intentionally drops values from a column such that they are MCAR.\n",
    "- `make_mar` does the same for MAR.\n",
    "- You wouldn't actually do this in practice – in practice, you'll obtain a dataset with no prior knowledge of the missingness mechanism!"
   ]
  },
  {
   "cell_type": "code",
   "execution_count": null,
   "id": "260922dd",
   "metadata": {},
   "outputs": [],
   "source": [
    "# Generating MCAR data.\n",
    "np.random.seed(42) # So that we get the same results each time (for lecture).\n",
    "heights_mcar = util.make_mcar(heights, 'child', pct=0.5)\n",
    "heights_mcar.isna().mean()"
   ]
  },
  {
   "cell_type": "markdown",
   "id": "6db85d33",
   "metadata": {
    "slideshow": {
     "slide_type": "slide"
    }
   },
   "source": [
    "### Example: Missingness of `'child'` heights on `'father'`'s heights (MCAR)"
   ]
  },
  {
   "cell_type": "code",
   "execution_count": null,
   "id": "7ebea963",
   "metadata": {},
   "outputs": [],
   "source": [
    "heights_mcar['child_missing'] = heights_mcar['child'].isna()\n",
    "util.create_kde_plotly(heights_mcar[['child_missing', 'father']], 'child_missing', True, False, 'father',\n",
    "                       \"Father's Height by Missingness of Child Height (MCAR example)\")"
   ]
  },
  {
   "cell_type": "markdown",
   "id": "0a81f348",
   "metadata": {
    "slideshow": {
     "slide_type": "fragment"
    }
   },
   "source": [
    "- To test whether the two distributions are similar, we can use a permutation test. \n"
   ]
  },
  {
   "cell_type": "markdown",
   "id": "7d22ca96",
   "metadata": {
    "slideshow": {
     "slide_type": "fragment"
    }
   },
   "source": [
    "- Which test statistic should we use?"
   ]
  },
  {
   "cell_type": "markdown",
   "id": "d6db1889",
   "metadata": {
    "slideshow": {
     "slide_type": "slide"
    }
   },
   "source": [
    "### Difference in means vs. K-S statistic"
   ]
  },
  {
   "cell_type": "markdown",
   "id": "4882e456",
   "metadata": {
    "slideshow": {
     "slide_type": "fragment"
    }
   },
   "source": [
    "- The K-S statistic measures the difference between two numeric distributions."
   ]
  },
  {
   "cell_type": "markdown",
   "id": "0bc0ff08",
   "metadata": {
    "slideshow": {
     "slide_type": "fragment"
    }
   },
   "source": [
    "- It **does not** quantify if one is larger than the other on average, so there are times we still need to use the difference in means."
   ]
  },
  {
   "cell_type": "markdown",
   "id": "e7dd3f29",
   "metadata": {
    "slideshow": {
     "slide_type": "fragment"
    }
   },
   "source": [
    "- Strategy: Always plot the two distributions you are comparing.\n",
    "    - If the distributions have similar shapes but are centered in different places, use the difference in means (or absolute difference in means).\n",
    "    - If your alternative hypothesis involves a \"direction\" (i.e. smoking weights were are on average than non-smoking weights), use the difference in means.\n",
    "    - If the distributions have different shapes and your alternative hypothesis is simply that the two distributions are different, use the K-S statistic."
   ]
  },
  {
   "cell_type": "markdown",
   "id": "753a90c9",
   "metadata": {
    "slideshow": {
     "slide_type": "slide"
    }
   },
   "source": [
    "### Example: Missingness of `'child'` heights on `'father'`'s heights (MCAR)"
   ]
  },
  {
   "cell_type": "code",
   "execution_count": null,
   "id": "5a8eb66a",
   "metadata": {},
   "outputs": [],
   "source": [
    "util.create_kde_plotly(heights_mcar[['child_missing', 'father']], 'child_missing', True, False, 'father',\n",
    "                       \"Father's Height by Missingness of Child Height (MCAR example)\")"
   ]
  },
  {
   "cell_type": "markdown",
   "id": "fccf81d5",
   "metadata": {
    "slideshow": {
     "slide_type": "fragment"
    }
   },
   "source": [
    "- Since the two distributions have slightly different shapes, but roughly the same center, we'll use the K-S statistic."
   ]
  },
  {
   "cell_type": "markdown",
   "id": "be3e8ff8",
   "metadata": {
    "slideshow": {
     "slide_type": "slide"
    }
   },
   "source": [
    "The `ks_2samp` function from `scipy.stats` can do the entire permutation test for us, if we want to use the K-S statistic!\n",
    "\n",
    "(If we want to use the difference of means, we'd have to run a `for`-loop.)"
   ]
  },
  {
   "cell_type": "code",
   "execution_count": null,
   "id": "0352cba1",
   "metadata": {},
   "outputs": [],
   "source": [
    "# 'father' when 'child' is missing.\n",
    "father_ch_mis = heights_mcar.loc[heights_mcar['child_missing'], 'father']\n",
    "\n",
    "# 'father' when 'child' is not missing.\n",
    "father_ch_not_mis = heights_mcar.loc[~heights_mcar['child_missing'], 'father']"
   ]
  },
  {
   "cell_type": "code",
   "execution_count": null,
   "id": "ad48ff81",
   "metadata": {},
   "outputs": [],
   "source": [
    "from scipy.stats import ks_2samp\n",
    "\n",
    "ks_2samp(father_ch_mis, father_ch_not_mis)"
   ]
  },
  {
   "cell_type": "markdown",
   "id": "1f4d9b92",
   "metadata": {
    "slideshow": {
     "slide_type": "fragment"
    }
   },
   "source": [
    "- This states that if the missingness of `'child'` is truly unrelated to the distribution of `'father'`, then the chance of seeing two distributions that are as or more different than our two observed `'father'` distributions is 16.8%."
   ]
  },
  {
   "cell_type": "markdown",
   "id": "7763576c",
   "metadata": {
    "slideshow": {
     "slide_type": "fragment"
    }
   },
   "source": [
    "- We fail to reject the null – it looks like the missingness of `'child'` is likely unrelated to the distribution of `'father'`."
   ]
  },
  {
   "cell_type": "markdown",
   "id": "9a7cd35e",
   "metadata": {
    "slideshow": {
     "slide_type": "slide"
    }
   },
   "source": [
    "### Discussion Question\n",
    "\n",
    "In this MCAR example, if we were to take the mean of the `'child'` column that contains missing values, is the result likely to:\n",
    "\n",
    "1. Overestimate the true mean?\n",
    "2. Underestimate the true mean?\n",
    "3. Be accurate?"
   ]
  },
  {
   "cell_type": "code",
   "execution_count": null,
   "id": "9b515604",
   "metadata": {},
   "outputs": [],
   "source": [
    "util.create_kde_plotly(heights_mcar[['child_missing', 'father']], 'child_missing', True, False, 'father',\n",
    "                       \"Father's Height by Missingness of Child Height (MCAR example)\")"
   ]
  },
  {
   "cell_type": "markdown",
   "id": "057756ae",
   "metadata": {
    "slideshow": {
     "slide_type": "slide"
    }
   },
   "source": [
    "### Example: Missingness of `'child'` heights on `'father'`'s heights (MAR)"
   ]
  },
  {
   "cell_type": "markdown",
   "id": "54017cc3",
   "metadata": {
    "slideshow": {
     "slide_type": "fragment"
    }
   },
   "source": [
    "- **Question:** Is the missingness of `'child'` heights dependent on the `'father'` column?"
   ]
  },
  {
   "cell_type": "markdown",
   "id": "49f9e9e7",
   "metadata": {
    "slideshow": {
     "slide_type": "fragment"
    }
   },
   "source": [
    "- We will follow the same procedure as before. The only difference is that the missing values in our simulated data are MAR dependent on `'father'`."
   ]
  },
  {
   "cell_type": "code",
   "execution_count": null,
   "id": "3592a5fe",
   "metadata": {},
   "outputs": [],
   "source": [
    "# Generating MAR data.\n",
    "heights_mar = util.make_mar_on_num(heights, 'child', 'father', pct=0.75)\n",
    "heights_mar.isna().mean()"
   ]
  },
  {
   "cell_type": "markdown",
   "id": "1a609393",
   "metadata": {
    "slideshow": {
     "slide_type": "slide"
    }
   },
   "source": [
    "### Example: Missingness of `'child'` heights on `'father'`'s heights (MAR)"
   ]
  },
  {
   "cell_type": "code",
   "execution_count": null,
   "id": "27634d9c",
   "metadata": {
    "slideshow": {
     "slide_type": "-"
    }
   },
   "outputs": [],
   "source": [
    "heights_mar['child_missing'] = heights_mar['child'].isna()\n",
    "util.create_kde_plotly(heights_mar[['child_missing', 'father']], 'child_missing', True, False, 'father',\n",
    "                       \"Father's Height by Missingness of Child Height (MAR example)\")"
   ]
  },
  {
   "cell_type": "markdown",
   "id": "dc833c45",
   "metadata": {
    "slideshow": {
     "slide_type": "fragment"
    }
   },
   "source": [
    "- The above picture shows us that missing `'child'` heights tend to come from taller `'father'`s heights."
   ]
  },
  {
   "cell_type": "markdown",
   "id": "149c69d7",
   "metadata": {
    "slideshow": {
     "slide_type": "fragment"
    }
   },
   "source": [
    "- To determine whether the two distributions are significantly different, we must use a permutation test. This time, the difference in means is a good choice, since the shapes are similar but the centers are different."
   ]
  },
  {
   "cell_type": "markdown",
   "id": "26b48cae",
   "metadata": {
    "slideshow": {
     "slide_type": "slide"
    }
   },
   "source": [
    "### Discussion Question\n",
    "\n",
    "In this MAR example, if we were to take the mean of the `'child'` column that contains missing values, is the result likely to:\n",
    "\n",
    "1. Overestimate the true mean?\n",
    "2. Underestimate the true mean?\n",
    "3. Be accurate?"
   ]
  },
  {
   "cell_type": "code",
   "execution_count": null,
   "id": "ff97758d",
   "metadata": {},
   "outputs": [],
   "source": [
    "util.create_kde_plotly(heights_mar[['child_missing', 'father']], 'child_missing', True, False, 'father',\n",
    "                       \"Father's Height by Missingness of Child Height (MAR example)\")"
   ]
  },
  {
   "cell_type": "markdown",
   "id": "74869575",
   "metadata": {
    "slideshow": {
     "slide_type": "slide"
    }
   },
   "source": [
    "## Handling missing values"
   ]
  },
  {
   "cell_type": "markdown",
   "id": "44562e8d",
   "metadata": {
    "slideshow": {
     "slide_type": "slide"
    }
   },
   "source": [
    "### What do we do with missing data?\n",
    "\n",
    "- Suppose we are interested in a dataset $Y$. \n",
    "- We get to **observe** $Y_{obs}$, while the rest of the dataset, $Y_{mis}$, is **missing**.\n",
    "- Issue: $Y_{obs}$ may look quite different than $Y$.\n",
    "    - The mean and other measures of central tendency may be different.\n",
    "    - The variance may be different.\n",
    "    - The correlations between variables may be different."
   ]
  },
  {
   "cell_type": "markdown",
   "id": "e859698f",
   "metadata": {
    "slideshow": {
     "slide_type": "slide"
    }
   },
   "source": [
    "### Solution 1: Dropping missing values"
   ]
  },
  {
   "cell_type": "markdown",
   "id": "f4115f43",
   "metadata": {
    "slideshow": {
     "slide_type": "fragment"
    }
   },
   "source": [
    "- If the data are MCAR (missing completely at random), then dropping the missing values entirely doesn't significantly change the data.\n",
    "    - For instance, the mean of the dataset post-dropping is an unbiased estimate of the true mean.\n",
    "    - This is because MCAR data is a **random sample** of the full dataset.\n",
    "    - From DSC 10, we know that random samples tend to resemble the larger populations they are drawn from."
   ]
  },
  {
   "cell_type": "markdown",
   "id": "6166f059",
   "metadata": {
    "slideshow": {
     "slide_type": "fragment"
    }
   },
   "source": [
    "- **If the data are not MCAR, then dropping the missing values will introduce bias.**\n",
    "    - MCAR is rare!\n",
    "    - For instance, suppose we asked people \"How much do you give to charity?\" People who give little are less likely to respond, so the average response is **biased high**."
   ]
  },
  {
   "cell_type": "markdown",
   "id": "0f898576",
   "metadata": {
    "slideshow": {
     "slide_type": "slide"
    }
   },
   "source": [
    "### Listwise deletion\n",
    "\n",
    "- _Listwise deletion_ is the act of dropping entire rows that contain missing values.\n",
    "- Issue: This can delete perfectly good data in other columns for a given row.\n",
    "    - Improvement: Drop missing data only when working with the column that contains missing data."
   ]
  },
  {
   "cell_type": "markdown",
   "id": "d6716964",
   "metadata": {
    "slideshow": {
     "slide_type": "slide"
    }
   },
   "source": [
    "To illustrate, let's generate two datasets with missing `'child'` heights – one in which the heights are MCAR, and one in which they are MAR dependent on `'gender'` (**not** `'father'`, as in our previous example).\n",
    "\n",
    "**In practice, you'll have to run permutation tests to determine the likely missingness mechanism first!**"
   ]
  },
  {
   "cell_type": "code",
   "execution_count": null,
   "id": "926585b5",
   "metadata": {},
   "outputs": [],
   "source": [
    "np.random.seed(42) # So that we get the same results each time (for lecture).\n",
    "heights_mcar = util.make_mcar(heights, 'child', pct=0.5)\n",
    "heights_mar = util.make_mar_on_cat(heights, 'child', 'gender', pct=0.5)"
   ]
  },
  {
   "cell_type": "markdown",
   "id": "fd708948",
   "metadata": {
    "slideshow": {
     "slide_type": "slide"
    }
   },
   "source": [
    "### Listwise deletion\n",
    "\n",
    "Below, we compute the means and standard deviations of the `'child'` column in all three datasets. Remember, `.mean()` and `.std()` ignore missing values."
   ]
  },
  {
   "cell_type": "code",
   "execution_count": null,
   "id": "cb177bdc",
   "metadata": {},
   "outputs": [],
   "source": [
    "util.multiple_describe({\n",
    "    'Original': heights,\n",
    "    'MCAR': heights_mcar,\n",
    "    'MAR': heights_mar\n",
    "})"
   ]
  },
  {
   "cell_type": "markdown",
   "id": "23c74b86",
   "metadata": {
    "slideshow": {
     "slide_type": "fragment"
    }
   },
   "source": [
    "Observations:"
   ]
  },
  {
   "cell_type": "markdown",
   "id": "e16927c6",
   "metadata": {
    "slideshow": {
     "slide_type": "fragment"
    }
   },
   "source": [
    "- The `'child'` mean (and SD) in the MCAR dataset is very close to the true `'child'` mean (and SD)."
   ]
  },
  {
   "cell_type": "markdown",
   "id": "8893745d",
   "metadata": {
    "slideshow": {
     "slide_type": "fragment"
    }
   },
   "source": [
    "- The `'child'` mean in the MAR dataset is biased **high**."
   ]
  },
  {
   "cell_type": "markdown",
   "id": "fdcf5f05",
   "metadata": {
    "slideshow": {
     "slide_type": "slide"
    }
   },
   "source": [
    "### Solution 2: Imputation\n",
    "\n",
    "**Imputation** is the act of filling in missing data with plausable values. Ideally, imputation:\n",
    "\n",
    "* is quick and easy to do.\n",
    "* shouldn't introduce bias into the dataset.\n",
    "\n",
    "These are hard to do at the same time!"
   ]
  },
  {
   "cell_type": "markdown",
   "id": "baf869e5",
   "metadata": {
    "slideshow": {
     "slide_type": "slide"
    }
   },
   "source": [
    "### Kinds of imputation\n",
    "\n",
    "- There are three main types of imputation, two of which we will focus on today:\n",
    "\n",
    "    - **Imputation with a single value: mean, median, mode.**\n",
    "    - Imputation with a single value, using a model: regression, kNN.\n",
    "    - **Probabilistic imputation by drawing from a distribution.**\n",
    "\n",
    "- Each has upsides and downsides, and **each works differently with different types of missingness**."
   ]
  },
  {
   "cell_type": "markdown",
   "id": "d1e3bca0",
   "metadata": {
    "slideshow": {
     "slide_type": "slide"
    }
   },
   "source": [
    "## Mean imputation"
   ]
  },
  {
   "cell_type": "markdown",
   "id": "ffa679e7",
   "metadata": {
    "slideshow": {
     "slide_type": "slide"
    }
   },
   "source": [
    "### Mean imputation\n",
    "\n",
    "- Mean imputation is the act of filling in missing values in a column with the mean of the observed values in that column.\n",
    "- This strategy:\n",
    "    - 👍 Preserves the mean of the observed data, for all types of missingness.\n",
    "    - 👎 Decreases the variance of the data, for all types of missingness.\n",
    "    - 👎 Creates a biased estimate of the true mean when the data are not MCAR."
   ]
  },
  {
   "cell_type": "markdown",
   "id": "4158145a",
   "metadata": {
    "slideshow": {
     "slide_type": "slide"
    }
   },
   "source": [
    "### Example: Mean imputation in the MCAR `heights` dataset\n",
    "\n",
    "Let's look at two distributions:\n",
    "- The distribution of the `'child'` column in `heights`, where we have all the data.\n",
    "- The distribution of the `'child'` column in `heights_mcar`, where some values are MCAR."
   ]
  },
  {
   "cell_type": "code",
   "execution_count": null,
   "id": "a46c2fe5",
   "metadata": {
    "scrolled": false
   },
   "outputs": [],
   "source": [
    "# Look in util.py to see how multiple_kdes is defined.\n",
    "util.multiple_kdes({'Original': heights, 'MCAR, Unfilled': heights_mcar})"
   ]
  },
  {
   "cell_type": "markdown",
   "id": "e37ed603",
   "metadata": {
    "slideshow": {
     "slide_type": "fragment"
    }
   },
   "source": [
    "- Since the `'child'` heights are MCAR, the <span style='color:rgb(217,95,2)'><b> orange distribution, in which some values are missing</b></span>, has roughly the same shape as the <span style='color:rgb(27,158,119)'><b>turquoise distribution, which has no missing values</b></span>."
   ]
  },
  {
   "cell_type": "markdown",
   "id": "7b3c0acd",
   "metadata": {
    "slideshow": {
     "slide_type": "slide"
    }
   },
   "source": [
    "### Mean imputation of MCAR data\n",
    "\n",
    "Let's fill in missing values in `heights_mcar['child']` with the mean of the observed `'child'` heights in `heights_mcar['child']`."
   ]
  },
  {
   "cell_type": "code",
   "execution_count": null,
   "id": "737b8ef6",
   "metadata": {},
   "outputs": [],
   "source": [
    "heights_mcar['child'].head()"
   ]
  },
  {
   "cell_type": "code",
   "execution_count": null,
   "id": "1daeccff",
   "metadata": {},
   "outputs": [],
   "source": [
    "heights_mcar_mfilled = heights_mcar.fillna(heights_mcar['child'].mean())\n",
    "heights_mcar_mfilled['child'].head()"
   ]
  },
  {
   "cell_type": "code",
   "execution_count": null,
   "id": "1dda6c0d",
   "metadata": {},
   "outputs": [],
   "source": [
    "df_map = {'Original': heights, 'MCAR, Unfilled': heights_mcar, 'MCAR, Mean Imputed': heights_mcar_mfilled}\n",
    "util.multiple_describe(df_map)"
   ]
  },
  {
   "cell_type": "markdown",
   "id": "c7284d51",
   "metadata": {
    "slideshow": {
     "slide_type": "fragment"
    }
   },
   "source": [
    "Observations:"
   ]
  },
  {
   "cell_type": "markdown",
   "id": "26873e77",
   "metadata": {
    "slideshow": {
     "slide_type": "fragment"
    }
   },
   "source": [
    "- The mean of the imputed dataset is the same as the mean of the subset of heights that aren't missing (which is close to the true mean)."
   ]
  },
  {
   "cell_type": "markdown",
   "id": "332620c2",
   "metadata": {
    "slideshow": {
     "slide_type": "fragment"
    }
   },
   "source": [
    "- The standard deviation of the imputed dataset smaller than that of the other two datasets. **Why?**"
   ]
  },
  {
   "cell_type": "markdown",
   "id": "fc7958e5",
   "metadata": {
    "slideshow": {
     "slide_type": "slide"
    }
   },
   "source": [
    "### Mean imputation of MCAR data\n",
    "\n",
    "Let's visualize all three distributions: the original, the MCAR heights with missing values, and the mean-imputed MCAR heights."
   ]
  },
  {
   "cell_type": "code",
   "execution_count": null,
   "id": "568711a9",
   "metadata": {
    "scrolled": false
   },
   "outputs": [],
   "source": [
    "util.multiple_kdes(df_map)"
   ]
  },
  {
   "cell_type": "markdown",
   "id": "580208d6",
   "metadata": {},
   "source": [
    "**Takeaway**: When data are MCAR and you impute with the mean:\n",
    "- The mean of the imputed dataset is an **unbiased estimator** of the true mean.\n",
    "- The variance of the imputed dataset is smaller than the variance of the full dataset.\n",
    "    - Mean imputation tricks you into thinking your data are more reliable than they are!"
   ]
  },
  {
   "cell_type": "markdown",
   "id": "8ecb4ea3",
   "metadata": {
    "slideshow": {
     "slide_type": "slide"
    }
   },
   "source": [
    "### Example: Mean imputation in the MAR `heights` dataset"
   ]
  },
  {
   "cell_type": "markdown",
   "id": "831d0aea",
   "metadata": {
    "slideshow": {
     "slide_type": "fragment"
    }
   },
   "source": [
    "- When data are MAR, mean imputation leads to biased estimates of the mean across groups."
   ]
  },
  {
   "cell_type": "markdown",
   "id": "5ea3efd5",
   "metadata": {
    "slideshow": {
     "slide_type": "fragment"
    }
   },
   "source": [
    "- The bias may be different in different groups.\n",
    "    - For example: If the missingness depends on gender, then different genders will have differently-biased means.\n",
    "    - The overall mean will be biased towards one group."
   ]
  },
  {
   "cell_type": "markdown",
   "id": "57a37f50",
   "metadata": {
    "slideshow": {
     "slide_type": "fragment"
    }
   },
   "source": [
    "- Again, let's look at two distributions:\n",
    "    - The distribution of the `'child'` column in `heights`, where we have all the data.\n",
    "    - The distribution of the `'child'` column in `heights_mar`, where some values are MAR."
   ]
  },
  {
   "cell_type": "code",
   "execution_count": null,
   "id": "f51a8917",
   "metadata": {
    "scrolled": false,
    "slideshow": {
     "slide_type": "slide"
    }
   },
   "outputs": [],
   "source": [
    "util.multiple_kdes({'Original': heights, 'MAR, Unfilled': heights_mar})"
   ]
  },
  {
   "cell_type": "markdown",
   "id": "c73f57b5",
   "metadata": {
    "slideshow": {
     "slide_type": "fragment"
    }
   },
   "source": [
    "The distributions are not very similar!\n",
    "\n",
    "Remember that in reality, you won't get to see the <span style='color:rgb(27,158,119)'><b>turquoise distribution, which has no missing values</b></span> – instead, you'll try to recreate it, using your sample with missing values."
   ]
  },
  {
   "cell_type": "markdown",
   "id": "dd3fe43b",
   "metadata": {
    "slideshow": {
     "slide_type": "slide"
    }
   },
   "source": [
    "### Mean imputation of MAR data\n",
    "\n",
    "Let's fill in missing values in `heights_mar['child']` with the mean of the observed `'child'` heights in `heights_mar['child']` and see what happens."
   ]
  },
  {
   "cell_type": "code",
   "execution_count": null,
   "id": "6cd6bd2c",
   "metadata": {},
   "outputs": [],
   "source": [
    "heights_mar['child'].head()"
   ]
  },
  {
   "cell_type": "code",
   "execution_count": null,
   "id": "11675c9f",
   "metadata": {},
   "outputs": [],
   "source": [
    "heights_mar_mfilled = heights_mar.fillna(heights_mar['child'].mean())\n",
    "heights_mar_mfilled['child'].head()"
   ]
  },
  {
   "cell_type": "code",
   "execution_count": null,
   "id": "54d9fafd",
   "metadata": {},
   "outputs": [],
   "source": [
    "df_map = {'Original': heights, 'MAR, Unfilled': heights_mar, 'MAR, Mean Imputed': heights_mar_mfilled}\n",
    "util.multiple_describe(df_map)"
   ]
  },
  {
   "cell_type": "markdown",
   "id": "ddab62dc",
   "metadata": {
    "slideshow": {
     "slide_type": "fragment"
    }
   },
   "source": [
    "Note that the latter two means are biased **high**."
   ]
  },
  {
   "cell_type": "markdown",
   "id": "142a92a0",
   "metadata": {
    "slideshow": {
     "slide_type": "slide"
    }
   },
   "source": [
    "### Mean imputation of MAR data\n",
    "\n",
    "Let's visualize all three distributions: the original, the MAR heights with missing values, and the mean-imputed MAR heights."
   ]
  },
  {
   "cell_type": "code",
   "execution_count": null,
   "id": "8990427c",
   "metadata": {},
   "outputs": [],
   "source": [
    "util.multiple_kdes(df_map)"
   ]
  },
  {
   "cell_type": "markdown",
   "id": "8c41cddd",
   "metadata": {},
   "source": [
    "Since the sample with MAR values was already biased high, mean imputation kept the sample biased – it did not bring the data **closer to the data generating process**."
   ]
  },
  {
   "cell_type": "markdown",
   "id": "35ab1f17",
   "metadata": {
    "slideshow": {
     "slide_type": "slide"
    }
   },
   "source": [
    "With our single mean imputation strategy, the resulting female mean height is biased quite high."
   ]
  },
  {
   "cell_type": "code",
   "execution_count": null,
   "id": "c7147d92",
   "metadata": {},
   "outputs": [],
   "source": [
    "pd.concat([\n",
    "    heights.groupby('gender')['child'].mean().rename('Original'),\n",
    "    heights_mar.groupby('gender')['child'].mean().rename('MAR, Unfilled'),\n",
    "    heights_mar_mfilled.groupby('gender')['child'].mean().rename('MAR, Mean Imputed')\n",
    "], axis=1).T"
   ]
  },
  {
   "cell_type": "markdown",
   "id": "deca40b1",
   "metadata": {
    "slideshow": {
     "slide_type": "slide"
    }
   },
   "source": [
    "### Within-group (conditional) mean imputation"
   ]
  },
  {
   "cell_type": "markdown",
   "id": "5df79e03",
   "metadata": {
    "slideshow": {
     "slide_type": "fragment"
    }
   },
   "source": [
    "* **Improvement:** Since MAR data are MCAR within each group, we can perform group-wise mean imputation.\n",
    "    - In our case, since the missingness of `'child'` is dependent on `'gender'`, we can impute separately for each `'gender'`.\n",
    "    - For instance, if there is a missing `'child'` height for a `'female'` child, impute their height with the mean observed `'female'` height."
   ]
  },
  {
   "cell_type": "markdown",
   "id": "6521a2ef",
   "metadata": {
    "slideshow": {
     "slide_type": "fragment"
    }
   },
   "source": [
    "- With this technique, the overall mean remains unbiased, as do the within-group means."
   ]
  },
  {
   "cell_type": "markdown",
   "id": "c4d21324",
   "metadata": {
    "slideshow": {
     "slide_type": "fragment"
    }
   },
   "source": [
    "- Like with \"single\" mean imputation, the variance of the dataset is reduced."
   ]
  },
  {
   "cell_type": "markdown",
   "id": "0b02c4a6",
   "metadata": {
    "slideshow": {
     "slide_type": "slide"
    }
   },
   "source": [
    "### `transform` returns!\n",
    "\n",
    "- In MAR data, imputation by the overall mean gives a biased estimate of the mean of each group. \n",
    "- To obtain an unbiased estimate of the mean within each group, impute using the mean within each group.\n",
    "- To perform an operation separately to each gender, we `groupby('gender')` and use the `transform` method."
   ]
  },
  {
   "cell_type": "code",
   "execution_count": null,
   "id": "1281b978",
   "metadata": {},
   "outputs": [],
   "source": [
    "def mean_impute(ser):\n",
    "    return ser.fillna(ser.mean())\n",
    "\n",
    "heights_mar_cond = heights_mar.groupby('gender')['child'].transform(mean_impute).to_frame()\n",
    "heights_mar_cond['child'].head()"
   ]
  },
  {
   "cell_type": "code",
   "execution_count": null,
   "id": "82fc11b8",
   "metadata": {},
   "outputs": [],
   "source": [
    "df_map['MAR, Conditional Mean Imputed'] = heights_mar_cond\n",
    "util.multiple_kdes(df_map)"
   ]
  },
  {
   "cell_type": "markdown",
   "id": "7e8dbbba",
   "metadata": {
    "slideshow": {
     "slide_type": "fragment"
    }
   },
   "source": [
    "The <span style='color:rgb(231,41,138)'><b>pink distribution</b></span> does a better job of approximating the <span style='color:rgb(27,158,119)'><b>turquoise distribution</b></span> than the <span style='color:rgb(117,112,179)'><b>purple distribution</b></span>."
   ]
  },
  {
   "cell_type": "markdown",
   "id": "9b6a894f",
   "metadata": {
    "slideshow": {
     "slide_type": "slide"
    }
   },
   "source": [
    "### Conclusion: Imputation with single values\n",
    "\n",
    "- Imputing missing data in a column with the mean of the column:\n",
    "    - faithfully reproduces the mean of the observed dataset,\n",
    "    - reduces the variance, and\n",
    "    - biases relationships between the column and other columns if the data are not MCAR.\n",
    "    \n",
    "- The same is true with other statistics (e.g. median and mode)."
   ]
  },
  {
   "cell_type": "markdown",
   "id": "987dff83",
   "metadata": {
    "slideshow": {
     "slide_type": "slide"
    }
   },
   "source": [
    "## Probabilistic imputation"
   ]
  },
  {
   "cell_type": "markdown",
   "id": "fb5f5afd",
   "metadata": {
    "slideshow": {
     "slide_type": "slide"
    }
   },
   "source": [
    "### Imputing missing values using distributions"
   ]
  },
  {
   "cell_type": "markdown",
   "id": "d5cb8aaa",
   "metadata": {
    "slideshow": {
     "slide_type": "fragment"
    }
   },
   "source": [
    "- So far, each missing value in a column has been filled in with a constant value.\n",
    "    - This creates \"spikes\" in the imputed distributions."
   ]
  },
  {
   "cell_type": "markdown",
   "id": "c7c4698f",
   "metadata": {
    "slideshow": {
     "slide_type": "fragment"
    }
   },
   "source": [
    "- **Idea**: We can **probabilistically** impute missing data from a distribution.\n",
    "    - We can fill in missing data by drawing from the distribution of the **non-missing** data.\n",
    "    - There are 5 missing values? Pick 5 values from the data that aren't missing.\n",
    "     - How? Using `np.random.choice` or `.sample`."
   ]
  },
  {
   "cell_type": "markdown",
   "id": "032be30d",
   "metadata": {
    "slideshow": {
     "slide_type": "slide"
    }
   },
   "source": [
    "### Example: Probabilistic imputation in the MCAR `heights` dataset"
   ]
  },
  {
   "cell_type": "markdown",
   "id": "fecf8b53",
   "metadata": {
    "slideshow": {
     "slide_type": "fragment"
    }
   },
   "source": [
    "Step 1: Determine the number of missing values in the column of interest."
   ]
  },
  {
   "cell_type": "code",
   "execution_count": null,
   "id": "679c290d",
   "metadata": {},
   "outputs": [],
   "source": [
    "num_null = heights_mcar['child'].isna().sum()\n",
    "num_null"
   ]
  },
  {
   "cell_type": "markdown",
   "id": "2dad41c7",
   "metadata": {
    "slideshow": {
     "slide_type": "fragment"
    }
   },
   "source": [
    "Step 2: Sample that number of values from the observed values in the column of interest."
   ]
  },
  {
   "cell_type": "code",
   "execution_count": null,
   "id": "34572685",
   "metadata": {},
   "outputs": [],
   "source": [
    "fill_values = np.random.choice(heights_mcar['child'].dropna(), num_null)"
   ]
  },
  {
   "cell_type": "markdown",
   "id": "f361a002",
   "metadata": {
    "slideshow": {
     "slide_type": "fragment"
    }
   },
   "source": [
    "Step 3: Fill in the missing values with the sample from Step 2."
   ]
  },
  {
   "cell_type": "code",
   "execution_count": null,
   "id": "851d61d0",
   "metadata": {},
   "outputs": [],
   "source": [
    "heights_mcar_pfilled = heights_mcar.copy()\n",
    "heights_mcar_pfilled.loc[heights_mcar_pfilled['child'].isna(), 'child'] = fill_values"
   ]
  },
  {
   "cell_type": "markdown",
   "id": "14dafeb8",
   "metadata": {
    "slideshow": {
     "slide_type": "slide"
    }
   },
   "source": [
    "Let's look at the results."
   ]
  },
  {
   "cell_type": "code",
   "execution_count": null,
   "id": "1ba3ed9f",
   "metadata": {},
   "outputs": [],
   "source": [
    "df_map = {'Original': heights, \n",
    "          'MCAR, Unfilled': heights_mcar, \n",
    "          'MCAR, Probabilistically Imputed': heights_mcar_pfilled}"
   ]
  },
  {
   "cell_type": "code",
   "execution_count": null,
   "id": "78829e85",
   "metadata": {},
   "outputs": [],
   "source": [
    "util.multiple_describe(df_map)"
   ]
  },
  {
   "cell_type": "markdown",
   "id": "9882b3a8",
   "metadata": {},
   "source": [
    "Variance is preserved!"
   ]
  },
  {
   "cell_type": "code",
   "execution_count": null,
   "id": "7da39dc8",
   "metadata": {
    "scrolled": false,
    "slideshow": {
     "slide_type": "slide"
    }
   },
   "outputs": [],
   "source": [
    "util.multiple_kdes(df_map)"
   ]
  },
  {
   "cell_type": "markdown",
   "id": "608c003e",
   "metadata": {},
   "source": [
    "No spikes!"
   ]
  },
  {
   "cell_type": "markdown",
   "id": "3cf71df0",
   "metadata": {
    "slideshow": {
     "slide_type": "slide"
    }
   },
   "source": [
    "### Observations"
   ]
  },
  {
   "cell_type": "markdown",
   "id": "dc07f202",
   "metadata": {
    "slideshow": {
     "slide_type": "fragment"
    }
   },
   "source": [
    "- With this technique, the missing values were filled in with observed values in the dataset."
   ]
  },
  {
   "cell_type": "markdown",
   "id": "6973195f",
   "metadata": {
    "slideshow": {
     "slide_type": "fragment"
    }
   },
   "source": [
    "- If a value was never observed in the dataset, it will never be used to fill in a missing value.\n",
    "    - For instance, if the observed heights were 68, 69, and 69.5 inches, we will never fill a missing value with 68.5 inches even though it's a perfectly reasonable height."
   ]
  },
  {
   "cell_type": "markdown",
   "id": "4f8ca90f",
   "metadata": {
    "slideshow": {
     "slide_type": "fragment"
    }
   },
   "source": [
    "- Solution? Create a histogram (with `np.histogram`) to bin the data, then sample from the histogram.\n",
    "    - See Lab 5, Question 6."
   ]
  },
  {
   "cell_type": "markdown",
   "id": "7a5475ed",
   "metadata": {
    "slideshow": {
     "slide_type": "fragment"
    }
   },
   "source": [
    "- **Question**: How would we generalize this process for MAR data?"
   ]
  },
  {
   "cell_type": "markdown",
   "id": "dd86e579",
   "metadata": {
    "slideshow": {
     "slide_type": "slide"
    }
   },
   "source": [
    "### Randomness"
   ]
  },
  {
   "cell_type": "markdown",
   "id": "c6e75bb7",
   "metadata": {
    "slideshow": {
     "slide_type": "fragment"
    }
   },
   "source": [
    "- Unlike mean imputation, probabilistic imputation is **random** – each time you run the cell in which imputation is performed, the results could be different."
   ]
  },
  {
   "cell_type": "markdown",
   "id": "1e8da02e",
   "metadata": {
    "slideshow": {
     "slide_type": "fragment"
    }
   },
   "source": [
    "- If we're interested in estimating some population **parameter** given our (incomplete) sample, it's best not to rely on just a single random imputation."
   ]
  },
  {
   "cell_type": "markdown",
   "id": "be9b96e8",
   "metadata": {
    "slideshow": {
     "slide_type": "fragment"
    }
   },
   "source": [
    "- **Multiple imputation**: Generate multiple imputed datasets and aggregate the results!\n",
    "    - Similar to bootstrapping."
   ]
  },
  {
   "cell_type": "markdown",
   "id": "b893a4ba",
   "metadata": {
    "slideshow": {
     "slide_type": "slide"
    }
   },
   "source": [
    "### Multiple imputation\n",
    "\n",
    "Steps:"
   ]
  },
  {
   "cell_type": "markdown",
   "id": "4140bd05",
   "metadata": {
    "slideshow": {
     "slide_type": "fragment"
    }
   },
   "source": [
    "0. Start with observed and incomplete data. "
   ]
  },
  {
   "cell_type": "markdown",
   "id": "84cc6a7d",
   "metadata": {
    "slideshow": {
     "slide_type": "fragment"
    }
   },
   "source": [
    "1. Create $m$ **imputed** versions of the data through a probabilistic procedure.\n",
    "    - The imputed datasets are identical for the observed data entries.\n",
    "    - They differ in the imputed values. \n",
    "    - The differences reflect our **uncertainty** about what value to impute."
   ]
  },
  {
   "cell_type": "markdown",
   "id": "21e5f771",
   "metadata": {
    "slideshow": {
     "slide_type": "fragment"
    }
   },
   "source": [
    "2. Then, compute parameter estimates on **each** imputed dataset.\n",
    "    - For instance, the mean, standard deviation, median, etc."
   ]
  },
  {
   "cell_type": "markdown",
   "id": "8394c967",
   "metadata": {
    "slideshow": {
     "slide_type": "fragment"
    }
   },
   "source": [
    "3. Finally, pool the $m$ parameter estimates into one estimate."
   ]
  },
  {
   "cell_type": "markdown",
   "id": "5230ef90",
   "metadata": {
    "slideshow": {
     "slide_type": "slide"
    }
   },
   "source": [
    "### Multiple imputation\n",
    "\n",
    "Let's try this procedure out on the `heights_mcar` dataset."
   ]
  },
  {
   "cell_type": "code",
   "execution_count": null,
   "id": "e59d0d8e",
   "metadata": {},
   "outputs": [],
   "source": [
    "heights_mcar.head()"
   ]
  },
  {
   "cell_type": "code",
   "execution_count": null,
   "id": "4516230a",
   "metadata": {},
   "outputs": [],
   "source": [
    "# This function implements the 3-step process we studied earlier.\n",
    "def create_imputed(col):\n",
    "    col = col.copy()\n",
    "    num_null = col.isna().sum()\n",
    "    fill_values = np.random.choice(col.dropna(), num_null)\n",
    "    col[col.isna()] = fill_values\n",
    "    return col"
   ]
  },
  {
   "cell_type": "markdown",
   "id": "f4b6dfc3",
   "metadata": {},
   "source": [
    "Each time we run the following cell, it generates a new imputed version of the `'child'` column."
   ]
  },
  {
   "cell_type": "code",
   "execution_count": null,
   "id": "6c3150a2",
   "metadata": {},
   "outputs": [],
   "source": [
    "create_imputed(heights_mcar['child']).head()"
   ]
  },
  {
   "cell_type": "markdown",
   "id": "13eff734",
   "metadata": {},
   "source": [
    "Let's run the above procedure 100 times."
   ]
  },
  {
   "cell_type": "code",
   "execution_count": null,
   "id": "a6846822",
   "metadata": {},
   "outputs": [],
   "source": [
    "mult_imp = pd.concat([create_imputed(heights_mcar['child']).rename(k) for k in range(100)], axis=1)\n",
    "mult_imp.head()"
   ]
  },
  {
   "cell_type": "markdown",
   "id": "890eb62b",
   "metadata": {
    "slideshow": {
     "slide_type": "slide"
    }
   },
   "source": [
    "Let's plot some of the imputed columns on the previous slide."
   ]
  },
  {
   "cell_type": "code",
   "execution_count": null,
   "id": "be635de5",
   "metadata": {},
   "outputs": [],
   "source": [
    "# Random sample of 15 imputed columns.\n",
    "mult_imp_sample = mult_imp.sample(15, axis=1)\n",
    "fig = ff.create_distplot(mult_imp_sample.to_numpy().T, list(mult_imp_sample.columns), show_hist=False, show_rug=False)\n",
    "fig.update_xaxes(title='child')"
   ]
  },
  {
   "cell_type": "markdown",
   "id": "41d462c8",
   "metadata": {
    "slideshow": {
     "slide_type": "slide"
    }
   },
   "source": [
    "Let's look at the distribution of means across the imputed columns."
   ]
  },
  {
   "cell_type": "code",
   "execution_count": null,
   "id": "d4f4afe1",
   "metadata": {},
   "outputs": [],
   "source": [
    "px.histogram(pd.DataFrame(mult_imp.mean()), nbins=15, histnorm='probability',\n",
    "             title='Distribution of Imputed Sample Means')"
   ]
  },
  {
   "cell_type": "markdown",
   "id": "269efd96",
   "metadata": {
    "slideshow": {
     "slide_type": "slide"
    }
   },
   "source": [
    "## Summary, next time"
   ]
  },
  {
   "cell_type": "markdown",
   "id": "e1d8ef63",
   "metadata": {
    "slideshow": {
     "slide_type": "slide"
    }
   },
   "source": [
    "### Summary of imputation techniques\n",
    "\n",
    "* Listwise deletion.\n",
    "* Mean imputation.\n",
    "* Group-wise (conditional) mean imputation.\n",
    "* Probabilistic imputation.\n",
    "* Multiple imputation."
   ]
  },
  {
   "cell_type": "markdown",
   "id": "345a2875",
   "metadata": {
    "slideshow": {
     "slide_type": "slide"
    }
   },
   "source": [
    "### Summary: Listwise deletion\n",
    "\n",
    "* Procedure: `df = df.dropna()`.\n",
    "* If data are MCAR, listwise deletion doesn't change most summary statistics (mean, median, SD) of the data."
   ]
  },
  {
   "cell_type": "markdown",
   "id": "f7f440f8",
   "metadata": {
    "slideshow": {
     "slide_type": "slide"
    }
   },
   "source": [
    "### Summary: Mean imputation \n",
    "\n",
    "* Procedure: `df[col] = df[col].fillna(df[col].mean())`.\n",
    "* If data are MCAR, the resulting mean is an unbiased estimate of the true mean, but the variance is too low.\n",
    "* Analogue for categorical data: imputation with the mode."
   ]
  },
  {
   "cell_type": "markdown",
   "id": "bfa5b192",
   "metadata": {
    "slideshow": {
     "slide_type": "slide"
    }
   },
   "source": [
    "### Summary: Conditional mean imputation\n",
    "\n",
    "* Procedure: for a column `c1`, conditional on a second categorical column\n",
    "`c2`:\n",
    "\n",
    "```py\n",
    "means = df.groupby('c2').mean().to_dict()\n",
    "imputed = df['c1'].apply(lambda x: means[x] if np.isnan(x) else x)\n",
    "```\n",
    "\n",
    "* If data are MAR, the resulting mean is an unbiased estimate of the true mean, but the variance is too low.\n",
    "* This increases correlations between the columns.\n",
    "* If the column with missing values were dependent on *more than one* column, we can use linear regression to predict the missing value."
   ]
  },
  {
   "cell_type": "markdown",
   "id": "338ffe56",
   "metadata": {
    "slideshow": {
     "slide_type": "slide"
    }
   },
   "source": [
    "### Summary: Probabilistic imputation\n",
    "\n",
    "* Procedure: draw from the distribution of **observed data** to fill in missing values.\n",
    "* If data are MCAR, the resulting mean and variance are unbiased estimates of the true mean and variance.\n",
    "* Extending to the MAR case: draw from **conditional empirical distributions**.\n",
    "    - If data are conditional on a single categorical column `c2`, apply the MCAR procedure to the groups of `df.groupby(c2)`."
   ]
  },
  {
   "cell_type": "markdown",
   "id": "bef74415",
   "metadata": {
    "slideshow": {
     "slide_type": "slide"
    }
   },
   "source": [
    "### Summary: Multiple imputation\n",
    "\n",
    "* Procedure:\n",
    "    - Apply probabilistic imputation multiple times, resulting in $m$ imputed datasets.\n",
    "    - Compute statistics separately on the $m$ imputed datasets (e.g. compute the mean or correlation coefficient).\n",
    "    - Plot the distribution of these statistics and create confidence intervals.\n",
    "* If a column is missing conditional on multiple columns, your \"multiple imputations\" should include probabilistic imputations for each!"
   ]
  },
  {
   "cell_type": "markdown",
   "id": "0acc2e7a",
   "metadata": {
    "slideshow": {
     "slide_type": "slide"
    }
   },
   "source": [
    "### Next time\n",
    "\n",
    "- Introduction to HTTP.\n",
    "- Making requests."
   ]
  }
 ],
 "metadata": {
  "celltoolbar": "Slideshow",
  "kernelspec": {
   "display_name": "Python 3 (ipykernel)",
   "language": "python",
   "name": "python3"
  },
  "language_info": {
   "codemirror_mode": {
    "name": "ipython",
    "version": 3
   },
   "file_extension": ".py",
   "mimetype": "text/x-python",
   "name": "python",
   "nbconvert_exporter": "python",
   "pygments_lexer": "ipython3",
   "version": "3.9.6"
  },
  "livereveal": {
   "scroll": true
  },
  "rise": {
   "transition": "none"
  }
 },
 "nbformat": 4,
 "nbformat_minor": 5
}
