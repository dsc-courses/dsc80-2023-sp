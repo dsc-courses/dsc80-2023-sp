{
 "cells": [
  {
   "cell_type": "code",
   "execution_count": null,
   "id": "eeb8b201",
   "metadata": {
    "slideshow": {
     "slide_type": "skip"
    }
   },
   "outputs": [],
   "source": [
    "import pandas as pd\n",
    "import numpy as np\n",
    "import os\n",
    "\n",
    "pd.set_option('display.max_rows', 9)"
   ]
  },
  {
   "cell_type": "markdown",
   "id": "3143de48",
   "metadata": {
    "slideshow": {
     "slide_type": "slide"
    }
   },
   "source": [
    "# Lecture 2 – DataFrame Fundamentals\n",
    "\n",
    "## DSC 80, Spring 2023"
   ]
  },
  {
   "cell_type": "markdown",
   "id": "2a0d867d",
   "metadata": {
    "slideshow": {
     "slide_type": "slide"
    }
   },
   "source": [
    "### Announcements 📣\n",
    "\n",
    "- Lab 1 is released, and is due on **next Monday, April 10th at 11:59PM!**\n",
    "    - See the [Tech Support](https://dsc80.com/tech_support/#replicating-the-gradescope-environment) page for instructions and watch [this video 🎥](https://www.youtube.com/watch?v=PPKXJqu2XmY) for tips on how to set up your environment and work on assignments.\n",
    "- You may use a slip day, in which case the due date will be April 11th.\n",
    "- Discussion starts **today**.\n",
    "- Lecture recordings are available [here](https://podcast.ucsd.edu/watch/sp23/dsc80_a00).\n",
    "- Make sure to fill out the [Welcome Survey](https://docs.google.com/forms/d/e/1FAIpQLSfVuXEIVVs6AygLYkpS5KaQOTv3C7AObGdi2FD_LlmlJUOvdg/viewform)."
   ]
  },
  {
   "cell_type": "markdown",
   "id": "5a4afdd4",
   "metadata": {
    "slideshow": {
     "slide_type": "slide"
    }
   },
   "source": [
    "### Agenda\n",
    "\n",
    "- Introduction to `pandas`.\n",
    "- Selecting columns.\n",
    "    - `get` vs. `[]`.\n",
    "    - Useful Series methods.\n",
    "- Selecting rows (and columns).\n",
    "    - `loc` and `iloc`.\n",
    "    - Querying.\n",
    "    \n",
    "Remember, we are not going to cover every single detail! The [`pandas` documentation](https://pandas.pydata.org/docs/user_guide/index.html#user-guide) will be your friend."
   ]
  },
  {
   "cell_type": "markdown",
   "id": "018d58fd",
   "metadata": {
    "slideshow": {
     "slide_type": "slide"
    }
   },
   "source": [
    "## Introduction to `pandas` 🐼"
   ]
  },
  {
   "cell_type": "markdown",
   "id": "420e9507",
   "metadata": {
    "slideshow": {
     "slide_type": "slide"
    }
   },
   "source": [
    "### Baby pandas\n",
    "\n",
    "- a subset of pandas that is beginner friendly.\n",
    "<center><img src='imgs/babypanda.jpg' width=45%></center>"
   ]
  },
  {
   "cell_type": "markdown",
   "id": "8412e023",
   "metadata": {
    "slideshow": {
     "slide_type": "slide"
    }
   },
   "source": [
    "### pandas\n",
    "\n",
    "- everything that you learned in babypandas will carry over.\n",
    "<center><img src='imgs/angrypanda.jpg' width=60%></center>"
   ]
  },
  {
   "cell_type": "markdown",
   "id": "a7137020",
   "metadata": {
    "slideshow": {
     "slide_type": "slide"
    }
   },
   "source": [
    "### `pandas`\n",
    "\n",
    "<center><img src='imgs/pandas.png' width=200></center>\n",
    "\n",
    "- `pandas` is **the** Python library for tabular data manipulation.\n",
    "- Before `pandas` was developed, the standard data science workflow involved using multiple languages (Python, R, Java) in a single project.\n",
    "- Wes McKinney, the original developer of `pandas`, wanted a library which would allow everything to be done in Python.\n",
    "    - Python is faster to develop in than Java, and is more general-purpose than R."
   ]
  },
  {
   "cell_type": "markdown",
   "id": "d7a959a3",
   "metadata": {
    "slideshow": {
     "slide_type": "slide"
    }
   },
   "source": [
    "### `pandas` data structures\n",
    "\n",
    "There are three key data structures at the core of `pandas`:\n",
    "- DataFrame: 2 dimensional tables.\n",
    "- Series: 1 dimensional array-like object, typically representing a column or row.\n",
    "- Index: sequence of column or row labels.\n",
    "\n",
    "<center><img src='imgs/example-df.png' width=600></center>"
   ]
  },
  {
   "cell_type": "markdown",
   "id": "1129f156",
   "metadata": {
    "slideshow": {
     "slide_type": "slide"
    }
   },
   "source": [
    "### Importing `pandas` and related libraries\n",
    "\n",
    "We've already run this at the top of the notebook, so we won't repeat it here. But `pandas` is almost always imported in conjunction with `numpy`:\n",
    "\n",
    "<br>\n",
    "\n",
    "```py\n",
    "import pandas as pd\n",
    "import numpy as np\n",
    "```"
   ]
  },
  {
   "cell_type": "markdown",
   "id": "550b8979",
   "metadata": {
    "slideshow": {
     "slide_type": "slide"
    }
   },
   "source": [
    "### Example: Universities in California 📚\n",
    "\n",
    "To refresh our memory on the basics of `pandas`, let's work with a dataset that contains the name, location, enrollment, and founding date of most UCs and CSUs.\n",
    "\n",
    "- We use `pd.read_csv` to load a DataFrame from file.\n",
    "- Aside: `os.path.join('x', 'y.csv')` evaluates to `'x/y.csv'` on Unix machines and `'x\\y.csv'` on Windows."
   ]
  },
  {
   "cell_type": "code",
   "execution_count": null,
   "id": "f7789919",
   "metadata": {},
   "outputs": [],
   "source": [
    "schools_path = os.path.join('data', 'california_universities.csv')\n",
    "schools = pd.read_csv(schools_path)\n",
    "schools"
   ]
  },
  {
   "cell_type": "markdown",
   "id": "1bca973e",
   "metadata": {
    "slideshow": {
     "slide_type": "slide"
    }
   },
   "source": [
    "### Exploring a new DataFrame\n",
    "\n",
    "To extract the first or last few rows of a DataFrame, use the `head` or `tail` methods."
   ]
  },
  {
   "cell_type": "code",
   "execution_count": null,
   "id": "102c5ab5",
   "metadata": {
    "scrolled": true
   },
   "outputs": [],
   "source": [
    "schools.head()"
   ]
  },
  {
   "cell_type": "code",
   "execution_count": null,
   "id": "3454c528",
   "metadata": {},
   "outputs": [],
   "source": [
    "schools.tail(2)"
   ]
  },
  {
   "cell_type": "markdown",
   "id": "9e7d5287",
   "metadata": {
    "slideshow": {
     "slide_type": "fragment"
    }
   },
   "source": [
    "The `shape` attribute returns the DataFrame's number of rows and columns."
   ]
  },
  {
   "cell_type": "code",
   "execution_count": null,
   "id": "9223b46e",
   "metadata": {},
   "outputs": [],
   "source": [
    "schools.shape"
   ]
  },
  {
   "cell_type": "markdown",
   "id": "fe60b3c2",
   "metadata": {
    "slideshow": {
     "slide_type": "slide"
    }
   },
   "source": [
    "### The anatomy of a DataFrame\n",
    "\n",
    "Each row and column of a DataFrame is a Series. \n",
    "- Note that Series' look like arrays, but contain an index.\n",
    "- The column labels and row labels are each stored as `Index` types.\n",
    "- You can think of a DataFrame as a dictionary that maps column names to Series."
   ]
  },
  {
   "cell_type": "code",
   "execution_count": null,
   "id": "ef6138ec",
   "metadata": {
    "scrolled": true
   },
   "outputs": [],
   "source": [
    "schools"
   ]
  },
  {
   "cell_type": "code",
   "execution_count": null,
   "id": "67ba4b79",
   "metadata": {},
   "outputs": [],
   "source": [
    "# Index is 0, 1, 2, ..., 31\n",
    "schools['City']"
   ]
  },
  {
   "cell_type": "code",
   "execution_count": null,
   "id": "1c35cee0",
   "metadata": {},
   "outputs": [],
   "source": [
    "# The default index of a DataFrame is 0, 1, 2, 3, ...\n",
    "schools.index"
   ]
  },
  {
   "cell_type": "code",
   "execution_count": null,
   "id": "a822e241",
   "metadata": {},
   "outputs": [],
   "source": [
    "# Index is 'Name', 'City', 'County', ...\n",
    "schools.iloc[-5]"
   ]
  },
  {
   "cell_type": "code",
   "execution_count": null,
   "id": "2e778b0d",
   "metadata": {},
   "outputs": [],
   "source": [
    "schools.columns"
   ]
  },
  {
   "cell_type": "markdown",
   "id": "2585a295",
   "metadata": {
    "slideshow": {
     "slide_type": "slide"
    }
   },
   "source": [
    "### Sorting\n",
    "\n",
    "The order of the rows in `schools` does not seem to be meaningful right now. To sort by a column, use the `sort_values` method. Like most DataFrame and Series methods, `sort_values` returns a new DataFrame, and doesn't modify the original."
   ]
  },
  {
   "cell_type": "code",
   "execution_count": null,
   "id": "b796ba66",
   "metadata": {},
   "outputs": [],
   "source": [
    "schools"
   ]
  },
  {
   "cell_type": "code",
   "execution_count": null,
   "id": "6495fe7e",
   "metadata": {
    "scrolled": true
   },
   "outputs": [],
   "source": [
    "schools.sort_values('Founded')"
   ]
  },
  {
   "cell_type": "code",
   "execution_count": null,
   "id": "4e8d5a85",
   "metadata": {},
   "outputs": [],
   "source": [
    "schools.sort_values('Name', ascending=False)"
   ]
  },
  {
   "cell_type": "code",
   "execution_count": null,
   "id": "7e5f2ed1",
   "metadata": {},
   "outputs": [],
   "source": [
    "# Why isn't this sorting correctly?\n",
    "schools.sort_values('Enrollment')"
   ]
  },
  {
   "cell_type": "markdown",
   "id": "3e14a96f",
   "metadata": {
    "slideshow": {
     "slide_type": "slide"
    }
   },
   "source": [
    "### Setting the index\n",
    "\n",
    "Think of each row's index as its **unique identifier** or **name**. Often, we like to set the index of a DataFrame to a unique identifier if we have one available. We can do so with the `set_index` method."
   ]
  },
  {
   "cell_type": "code",
   "execution_count": null,
   "id": "febd1498",
   "metadata": {},
   "outputs": [],
   "source": [
    "# By reassigning schools, our changes will persist.\n",
    "schools = schools.set_index('Name')\n",
    "schools"
   ]
  },
  {
   "cell_type": "code",
   "execution_count": null,
   "id": "99147102",
   "metadata": {},
   "outputs": [],
   "source": [
    "# Only 4 columns now!\n",
    "schools.shape"
   ]
  },
  {
   "cell_type": "markdown",
   "id": "58124491",
   "metadata": {
    "slideshow": {
     "slide_type": "slide"
    }
   },
   "source": [
    "## Selecting columns"
   ]
  },
  {
   "cell_type": "markdown",
   "id": "9c142aa3",
   "metadata": {
    "slideshow": {
     "slide_type": "slide"
    }
   },
   "source": [
    "### Selecting columns in `babypandas` 👶🐼\n",
    "\n",
    "- In `babypandas`, you selected columns using the `.get` method.\n",
    "- `.get` also works in `pandas`, but it is not **idiomatic** – people don't usually use it."
   ]
  },
  {
   "cell_type": "code",
   "execution_count": null,
   "id": "0b2c4566",
   "metadata": {},
   "outputs": [],
   "source": [
    "schools"
   ]
  },
  {
   "cell_type": "code",
   "execution_count": null,
   "id": "d7b67995",
   "metadata": {},
   "outputs": [],
   "source": [
    "schools.get('County')"
   ]
  },
  {
   "cell_type": "code",
   "execution_count": null,
   "id": "9749741a",
   "metadata": {},
   "outputs": [],
   "source": [
    "# This doesn't error, but sometimes we'd like it to.\n",
    "schools.get('State')"
   ]
  },
  {
   "cell_type": "markdown",
   "id": "d2db466c",
   "metadata": {
    "slideshow": {
     "slide_type": "slide"
    }
   },
   "source": [
    "### Selecting columns with `[]`\n",
    "\n",
    "- The standard way to select a column in `pandas` is by using the `[]` operator.\n",
    "    - Think of a DataFrame as a dictionary of arrays!\n",
    "* Specifying a column name returns the column as a Series.\n",
    "* Specifying a list of column names returns a DataFrame."
   ]
  },
  {
   "cell_type": "code",
   "execution_count": null,
   "id": "e5fe2c2a",
   "metadata": {},
   "outputs": [],
   "source": [
    "schools"
   ]
  },
  {
   "cell_type": "code",
   "execution_count": null,
   "id": "afdc913a",
   "metadata": {},
   "outputs": [],
   "source": [
    "# Returns a Series.\n",
    "schools['City']"
   ]
  },
  {
   "cell_type": "code",
   "execution_count": null,
   "id": "2cf38cf3",
   "metadata": {},
   "outputs": [],
   "source": [
    "# Returns a DataFrame.\n",
    "schools[['Founded', 'County']]"
   ]
  },
  {
   "cell_type": "code",
   "execution_count": null,
   "id": "f33f6513",
   "metadata": {},
   "outputs": [],
   "source": [
    "# 🤔\n",
    "schools[['Founded']]"
   ]
  },
  {
   "cell_type": "code",
   "execution_count": null,
   "id": "7d620b54",
   "metadata": {},
   "outputs": [],
   "source": [
    "# Names are stored in the index, which is not a column!\n",
    "schools['Name']"
   ]
  },
  {
   "cell_type": "code",
   "execution_count": null,
   "id": "74ce6f66",
   "metadata": {
    "scrolled": false
   },
   "outputs": [],
   "source": [
    "schools.index"
   ]
  },
  {
   "cell_type": "markdown",
   "id": "77e32b3c",
   "metadata": {
    "slideshow": {
     "slide_type": "slide"
    }
   },
   "source": [
    "### Useful Series methods\n",
    "\n",
    "There are a variety of useful methods that work on Series. You can see the entire list [here](https://pandas.pydata.org/docs/reference/api/pandas.Series.html). As we'll see next lecture, many of these methods work on DataFrames directly, too – how?"
   ]
  },
  {
   "cell_type": "code",
   "execution_count": null,
   "id": "0968fb48",
   "metadata": {
    "scrolled": true
   },
   "outputs": [],
   "source": [
    "schools"
   ]
  },
  {
   "cell_type": "code",
   "execution_count": null,
   "id": "74caa584",
   "metadata": {
    "slideshow": {
     "slide_type": "skip"
    }
   },
   "outputs": [],
   "source": [
    "# What's the most common county?\n",
    "schools['County'].mode()"
   ]
  },
  {
   "cell_type": "code",
   "execution_count": null,
   "id": "014e7e53",
   "metadata": {},
   "outputs": [],
   "source": [
    "# How many unique counties are represented?\n",
    "schools['County'].nunique()"
   ]
  },
  {
   "cell_type": "code",
   "execution_count": null,
   "id": "660aef64",
   "metadata": {},
   "outputs": [],
   "source": [
    "# What's the distribution of counties?\n",
    "schools['County'].value_counts()"
   ]
  },
  {
   "cell_type": "code",
   "execution_count": null,
   "id": "d0da3249",
   "metadata": {},
   "outputs": [],
   "source": [
    "# What's the mean of the 'Founded' column?\n",
    "schools['Founded'].mean()"
   ]
  },
  {
   "cell_type": "code",
   "execution_count": null,
   "id": "93c6f30c",
   "metadata": {
    "scrolled": true
   },
   "outputs": [],
   "source": [
    "# Tell me more about the 'Founded' column.\n",
    "schools['Founded'].describe()"
   ]
  },
  {
   "cell_type": "code",
   "execution_count": null,
   "id": "be6b5ebc",
   "metadata": {},
   "outputs": [],
   "source": [
    "# Sort the 'Founded' column. Note that here we're using sort_values on a Series, not a DataFrame!\n",
    "schools['Founded'].sort_values()"
   ]
  },
  {
   "cell_type": "markdown",
   "id": "c7bd05aa",
   "metadata": {
    "slideshow": {
     "slide_type": "slide"
    }
   },
   "source": [
    "## Selecting rows (and columns)"
   ]
  },
  {
   "cell_type": "markdown",
   "id": "35004e1e",
   "metadata": {
    "slideshow": {
     "slide_type": "slide"
    }
   },
   "source": [
    "### Using `loc` to select rows using row labels\n",
    "\n",
    "If `df` is a DataFrame, then:\n",
    "* `df.loc[idx]` returns the Series whose index is `idx`.\n",
    "* `df.loc[idx_list]` returns a DataFrame containing the rows whose indexes are in `idx_list`."
   ]
  },
  {
   "cell_type": "code",
   "execution_count": null,
   "id": "bd7d016d",
   "metadata": {},
   "outputs": [],
   "source": [
    "schools"
   ]
  },
  {
   "cell_type": "code",
   "execution_count": null,
   "id": "1fc62b35",
   "metadata": {},
   "outputs": [],
   "source": [
    "schools.loc['University of California, San Diego']"
   ]
  },
  {
   "cell_type": "code",
   "execution_count": null,
   "id": "4c8ba092",
   "metadata": {},
   "outputs": [],
   "source": [
    "schools.loc[['University of California, San Diego', 'San Diego State University']]"
   ]
  },
  {
   "cell_type": "markdown",
   "id": "1ff03807",
   "metadata": {
    "slideshow": {
     "slide_type": "slide"
    }
   },
   "source": [
    "### Boolean indexing\n",
    "\n",
    "* The `loc` operator also supports Boolean sequences (lists, arrays, Series) as input. \n",
    "* The length of the sequence must be the same as the number of rows in the DataFrame. \n",
    "* The result is a filtered DataFrame, containing only the rows in which the sequence contained `True`."
   ]
  },
  {
   "cell_type": "code",
   "execution_count": null,
   "id": "6829ba79",
   "metadata": {},
   "outputs": [],
   "source": [
    "schools"
   ]
  },
  {
   "cell_type": "code",
   "execution_count": null,
   "id": "0dd1f26f",
   "metadata": {},
   "outputs": [],
   "source": [
    "random_bools = np.random.choice([True, False], 32)\n",
    "random_bools"
   ]
  },
  {
   "cell_type": "code",
   "execution_count": null,
   "id": "e6ce5571",
   "metadata": {},
   "outputs": [],
   "source": [
    "schools.loc[random_bools]"
   ]
  },
  {
   "cell_type": "markdown",
   "id": "e5adb344",
   "metadata": {
    "slideshow": {
     "slide_type": "slide"
    }
   },
   "source": [
    "### Querying\n",
    "\n",
    "- Querying is the act of selecting rows in a DataFrame that satisfy certain condition(s).\n",
    "- Comparisons with arrays (Series) result in Boolean arrays (Series).\n",
    "- We can use comparisons along with the `loc` operator to **query** a DataFrame.\n"
   ]
  },
  {
   "cell_type": "code",
   "execution_count": null,
   "id": "fe2f73f5",
   "metadata": {},
   "outputs": [],
   "source": [
    "schools"
   ]
  },
  {
   "cell_type": "code",
   "execution_count": null,
   "id": "7535d099",
   "metadata": {},
   "outputs": [],
   "source": [
    "schools['Founded'] > 1998"
   ]
  },
  {
   "cell_type": "code",
   "execution_count": null,
   "id": "1a5d4708",
   "metadata": {},
   "outputs": [],
   "source": [
    "schools.loc[schools['Founded'] > 1998]"
   ]
  },
  {
   "cell_type": "code",
   "execution_count": null,
   "id": "19b4136d",
   "metadata": {},
   "outputs": [],
   "source": [
    "schools.loc[schools.index.str.contains('University of California')]"
   ]
  },
  {
   "cell_type": "code",
   "execution_count": null,
   "id": "9318edf4",
   "metadata": {},
   "outputs": [],
   "source": [
    "# Using loc is not strictly necessary when indexing with Boolean sequences.\n",
    "schools[schools.index.str.contains('University of California')]"
   ]
  },
  {
   "cell_type": "markdown",
   "id": "a3161a69",
   "metadata": {
    "slideshow": {
     "slide_type": "slide"
    }
   },
   "source": [
    "Note that because we set the index to `'Name'` earlier, we can select rows based on school names without having to query."
   ]
  },
  {
   "cell_type": "code",
   "execution_count": null,
   "id": "436fa37d",
   "metadata": {},
   "outputs": [],
   "source": [
    "schools"
   ]
  },
  {
   "cell_type": "code",
   "execution_count": null,
   "id": "97fd3438",
   "metadata": {},
   "outputs": [],
   "source": [
    "# Series!\n",
    "schools.loc['University of California, San Diego']"
   ]
  },
  {
   "cell_type": "markdown",
   "id": "46e8bf7a",
   "metadata": {},
   "source": [
    "If `'Name'` was instead a column, then we'd need to query to access information about a particular school."
   ]
  },
  {
   "cell_type": "code",
   "execution_count": null,
   "id": "b461d5f8",
   "metadata": {},
   "outputs": [],
   "source": [
    "schools_reset = schools.reset_index()\n",
    "schools_reset"
   ]
  },
  {
   "cell_type": "code",
   "execution_count": null,
   "id": "2d0518f1",
   "metadata": {},
   "outputs": [],
   "source": [
    "# DataFrame!\n",
    "schools_reset[schools_reset['Name'] == 'University of California, San Diego']"
   ]
  },
  {
   "cell_type": "markdown",
   "id": "2aac80c1",
   "metadata": {
    "slideshow": {
     "slide_type": "slide"
    }
   },
   "source": [
    "### Discussion Question\n",
    "\n",
    "Write an expression that evaluates to the number of UC schools founded after 1950."
   ]
  },
  {
   "cell_type": "code",
   "execution_count": null,
   "id": "fb471ddc",
   "metadata": {},
   "outputs": [],
   "source": [
    "schools.loc[(schools.index.str.contains('University of California')) & (schools['Founded']>1950)].shape[0]"
   ]
  },
  {
   "cell_type": "markdown",
   "id": "0c034c3c",
   "metadata": {
    "slideshow": {
     "slide_type": "slide"
    }
   },
   "source": [
    "### Selecting columns and rows simultaneously\n",
    "\n",
    "So far, we used `[]` to select columns and `loc` to select rows.\n",
    "\n",
    "For instance, to find the cities for all schools in San Diego county:"
   ]
  },
  {
   "cell_type": "code",
   "execution_count": null,
   "id": "3f597624",
   "metadata": {},
   "outputs": [],
   "source": [
    "schools"
   ]
  },
  {
   "cell_type": "code",
   "execution_count": null,
   "id": "6cc550d6",
   "metadata": {},
   "outputs": [],
   "source": [
    "schools.loc[schools['County'] == 'San Diego']['City']"
   ]
  },
  {
   "cell_type": "markdown",
   "id": "8a58ac89",
   "metadata": {
    "slideshow": {
     "slide_type": "slide"
    }
   },
   "source": [
    "### Selecting columns and rows simultaneously\n",
    "\n",
    "`loc` can also be used to select both rows and columns. The general pattern is:\n",
    "\n",
    "```py\n",
    "df.loc[<row selector>, <column selector>]\n",
    "```\n",
    "\n",
    "Examples:\n",
    "- `df.loc[idx_list, col_list]` returns a DataFrame containing the rows in `idx_list` and columns in `col_list`.\n",
    "- `df.loc[bool_arr, col_list]` returns a DataFrame contaning the rows for which `bool_arr` is `True` and columns in `col_list`.\n",
    "- Both the row and column selectors can be **slices**, which use `:` syntax (e.g. `'City': 'Enrollment'`).\n",
    "\n",
    "There are many, many more – see the [`pandas` documentation](https://pandas.pydata.org/docs/user_guide/index.html#user-guide) for more."
   ]
  },
  {
   "cell_type": "code",
   "execution_count": null,
   "id": "fef6f9fe",
   "metadata": {},
   "outputs": [],
   "source": [
    "schools"
   ]
  },
  {
   "cell_type": "code",
   "execution_count": null,
   "id": "a77a8b8b",
   "metadata": {},
   "outputs": [],
   "source": [
    "# Find the city and enrollment for all schools in San Diego county.\n",
    "schools.loc[schools['County'] == 'San Diego', ['City', 'Enrollment']]"
   ]
  },
  {
   "cell_type": "code",
   "execution_count": null,
   "id": "173b72f0",
   "metadata": {},
   "outputs": [],
   "source": [
    "# Find the county, enrollment, and year founded for all schools founded after 1950.\n",
    "schools.loc[schools['Founded'] > 1950, 'County':]"
   ]
  },
  {
   "cell_type": "markdown",
   "id": "4e1a3a89",
   "metadata": {
    "slideshow": {
     "slide_type": "slide"
    }
   },
   "source": [
    "### Don't forget `iloc`!\n",
    "\n",
    "- `iloc` stands for \"integer location\".\n",
    "- `iloc` is like `loc`, but it selects rows and columns based off of integer positions only."
   ]
  },
  {
   "cell_type": "code",
   "execution_count": null,
   "id": "2e3b6051",
   "metadata": {},
   "outputs": [],
   "source": [
    "schools"
   ]
  },
  {
   "cell_type": "code",
   "execution_count": null,
   "id": "dd494f9f",
   "metadata": {},
   "outputs": [],
   "source": [
    "schools.iloc[3:7, :-1]"
   ]
  },
  {
   "cell_type": "markdown",
   "id": "53425cfc",
   "metadata": {},
   "source": [
    "`iloc` is often most useful when we sort first. For instance, to find the enrollment of the youngest school in the dataset:"
   ]
  },
  {
   "cell_type": "code",
   "execution_count": null,
   "id": "d3069864",
   "metadata": {},
   "outputs": [],
   "source": [
    "schools.sort_values('Founded', ascending=False)['Enrollment'].iloc[0]"
   ]
  },
  {
   "cell_type": "code",
   "execution_count": null,
   "id": "1878d0e5",
   "metadata": {},
   "outputs": [],
   "source": [
    "# Finding the name involves sorting, but not iloc.\n",
    "schools.sort_values('Founded', ascending=False).index[0]"
   ]
  },
  {
   "cell_type": "markdown",
   "id": "0e0f6afd",
   "metadata": {
    "slideshow": {
     "slide_type": "slide"
    }
   },
   "source": [
    "### More Practice\n",
    "\n",
    "Consider the DataFrame below."
   ]
  },
  {
   "cell_type": "code",
   "execution_count": null,
   "id": "84d1dd06",
   "metadata": {},
   "outputs": [],
   "source": [
    "jack = pd.DataFrame({1: ['fee', 'fi'], \n",
    "                     '1': ['fo', 'fum']})\n",
    "jack"
   ]
  },
  {
   "cell_type": "markdown",
   "id": "420f47d8",
   "metadata": {},
   "source": [
    "For each of the following pieces of code, predict what the output will be. Then, uncomment the line of code and see for yourself. We may not be able to cover these all in class; if so, make sure to try them on your own."
   ]
  },
  {
   "cell_type": "code",
   "execution_count": null,
   "id": "660fa42d",
   "metadata": {},
   "outputs": [],
   "source": [
    "# jack[1]"
   ]
  },
  {
   "cell_type": "code",
   "execution_count": null,
   "id": "ac5ad541",
   "metadata": {},
   "outputs": [],
   "source": [
    "# jack[[1]]"
   ]
  },
  {
   "cell_type": "code",
   "execution_count": null,
   "id": "0c1f7c00",
   "metadata": {},
   "outputs": [],
   "source": [
    "# jack['1']"
   ]
  },
  {
   "cell_type": "code",
   "execution_count": null,
   "id": "24a90b6b",
   "metadata": {},
   "outputs": [],
   "source": [
    "# jack[[1, 1]]"
   ]
  },
  {
   "cell_type": "code",
   "execution_count": null,
   "id": "bda6e0f9",
   "metadata": {},
   "outputs": [],
   "source": [
    "# jack.loc[1]"
   ]
  },
  {
   "cell_type": "code",
   "execution_count": null,
   "id": "bb96863b",
   "metadata": {},
   "outputs": [],
   "source": [
    "# jack.loc[jack[1] == 'fo']"
   ]
  },
  {
   "cell_type": "code",
   "execution_count": null,
   "id": "b83cc118",
   "metadata": {},
   "outputs": [],
   "source": [
    "# jack[1, ['1', 1]]"
   ]
  },
  {
   "cell_type": "code",
   "execution_count": null,
   "id": "4a157e2f",
   "metadata": {},
   "outputs": [],
   "source": [
    "# jack.loc[1,1]"
   ]
  },
  {
   "cell_type": "markdown",
   "id": "78158504",
   "metadata": {
    "slideshow": {
     "slide_type": "slide"
    }
   },
   "source": [
    "## Summary, next time"
   ]
  },
  {
   "cell_type": "markdown",
   "id": "b89b6ab7",
   "metadata": {
    "slideshow": {
     "slide_type": "slide"
    }
   },
   "source": [
    "### Summary\n",
    "\n",
    "- `pandas` is **the** library for tabular data manipulation in Python.\n",
    "- There are three key data structures in `pandas`: DataFrame, Series, and Index.\n",
    "- Refer to the lecture notebook and the [`pandas` documentation](https://pandas.pydata.org/docs/user_guide/index.html#user-guide) for tips."
   ]
  },
  {
   "cell_type": "markdown",
   "id": "4170226a",
   "metadata": {
    "slideshow": {
     "slide_type": "slide"
    }
   },
   "source": [
    "### Next time\n",
    "\n",
    "- How `pandas` and `numpy` work together (and when they disagree).\n",
    "- Performance implications."
   ]
  }
 ],
 "metadata": {
  "celltoolbar": "Slideshow",
  "kernelspec": {
   "display_name": "Python 3 (ipykernel)",
   "language": "python",
   "name": "python3"
  },
  "language_info": {
   "codemirror_mode": {
    "name": "ipython",
    "version": 3
   },
   "file_extension": ".py",
   "mimetype": "text/x-python",
   "name": "python",
   "nbconvert_exporter": "python",
   "pygments_lexer": "ipython3",
   "version": "3.9.6"
  },
  "livereveal": {
   "scroll": true
  },
  "rise": {
   "transition": "none"
  }
 },
 "nbformat": 4,
 "nbformat_minor": 5
}
