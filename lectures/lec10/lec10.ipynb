{
 "cells": [
  {
   "cell_type": "code",
   "execution_count": null,
   "id": "8c8a44b8",
   "metadata": {
    "slideshow": {
     "slide_type": "skip"
    }
   },
   "outputs": [],
   "source": [
    "import pandas as pd\n",
    "import numpy as np\n",
    "import os\n",
    "\n",
    "import seaborn as sns\n",
    "import plotly.express as px\n",
    "pd.options.plotting.backend = 'plotly'"
   ]
  },
  {
   "cell_type": "markdown",
   "id": "ce9e66d9",
   "metadata": {
    "slideshow": {
     "slide_type": "slide"
    }
   },
   "source": [
    "# Lecture 10 – Permutation Testing\n",
    "\n",
    "## DSC 80, Spring 2023"
   ]
  },
  {
   "cell_type": "markdown",
   "id": "22824200",
   "metadata": {
    "slideshow": {
     "slide_type": "slide"
    }
   },
   "source": [
    "### Agenda\n",
    "\n",
    "- Permutation testing.\n",
    "    - [Great visualization](https://www.jwilber.me/permutationtest/)."
   ]
  },
  {
   "cell_type": "markdown",
   "id": "f388bef6",
   "metadata": {
    "slideshow": {
     "slide_type": "slide"
    }
   },
   "source": [
    "## Permutation testing"
   ]
  },
  {
   "cell_type": "markdown",
   "id": "f94386f5",
   "metadata": {
    "slideshow": {
     "slide_type": "slide"
    }
   },
   "source": [
    "### Hypothesis testing vs. permutation testing\n",
    "\n",
    "\"Standard\" hypothesis testing helps us answer questions of the form:\n",
    "\n",
    "> I have a population distribution, and I have one sample. Does this sample look like it was drawn from the population?"
   ]
  },
  {
   "cell_type": "markdown",
   "id": "b462e276",
   "metadata": {
    "slideshow": {
     "slide_type": "fragment"
    }
   },
   "source": [
    "- Sample: 59 heads and 41 tails. Population: A fair coin."
   ]
  },
  {
   "cell_type": "markdown",
   "id": "a4fffeb9",
   "metadata": {
    "slideshow": {
     "slide_type": "fragment"
    }
   },
   "source": [
    "- Sample: Ethnic distribution of UCSD. Population: Ethnic distribution of California. (Comparing categorical distributions with the TVD.)"
   ]
  },
  {
   "cell_type": "markdown",
   "id": "cf917101",
   "metadata": {
    "slideshow": {
     "slide_type": "fragment"
    }
   },
   "source": [
    "- Sample: Sample of Torgersen Island penguins. Population: All 333 penguins. (Comparing a subgroup statistic to a population parameter.) "
   ]
  },
  {
   "cell_type": "markdown",
   "id": "adda8ac0",
   "metadata": {
    "slideshow": {
     "slide_type": "slide"
    }
   },
   "source": [
    "It **does not** help us answer questions of the form:\n",
    "\n",
    "> I have two samples, but no information about any population distributions. Do these samples look like they were drawn from the same population?\n",
    "\n",
    "That's where permutation testing comes in."
   ]
  },
  {
   "cell_type": "markdown",
   "id": "dd567796",
   "metadata": {
    "slideshow": {
     "slide_type": "slide"
    }
   },
   "source": [
    "## Example: Birth weight and smoking 🚬\n",
    "\n",
    "***Note***: For familiarity, we'll start with an example from DSC 10. This means we'll move quickly!"
   ]
  },
  {
   "cell_type": "markdown",
   "id": "30b1e1c5",
   "metadata": {
    "slideshow": {
     "slide_type": "slide"
    }
   },
   "source": [
    "### Birth weight and smoking 🚬\n",
    "\n",
    "Let's start by loading in the data."
   ]
  },
  {
   "cell_type": "code",
   "execution_count": null,
   "id": "6f4282f5",
   "metadata": {
    "slideshow": {
     "slide_type": "-"
    }
   },
   "outputs": [],
   "source": [
    "baby = pd.read_csv(os.path.join('data', 'baby.csv'))\n",
    "baby.head()"
   ]
  },
  {
   "cell_type": "markdown",
   "id": "5d33a0c8",
   "metadata": {
    "slideshow": {
     "slide_type": "-"
    }
   },
   "source": [
    "We're only interested in the `'Birth Weight'` and `'Maternal Smoker'` columns."
   ]
  },
  {
   "cell_type": "code",
   "execution_count": null,
   "id": "842515dd",
   "metadata": {
    "slideshow": {
     "slide_type": "-"
    }
   },
   "outputs": [],
   "source": [
    "baby = baby[['Maternal Smoker', 'Birth Weight']]\n",
    "baby.head()"
   ]
  },
  {
   "cell_type": "markdown",
   "id": "a2afff41",
   "metadata": {
    "slideshow": {
     "slide_type": "fragment"
    }
   },
   "source": [
    "Note that there are **two samples**:\n",
    "- Birth weights of smokers' babies.\n",
    "- Birth weights of non-smokers' babies."
   ]
  },
  {
   "cell_type": "markdown",
   "id": "07b6bf5d",
   "metadata": {
    "slideshow": {
     "slide_type": "slide"
    }
   },
   "source": [
    "### Exploratory data analysis\n",
    "\n",
    "How many babies are in each group? What is the average birth weight within each group?"
   ]
  },
  {
   "cell_type": "code",
   "execution_count": null,
   "id": "e88e5489",
   "metadata": {},
   "outputs": [],
   "source": [
    "baby.groupby('Maternal Smoker')['Birth Weight'].agg(['mean', 'count'])"
   ]
  },
  {
   "cell_type": "markdown",
   "id": "efd4b635",
   "metadata": {},
   "source": [
    "Note that 16 ounces are in 1 pound, so the above weights are ~7-8 pounds."
   ]
  },
  {
   "cell_type": "markdown",
   "id": "0aa65ce7",
   "metadata": {
    "slideshow": {
     "slide_type": "slide"
    }
   },
   "source": [
    "### Visualizing birth weight distributions\n",
    "\n",
    "Below, we draw the distributions of both sets of birth weights."
   ]
  },
  {
   "cell_type": "code",
   "execution_count": null,
   "id": "74f83e31",
   "metadata": {
    "scrolled": false
   },
   "outputs": [],
   "source": [
    "px.histogram(baby, color='Maternal Smoker', histnorm='probability', marginal='box', \n",
    "             title=\"Birth Weight by Mother's Smoking Status\", barmode='overlay', opacity=0.7)"
   ]
  },
  {
   "cell_type": "markdown",
   "id": "fc728a27",
   "metadata": {
    "slideshow": {
     "slide_type": "fragment"
    }
   },
   "source": [
    "There appears to be a difference, but can it be attributed to random chance?"
   ]
  },
  {
   "cell_type": "markdown",
   "id": "5f0f81c1",
   "metadata": {
    "slideshow": {
     "slide_type": "slide"
    }
   },
   "source": [
    "### Hypothesis test setup"
   ]
  },
  {
   "cell_type": "markdown",
   "id": "46d86895",
   "metadata": {
    "slideshow": {
     "slide_type": "fragment"
    }
   },
   "source": [
    "- **Null Hypothesis**: In the population, birth weights of smokers' babies and non-smokers' babies have the same distribution, and the observed differences in our samples are due to random chance."
   ]
  },
  {
   "cell_type": "markdown",
   "id": "148eb85e",
   "metadata": {
    "slideshow": {
     "slide_type": "fragment"
    }
   },
   "source": [
    "- **Alternative Hypothesis**: In the population, smokers' babies have lower birth weights than non-smokers' babies, on average. The observed difference in our samples cannot be explained by random chance alone."
   ]
  },
  {
   "cell_type": "markdown",
   "id": "0ab566a5",
   "metadata": {
    "slideshow": {
     "slide_type": "fragment"
    }
   },
   "source": [
    "- **Issue**: We don't know what the population distribution actually is – so how do we draw samples from it?"
   ]
  },
  {
   "cell_type": "markdown",
   "id": "a8faec25",
   "metadata": {
    "slideshow": {
     "slide_type": "slide"
    }
   },
   "source": [
    "### Null hypothesis: birth weights come from the *same* distribution\n",
    "\n",
    "- Our null hypothesis states that \"smoker\" / \"non-smoker\" labels have no relationship to birth weight. \n",
    "- In other words, the \"smoker\" / \"non-smoker\" labels **may well have** been assigned at random.\n",
    "\n",
    "<center><img src='imgs/null-hyp.png' width=60%></center>"
   ]
  },
  {
   "cell_type": "markdown",
   "id": "3b52fcef",
   "metadata": {
    "slideshow": {
     "slide_type": "slide"
    }
   },
   "source": [
    "### Alternative hypothesis: birth weights come from *different* distributions\n",
    "\n",
    "- Our alternative hypothesis states that the birth weights weights of smokers' babies and non-smokers' babies come from different population distributions.\n",
    "    - That is, they come from different **data generating processes**.\n",
    "- It also states that smokers' babies weigh significantly less.\n",
    "\n",
    "<center><img src='imgs/alt-hyp.png' width=40%></center>"
   ]
  },
  {
   "cell_type": "markdown",
   "id": "166fd782",
   "metadata": {
    "slideshow": {
     "slide_type": "slide"
    }
   },
   "source": [
    "### Choosing a test statistic\n",
    "\n",
    "We need a test statistic that can measure **how different** two numerical distributions are."
   ]
  },
  {
   "cell_type": "code",
   "execution_count": null,
   "id": "7f3929bd",
   "metadata": {
    "scrolled": true
   },
   "outputs": [],
   "source": [
    "px.histogram(baby, color='Maternal Smoker', histnorm='probability', marginal='box', \n",
    "             title=\"Birth Weight by Mother's Smoking Status\", barmode='overlay', opacity=0.7)"
   ]
  },
  {
   "cell_type": "markdown",
   "id": "4ec18e30",
   "metadata": {
    "slideshow": {
     "slide_type": "fragment"
    }
   },
   "source": [
    "**Easiest solution**: Difference in group means."
   ]
  },
  {
   "cell_type": "markdown",
   "id": "633e4a6b",
   "metadata": {
    "slideshow": {
     "slide_type": "slide"
    }
   },
   "source": [
    "### Difference in group means\n",
    "\n",
    "We'll choose our test statistic to be:\n",
    "\n",
    "$$\\text{mean weight of smokers' babies} - \\text{mean weight of non-smokers' babies}$$\n",
    "\n",
    "We could also compute the non-smokers' mean minus the smokers' mean, too."
   ]
  },
  {
   "cell_type": "code",
   "execution_count": null,
   "id": "4b4e87e2",
   "metadata": {},
   "outputs": [],
   "source": [
    "group_means = baby.groupby('Maternal Smoker')['Birth Weight'].mean()\n",
    "group_means"
   ]
  },
  {
   "cell_type": "markdown",
   "id": "8a703031",
   "metadata": {},
   "source": [
    "At first, you may think to use `loc` with `group_means` to compute the difference in group means."
   ]
  },
  {
   "cell_type": "code",
   "execution_count": null,
   "id": "ad77c4a0",
   "metadata": {},
   "outputs": [],
   "source": [
    "group_means.loc[True] - group_means.loc[False]"
   ]
  },
  {
   "cell_type": "markdown",
   "id": "69f9e223",
   "metadata": {},
   "source": [
    "However, you can also use the `diff` method."
   ]
  },
  {
   "cell_type": "code",
   "execution_count": null,
   "id": "d40d04e2",
   "metadata": {},
   "outputs": [],
   "source": [
    "pd.Series([1, 2, -3]).diff()"
   ]
  },
  {
   "cell_type": "code",
   "execution_count": null,
   "id": "bc1b7ee4",
   "metadata": {},
   "outputs": [],
   "source": [
    "group_means.diff()"
   ]
  },
  {
   "cell_type": "code",
   "execution_count": null,
   "id": "168a7e76",
   "metadata": {},
   "outputs": [],
   "source": [
    "group_means.diff()[-1]"
   ]
  },
  {
   "cell_type": "code",
   "execution_count": null,
   "id": "b0352691",
   "metadata": {},
   "outputs": [],
   "source": [
    "# If we wanted to do (non-smokers' mean - smokers' mean). \n",
    "# Think about why this is the case (hint: it has to do with how the resulting DataFrame after grouping is sorted).\n",
    "group_means[::-1].diff()[-1]"
   ]
  },
  {
   "cell_type": "markdown",
   "id": "ca633fad",
   "metadata": {
    "slideshow": {
     "slide_type": "slide"
    }
   },
   "source": [
    "### Hypothesis test setup"
   ]
  },
  {
   "cell_type": "markdown",
   "id": "113d7c4c",
   "metadata": {
    "slideshow": {
     "slide_type": "fragment"
    }
   },
   "source": [
    "- **Null Hypothesis**: In the population, birth weights of smokers' babies and non-smokers' babies have the same distribution, and the observed differences in our samples are due to random chance."
   ]
  },
  {
   "cell_type": "markdown",
   "id": "a1c22484",
   "metadata": {
    "slideshow": {
     "slide_type": "fragment"
    }
   },
   "source": [
    "- **Alternative Hypothesis**: In the population, smokers' babies have lower birth weights than non-smokers' babies, on average. The observed difference in our samples cannot be explained by random chance alone."
   ]
  },
  {
   "cell_type": "markdown",
   "id": "99a2f1c4",
   "metadata": {
    "slideshow": {
     "slide_type": "fragment"
    }
   },
   "source": [
    "- **Test Statistic**: Difference in group means.\n",
    "\n",
    "$$\\text{mean weight of smokers' babies} - \\text{mean weight of non-smokers' babies}$$"
   ]
  },
  {
   "cell_type": "markdown",
   "id": "383f6593",
   "metadata": {
    "slideshow": {
     "slide_type": "fragment"
    }
   },
   "source": [
    "- **Issue**: We don't know what the population distribution actually is – so how do we draw samples from it?\n",
    "    - This is different from the coin flipping, California ethnicity, and bill length examples, because there **the null hypotheses were well-defined probability models**."
   ]
  },
  {
   "cell_type": "markdown",
   "id": "2c642771",
   "metadata": {
    "slideshow": {
     "slide_type": "slide"
    }
   },
   "source": [
    "### Implications of the null hypothesis\n",
    "\n",
    "- Under the null hypothesis, both groups are sampled from the same distribution.\n",
    "- If this is true, then the group label – `'Maternal Smoker'` – has no effect on the birth weight.\n",
    "- In our dataset, we saw **one assignment** of `True` or `False` to each baby."
   ]
  },
  {
   "cell_type": "code",
   "execution_count": null,
   "id": "76b65e0b",
   "metadata": {},
   "outputs": [],
   "source": [
    "baby.head()"
   ]
  },
  {
   "cell_type": "markdown",
   "id": "07b46ba2",
   "metadata": {},
   "source": [
    "- Under the null hypothesis, we were just as likely to see **any other** assignment."
   ]
  },
  {
   "cell_type": "markdown",
   "id": "26f2ebce",
   "metadata": {
    "slideshow": {
     "slide_type": "slide"
    }
   },
   "source": [
    "### Permutation tests"
   ]
  },
  {
   "cell_type": "markdown",
   "id": "e57fb482",
   "metadata": {
    "slideshow": {
     "slide_type": "fragment"
    }
   },
   "source": [
    "- In a **permutation test**, we generate new data by **shuffling group labels**.\n",
    "    - In our current example, this involves randomly assigning **babies to `True` or `False`**, while keeping the same number of `True`s and `False`s as we started with."
   ]
  },
  {
   "cell_type": "markdown",
   "id": "f79c96a9",
   "metadata": {
    "slideshow": {
     "slide_type": "fragment"
    }
   },
   "source": [
    "- On each shuffle, we'll compute our test statistic (difference in group means)."
   ]
  },
  {
   "cell_type": "markdown",
   "id": "c455197e",
   "metadata": {
    "slideshow": {
     "slide_type": "fragment"
    }
   },
   "source": [
    "- If we shuffle many times and compute our test statistic each time, we will approximate the distribution of the test statistic."
   ]
  },
  {
   "cell_type": "markdown",
   "id": "30ea1a82",
   "metadata": {
    "slideshow": {
     "slide_type": "fragment"
    }
   },
   "source": [
    "- We can them compare our observed statistic to this distribution, as in any other hypothesis test."
   ]
  },
  {
   "cell_type": "markdown",
   "id": "d8286bd7",
   "metadata": {
    "slideshow": {
     "slide_type": "slide"
    }
   },
   "source": [
    "### Shuffling"
   ]
  },
  {
   "cell_type": "markdown",
   "id": "c9043a47",
   "metadata": {
    "slideshow": {
     "slide_type": "fragment"
    }
   },
   "source": [
    "- Our goal, by shuffling, is to randomly assign values in the `'Maternal Smoker'` column to values in the `'Birth Weight'` column."
   ]
  },
  {
   "cell_type": "markdown",
   "id": "8790de7f",
   "metadata": {
    "slideshow": {
     "slide_type": "fragment"
    }
   },
   "source": [
    "- We can do this by shuffling either column **independently**."
   ]
  },
  {
   "cell_type": "markdown",
   "id": "65810bf9",
   "metadata": {
    "slideshow": {
     "slide_type": "fragment"
    }
   },
   "source": [
    "- Easiest solution: `np.random.permutation`.\n",
    "    - Could also use `df.sample`, but it's more complicated."
   ]
  },
  {
   "cell_type": "code",
   "execution_count": null,
   "id": "e9db8521",
   "metadata": {},
   "outputs": [],
   "source": [
    "np.random.permutation(baby['Birth Weight'])"
   ]
  },
  {
   "cell_type": "code",
   "execution_count": null,
   "id": "4b452c78",
   "metadata": {
    "slideshow": {
     "slide_type": "slide"
    }
   },
   "outputs": [],
   "source": [
    "with_shuffled = baby.assign(Shuffled_Weights=np.random.permutation(baby['Birth Weight']))\n",
    "with_shuffled.head()"
   ]
  },
  {
   "cell_type": "markdown",
   "id": "7d4e4ea2",
   "metadata": {
    "slideshow": {
     "slide_type": "fragment"
    }
   },
   "source": [
    "- Now, we have a new sample of smokers' weights, and a new sample of non-smokers' weights!"
   ]
  },
  {
   "cell_type": "markdown",
   "id": "996084fb",
   "metadata": {
    "slideshow": {
     "slide_type": "fragment"
    }
   },
   "source": [
    "- Effectively, we took a random sample of 459 `'Birth Weights'` and assigned them to the smokers' group, and the remaining 715 to the non-smokers' group."
   ]
  },
  {
   "cell_type": "markdown",
   "id": "15cdda05",
   "metadata": {
    "slideshow": {
     "slide_type": "slide"
    }
   },
   "source": [
    "### How close are the means of the shuffled groups?\n",
    "\n",
    "One benefit of shuffling `'Birth Weight'` (instead of `'Maternal Smoker'`) is that grouping by `'Maternal Smoker'` allows us to see all of the following information with a single call to `groupby`."
   ]
  },
  {
   "cell_type": "code",
   "execution_count": null,
   "id": "c4a8bdd0",
   "metadata": {},
   "outputs": [],
   "source": [
    "group_means = with_shuffled.groupby('Maternal Smoker').mean()\n",
    "group_means"
   ]
  },
  {
   "cell_type": "markdown",
   "id": "7f7e555f",
   "metadata": {},
   "source": [
    "Let's visualize both pairs of distributions – what do you notice?"
   ]
  },
  {
   "cell_type": "code",
   "execution_count": null,
   "id": "6bba0019",
   "metadata": {},
   "outputs": [],
   "source": [
    "for x in ['Birth Weight', 'Shuffled_Weights']:\n",
    "    fig = px.histogram(with_shuffled, x=x, color='Maternal Smoker', histnorm='probability', marginal='box', \n",
    "                 title=f\"Using the {x} column (difference in means = {group_means[x].diff().iloc[-1]})\", barmode='overlay', opacity=0.7)\n",
    "    fig.show()"
   ]
  },
  {
   "cell_type": "markdown",
   "id": "9f27f862",
   "metadata": {
    "slideshow": {
     "slide_type": "slide"
    }
   },
   "source": [
    "### Simulating the empirical distribution of the test statistic"
   ]
  },
  {
   "cell_type": "markdown",
   "id": "52731105",
   "metadata": {
    "slideshow": {
     "slide_type": "fragment"
    }
   },
   "source": [
    "- This was just one random shuffle."
   ]
  },
  {
   "cell_type": "markdown",
   "id": "50b0702a",
   "metadata": {
    "slideshow": {
     "slide_type": "fragment"
    }
   },
   "source": [
    "- The question we are trying to answer is, **how likely is it that a random shuffle results in two samples where the smokers' mean is at least 9.26 ounces less than the non-smokers' mean?**"
   ]
  },
  {
   "cell_type": "markdown",
   "id": "2a79a2eb",
   "metadata": {
    "slideshow": {
     "slide_type": "fragment"
    }
   },
   "source": [
    "- To answer this question, we need the distribution of the test statistic. To generate that, we must shuffle many, many times. On each iteration, we must:\n",
    "    1. Shuffle the weights and store them in a DataFrame.\n",
    "    1. Compute the test statistic (difference in group means).\n",
    "    1. Store the result."
   ]
  },
  {
   "cell_type": "code",
   "execution_count": null,
   "id": "562190ad",
   "metadata": {
    "slideshow": {
     "slide_type": "slide"
    }
   },
   "outputs": [],
   "source": [
    "n_repetitions = 500\n",
    "\n",
    "differences = []\n",
    "for _ in range(n_repetitions):\n",
    "    \n",
    "    # Step 1: Shuffle the weights and store them in a DataFrame.\n",
    "    with_shuffled = baby.assign(Shuffled_Weights=np.random.permutation(baby['Birth Weight']))\n",
    "\n",
    "    # Step 2: Compute the test statistic.\n",
    "    # Remember, alphabetically, False comes before True,\n",
    "    # so this computes True - False.\n",
    "    group_means = (\n",
    "        with_shuffled\n",
    "        .groupby('Maternal Smoker')\n",
    "        .mean()\n",
    "        .loc[:, 'Shuffled_Weights']\n",
    "    )\n",
    "    difference = group_means.diff().iloc[-1]\n",
    "    \n",
    "    # Step 4: Store the result\n",
    "    differences.append(difference)\n",
    "    \n",
    "differences[:10]"
   ]
  },
  {
   "cell_type": "markdown",
   "id": "ddd552fb",
   "metadata": {},
   "source": [
    "We already computed the observed statistic earlier, but we compute it again below to keep all of our calculations together."
   ]
  },
  {
   "cell_type": "code",
   "execution_count": null,
   "id": "5531f194",
   "metadata": {},
   "outputs": [],
   "source": [
    "observed_difference = baby.groupby('Maternal Smoker')['Birth Weight'].mean().diff().iloc[-1]\n",
    "observed_difference"
   ]
  },
  {
   "cell_type": "markdown",
   "id": "1e77ba38",
   "metadata": {
    "slideshow": {
     "slide_type": "slide"
    }
   },
   "source": [
    "### Conclusion of the test"
   ]
  },
  {
   "cell_type": "code",
   "execution_count": null,
   "id": "d41af676",
   "metadata": {},
   "outputs": [],
   "source": [
    "fig = px.histogram(pd.DataFrame(differences), x=0, nbins=50, histnorm='probability', \n",
    "                   title='Empirical Distribution of the Mean Differences in Birth Weights (Smoker - Non-Smoker)')\n",
    "fig.add_vline(x=observed_difference, line_color='red')\n",
    "fig.update_layout(xaxis_range=[-15, 15])"
   ]
  },
  {
   "cell_type": "markdown",
   "id": "e20ed81d",
   "metadata": {
    "slideshow": {
     "slide_type": "fragment"
    }
   },
   "source": [
    "- Under the null hypothesis, we rarely see differences as large as 9.26 ounces."
   ]
  },
  {
   "cell_type": "markdown",
   "id": "8ce7fdd7",
   "metadata": {
    "slideshow": {
     "slide_type": "fragment"
    }
   },
   "source": [
    "- Therefore, **we reject the null hypothesis that the two groups come from the same distribution**."
   ]
  },
  {
   "cell_type": "markdown",
   "id": "9509e164",
   "metadata": {
    "slideshow": {
     "slide_type": "slide"
    }
   },
   "source": [
    "### ⚠️ Caution!\n",
    "\n",
    "- We **cannot** conclude that smoking **causes** lower birth weight!\n",
    "- This was an observational study; there may be confounding factors.\n",
    "    - Maybe smokers are more likely to drink caffeine, and caffeine causes lower birth weight."
   ]
  },
  {
   "cell_type": "markdown",
   "id": "35dddd61",
   "metadata": {
    "slideshow": {
     "slide_type": "slide"
    }
   },
   "source": [
    "## Differences between categorical distributions"
   ]
  },
  {
   "cell_type": "markdown",
   "id": "6103720c",
   "metadata": {
    "slideshow": {
     "slide_type": "slide"
    }
   },
   "source": [
    "### Example: Married vs. unmarried couples\n",
    "\n",
    "* We will use data from a study conducted in 2010 by the [National Center for Family and Marriage Research](https://www.bgsu.edu/ncfmr.html).\n",
    "* The data consists of a national random sample of over 1,000 heterosexual couples who were either married or living together but unmarried.\n",
    "* Each row corresponds to one **person** (not one couple)."
   ]
  },
  {
   "cell_type": "code",
   "execution_count": null,
   "id": "5e6bfed2",
   "metadata": {},
   "outputs": [],
   "source": [
    "couples_fp = os.path.join('data', 'married_couples.csv')\n",
    "couples = pd.read_csv(couples_fp)\n",
    "couples.head()"
   ]
  },
  {
   "cell_type": "code",
   "execution_count": null,
   "id": "693e40f2",
   "metadata": {},
   "outputs": [],
   "source": [
    "# What does this expression compute?\n",
    "couples['hh_id'].value_counts().value_counts()"
   ]
  },
  {
   "cell_type": "markdown",
   "id": "47715b5d",
   "metadata": {},
   "source": [
    "We won't use all of the columns in the DataFrame."
   ]
  },
  {
   "cell_type": "code",
   "execution_count": null,
   "id": "c671bc30",
   "metadata": {},
   "outputs": [],
   "source": [
    "couples = couples[['mar_status', 'empl_status', 'gender', 'age']]\n",
    "couples.head()"
   ]
  },
  {
   "cell_type": "markdown",
   "id": "13f1f3e3",
   "metadata": {
    "slideshow": {
     "slide_type": "slide"
    }
   },
   "source": [
    "### Cleaning the dataset\n",
    "\n",
    "The numbers in the DataFrame correspond to the mappings below.\n",
    "\n",
    "* `'mar_status'`: 1=married, 2=unmarried.\n",
    "* `'empl_status'`: enumerated in the list below.\n",
    "* `'gender'`: 1=male, 2=female.\n",
    "* `'age'`: person's age in years."
   ]
  },
  {
   "cell_type": "code",
   "execution_count": null,
   "id": "ea068251",
   "metadata": {},
   "outputs": [],
   "source": [
    "couples.head()"
   ]
  },
  {
   "cell_type": "code",
   "execution_count": null,
   "id": "ce5aeac1",
   "metadata": {},
   "outputs": [],
   "source": [
    "empl = [\n",
    "    'Working as paid employee',\n",
    "    'Working, self-employed',\n",
    "    'Not working - on a temporary layoff from a job',\n",
    "    'Not working - looking for work',\n",
    "    'Not working - retired',\n",
    "    'Not working - disabled',\n",
    "    'Not working - other'\n",
    "]"
   ]
  },
  {
   "cell_type": "code",
   "execution_count": null,
   "id": "790e8407",
   "metadata": {},
   "outputs": [],
   "source": [
    "couples = couples.replace({\n",
    "    'mar_status': {1: 'married', 2: 'unmarried'},\n",
    "    'gender': {1: 'M', 2: 'F'},\n",
    "    'empl_status': {(k + 1): empl[k] for k in range(len(empl))}\n",
    "})"
   ]
  },
  {
   "cell_type": "code",
   "execution_count": null,
   "id": "f3c26e66",
   "metadata": {},
   "outputs": [],
   "source": [
    "couples.head()"
   ]
  },
  {
   "cell_type": "markdown",
   "id": "d2ad07d4",
   "metadata": {
    "slideshow": {
     "slide_type": "slide"
    }
   },
   "source": [
    "### Understanding the `couples` dataset\n",
    "\n",
    "* Who is in our dataset? Mostly young people? Mostly married people? Mostly employed people?\n",
    "* What is the distribution of values in each column?"
   ]
  },
  {
   "cell_type": "code",
   "execution_count": null,
   "id": "665bc857",
   "metadata": {},
   "outputs": [],
   "source": [
    "# For categorical columns, this shows the 10 most common values and their frequencies.\n",
    "# For numerical columns, this shows the result of calling the .describe() method.\n",
    "for col in couples:\n",
    "    if couples[col].dtype == 'object':\n",
    "        empr = couples[col].value_counts(normalize=True).to_frame().iloc[:10]\n",
    "    else:\n",
    "        empr = couples[col].describe().to_frame()\n",
    "    display(empr)"
   ]
  },
  {
   "cell_type": "markdown",
   "id": "3ea752d4",
   "metadata": {
    "slideshow": {
     "slide_type": "slide"
    }
   },
   "source": [
    "Let's look at the distribution of age **separately** for married couples and unmarried couples."
   ]
  },
  {
   "cell_type": "code",
   "execution_count": null,
   "id": "6e75903d",
   "metadata": {
    "scrolled": true
   },
   "outputs": [],
   "source": [
    "px.histogram(couples, x='age', color='mar_status', histnorm='probability', marginal='box',\n",
    "             barmode='overlay', opacity=0.7)"
   ]
  },
  {
   "cell_type": "markdown",
   "id": "f6865a8c",
   "metadata": {},
   "source": [
    "How are these two distributions different? Why do you think there is a difference?"
   ]
  },
  {
   "cell_type": "markdown",
   "id": "7933de40",
   "metadata": {
    "slideshow": {
     "slide_type": "slide"
    }
   },
   "source": [
    "### Understanding employment status in households\n",
    "\n",
    "* Do married households more often have a stay-at-home spouse?\n",
    "* Do households with unmarried couples more often have someone looking for work?\n",
    "* How much does the employment status of the different households vary?\n",
    "\n",
    "To answer these questions, let's compute the distribution of employment status **conditional on household type (married vs. unmarried)**."
   ]
  },
  {
   "cell_type": "code",
   "execution_count": null,
   "id": "2a52e1cd",
   "metadata": {},
   "outputs": [],
   "source": [
    "couples.sample(5).head()"
   ]
  },
  {
   "cell_type": "code",
   "execution_count": null,
   "id": "a9d9797f",
   "metadata": {
    "scrolled": true
   },
   "outputs": [],
   "source": [
    "# Note that this is a shortcut to picking a column for values and using aggfunc='count'.\n",
    "empl_cnts = couples.pivot_table(index='empl_status', columns='mar_status', aggfunc='size')\n",
    "empl_cnts"
   ]
  },
  {
   "cell_type": "markdown",
   "id": "8233abb5",
   "metadata": {},
   "source": [
    "Since there are a different number of married and unmarried couples in the dataset, we can't compare the numbers above directly. We need to convert counts to proportions, separately for married and unmarried couples."
   ]
  },
  {
   "cell_type": "code",
   "execution_count": null,
   "id": "f2513123",
   "metadata": {},
   "outputs": [],
   "source": [
    "empl_cnts.sum()"
   ]
  },
  {
   "cell_type": "code",
   "execution_count": null,
   "id": "2079a5bd",
   "metadata": {},
   "outputs": [],
   "source": [
    "cond_distr = empl_cnts / empl_cnts.sum()\n",
    "cond_distr"
   ]
  },
  {
   "cell_type": "markdown",
   "id": "69b193a3",
   "metadata": {},
   "source": [
    "Both of the columns above sum to 1."
   ]
  },
  {
   "cell_type": "markdown",
   "id": "f22ae453",
   "metadata": {
    "slideshow": {
     "slide_type": "slide"
    }
   },
   "source": [
    "### Differences in the distributions\n",
    "\n",
    "Are the distributions of employment status for married people and for unmarried people who live with their partners **different**?\n",
    "\n",
    "Is this difference just due to noise?"
   ]
  },
  {
   "cell_type": "code",
   "execution_count": null,
   "id": "1d019f1d",
   "metadata": {},
   "outputs": [],
   "source": [
    "cond_distr.plot(kind='barh', title='Distribution of Employment Status, Conditional on Household Type', barmode='group')"
   ]
  },
  {
   "cell_type": "markdown",
   "id": "15f72035",
   "metadata": {
    "slideshow": {
     "slide_type": "slide"
    }
   },
   "source": [
    "### Permutation test for household composition \n",
    "\n",
    "* **Null Hypothesis**: In the US, the distribution of employment status among those who are married is the same as among those who are unmarried and live with their partners. The difference between the two observed samples is due to chance.\n",
    "\n",
    "* **Alternative Hypothesis**: In the US, the distributions of employment status of the two groups are **different**."
   ]
  },
  {
   "cell_type": "markdown",
   "id": "0a779949",
   "metadata": {
    "slideshow": {
     "slide_type": "slide"
    }
   },
   "source": [
    "### Discussion Question\n",
    "\n",
    "What is a good test statistic in this case?\n",
    "\n",
    "***Hint:*** What kind of distributions are we comparing?"
   ]
  },
  {
   "cell_type": "markdown",
   "id": "eb050aed",
   "metadata": {
    "slideshow": {
     "slide_type": "slide"
    }
   },
   "source": [
    "### Total variation distance\n",
    "\n",
    "- Whenever we need to compare two categorical distributions, we use the TVD.\n",
    "    - Recall, the TVD is the **sum of the absolute differences in proportions, divided by 2**.\n",
    "- In DSC 10, the only test statistic we ever used in permutation tests was the difference in group means/medians, but the TVD can be used in permutation tests as well."
   ]
  },
  {
   "cell_type": "code",
   "execution_count": null,
   "id": "314ac5cd",
   "metadata": {},
   "outputs": [],
   "source": [
    "cond_distr"
   ]
  },
  {
   "cell_type": "markdown",
   "id": "0b27bbf6",
   "metadata": {},
   "source": [
    "Let's first compute the observed TVD, using our new knowledge of the `diff` method."
   ]
  },
  {
   "cell_type": "code",
   "execution_count": null,
   "id": "327e7d74",
   "metadata": {},
   "outputs": [],
   "source": [
    "cond_distr.diff(axis=1).iloc[:, -1].abs().sum() / 2"
   ]
  },
  {
   "cell_type": "markdown",
   "id": "cff17c20",
   "metadata": {},
   "source": [
    "Since we'll need to calculate the TVD repeatedly, let's define a function that computes it."
   ]
  },
  {
   "cell_type": "code",
   "execution_count": null,
   "id": "2d310f4a",
   "metadata": {},
   "outputs": [],
   "source": [
    "def tvd_of_groups(df, groups, cats):\n",
    "    '''groups: the binary column (e.g. married vs. unmarried).\n",
    "       cats: the categorical column (e.g. employment status).\n",
    "    '''\n",
    "    cnts = df.pivot_table(index=cats, columns=groups, aggfunc='size')\n",
    "    # Normalize each column.\n",
    "    distr = cnts / cnts.sum()\n",
    "    # Compute and return the TVD.\n",
    "    return distr.diff(axis=1).iloc[:, -1].abs().sum() / 2 "
   ]
  },
  {
   "cell_type": "code",
   "execution_count": null,
   "id": "3a1b0082",
   "metadata": {},
   "outputs": [],
   "source": [
    "# Same result as above.\n",
    "observed_tvd = tvd_of_groups(couples, groups='mar_status', cats='empl_status')\n",
    "observed_tvd"
   ]
  },
  {
   "cell_type": "markdown",
   "id": "3102e9d3",
   "metadata": {
    "slideshow": {
     "slide_type": "slide"
    }
   },
   "source": [
    "### Simulation\n",
    "\n",
    "- Under the null hypothesis, marital status is not related to employment status.\n",
    "- We can shuffle the marital status column and get an equally-likely dataset.\n",
    "- On each shuffle, we will compute the TVD.\n",
    "- Once we have many TVDs, we can ask, **how often do we see a difference at least as large as our observed difference?**"
   ]
  },
  {
   "cell_type": "code",
   "execution_count": null,
   "id": "a1b056e6",
   "metadata": {},
   "outputs": [],
   "source": [
    "couples.head()"
   ]
  },
  {
   "cell_type": "markdown",
   "id": "282bb93f",
   "metadata": {},
   "source": [
    "Here, we'll shuffle marital statuses, though remember, we could shuffle employment statuses too."
   ]
  },
  {
   "cell_type": "code",
   "execution_count": null,
   "id": "2b6e8370",
   "metadata": {},
   "outputs": [],
   "source": [
    "couples.assign(shuffled_mar=np.random.permutation(couples['mar_status']))"
   ]
  },
  {
   "cell_type": "markdown",
   "id": "0af1c455",
   "metadata": {},
   "source": [
    "Let's do this repeatedly."
   ]
  },
  {
   "cell_type": "code",
   "execution_count": null,
   "id": "b40cfa51",
   "metadata": {},
   "outputs": [],
   "source": [
    "N = 1000\n",
    "tvds = []\n",
    "\n",
    "for _ in range(N):\n",
    "    # Shuffle marital statuses.\n",
    "    with_shuffled = couples.assign(shuffled_mar=np.random.permutation(couples['mar_status']))\n",
    "    \n",
    "    # Compute and store the TVD.\n",
    "    tvd = tvd_of_groups(with_shuffled, groups='shuffled_mar', cats='empl_status')\n",
    "    tvds.append(tvd)"
   ]
  },
  {
   "cell_type": "markdown",
   "id": "fdf053a2",
   "metadata": {},
   "source": [
    "Notice that by defining a function that computes our test statistic, our simulation code is much cleaner."
   ]
  },
  {
   "cell_type": "markdown",
   "id": "8e75619b",
   "metadata": {
    "slideshow": {
     "slide_type": "slide"
    }
   },
   "source": [
    "### Conclusion of the test"
   ]
  },
  {
   "cell_type": "code",
   "execution_count": null,
   "id": "8672ce47",
   "metadata": {
    "scrolled": false
   },
   "outputs": [],
   "source": [
    "fig = px.histogram(pd.DataFrame(tvds), x=0, nbins=50, histnorm='probability', \n",
    "                   title='Empirical Distribution of the TVD')\n",
    "fig.add_vline(x=observed_tvd, line_color='red')\n",
    "fig.add_annotation(text=f'<span style=\"color:red\">Observed TVD = {round(observed_tvd, 2)}</span>',\n",
    "                   x=1.15 * observed_tvd, showarrow=False, y=0.055)\n",
    "\n",
    "fig.update_layout(xaxis_range=[0, 0.2])\n",
    "p_95 = np.percentile(tvds, 95)\n",
    "fig.add_vline(x=p_95, line_color='purple')\n",
    "annot_text = f'<span style=\"color:purple\">The 95th percentile of our<br>empirical distribution is {round(p_95, 2)}.<br><br>'\n",
    "annot_text += 'If our observed statistic is to the<br>right of this point, we will reject the null<br>at a 5% <b>significance level</b>.</span>'\n",
    "fig.add_annotation(text=annot_text, x=1.5 * np.percentile(tvds, 95), showarrow=False, y=0.05)"
   ]
  },
  {
   "cell_type": "markdown",
   "id": "1b9ee0f6",
   "metadata": {
    "slideshow": {
     "slide_type": "fragment"
    }
   },
   "source": [
    "We **reject** the null hypothesis that married/unmarried households have similar employment makeups.\n",
    "\n",
    "We can't say anything about **why** the employment makeups are different, though!"
   ]
  },
  {
   "cell_type": "markdown",
   "id": "92ca6d2a",
   "metadata": {
    "slideshow": {
     "slide_type": "slide"
    }
   },
   "source": [
    "### Discussion Question\n",
    "\n",
    "In the definition of the TVD, we divide the sum of the absolute differences in proportions between the two distributions by 2.\n",
    "\n",
    "```py\n",
    "def tvd(a, b):\n",
    "    return np.sum(np.abs(a - b)) / 2\n",
    "```\n",
    "\n",
    "**Question**: If we divided by 200 instead of 2, would we still reject the null hypothesis?"
   ]
  },
  {
   "cell_type": "markdown",
   "id": "0e7f3766",
   "metadata": {
    "slideshow": {
     "slide_type": "slide"
    }
   },
   "source": [
    "## Summary"
   ]
  },
  {
   "cell_type": "markdown",
   "id": "f05df0c3",
   "metadata": {
    "slideshow": {
     "slide_type": "slide"
    }
   },
   "source": [
    "### Summary\n",
    "\n",
    "- Permutation tests help decide whether **two samples came from the same distribution**.\n",
    "- In a permutation test, we simulate data under the null by shuffling either group labels or numerical features.\n",
    "    - In effect, this randomly assigns individuals to groups.\n",
    "- If the two distributions are numeric, we use as our test statistic the difference in group means or medians.\n",
    "- If the two distributions are categorical, we use as our test statistic the total variation distance (TVD)."
   ]
  },
  {
   "cell_type": "markdown",
   "id": "671fdbcf",
   "metadata": {
    "slideshow": {
     "slide_type": "slide"
    }
   },
   "source": [
    "### Next time\n",
    "\n",
    "Wrap up hypothesis and permutation testing. Revisit missing values."
   ]
  }
 ],
 "metadata": {
  "celltoolbar": "Slideshow",
  "kernelspec": {
   "display_name": "Python 3 (ipykernel)",
   "language": "python",
   "name": "python3"
  },
  "language_info": {
   "codemirror_mode": {
    "name": "ipython",
    "version": 3
   },
   "file_extension": ".py",
   "mimetype": "text/x-python",
   "name": "python",
   "nbconvert_exporter": "python",
   "pygments_lexer": "ipython3",
   "version": "3.9.6"
  },
  "livereveal": {
   "scroll": true
  },
  "rise": {
   "transition": "none"
  }
 },
 "nbformat": 4,
 "nbformat_minor": 5
}
