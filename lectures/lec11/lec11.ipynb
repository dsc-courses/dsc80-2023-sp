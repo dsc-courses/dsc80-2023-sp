{
 "cells": [
  {
   "cell_type": "code",
   "execution_count": null,
   "id": "8c8a44b8",
   "metadata": {
    "slideshow": {
     "slide_type": "skip"
    }
   },
   "outputs": [],
   "source": [
    "import pandas as pd\n",
    "import numpy as np\n",
    "import os\n",
    "\n",
    "import seaborn as sns\n",
    "import plotly.express as px\n",
    "pd.options.plotting.backend = 'plotly'"
   ]
  },
  {
   "cell_type": "markdown",
   "id": "ce9e66d9",
   "metadata": {
    "slideshow": {
     "slide_type": "slide"
    }
   },
   "source": [
    "# Lecture 11 – Permutation Testing, Missingness Mechanisms\n",
    "\n",
    "## DSC 80, Spring 2023"
   ]
  },
  {
   "cell_type": "markdown",
   "id": "22824200",
   "metadata": {
    "slideshow": {
     "slide_type": "slide"
    }
   },
   "source": [
    "### Agenda\n",
    "\n",
    "- Using permutation testing to compare two categorical distributions.\n",
    "- Missingness mechanisms.\n",
    "    - In what ways can data be missing? Why do we care?\n",
    "    - How do we identify missingness mechanisms using data?"
   ]
  },
  {
   "cell_type": "markdown",
   "id": "592261b6",
   "metadata": {
    "slideshow": {
     "slide_type": "fragment"
    }
   },
   "source": [
    "Additional resources:\n",
    "- Permutation testing:\n",
    "    - Extra lecture notebook: [Fast Permutation Tests](https://dsc80.com/resources/lectures/lec11/lec11-fast-permutation-tests.html).\n",
    "    - [Great visualization](https://www.jwilber.me/permutationtest/).\n",
    "- Missingness mechanisms:\n",
    "    - [Course notes](https://notes.dsc80.com/content/06/defining-missing.html).\n",
    "    - [Wikipedia](https://en.wikipedia.org/wiki/Missing_data).\n",
    "    - [This textbook page](https://stefvanbuuren.name/fimd/sec-MCAR.html).\n",
    "    - [This journal article](https://www.ncbi.nlm.nih.gov/pmc/articles/PMC4121561/)."
   ]
  },
  {
   "cell_type": "markdown",
   "id": "35dddd61",
   "metadata": {
    "slideshow": {
     "slide_type": "slide"
    }
   },
   "source": [
    "## Differences between categorical distributions"
   ]
  },
  {
   "cell_type": "markdown",
   "id": "05a9989c",
   "metadata": {
    "slideshow": {
     "slide_type": "slide"
    }
   },
   "source": [
    "### Hypothesis testing vs. permutation testing"
   ]
  },
  {
   "cell_type": "markdown",
   "id": "e5ff1aa3",
   "metadata": {
    "slideshow": {
     "slide_type": "fragment"
    }
   },
   "source": [
    "\"Standard\" hypothesis testing helps us answer questions of the form:\n",
    "\n",
    "> I have a population distribution, and I have one sample. Does this sample look like it was drawn from the population?"
   ]
  },
  {
   "cell_type": "markdown",
   "id": "adda8ac0",
   "metadata": {
    "slideshow": {
     "slide_type": "fragment"
    }
   },
   "source": [
    "Permutation testing helps us answer questions of the form:\n",
    "\n",
    "> I have two samples, but no information about any population distributions. Do these samples look like they were drawn from the same population?"
   ]
  },
  {
   "cell_type": "markdown",
   "id": "6103720c",
   "metadata": {
    "slideshow": {
     "slide_type": "slide"
    }
   },
   "source": [
    "### Example: Married vs. unmarried couples\n",
    "\n",
    "Let's load in a cleaned version of the couples dataset from the last lecture."
   ]
  },
  {
   "cell_type": "code",
   "execution_count": null,
   "id": "1061a5ff",
   "metadata": {},
   "outputs": [],
   "source": [
    "couples_fp = os.path.join('data', 'married_couples_cleaned.csv')\n",
    "couples = pd.read_csv(couples_fp)\n",
    "couples.head()"
   ]
  },
  {
   "cell_type": "code",
   "execution_count": null,
   "id": "5e6bfed2",
   "metadata": {},
   "outputs": [],
   "source": [
    "couples.sample(5)"
   ]
  },
  {
   "cell_type": "markdown",
   "id": "7933de40",
   "metadata": {
    "slideshow": {
     "slide_type": "slide"
    }
   },
   "source": [
    "### Understanding employment status in households\n",
    "\n",
    "* Do married households more often have a stay-at-home spouse?\n",
    "* Do households with unmarried couples more often have someone looking for work?\n",
    "* How much does the employment status of the different households vary?\n",
    "\n",
    "To answer these questions, let's compute the distribution of employment status **conditional on household type (married vs. unmarried)**."
   ]
  },
  {
   "cell_type": "code",
   "execution_count": null,
   "id": "8ce4f557",
   "metadata": {},
   "outputs": [],
   "source": [
    "# Note that this is a shortcut to picking a column for values and using aggfunc='count'.\n",
    "empl_cnts = couples.pivot_table(index='empl_status', columns='mar_status', aggfunc='size')\n",
    "cond_distr = empl_cnts / empl_cnts.sum()\n",
    "cond_distr"
   ]
  },
  {
   "cell_type": "markdown",
   "id": "f22ae453",
   "metadata": {
    "slideshow": {
     "slide_type": "slide"
    }
   },
   "source": [
    "### Differences in the distributions\n",
    "\n",
    "Are the distributions of employment status for married people and for unmarried people who live with their partners **different**?\n",
    "\n",
    "Is this difference just due to noise?"
   ]
  },
  {
   "cell_type": "code",
   "execution_count": null,
   "id": "5709c58b",
   "metadata": {
    "scrolled": true
   },
   "outputs": [],
   "source": [
    "cond_distr.plot(kind='barh', title='Distribution of Employment Status, Conditional on Household Type', barmode='group')"
   ]
  },
  {
   "cell_type": "markdown",
   "id": "f34e7b1d",
   "metadata": {
    "slideshow": {
     "slide_type": "slide"
    }
   },
   "source": [
    "### Permutation test for household composition \n",
    "\n",
    "* **Null Hypothesis**: In the US, the distribution of employment status among those who are married is the same as among those who are unmarried and live with their partners. The difference between the two observed samples is due to chance.\n",
    "\n",
    "* **Alternative Hypothesis**: In the US, the distributions of employment status of the two groups are **different**."
   ]
  },
  {
   "cell_type": "markdown",
   "id": "d9792dbb",
   "metadata": {
    "slideshow": {
     "slide_type": "fragment"
    }
   },
   "source": [
    "- Note that here, the US is our population, because the survey was conducted in the US (by the National Center for Family & Marriage Research)."
   ]
  },
  {
   "cell_type": "markdown",
   "id": "0a779949",
   "metadata": {
    "slideshow": {
     "slide_type": "slide"
    }
   },
   "source": [
    "### Discussion Question\n",
    "\n",
    "What is a good test statistic in this case?\n",
    "\n",
    "***Hint:*** What kind of distributions are we comparing?"
   ]
  },
  {
   "cell_type": "markdown",
   "id": "eb050aed",
   "metadata": {
    "slideshow": {
     "slide_type": "slide"
    }
   },
   "source": [
    "### Total variation distance\n",
    "\n",
    "- Whenever we need to compare two categorical distributions, we use the TVD.\n",
    "    - Recall, the TVD is the **sum of the absolute differences in proportions, divided by 2**.\n",
    "- In DSC 10, the only test statistic we ever used in permutation tests was the difference in group means/medians, but the TVD can be used in permutation tests as well."
   ]
  },
  {
   "cell_type": "code",
   "execution_count": null,
   "id": "314ac5cd",
   "metadata": {},
   "outputs": [],
   "source": [
    "cond_distr"
   ]
  },
  {
   "cell_type": "markdown",
   "id": "0b27bbf6",
   "metadata": {},
   "source": [
    "Let's first compute the observed TVD, using our new knowledge of the `diff` method."
   ]
  },
  {
   "cell_type": "code",
   "execution_count": null,
   "id": "327e7d74",
   "metadata": {},
   "outputs": [],
   "source": [
    "cond_distr.diff(axis=1).iloc[:, -1].abs().sum() / 2"
   ]
  },
  {
   "cell_type": "markdown",
   "id": "cff17c20",
   "metadata": {},
   "source": [
    "Since we'll need to calculate the TVD repeatedly, let's define a function that computes it."
   ]
  },
  {
   "cell_type": "code",
   "execution_count": null,
   "id": "2d310f4a",
   "metadata": {},
   "outputs": [],
   "source": [
    "def tvd_of_groups(df, groups, cats):\n",
    "    '''groups: the binary column (e.g. married vs. unmarried).\n",
    "       cats: the categorical column (e.g. employment status).\n",
    "    '''\n",
    "    cnts = df.pivot_table(index=cats, columns=groups, aggfunc='size')\n",
    "    # Normalize each column.\n",
    "    distr = cnts / cnts.sum()\n",
    "    # Compute and return the TVD.\n",
    "    return distr.diff(axis=1).iloc[:, -1].abs().sum() / 2 "
   ]
  },
  {
   "cell_type": "code",
   "execution_count": null,
   "id": "3a1b0082",
   "metadata": {},
   "outputs": [],
   "source": [
    "# Same result as above.\n",
    "observed_tvd = tvd_of_groups(couples, groups='mar_status', cats='empl_status')\n",
    "observed_tvd"
   ]
  },
  {
   "cell_type": "markdown",
   "id": "3102e9d3",
   "metadata": {
    "slideshow": {
     "slide_type": "slide"
    }
   },
   "source": [
    "### Simulation\n",
    "\n",
    "- Under the null hypothesis, marital status is not related to employment status.\n",
    "- We can shuffle the marital status column and get an equally-likely dataset.\n",
    "- On each shuffle, we will compute the TVD.\n",
    "- Once we have many TVDs, we can ask, **how often do we see a difference at least as large as our observed difference?**"
   ]
  },
  {
   "cell_type": "code",
   "execution_count": null,
   "id": "a1b056e6",
   "metadata": {},
   "outputs": [],
   "source": [
    "couples.head()"
   ]
  },
  {
   "cell_type": "markdown",
   "id": "282bb93f",
   "metadata": {},
   "source": [
    "Here, we'll shuffle marital statuses, though remember, we could shuffle employment statuses too."
   ]
  },
  {
   "cell_type": "code",
   "execution_count": null,
   "id": "2b6e8370",
   "metadata": {},
   "outputs": [],
   "source": [
    "couples.assign(shuffled_mar=np.random.permutation(couples['mar_status']))"
   ]
  },
  {
   "cell_type": "markdown",
   "id": "0af1c455",
   "metadata": {},
   "source": [
    "Let's do this repeatedly."
   ]
  },
  {
   "cell_type": "code",
   "execution_count": null,
   "id": "b40cfa51",
   "metadata": {},
   "outputs": [],
   "source": [
    "N = 1000\n",
    "tvds = []\n",
    "\n",
    "for _ in range(N):\n",
    "    # Shuffle marital statuses.\n",
    "    with_shuffled = couples.assign(shuffled_mar=np.random.permutation(couples['mar_status']))\n",
    "    \n",
    "    # Compute and store the TVD.\n",
    "    tvd = tvd_of_groups(with_shuffled, groups='shuffled_mar', cats='empl_status')\n",
    "    tvds.append(tvd)"
   ]
  },
  {
   "cell_type": "markdown",
   "id": "fdf053a2",
   "metadata": {},
   "source": [
    "Notice that by defining a function that computes our test statistic, our simulation code is much cleaner."
   ]
  },
  {
   "cell_type": "markdown",
   "id": "8e75619b",
   "metadata": {
    "slideshow": {
     "slide_type": "slide"
    }
   },
   "source": [
    "### Conclusion of the test"
   ]
  },
  {
   "cell_type": "code",
   "execution_count": null,
   "id": "8672ce47",
   "metadata": {
    "scrolled": false
   },
   "outputs": [],
   "source": [
    "fig = px.histogram(pd.DataFrame(tvds), x=0, nbins=50, histnorm='probability', \n",
    "                   title='Empirical Distribution of the TVD')\n",
    "fig.add_vline(x=observed_tvd, line_color='red')\n",
    "fig.add_annotation(text=f'<span style=\"color:red\">Observed TVD = {round(observed_tvd, 2)}</span>',\n",
    "                   x=1.15 * observed_tvd, showarrow=False, y=0.055)\n",
    "\n",
    "fig.update_layout(xaxis_range=[0, 0.2])\n",
    "p_95 = np.percentile(tvds, 95)\n",
    "fig.add_vline(x=p_95, line_color='purple')\n",
    "annot_text = f'<span style=\"color:purple\">The 95th percentile of our<br>empirical distribution is {round(p_95, 2)}.<br><br>'\n",
    "annot_text += 'If our observed statistic is to the<br>right of this point, we will reject the null<br>at a 5% <b>significance level</b>.</span>'\n",
    "fig.add_annotation(text=annot_text, x=1.5 * np.percentile(tvds, 95), showarrow=False, y=0.05)"
   ]
  },
  {
   "cell_type": "markdown",
   "id": "1b9ee0f6",
   "metadata": {
    "slideshow": {
     "slide_type": "fragment"
    }
   },
   "source": [
    "We **reject** the null hypothesis that married/unmarried households have similar employment makeups.\n",
    "\n",
    "We can't say anything about **why** the employment makeups are different, though!"
   ]
  },
  {
   "cell_type": "markdown",
   "id": "92ca6d2a",
   "metadata": {
    "slideshow": {
     "slide_type": "slide"
    }
   },
   "source": [
    "### Discussion Question\n",
    "\n",
    "In the definition of the TVD, we divide the sum of the absolute differences in proportions between the two distributions by 2.\n",
    "\n",
    "```py\n",
    "def tvd(a, b):\n",
    "    return np.sum(np.abs(a - b)) / 2\n",
    "```\n",
    "\n",
    "**Question**: If we divided by 200 instead of 2, would we still reject the null hypothesis?"
   ]
  },
  {
   "cell_type": "markdown",
   "id": "89ba610b",
   "metadata": {
    "slideshow": {
     "slide_type": "slide"
    }
   },
   "source": [
    "## Missingness mechanisms"
   ]
  },
  {
   "cell_type": "markdown",
   "id": "b9680965",
   "metadata": {
    "slideshow": {
     "slide_type": "slide"
    }
   },
   "source": [
    "### Imperfect data\n",
    "\n",
    "<center><img src=\"imgs/image_0.png\" width=40%></center>\n",
    "\n",
    "- When studying a problem, we are interested in understanding the **true model** in nature.\n",
    "- The data generating process is the \"real-world\" version of the model, that generates the data that we observe.\n",
    "- The recorded data is **supposed** to \"well-represent\" the data generating process, and subsequently the true model."
   ]
  },
  {
   "cell_type": "markdown",
   "id": "2bc11e28",
   "metadata": {
    "slideshow": {
     "slide_type": "fragment"
    }
   },
   "source": [
    "- Example: Consider the upcoming Midterm Exam.\n",
    "    - The exam is meant to be a **model** of your **true** knowledge of DSC 80 concepts.\n",
    "    - The data generating process should give us a sense of your true knowledge, but is influenced by the specific questions on the exam, your preparation for the exam, whether or not you are sick on the day of the exam, etc.\n",
    "    - The recorded data consists of the final answers you write on the exam page."
   ]
  },
  {
   "cell_type": "markdown",
   "id": "f8cd9f8f",
   "metadata": {
    "slideshow": {
     "slide_type": "slide"
    }
   },
   "source": [
    "### Imperfect data\n",
    "\n",
    "<center><img src=\"imgs/image_0.png\" width=40%></center>"
   ]
  },
  {
   "cell_type": "markdown",
   "id": "05672d24",
   "metadata": {
    "slideshow": {
     "slide_type": "fragment"
    }
   },
   "source": [
    "* **Problem 1:** Your data is not representative, i.e. you collected a poor sample.\n",
    "    - If the exam only asked questions about `pivot_table`, that would not give us an accurate picture of your understanding of DSC 80!"
   ]
  },
  {
   "cell_type": "markdown",
   "id": "ba81283e",
   "metadata": {
    "slideshow": {
     "slide_type": "fragment"
    }
   },
   "source": [
    "* **Problem 2:** Some of the entries are missing.\n",
    "    - If you left some questions blank, why?"
   ]
  },
  {
   "cell_type": "markdown",
   "id": "246f21ae",
   "metadata": {
    "slideshow": {
     "slide_type": "fragment"
    }
   },
   "source": [
    "We will focus on the second problem."
   ]
  },
  {
   "cell_type": "markdown",
   "id": "3b420d91",
   "metadata": {
    "slideshow": {
     "slide_type": "slide"
    }
   },
   "source": [
    "### Types of missingness\n",
    "\n",
    "There are four key ways in which values can be missing. It is important to distinguish between these types so that we can correctly **impute** (fill in) the missing data.\n",
    "\n",
    "* **Missing by design (MD)**.\n",
    "* **Not missing at random (NMAR)**.\n",
    "    - Also called \"non-ignorable\" (NI).\n",
    "* **Missing at random (MAR)**.\n",
    "* **Missing completely at random (MCAR)**."
   ]
  },
  {
   "cell_type": "markdown",
   "id": "cd6628c8",
   "metadata": {
    "slideshow": {
     "slide_type": "slide"
    }
   },
   "source": [
    "### Missing by design (MD)"
   ]
  },
  {
   "cell_type": "markdown",
   "id": "438e7312",
   "metadata": {
    "slideshow": {
     "slide_type": "fragment"
    }
   },
   "source": [
    "- Values in a column are missing by design if:\n",
    "    - the designers of the data collection process **intentionally decided to not collect data in that column**,\n",
    "    - because it can be recovered from other columns. "
   ]
  },
  {
   "cell_type": "markdown",
   "id": "7f59d879",
   "metadata": {
    "slideshow": {
     "slide_type": "fragment"
    }
   },
   "source": [
    "- If you can determine whether a value is missing solely using other columns, then the data is missing by design.\n",
    "    - For example: `'Age4'` is missing if and only if `'Number of People'` is less than 4.\n",
    "<center><img src=imgs/households.png width=50%></center>"
   ]
  },
  {
   "cell_type": "markdown",
   "id": "0d702eeb",
   "metadata": {
    "slideshow": {
     "slide_type": "fragment"
    }
   },
   "source": [
    "- Refer to [this StackExchange link](https://stats.stackexchange.com/questions/201782/meaning-of-missing-by-design-in-longitudinal-studies) for more examples."
   ]
  },
  {
   "cell_type": "markdown",
   "id": "078a200a",
   "metadata": {
    "slideshow": {
     "slide_type": "slide"
    }
   },
   "source": [
    "### Missing by design\n",
    "\n",
    "\n",
    "<center><img src=\"./imgs/Skiplogic.png\"/ width=60%></center>\n",
    "\n",
    "**Example**: `'Car Type?'` and `'Car Colour?'` are missing if and only if `'Own a car?'` is `'No'`.\n"
   ]
  },
  {
   "cell_type": "markdown",
   "id": "7b13d218",
   "metadata": {
    "slideshow": {
     "slide_type": "slide"
    }
   },
   "source": [
    "### Other types of missingness"
   ]
  },
  {
   "cell_type": "markdown",
   "id": "63a2e6fd",
   "metadata": {
    "slideshow": {
     "slide_type": "fragment"
    }
   },
   "source": [
    "- Not missing at random (NMAR).\n",
    "    - The chance that a value is missing **depends on the actual missing value**!"
   ]
  },
  {
   "cell_type": "markdown",
   "id": "067af3c8",
   "metadata": {
    "slideshow": {
     "slide_type": "fragment"
    }
   },
   "source": [
    "- Missing completely at random (MCAR).\n",
    "    - The chance that a value is missing is **completely independent** of\n",
    "        - other columns, and\n",
    "        - the actual missing value."
   ]
  },
  {
   "cell_type": "markdown",
   "id": "38394e38",
   "metadata": {
    "slideshow": {
     "slide_type": "fragment"
    }
   },
   "source": [
    "- Missing at random (MAR).\n",
    "    - The chance that a value is missing **depends on other columns**, but **not** the actual missing value itself.\n",
    "    - If a column is MAR, then it is MCAR **when conditioned on some set of other columns**."
   ]
  },
  {
   "cell_type": "markdown",
   "id": "fcd261fb",
   "metadata": {
    "slideshow": {
     "slide_type": "slide"
    }
   },
   "source": [
    "### Mom... the dog ate my data! 🐶\n",
    "\n",
    "Consider the following (contrived) example:\n",
    "\n",
    "- We survey 100 people for their favorite color and birth month.\n",
    "- We write their answers on index cards.\n",
    "    - On the left side, we write <span style='color:red'>c</span><span style='color:orange'>o</span><span style='color:yellow'>l</span><span style='color:green'>o</span><span style='color:blue'>r</span><span style='color:purple'>s</span>.\n",
    "    - On the right side, we write birth months 📆.\n",
    "- A bad dog takes the top 10 cards from the stack and chews off the right side (birth months).\n",
    "- Now ten people are missing birth months!"
   ]
  },
  {
   "cell_type": "markdown",
   "id": "bc7b9cb7",
   "metadata": {
    "slideshow": {
     "slide_type": "slide"
    }
   },
   "source": [
    "### Discussion Question\n",
    "\n",
    "We are now missing birth months for the first 10 people we surveyed. What is the missingness mechanism for birth months if:\n",
    "\n",
    "1. Cards were sorted by favorite color?\n",
    "2. Cards were sorted by birth month?\n",
    "3. Cards were shuffled?\n",
    "\n",
    "Remember:\n",
    "\n",
    "- **Not missing at random (NMAR)**: The chance that a value is missing **depends on the actual missing value**!\n",
    "- **Missing at random (MAR)**: The chance that a value is missing **depends on other columns**, but **not** the actual missing value itself.\n",
    "- **Missing completely at random (MCAR)**: The chance that a value is missing is **completely independent** of other columns and the actual missing value."
   ]
  },
  {
   "cell_type": "markdown",
   "id": "99a68630",
   "metadata": {
    "slideshow": {
     "slide_type": "slide"
    }
   },
   "source": [
    "### Discussion Question, solved"
   ]
  },
  {
   "cell_type": "markdown",
   "id": "b676f878",
   "metadata": {
    "slideshow": {
     "slide_type": "fragment"
    }
   },
   "source": [
    "- If cards were sorted by favorite color, then:\n",
    "    - The fact that a card is missing a month is **related to the favorite color**.\n",
    "    - Since the missingness depends on another column, we say values are **missing at random (MAR)**.\n",
    "        - The missingness doesn't depend on the actual missing values – if we fix a particular color, early months are no more likely to be missing than later months."
   ]
  },
  {
   "cell_type": "markdown",
   "id": "50871a1d",
   "metadata": {
    "slideshow": {
     "slide_type": "fragment"
    }
   },
   "source": [
    "- If cards were sorted by birth month, then:\n",
    "    - The fact that a card is missing a month is **related to the missing month**.\n",
    "    - Since the missingness depends on the actual missing values – early months are more likely to be missing than later months – we say values are **not missing at random (NMAR)**."
   ]
  },
  {
   "cell_type": "markdown",
   "id": "9150bf2b",
   "metadata": {
    "slideshow": {
     "slide_type": "fragment"
    }
   },
   "source": [
    "- If cards were shuffled, then:\n",
    "    - The fact that a card is missing a month is **related to nothing**.\n",
    "    - Since the missingness depends on nothing, we say values are **missing completely at random (MCAR)**."
   ]
  },
  {
   "cell_type": "markdown",
   "id": "67e362ef",
   "metadata": {
    "slideshow": {
     "slide_type": "slide"
    }
   },
   "source": [
    "### The real world is messy! 🌎\n",
    "\n",
    "- In our contrived example, the distinction between NMAR, MAR, and MCAR was relatively clear.\n",
    "- However, in more practical examples, it can be hard to distinguish between types of missingness.\n",
    "- Domain knowledge is often needed to understand **why** values might be missing."
   ]
  },
  {
   "cell_type": "markdown",
   "id": "3b605861",
   "metadata": {
    "slideshow": {
     "slide_type": "slide"
    }
   },
   "source": [
    "### Not missing at random (NMAR)\n",
    "\n",
    "- Data is NMAR if the chance that a value is missing **depends on the actual missing value**!\n",
    "    - It could _also_ depend on other columns.\n",
    "- Another term for NMAR is \"non-ignorable\" – the fact that data is missing is data in and of itself that we cannot ignore."
   ]
  },
  {
   "cell_type": "markdown",
   "id": "7c879c62",
   "metadata": {
    "slideshow": {
     "slide_type": "fragment"
    }
   },
   "source": [
    "- **Example:** On an employment survey, people with really high incomes may be less likely to report their income.\n",
    "    - If we **ignore** missingness and compute the mean salary, our result will be **biased** low!"
   ]
  },
  {
   "cell_type": "markdown",
   "id": "e6951b4b",
   "metadata": {
    "slideshow": {
     "slide_type": "fragment"
    }
   },
   "source": [
    "- **Example:** A person doesn't take a drug test because they took drugs the day before."
   ]
  },
  {
   "cell_type": "markdown",
   "id": "22e8e783",
   "metadata": {
    "slideshow": {
     "slide_type": "fragment"
    }
   },
   "source": [
    "- When data is NMAR, we must reason about why the data is missing using domain expertise on the data generating process – the other columns in our data won't help. "
   ]
  },
  {
   "cell_type": "markdown",
   "id": "b9d43d7e",
   "metadata": {
    "slideshow": {
     "slide_type": "slide"
    }
   },
   "source": [
    "### Missing completely at random (MCAR)\n",
    "\n",
    "- Data is MCAR if the chance that a value is missing is **completely independent** of other columns and the actual missing value."
   ]
  },
  {
   "cell_type": "markdown",
   "id": "a981bb8d",
   "metadata": {
    "slideshow": {
     "slide_type": "fragment"
    }
   },
   "source": [
    "- **Example:** After the Midterm Exam, I accidentally spill boba on the top of the stack. Assuming that the exams are in a random order, the exam scores that are lost due to this still will be MCAR. (Hopefully this doesn't happen!)\n",
    "\n",
    "<center><img src=\"imgs/tea.jpg\" width=\"20%\"></center>\n",
    "\n"
   ]
  },
  {
   "cell_type": "markdown",
   "id": "c1746432",
   "metadata": {
    "slideshow": {
     "slide_type": "slide"
    }
   },
   "source": [
    "### Missing at random (MAR)\n",
    "\n",
    "- Data is MAR if the chance that a value is missing **depends on other columns**, but **not** the actual missing value itself."
   ]
  },
  {
   "cell_type": "markdown",
   "id": "f7a892f4",
   "metadata": {
    "slideshow": {
     "slide_type": "fragment"
    }
   },
   "source": [
    "- **Example:** People who work in the service industry may be less likely to report their income.\n",
    "    - If you look at service industry workers only, there is no pattern to the missingness of income (MCAR).\n",
    "    - If you look at corporate workers only, there is no pattern to the missingness of income (MCAR).\n",
    "    - Within each industry, missingness is MCAR, but overall, it is MAR, since the **missingness of income depends on industry**."
   ]
  },
  {
   "cell_type": "markdown",
   "id": "79056ba3",
   "metadata": {
    "slideshow": {
     "slide_type": "fragment"
    }
   },
   "source": [
    "* **Example:** An elementary school teacher keeps track of the health conditions of each student in their class. One day, a student doesn't show up for a test because they are at the hospital.\n",
    "    - The fact that their test score is missing has nothing to do with the test score itself.\n",
    "    - But the teacher could have predicted that the score would have been missing given the other information they had about the student."
   ]
  },
  {
   "cell_type": "markdown",
   "id": "f2f65f11",
   "metadata": {
    "slideshow": {
     "slide_type": "slide"
    }
   },
   "source": [
    "### Isn't everything NMAR? 🤔\n",
    "\n",
    "- You can argue that many of these examples are NMAR, by arguing that the missingness depends on the value of the data that is missing.\n",
    "    - For example, if a student is hospitalized, they may have lots of health problems and may not have spent much time on school, leading to their test scores being worse.\n",
    "- Fair point, but with that logic _almost everything is NMAR_.\n",
    "- What we really care about is **the main reason data is missing**.\n",
    "- If the other columns **mostly** explain the missing value and missingness, treat it as MAR."
   ]
  },
  {
   "cell_type": "markdown",
   "id": "7d636748",
   "metadata": {
    "slideshow": {
     "slide_type": "slide"
    }
   },
   "source": [
    "### Flowchart\n",
    "\n",
    "A good strategy is to assess missingness in the following order."
   ]
  },
  {
   "cell_type": "markdown",
   "id": "ca00879c",
   "metadata": {
    "slideshow": {
     "slide_type": "fragment"
    }
   },
   "source": [
    "<center><b>Missing by design (MD)</b></center>\n",
    "<center><i>Can I determine the missing value exactly by looking at the other columns?</i> 🤔</center>\n",
    "$$\\downarrow$$"
   ]
  },
  {
   "cell_type": "markdown",
   "id": "98eebc90",
   "metadata": {
    "slideshow": {
     "slide_type": "fragment"
    }
   },
   "source": [
    "<center><b>Not missing at random (NMAR)</b></center>\n",
    "<center><i>Is there a good reason why the missingness depends on the values themselves?</i> 🤔</center>\n",
    "$$\\downarrow$$"
   ]
  },
  {
   "cell_type": "markdown",
   "id": "c5f82f0b",
   "metadata": {
    "slideshow": {
     "slide_type": "fragment"
    }
   },
   "source": [
    "<center><b>Missing at random (MAR)</b></center>\n",
    "<center><i>Do other columns tell me anything about the likelihood that a value is missing? </i>🤔</center>\n",
    "$$\\downarrow$$"
   ]
  },
  {
   "cell_type": "markdown",
   "id": "1225bcaf",
   "metadata": {
    "slideshow": {
     "slide_type": "fragment"
    }
   },
   "source": [
    "<center><b>Missing completely at random (MCAR)</b></center>\n",
    "<center><i>The missingness must not depend on other columns or the values themselves. </i>😄</center>"
   ]
  },
  {
   "cell_type": "markdown",
   "id": "81c83846",
   "metadata": {
    "slideshow": {
     "slide_type": "slide"
    }
   },
   "source": [
    "### Discussion Question\n",
    "\n",
    "In each of the following examples, decide whether the missing data are likely to be MD, NMAR, MAR, or MCAR:\n",
    "\n",
    "* A table for a medical study has columns for `'gender'` and `'age'`. **`'age'` has missing values**.\n",
    "* Measurements from the Hubble Space Telescope are **dropped during transmission**.\n",
    "* A table has a single column, `'self-reported education level'`, **which contains missing values**.\n",
    "* A table of grades contains three columns, `'Version 1'`, `'Version 2'`, and `'Version 3'`. **$\\frac{2}{3}$ of the entries in the table are `NaN`.**\n"
   ]
  },
  {
   "cell_type": "markdown",
   "id": "878293f6",
   "metadata": {
    "slideshow": {
     "slide_type": "slide"
    }
   },
   "source": [
    "### Why do we care again?\n",
    "\n",
    "- If a dataset contains missing values, it is likely not an accurate picture of the data generating process.\n",
    "- By identifying missingness mechanisms, we can best **fill in** missing values, to gain a better understanding of the DGP."
   ]
  },
  {
   "cell_type": "markdown",
   "id": "1fd64c14",
   "metadata": {
    "slideshow": {
     "slide_type": "slide"
    }
   },
   "source": [
    "## Formal definitions\n",
    "\n",
    "We won't spend much time on these in lecture, but you may find them helpful."
   ]
  },
  {
   "cell_type": "markdown",
   "id": "b6809620",
   "metadata": {
    "slideshow": {
     "slide_type": "slide"
    }
   },
   "source": [
    "### Formal definition: MCAR\n",
    "\n",
    "Suppose we have:\n",
    "- A dataset $Y$ with observed values $Y_{obs}$ and missing values $Y_{mis}$.\n",
    "- A parameter $\\psi$ that represents all relevant information that is not part of the dataset.\n",
    "\n",
    "Data is **missing completely at random** (MCAR) if \n",
    "\n",
    "$$\\text{P}(\\text{data is present} \\: | \\: Y_{obs}, Y_{mis}, \\psi) = \\text{P}(\\text{data is present} \\: | \\: \\psi)$$\n",
    "\n",
    "That is, adding information about the dataset doesn't change the likelihood data is missing!"
   ]
  },
  {
   "cell_type": "markdown",
   "id": "01cf2151",
   "metadata": {
    "slideshow": {
     "slide_type": "slide"
    }
   },
   "source": [
    "### Formal definition: MAR\n",
    "\n",
    "Suppose we have:\n",
    "- A dataset $Y$ with observed values $Y_{obs}$ and missing values $Y_{mis}$.\n",
    "- A parameter $\\psi$ that represents all relevant information that is not part of the dataset.\n",
    "\n",
    "Data is **missing at random** (MCAR) if \n",
    "\n",
    "$$\\text{P}(\\text{data is present} \\: | \\: Y_{obs}, Y_{mis}, \\psi) = \\text{P}(\\text{data is present} \\: | \\: Y_{obs},  \\psi)$$\n",
    "\n",
    "That is, MAR data is **actually MCAR**, **conditional** on $Y_{obs}$."
   ]
  },
  {
   "cell_type": "markdown",
   "id": "d1f2646f",
   "metadata": {
    "slideshow": {
     "slide_type": "slide"
    }
   },
   "source": [
    "### Formal definition: NMAR\n",
    "\n",
    "Suppose we have:\n",
    "- A dataset $Y$ with observed values $Y_{obs}$ and missing values $Y_{mis}$.\n",
    "- A parameter $\\psi$ that represents all relevant information that is not part of the dataset.\n",
    "\n",
    "\n",
    "Data is **not missing at random** (NMAR) if  \n",
    "\n",
    "$$\\text{P}(\\text{data is present} \\: | \\: Y_{obs}, Y_{mis}, \\psi)$$\n",
    "\n",
    "cannot be simplified. That is, in NMAR data, **missingness is dependent on the missing value** itself."
   ]
  },
  {
   "cell_type": "markdown",
   "id": "01815d59",
   "metadata": {
    "slideshow": {
     "slide_type": "slide"
    }
   },
   "source": [
    "## Assessing missingness through data"
   ]
  },
  {
   "cell_type": "markdown",
   "id": "a6c90aaf",
   "metadata": {
    "slideshow": {
     "slide_type": "slide"
    }
   },
   "source": [
    "### Assessing missingness through data\n",
    "\n",
    "- Suppose I believe that the missingness mechanism of a column is NMAR, MAR, or MCAR.\n",
    "    - I've ruled out missing by design (a good first step).\n",
    "- Can I check whether this is true, by looking at the data?"
   ]
  },
  {
   "cell_type": "markdown",
   "id": "af03bc07",
   "metadata": {
    "slideshow": {
     "slide_type": "slide"
    }
   },
   "source": [
    "### Assessing NMAR\n",
    "\n",
    "- We can't determine if data is NMAR just by looking at the data, as whether or not data is NMAR depends on the **unobserved data**.\n",
    "- To establish if data is NMAR, we must:\n",
    "    - **reason about the data generating process**, or\n",
    "    - collect more data."
   ]
  },
  {
   "cell_type": "markdown",
   "id": "18a0312b",
   "metadata": {
    "slideshow": {
     "slide_type": "fragment"
    }
   },
   "source": [
    "- **Example:** Consider a dataset of survey data of students' self-reported happiness. The data contains PIDs and happiness scores; nothing else. Some happiness scores are missing. **Are happiness scores likely NMAR?**"
   ]
  },
  {
   "cell_type": "markdown",
   "id": "2dd2560c",
   "metadata": {
    "slideshow": {
     "slide_type": "slide"
    }
   },
   "source": [
    "### Assessing MAR\n",
    "\n",
    "- Data are MAR if the missingness only depends on **observed** data.\n",
    "- After reasoning about the data generating process, if you establish that data is not NMAR, then it must be either MAR or MCAR.\n",
    "- The more columns we have in our dataset, the \"weaker the NMAR effect\" is.\n",
    "    - Adding more columns -> controlling for more variables -> moving from NMAR to MAR.\n",
    "    - **Example:** With no other columns, income in a census is NMAR. But once we look at location, education, and occupation, incomes are closer to being MAR."
   ]
  },
  {
   "cell_type": "markdown",
   "id": "5cd364b3",
   "metadata": {
    "slideshow": {
     "slide_type": "slide"
    }
   },
   "source": [
    "### Deciding between MCAR and MAR\n",
    "\n",
    "- For data to be MCAR, the chance that values are missing should not depend on any other column or the values themselves."
   ]
  },
  {
   "cell_type": "markdown",
   "id": "79812fa1",
   "metadata": {
    "slideshow": {
     "slide_type": "fragment"
    }
   },
   "source": [
    "- **Example:** Consider a dataset of phones, in which we store the screen size and price of each phone. **Some prices are missing.**\n",
    "\n",
    "| Phone | Screen Size | Price |\n",
    "| --- | --- | --- |\n",
    "| iPhone 14 | 6.06 | 999 |\n",
    "| Galaxy Z Fold 4 | 7.6 | NaN |\n",
    "| OnePlus 9 Pro | 6.7 | 799 |\n",
    "| iPhone 13 Pro Max | 6.68 | NaN |"
   ]
  },
  {
   "cell_type": "markdown",
   "id": "56961812",
   "metadata": {
    "slideshow": {
     "slide_type": "fragment"
    }
   },
   "source": [
    "- If prices are MCAR, then **the distribution of screen size should be the same** for:\n",
    "    - phones whose prices are missing, and \n",
    "    - phones whose prices aren't missing."
   ]
  },
  {
   "cell_type": "markdown",
   "id": "677691d0",
   "metadata": {
    "slideshow": {
     "slide_type": "fragment"
    }
   },
   "source": [
    "- **We can use a permutation test to decide between MAR and MCAR!** We are asking the question, did these two samples come from the same underlying distribution?"
   ]
  },
  {
   "cell_type": "markdown",
   "id": "0e7f3766",
   "metadata": {
    "slideshow": {
     "slide_type": "slide"
    }
   },
   "source": [
    "## Summary, next time"
   ]
  },
  {
   "cell_type": "markdown",
   "id": "f05df0c3",
   "metadata": {
    "slideshow": {
     "slide_type": "slide"
    }
   },
   "source": [
    "### Summary\n",
    "\n",
    "- **Missing by design (MD)**: Whether or not a value is missing depends entirely on the data in other columns. In other words, if we can always predict if a value will be missing given the other columns, the data is MD.\n",
    "- **Not missing at random (NMAR, also called NI)**: The chance that a value is missing **depends on the actual missing value**!\n",
    "- **Missing at random (MAR)**: The chance that a value is missing **depends on other columns**, but **not** the actual missing value itself.\n",
    "- **Missing completely at random (MCAR)**: The chance that a value is missing is **completely independent** of other columns and the actual missing value.\n",
    "\n",
    "- **Important:** Refer to the [Flowchart](#Flowchart) when deciding between missingness types."
   ]
  },
  {
   "cell_type": "markdown",
   "id": "9f3bf748",
   "metadata": {
    "slideshow": {
     "slide_type": "slide"
    }
   },
   "source": [
    "### Next time\n",
    "\n",
    "- Using permutation tests to decide between MCAR and MAR.\n",
    "- A new test statistic for continuous distributions."
   ]
  }
 ],
 "metadata": {
  "celltoolbar": "Slideshow",
  "kernelspec": {
   "display_name": "Python 3 (ipykernel)",
   "language": "python",
   "name": "python3"
  },
  "language_info": {
   "codemirror_mode": {
    "name": "ipython",
    "version": 3
   },
   "file_extension": ".py",
   "mimetype": "text/x-python",
   "name": "python",
   "nbconvert_exporter": "python",
   "pygments_lexer": "ipython3",
   "version": "3.9.6"
  },
  "livereveal": {
   "scroll": true
  },
  "rise": {
   "transition": "none"
  }
 },
 "nbformat": 4,
 "nbformat_minor": 5
}
