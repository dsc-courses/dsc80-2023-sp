{
 "cells": [
  {
   "cell_type": "markdown",
   "id": "5ee6af37",
   "metadata": {},
   "source": [
    "# Aside: Fast Permutation Tests"
   ]
  },
  {
   "cell_type": "code",
   "execution_count": null,
   "id": "28a5cce4",
   "metadata": {
    "slideshow": {
     "slide_type": "skip"
    },
    "tags": [
     "dev"
    ]
   },
   "outputs": [],
   "source": [
    "import numpy as np\n",
    "import pandas as pd\n",
    "import os\n",
    "\n",
    "import plotly.express as px\n",
    "pd.options.plotting.backend = 'plotly'"
   ]
  },
  {
   "cell_type": "markdown",
   "id": "51c7e72e",
   "metadata": {
    "slideshow": {
     "slide_type": "slide"
    }
   },
   "source": [
    "## Speeding things up 🏃"
   ]
  },
  {
   "cell_type": "markdown",
   "id": "89608d3c",
   "metadata": {
    "slideshow": {
     "slide_type": "slide"
    }
   },
   "source": [
    "### Speeding up permutation tests\n",
    "\n",
    "- A permutation test, like all simulation-based hypothesis tests, generates an **approximation** of the distribution of the test statistic.\n",
    "    - If we found **all** permutations, the distribution would be exact!\n",
    "    - If there are $a$ elements in one group and $b$ in the other, the total number of permutations is ${a + b \\choose a}$.\n",
    "    - If $a = 100$ and $b = 150$, there are more than ${250 \\choose 100} \\approx 6 \\cdot 10^{71}$ permutations!"
   ]
  },
  {
   "cell_type": "markdown",
   "id": "f56a9204",
   "metadata": {
    "slideshow": {
     "slide_type": "fragment"
    }
   },
   "source": [
    "- The more repetitions we use, the better our approximation will be.\n",
    "- Unfortunately, our code is pretty slow, so we can't use many repetitions."
   ]
  },
  {
   "cell_type": "markdown",
   "id": "dedfc1c1",
   "metadata": {
    "slideshow": {
     "slide_type": "slide"
    }
   },
   "source": [
    "### Example: Birth weight and smoking 🚬"
   ]
  },
  {
   "cell_type": "code",
   "execution_count": null,
   "id": "0a83fab1",
   "metadata": {},
   "outputs": [],
   "source": [
    "baby_fp = os.path.join('data', 'baby.csv')\n",
    "baby = pd.read_csv(baby_fp)\n",
    "baby = baby[['Maternal Smoker', 'Birth Weight']]"
   ]
  },
  {
   "cell_type": "code",
   "execution_count": null,
   "id": "32967f0c",
   "metadata": {},
   "outputs": [],
   "source": [
    "baby.head()"
   ]
  },
  {
   "cell_type": "markdown",
   "id": "01cf4fa1",
   "metadata": {
    "slideshow": {
     "slide_type": "slide"
    }
   },
   "source": [
    "Recall our permutation test from last class:\n",
    "- **Null Hypothesis**: In the population, birth weights of smokers' babies and non-smokers' babies have the same distribution, and the observed differences in our samples are due to random chance.\n",
    "- **Alternative Hypothesis**: In the population, smokers' babies have lower birth weights than non-smokers' babies, on average. The observed difference in our samples cannot be explained by random chance alone."
   ]
  },
  {
   "cell_type": "markdown",
   "id": "3db68ff6",
   "metadata": {
    "slideshow": {
     "slide_type": "slide"
    }
   },
   "source": [
    "### Timing the birth weights example ⏰"
   ]
  },
  {
   "cell_type": "markdown",
   "id": "10b7bc19",
   "metadata": {},
   "source": [
    "We'll use 3000 repetitions instead of 500."
   ]
  },
  {
   "cell_type": "code",
   "execution_count": null,
   "id": "c045264a",
   "metadata": {
    "slideshow": {
     "slide_type": "-"
    }
   },
   "outputs": [],
   "source": [
    "%%time\n",
    "\n",
    "n_repetitions = 3000\n",
    "\n",
    "differences = []\n",
    "for _ in range(n_repetitions):\n",
    "    \n",
    "    # Step 1: Shuffle the weights and store them in a DataFrame.\n",
    "    with_shuffled = baby.assign(Shuffled_Weights=np.random.permutation(baby['Birth Weight']))\n",
    "\n",
    "    # Step 2: Compute the test statistic.\n",
    "    # Remember, alphabetically, False comes before True,\n",
    "    # so this computes True - False.\n",
    "    group_means = (\n",
    "        with_shuffled\n",
    "        .groupby('Maternal Smoker')\n",
    "        .mean()\n",
    "        .loc[:, 'Shuffled_Weights']\n",
    "    )\n",
    "    difference = group_means.diff().iloc[-1]\n",
    "    \n",
    "    # Step 3: Store the result.\n",
    "    differences.append(difference)"
   ]
  },
  {
   "cell_type": "code",
   "execution_count": null,
   "id": "2c9c7fd2",
   "metadata": {
    "slideshow": {
     "slide_type": "slide"
    }
   },
   "outputs": [],
   "source": [
    "fig = px.histogram(pd.DataFrame(differences), x=0, nbins=50, histnorm='probability', \n",
    "                   title='Empirical Distribution of the Test Statistic, Original Approach')\n",
    "fig.update_layout(xaxis_range=[-5, 5])"
   ]
  },
  {
   "cell_type": "markdown",
   "id": "e5117cc1",
   "metadata": {
    "slideshow": {
     "slide_type": "slide"
    }
   },
   "source": [
    "### A faster approach\n",
    "\n",
    "- Our previous approach involved calling `groupby` inside of a loop.\n",
    "- We can avoid `groupby` entirely!\n",
    "- Let's start by generating a Boolean array of size `(3000, 1174)`.\n",
    "    - Each row will correspond to a single permutation of the `'Maternal Smoker'` (`bool`) column."
   ]
  },
  {
   "cell_type": "code",
   "execution_count": null,
   "id": "5a5b82a3",
   "metadata": {},
   "outputs": [],
   "source": [
    "is_smoker = baby['Maternal Smoker'].values\n",
    "weights = baby['Birth Weight'].values"
   ]
  },
  {
   "cell_type": "code",
   "execution_count": null,
   "id": "31e1eb64",
   "metadata": {},
   "outputs": [],
   "source": [
    "is_smoker"
   ]
  },
  {
   "cell_type": "code",
   "execution_count": null,
   "id": "ff4e0ee1",
   "metadata": {},
   "outputs": [],
   "source": [
    "%%time\n",
    "\n",
    "np.random.seed(24) # So that we get the same results each time (for lecture).\n",
    "\n",
    "# We are still using a for-loop!\n",
    "is_smoker_permutations = np.column_stack([\n",
    "    np.random.permutation(is_smoker)\n",
    "    for _ in range(3000)\n",
    "]).T"
   ]
  },
  {
   "cell_type": "markdown",
   "id": "13326a39",
   "metadata": {},
   "source": [
    "In `is_smoker_permutatons`, each row is a new simulation. \n",
    "- `False` means that baby comes from a non-smoking mother.\n",
    "- `True` means that baby comes from a smoking mother."
   ]
  },
  {
   "cell_type": "code",
   "execution_count": null,
   "id": "f618570c",
   "metadata": {},
   "outputs": [],
   "source": [
    "is_smoker_permutations"
   ]
  },
  {
   "cell_type": "code",
   "execution_count": null,
   "id": "26e8b0fe",
   "metadata": {},
   "outputs": [],
   "source": [
    "is_smoker_permutations.shape"
   ]
  },
  {
   "cell_type": "markdown",
   "id": "2f15c9a6",
   "metadata": {},
   "source": [
    "Note that each row has 459 `True`s and 715 `False`s – it's just the order of them that's different."
   ]
  },
  {
   "cell_type": "code",
   "execution_count": null,
   "id": "cf309b0b",
   "metadata": {},
   "outputs": [],
   "source": [
    "is_smoker_permutations.sum(axis=1)"
   ]
  },
  {
   "cell_type": "markdown",
   "id": "8d0067d9",
   "metadata": {},
   "source": [
    "The first row of `is_smoker_permutations` tells us that in this permutation, we'll assign baby 1 to \"smoker\", baby 2 to \"smoker\", baby 3 to \"non-smoker\", and so on."
   ]
  },
  {
   "cell_type": "code",
   "execution_count": null,
   "id": "d4f8ba67",
   "metadata": {},
   "outputs": [],
   "source": [
    "is_smoker_permutations[0]"
   ]
  },
  {
   "cell_type": "markdown",
   "id": "ae58c825",
   "metadata": {
    "slideshow": {
     "slide_type": "slide"
    }
   },
   "source": [
    "### Broadcasting\n",
    "\n",
    "- If we multiply `is_smoker_permutations` by `weights`, we will create a **new** (3000, 1174) array, in which:\n",
    "    - the weights of babies assigned to \"smoker\" are present, and\n",
    "    - the weights of babies assigned to \"non-smoker\" are 0.\n",
    "- `is_smoker_permutations` is a \"mask\"."
   ]
  },
  {
   "cell_type": "markdown",
   "id": "a7aac4ae",
   "metadata": {},
   "source": [
    "First, let's try this on just the first permutation (i.e. the first row of `is_smoker_permutations`)."
   ]
  },
  {
   "cell_type": "code",
   "execution_count": null,
   "id": "bd4ac2f3",
   "metadata": {},
   "outputs": [],
   "source": [
    "weights * is_smoker_permutations[0]"
   ]
  },
  {
   "cell_type": "markdown",
   "id": "ae1e6f48",
   "metadata": {},
   "source": [
    "Now, on all of `is_smoker_permutations`:"
   ]
  },
  {
   "cell_type": "code",
   "execution_count": null,
   "id": "7c45e0ea",
   "metadata": {},
   "outputs": [],
   "source": [
    "weights * is_smoker_permutations"
   ]
  },
  {
   "cell_type": "markdown",
   "id": "b3f73057",
   "metadata": {},
   "source": [
    "The mean of the **non-zero** entries in a row is the mean of the weights of \"smoker\" babies in that permutation.\n",
    "\n",
    "_Why can't we use `.mean(axis=1)`?_"
   ]
  },
  {
   "cell_type": "code",
   "execution_count": null,
   "id": "8d6a3b73",
   "metadata": {},
   "outputs": [],
   "source": [
    "n_smokers = is_smoker.sum()\n",
    "mean_smokers = (weights * is_smoker_permutations).sum(axis=1) / n_smokers\n",
    "mean_smokers"
   ]
  },
  {
   "cell_type": "code",
   "execution_count": null,
   "id": "bd2c436d",
   "metadata": {},
   "outputs": [],
   "source": [
    "mean_smokers.shape"
   ]
  },
  {
   "cell_type": "markdown",
   "id": "c432360a",
   "metadata": {},
   "source": [
    "We also need to get the weights of the non-smokers in our permutations. We can do this by \"inverting\" the `is_smoker_permutations` mask and performing the same calculations."
   ]
  },
  {
   "cell_type": "code",
   "execution_count": null,
   "id": "a015f39e",
   "metadata": {},
   "outputs": [],
   "source": [
    "n_non_smokers = 1174 - n_smokers\n",
    "mean_non_smokers = (weights * ~is_smoker_permutations).sum(axis=1) / n_non_smokers\n",
    "mean_non_smokers"
   ]
  },
  {
   "cell_type": "code",
   "execution_count": null,
   "id": "d6ce4c01",
   "metadata": {},
   "outputs": [],
   "source": [
    "test_statistics = mean_smokers - mean_non_smokers\n",
    "test_statistics"
   ]
  },
  {
   "cell_type": "markdown",
   "id": "e31cf1ed",
   "metadata": {
    "slideshow": {
     "slide_type": "slide"
    }
   },
   "source": [
    "### Putting it all together"
   ]
  },
  {
   "cell_type": "code",
   "execution_count": null,
   "id": "4bbc53f1",
   "metadata": {},
   "outputs": [],
   "source": [
    "%%time\n",
    "\n",
    "is_smoker = baby['Maternal Smoker'].values\n",
    "weights = baby['Birth Weight'].values\n",
    "n_smokers = is_smoker.sum()\n",
    "n_non_smokers = 1174 - n_smokers\n",
    "\n",
    "is_smoker_permutations = np.column_stack([\n",
    "    np.random.permutation(is_smoker)\n",
    "    for _ in range(3000)\n",
    "]).T\n",
    "\n",
    "mean_smokers = (weights * is_smoker_permutations).sum(axis=1) / n_smokers\n",
    "mean_non_smokers = (weights * ~is_smoker_permutations).sum(axis=1) / n_non_smokers\n",
    "fast_differences = mean_smokers - mean_non_smokers"
   ]
  },
  {
   "cell_type": "code",
   "execution_count": null,
   "id": "23d0ddc8",
   "metadata": {
    "slideshow": {
     "slide_type": "slide"
    }
   },
   "outputs": [],
   "source": [
    "fig = px.histogram(pd.DataFrame(fast_differences), x=0, nbins=50, histnorm='probability', \n",
    "                   title='Empirical Distribution of the Test Statistic, Faster Approach')\n",
    "fig.update_layout(xaxis_range=[-5, 5])"
   ]
  },
  {
   "cell_type": "markdown",
   "id": "960859ba",
   "metadata": {},
   "source": [
    "The distribution of test statistics with the fast simulation is similar to the original distribution of test statistics."
   ]
  },
  {
   "cell_type": "markdown",
   "id": "730747eb",
   "metadata": {
    "slideshow": {
     "slide_type": "slide"
    }
   },
   "source": [
    "## Other performance considerations"
   ]
  },
  {
   "cell_type": "markdown",
   "id": "0ad8382a",
   "metadata": {
    "slideshow": {
     "slide_type": "slide"
    }
   },
   "source": [
    "### `np.random.permutation` (fast) vs `df.sample` (slow)\n",
    "\n",
    "In lecture, we mentioned the fact that `np.random.permutation` is faster than using the `df.sample` method.  It's because `df.sample` has to shuffle the index as well.\n",
    "\n",
    "How fast does a single shuffle take for each approach?"
   ]
  },
  {
   "cell_type": "code",
   "execution_count": null,
   "id": "02f4868b",
   "metadata": {},
   "outputs": [],
   "source": [
    "to_shuffle = baby.copy()\n",
    "weights = to_shuffle['Birth Weight']"
   ]
  },
  {
   "cell_type": "code",
   "execution_count": null,
   "id": "19ef5e17",
   "metadata": {},
   "outputs": [],
   "source": [
    "%%timeit\n",
    "np.random.permutation(weights.values)"
   ]
  },
  {
   "cell_type": "code",
   "execution_count": null,
   "id": "e6a79c71",
   "metadata": {},
   "outputs": [],
   "source": [
    "%%timeit\n",
    "weights.sample(frac=1)"
   ]
  },
  {
   "cell_type": "markdown",
   "id": "db164092",
   "metadata": {
    "slideshow": {
     "slide_type": "slide"
    }
   },
   "source": [
    "### Adding columns in place (fast) vs. `assign` (slow)\n",
    "\n",
    "Don't use `assign`; instead, add the new column in-place.\n",
    "\n",
    "**Why?** This way, we don't create a new copy of our DataFrame on each iteration."
   ]
  },
  {
   "cell_type": "code",
   "execution_count": null,
   "id": "a04836a4",
   "metadata": {},
   "outputs": [],
   "source": [
    "%%timeit\n",
    "to_shuffle['Shuffled_Weights'] = np.random.permutation(weights.values)"
   ]
  },
  {
   "cell_type": "code",
   "execution_count": null,
   "id": "51a85cc8",
   "metadata": {},
   "outputs": [],
   "source": [
    "%%timeit\n",
    "to_shuffle.assign(Shuffled_Weights=np.random.permutation(weights.values))"
   ]
  }
 ],
 "metadata": {
  "celltoolbar": "Slideshow",
  "kernelspec": {
   "display_name": "Python 3 (ipykernel)",
   "language": "python",
   "name": "python3"
  },
  "language_info": {
   "codemirror_mode": {
    "name": "ipython",
    "version": 3
   },
   "file_extension": ".py",
   "mimetype": "text/x-python",
   "name": "python",
   "nbconvert_exporter": "python",
   "pygments_lexer": "ipython3",
   "version": "3.9.6"
  },
  "livereveal": {
   "scroll": true
  },
  "rise": {
   "transition": "none"
  }
 },
 "nbformat": 4,
 "nbformat_minor": 5
}
