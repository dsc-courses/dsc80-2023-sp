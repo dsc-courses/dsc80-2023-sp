{
 "cells": [
  {
   "cell_type": "code",
   "execution_count": null,
   "id": "8c8a44b8",
   "metadata": {
    "slideshow": {
     "slide_type": "skip"
    }
   },
   "outputs": [],
   "source": [
    "import pandas as pd\n",
    "import numpy as np\n",
    "import os\n",
    "\n",
    "import warnings\n",
    "warnings.simplefilter('ignore')\n",
    "\n",
    "from IPython.display import display, IFrame\n",
    "\n",
    "def show_paradox_slides():\n",
    "    src = 'https://docs.google.com/presentation/d/e/2PACX-1vSbFSaxaYZ0NcgrgqZLvjhkjX-5MQzAITWAsEFZHnix3j1c0qN8Vd1rogTAQP7F7Nf5r-JWExnGey7h/embed?start=false'\n",
    "    width = 960\n",
    "    height = 569\n",
    "    display(IFrame(src, width, height))"
   ]
  },
  {
   "cell_type": "markdown",
   "id": "ce9e66d9",
   "metadata": {
    "slideshow": {
     "slide_type": "slide"
    }
   },
   "source": [
    "# Lecture 5 – Pivoting and Simpson's Paradox\n",
    "\n",
    "## DSC 80, Spring 2023"
   ]
  },
  {
   "cell_type": "markdown",
   "id": "22824200",
   "metadata": {
    "slideshow": {
     "slide_type": "slide"
    }
   },
   "source": [
    "### Agenda\n",
    "\n",
    "- Grouping with multiple columns.\n",
    "- Pivoting.\n",
    "- Distributions.\n",
    "- Reshaping DataFrames.\n",
    "- Simpson's paradox.\n",
    "- Aside: Time series data."
   ]
  },
  {
   "cell_type": "markdown",
   "id": "311a8e55",
   "metadata": {
    "slideshow": {
     "slide_type": "slide"
    }
   },
   "source": [
    "## Grouping"
   ]
  },
  {
   "cell_type": "markdown",
   "id": "cf32e518",
   "metadata": {
    "slideshow": {
     "slide_type": "slide"
    }
   },
   "source": [
    "Recall, last class, we started working with a dataset that involves various measurements taken of three species of penguins in Antarctica."
   ]
  },
  {
   "cell_type": "code",
   "execution_count": null,
   "id": "9961f647",
   "metadata": {
    "slideshow": {
     "slide_type": "-"
    }
   },
   "outputs": [],
   "source": [
    "import seaborn as sns\n",
    "penguins = sns.load_dataset('penguins').dropna()\n",
    "penguins.head()"
   ]
  },
  {
   "cell_type": "code",
   "execution_count": null,
   "id": "c9d16217",
   "metadata": {},
   "outputs": [],
   "source": [
    "penguins['species'].value_counts()"
   ]
  },
  {
   "cell_type": "markdown",
   "id": "8039eefb",
   "metadata": {
    "slideshow": {
     "slide_type": "slide"
    }
   },
   "source": [
    "## Pivoting"
   ]
  },
  {
   "cell_type": "markdown",
   "id": "d81b2869",
   "metadata": {
    "slideshow": {
     "slide_type": "slide"
    }
   },
   "source": [
    "### Mean body mass for every combination of species and island\n",
    "\n",
    "We just found the above information by grouping by both `'species'` and `'island'`."
   ]
  },
  {
   "cell_type": "code",
   "execution_count": null,
   "id": "5e52b08f",
   "metadata": {},
   "outputs": [],
   "source": [
    "penguins.groupby(['species', 'island'])['body_mass_g'].mean()"
   ]
  },
  {
   "cell_type": "markdown",
   "id": "13bcb044",
   "metadata": {
    "slideshow": {
     "slide_type": "fragment"
    }
   },
   "source": [
    "But we can also create a **pivot table**, which contains the same information in a different orientation."
   ]
  },
  {
   "cell_type": "code",
   "execution_count": null,
   "id": "cbb2e65b",
   "metadata": {},
   "outputs": [],
   "source": [
    "penguins.pivot_table(index='species', \n",
    "                     columns='island', \n",
    "                     values='body_mass_g', \n",
    "                     aggfunc='mean')"
   ]
  },
  {
   "cell_type": "markdown",
   "id": "3b3da4bd",
   "metadata": {
    "slideshow": {
     "slide_type": "slide"
    }
   },
   "source": [
    "Let's visualize how the pivot table was created using Pandas Tutor."
   ]
  },
  {
   "cell_type": "code",
   "execution_count": null,
   "id": "38f5978e",
   "metadata": {},
   "outputs": [],
   "source": [
    "%reload_ext pandas_tutor"
   ]
  },
  {
   "cell_type": "code",
   "execution_count": null,
   "id": "349625bc",
   "metadata": {},
   "outputs": [],
   "source": [
    "%%pt\n",
    "\n",
    "penguins.pivot_table(index='species', \n",
    "                     columns='island', \n",
    "                     values='body_mass_g', \n",
    "                     aggfunc='mean')"
   ]
  },
  {
   "cell_type": "markdown",
   "id": "bcb59a07",
   "metadata": {
    "slideshow": {
     "slide_type": "slide"
    }
   },
   "source": [
    "### `pivot_table`\n",
    "\n",
    "The `pivot_table` DataFrame method aggregates a DataFrame using two columns. To use it:\n",
    "\n",
    "```py\n",
    "df.pivot_table(index=index_col,\n",
    "               columns=columns_col,\n",
    "               values=values_col,\n",
    "               aggfunc=func)\n",
    "```\n",
    "The resulting DataFrame will have:\n",
    "- One row for every unique value in `index_col`.\n",
    "- One column for every unique value in `columns_col`.\n",
    "- Values determined by applying `func` on values in `values_col`."
   ]
  },
  {
   "cell_type": "markdown",
   "id": "5668bc16",
   "metadata": {
    "slideshow": {
     "slide_type": "slide"
    }
   },
   "source": [
    "### Example\n",
    "\n",
    "Find the number of penguins per island and species."
   ]
  },
  {
   "cell_type": "code",
   "execution_count": null,
   "id": "099f7869",
   "metadata": {},
   "outputs": [],
   "source": [
    "penguins.pivot_table(index='island', \n",
    "                     columns='species', \n",
    "                     values='bill_length_mm', \n",
    "                     aggfunc='count')"
   ]
  },
  {
   "cell_type": "markdown",
   "id": "b3f69a47",
   "metadata": {
    "slideshow": {
     "slide_type": "fragment"
    }
   },
   "source": [
    "Note that there is a `NaN` at the intersection of `'Biscoe'` and `'Chinstrap'`, because there were no Chinstrap penguins on Biscoe Island.\n",
    "\n",
    "We can either use the `fillna` method afterwards or the `fill_value` argument to fill in `NaN`s."
   ]
  },
  {
   "cell_type": "code",
   "execution_count": null,
   "id": "0867a074",
   "metadata": {},
   "outputs": [],
   "source": [
    "penguins.pivot_table(index='island', \n",
    "                     columns='species', \n",
    "                     values='bill_length_mm', \n",
    "                     aggfunc='count', \n",
    "                     fill_value=0)"
   ]
  },
  {
   "cell_type": "markdown",
   "id": "c10673ea",
   "metadata": {
    "slideshow": {
     "slide_type": "slide"
    }
   },
   "source": [
    "### Example\n",
    "\n",
    "Find the median body mass per species and sex."
   ]
  },
  {
   "cell_type": "code",
   "execution_count": null,
   "id": "39cf9def",
   "metadata": {},
   "outputs": [],
   "source": [
    "penguins.pivot_table(index='species', columns='sex', values='body_mass_g', aggfunc='median')"
   ]
  },
  {
   "cell_type": "markdown",
   "id": "7264e53b",
   "metadata": {
    "slideshow": {
     "slide_type": "fragment"
    }
   },
   "source": [
    "**Important:** In `penguins`, each row corresponds to an individual/observation. In the pivot table above, that is no longer true."
   ]
  },
  {
   "cell_type": "markdown",
   "id": "8508a69b",
   "metadata": {
    "slideshow": {
     "slide_type": "slide"
    }
   },
   "source": [
    "## Distributions"
   ]
  },
  {
   "cell_type": "markdown",
   "id": "244a4c6f",
   "metadata": {
    "slideshow": {
     "slide_type": "slide"
    }
   },
   "source": [
    "### Joint distribution\n",
    "\n",
    "When using `aggfunc='count'`, a pivot table describes the **joint distribution** of two categorical variables. This is also called a **contingency table**."
   ]
  },
  {
   "cell_type": "code",
   "execution_count": null,
   "id": "657cb701",
   "metadata": {},
   "outputs": [],
   "source": [
    "counts = penguins.pivot_table(index='species', \n",
    "                              columns='sex', \n",
    "                              values='body_mass_g', \n",
    "                              aggfunc='count', \n",
    "                              fill_value=0)\n",
    "counts"
   ]
  },
  {
   "cell_type": "markdown",
   "id": "125b3d37",
   "metadata": {
    "slideshow": {
     "slide_type": "fragment"
    }
   },
   "source": [
    "We can normalize the DataFrame by dividing by the total number of penguins. The resulting numbers can be interpreted as **probabilities** that a randomly selected penguin from the dataset belongs to a given combination of species and sex."
   ]
  },
  {
   "cell_type": "code",
   "execution_count": null,
   "id": "ef27fe23",
   "metadata": {},
   "outputs": [],
   "source": [
    "joint = counts / counts.sum().sum()\n",
    "joint"
   ]
  },
  {
   "cell_type": "markdown",
   "id": "6bf70932",
   "metadata": {
    "slideshow": {
     "slide_type": "slide"
    }
   },
   "source": [
    "### Marginal probabilities\n",
    "\n",
    "If we sum over one of the axes, we can compute **marginal probabilities**, i.e. unconditional probabilities."
   ]
  },
  {
   "cell_type": "code",
   "execution_count": null,
   "id": "3ae4e508",
   "metadata": {},
   "outputs": [],
   "source": [
    "joint"
   ]
  },
  {
   "cell_type": "code",
   "execution_count": null,
   "id": "8539e9a6",
   "metadata": {},
   "outputs": [],
   "source": [
    "# Recall, joint.sum(axis=0) sums across the rows, which computes the sum of the **columns**.\n",
    "joint.sum(axis=0)"
   ]
  },
  {
   "cell_type": "code",
   "execution_count": null,
   "id": "5f5a59a1",
   "metadata": {},
   "outputs": [],
   "source": [
    "joint.sum(axis=1)"
   ]
  },
  {
   "cell_type": "markdown",
   "id": "3abcbba0",
   "metadata": {},
   "source": [
    "For instance, the second Series tells us that a randomly selected penguin has a 0.357357 chance of being of species `'Gentoo'`."
   ]
  },
  {
   "cell_type": "markdown",
   "id": "1fb270de",
   "metadata": {
    "slideshow": {
     "slide_type": "slide"
    }
   },
   "source": [
    "### Conditional probabilities\n",
    "\n",
    "Using `counts`, how might we compute conditional probabilities like $$P(\\text{species } = \\text{\"Adelie\"} \\mid \\text{sex } = \\text{\"Female\"})?$$"
   ]
  },
  {
   "cell_type": "code",
   "execution_count": null,
   "id": "3ba45ff3",
   "metadata": {},
   "outputs": [],
   "source": [
    "counts"
   ]
  },
  {
   "cell_type": "markdown",
   "id": "43ad126b",
   "metadata": {
    "slideshow": {
     "slide_type": "fragment"
    }
   },
   "source": [
    "$$\\begin{align*}\n",
    "P(\\text{species} = c \\mid \\text{sex} = x) &= \\frac{P(\\text{species} = c \\text{ and } \\text{sex} = x)}{P(\\text{sex = }x)} \\\\\n",
    "&= \\frac{\\frac{\\# \\: (\\text{species } = \\: c \\text{ and } \\text{sex } = \\: x)}{N}}{\\frac{\\# \\: (\\text{sex } = \\: x)}{N}} \\\\\n",
    "&= \\frac{\\# \\: (\\text{species} = c \\text{ and } \\text{sex} = x)}{\\# \\: (\\text{sex} = x)}\n",
    "\\end{align*}$$"
   ]
  },
  {
   "cell_type": "markdown",
   "id": "ff143cc6",
   "metadata": {
    "slideshow": {
     "slide_type": "fragment"
    }
   },
   "source": [
    "**Answer**: To find conditional probabilities of **species given sex**, divide by **column sums**. To find conditional probabilities of **sex given species**, divide by **row sums**."
   ]
  },
  {
   "cell_type": "markdown",
   "id": "d373b71c",
   "metadata": {
    "slideshow": {
     "slide_type": "slide"
    }
   },
   "source": [
    "### Conditional probabilities\n",
    "\n",
    "To find conditional probabilities of **species given sex**, divide by **column sums**. To find conditional probabilities of **sex given species**, divide by **row sums**."
   ]
  },
  {
   "cell_type": "code",
   "execution_count": null,
   "id": "13c67c6c",
   "metadata": {},
   "outputs": [],
   "source": [
    "counts"
   ]
  },
  {
   "cell_type": "code",
   "execution_count": null,
   "id": "7e995c56",
   "metadata": {},
   "outputs": [],
   "source": [
    "counts.sum(axis=0)"
   ]
  },
  {
   "cell_type": "markdown",
   "id": "08bae3f5",
   "metadata": {},
   "source": [
    "The conditional distribution of **species given sex** is below. Note that in this new DataFrame, the `'Female'` and `'Male'` columns each sum to 1."
   ]
  },
  {
   "cell_type": "code",
   "execution_count": null,
   "id": "ac092c84",
   "metadata": {},
   "outputs": [],
   "source": [
    "counts / counts.sum(axis=0)"
   ]
  },
  {
   "cell_type": "markdown",
   "id": "82ff00a4",
   "metadata": {},
   "source": [
    "For instance, the above DataFrame tells us that the probability that a randomly selected penguin is of species `'Adelie'` **given** that they are of sex `'Female'` is 0.442424."
   ]
  },
  {
   "cell_type": "markdown",
   "id": "d4991c0d",
   "metadata": {
    "slideshow": {
     "slide_type": "fragment"
    }
   },
   "source": [
    "**Task**: Try and find the conditional distribution of **sex given species**."
   ]
  },
  {
   "cell_type": "markdown",
   "id": "9c0f1231",
   "metadata": {
    "slideshow": {
     "slide_type": "slide"
    }
   },
   "source": [
    "## Reshaping DataFrames"
   ]
  },
  {
   "cell_type": "markdown",
   "id": "3875616e",
   "metadata": {
    "slideshow": {
     "slide_type": "slide"
    }
   },
   "source": [
    "### `pivot_table` aggregates and reshapes\n",
    "\n",
    "- The `pivot_table` method does two things. It:\n",
    "    - Aggregates based on two columns.\n",
    "    - Reshapes the data from \"long\" to \"wide\".\n",
    "        - Rows no longer correspond to observations.\n",
    "- At times, we may only want to do the second step – reshape the data. To do so, we can use the `pivot` method."
   ]
  },
  {
   "cell_type": "markdown",
   "id": "287e5154",
   "metadata": {
    "slideshow": {
     "slide_type": "slide"
    }
   },
   "source": [
    "### Example: Tic-tac-toe\n",
    "\n",
    "<center><img src='imgs/tic-tac-toe.png' width=20%></center>"
   ]
  },
  {
   "cell_type": "code",
   "execution_count": null,
   "id": "deba0f7d",
   "metadata": {
    "scrolled": true
   },
   "outputs": [],
   "source": [
    "moves = pd.DataFrame([\n",
    "    [1, 1, 'O'],\n",
    "    [2, 1, 'X'],\n",
    "    [2, 2, 'X'],\n",
    "    [2, 3, 'O'],\n",
    "    [3, 1, 'O'],\n",
    "    [3, 3, 'X']\n",
    "], columns=['i', 'j', 'move'])\n",
    "moves"
   ]
  },
  {
   "cell_type": "code",
   "execution_count": null,
   "id": "ba53752c",
   "metadata": {},
   "outputs": [],
   "source": [
    "moves.pivot(index='i', columns='j', values='move').fillna('')"
   ]
  },
  {
   "cell_type": "markdown",
   "id": "4f95375a",
   "metadata": {},
   "source": [
    "The `pivot` method **only** reshapes a DataFrame. It does not change any of the values in it (i.e. `aggfunc` doesn't work with `pivot`)."
   ]
  },
  {
   "cell_type": "markdown",
   "id": "c5cacf4e",
   "metadata": {
    "slideshow": {
     "slide_type": "slide"
    }
   },
   "source": [
    "### `pivot_table` = `groupby` + `pivot`\n",
    "\n",
    "- `pivot_table` is a shortcut for using `groupby` and then using `pivot`.\n",
    "- For example, both of the following code cells find the mean body mass per species and sex."
   ]
  },
  {
   "cell_type": "code",
   "execution_count": null,
   "id": "16fda67b",
   "metadata": {},
   "outputs": [],
   "source": [
    "(\n",
    "    penguins.groupby(['species', 'sex'])[['body_mass_g']]\n",
    "            .mean()\n",
    "            .reset_index()\n",
    "            .pivot(index='species', columns='sex', values='body_mass_g')\n",
    ")"
   ]
  },
  {
   "cell_type": "code",
   "execution_count": null,
   "id": "70e33dc6",
   "metadata": {},
   "outputs": [],
   "source": [
    "penguins.pivot_table(index='species', columns='sex', values='body_mass_g', aggfunc='mean')"
   ]
  },
  {
   "cell_type": "markdown",
   "id": "8e12383d",
   "metadata": {},
   "source": [
    "`aggfunc='mean'` plays the same role that `.mean()` does."
   ]
  },
  {
   "cell_type": "markdown",
   "id": "1a55ac4a",
   "metadata": {
    "slideshow": {
     "slide_type": "slide"
    }
   },
   "source": [
    "### Reshaping\n",
    "\n",
    "- `pivot_table` and `pivot` reshape DataFrames from \"long\" to \"wide\".\n",
    "- Other DataFrame reshaping methods:\n",
    "    - `melt`: Un-pivots a DataFrame.\n",
    "    - `stack`: Pivots multi-level columns to multi-indices.\n",
    "    - `unstack`: Pivots multi-indices to columns.\n",
    "    - Google and the documentation are your friends!"
   ]
  },
  {
   "cell_type": "markdown",
   "id": "4ee6c875",
   "metadata": {
    "slideshow": {
     "slide_type": "slide"
    }
   },
   "source": [
    "## Simpson's paradox"
   ]
  },
  {
   "cell_type": "markdown",
   "id": "d21cd898",
   "metadata": {
    "slideshow": {
     "slide_type": "fragment"
    }
   },
   "source": [
    "<center><img src=\"imgs/image_2.png\" width=50%></center>"
   ]
  },
  {
   "cell_type": "markdown",
   "id": "a8a330c7",
   "metadata": {
    "slideshow": {
     "slide_type": "slide"
    }
   },
   "source": [
    "### Example: Grades\n",
    "\n",
    "- Two students, Lisa and Bart, just finished freshman year. They both took a different number of classes in Fall, Winter, and Spring."
   ]
  },
  {
   "cell_type": "markdown",
   "id": "f44c734e",
   "metadata": {
    "slideshow": {
     "slide_type": "fragment"
    }
   },
   "source": [
    "- Each quarter, Lisa had a higher GPA than Bart."
   ]
  },
  {
   "cell_type": "markdown",
   "id": "e408fd72",
   "metadata": {
    "slideshow": {
     "slide_type": "fragment"
    }
   },
   "source": [
    "- But Bart has a higher overall GPA."
   ]
  },
  {
   "cell_type": "markdown",
   "id": "bb0e2178",
   "metadata": {
    "slideshow": {
     "slide_type": "fragment"
    }
   },
   "source": [
    "- How is this possible? 🤔"
   ]
  },
  {
   "cell_type": "markdown",
   "id": "ef31642c",
   "metadata": {
    "slideshow": {
     "slide_type": "slide"
    }
   },
   "source": [
    "Run this cell to create DataFrames that contain each students' grades."
   ]
  },
  {
   "cell_type": "code",
   "execution_count": null,
   "id": "f859a42e",
   "metadata": {},
   "outputs": [],
   "source": [
    "lisa = pd.DataFrame([\n",
    "        [20, 46],\n",
    "        [18, 54],\n",
    "        [5, 20]\n",
    "    ],\n",
    "    columns=['Units', 'Grade Points Earned'], \n",
    "    index=['Fall', 'Winter', 'Spring'])\n",
    "\n",
    "bart = pd.DataFrame([\n",
    "        [5, 10],\n",
    "        [5, 13.5],\n",
    "        [22, 81.4]\n",
    "    ],\n",
    "    columns=['Units', 'Grade Points Earned'], \n",
    "    index=['Fall', 'Winter', 'Spring'])"
   ]
  },
  {
   "cell_type": "markdown",
   "id": "778dc50b",
   "metadata": {
    "slideshow": {
     "slide_type": "slide"
    }
   },
   "source": [
    "### Quarter-specific vs. overall GPAs\n",
    "\n",
    "**Note:** The number of \"grade points\" earned for a course is\n",
    "\n",
    "$$\\text{number of units} \\cdot \\text{grade (out of 4)}$$\n",
    "\n",
    "For instance, an A- in a 4 unit course earns $3.7 \\cdot 4 = 14.8$ grade points."
   ]
  },
  {
   "cell_type": "code",
   "execution_count": null,
   "id": "f87166f7",
   "metadata": {},
   "outputs": [],
   "source": [
    "lisa"
   ]
  },
  {
   "cell_type": "code",
   "execution_count": null,
   "id": "78a11ed3",
   "metadata": {},
   "outputs": [],
   "source": [
    "bart"
   ]
  },
  {
   "cell_type": "markdown",
   "id": "b9d1793e",
   "metadata": {
    "slideshow": {
     "slide_type": "fragment"
    }
   },
   "source": [
    "Lisa had a higher GPA in all three quarters:"
   ]
  },
  {
   "cell_type": "code",
   "execution_count": null,
   "id": "f4e9fd96",
   "metadata": {},
   "outputs": [],
   "source": [
    "quarterly_gpas = pd.DataFrame(\n",
    "    {\n",
    "        \"Lisa's Quarter GPA\": lisa['Grade Points Earned'] / lisa['Units'],\n",
    "        \"Bart's Quarter GPA\": bart['Grade Points Earned'] / bart['Units']\n",
    "    }\n",
    ")\n",
    "\n",
    "quarterly_gpas"
   ]
  },
  {
   "cell_type": "markdown",
   "id": "67e78254",
   "metadata": {
    "slideshow": {
     "slide_type": "fragment"
    }
   },
   "source": [
    "But Lisa's overall GPA was less than Bart's overall GPA:"
   ]
  },
  {
   "cell_type": "code",
   "execution_count": null,
   "id": "4cab9968",
   "metadata": {},
   "outputs": [],
   "source": [
    "tot = lisa.sum()\n",
    "tot['Grade Points Earned'] / tot['Units']"
   ]
  },
  {
   "cell_type": "code",
   "execution_count": null,
   "id": "4f61bc0a",
   "metadata": {},
   "outputs": [],
   "source": [
    "tot = bart.sum()\n",
    "tot['Grade Points Earned'] / tot['Units']"
   ]
  },
  {
   "cell_type": "markdown",
   "id": "91f345d5",
   "metadata": {
    "slideshow": {
     "slide_type": "slide"
    }
   },
   "source": [
    "### What happened?"
   ]
  },
  {
   "cell_type": "code",
   "execution_count": null,
   "id": "c1296389",
   "metadata": {},
   "outputs": [],
   "source": [
    "quarterly_gpas.assign(Lisa_units=lisa['Units']) \\\n",
    "              .assign(Bart_units=bart['Units']) \\\n",
    "              .iloc[:, [0, 2, 1, 3]]"
   ]
  },
  {
   "cell_type": "markdown",
   "id": "9097e730",
   "metadata": {
    "slideshow": {
     "slide_type": "fragment"
    }
   },
   "source": [
    "- When Lisa and Bart both performed poorly, Lisa took more units than Bart. **This brought down 📉 Lisa's overall average.**"
   ]
  },
  {
   "cell_type": "markdown",
   "id": "862c607b",
   "metadata": {
    "slideshow": {
     "slide_type": "fragment"
    }
   },
   "source": [
    "- When Lisa and Bart both performed well, Bart took more units than Annie. **This brought up 📈 Bart's overall average.**"
   ]
  },
  {
   "cell_type": "markdown",
   "id": "2fd844c7",
   "metadata": {
    "slideshow": {
     "slide_type": "slide"
    }
   },
   "source": [
    "### Simpson's paradox"
   ]
  },
  {
   "cell_type": "markdown",
   "id": "ae8f8f0d",
   "metadata": {
    "slideshow": {
     "slide_type": "fragment"
    }
   },
   "source": [
    "- Simpson's paradox occurs when **grouped data and ungrouped data show opposing trends**.\n",
    "    - It is named after Edward H. Simpson, not Lisa or Bart Simpson."
   ]
  },
  {
   "cell_type": "markdown",
   "id": "a07e7a9f",
   "metadata": {
    "slideshow": {
     "slide_type": "fragment"
    }
   },
   "source": [
    "- It is **purely arithmetic** – it is a consequence of weighted averages."
   ]
  },
  {
   "cell_type": "markdown",
   "id": "2fd5ea72",
   "metadata": {
    "slideshow": {
     "slide_type": "fragment"
    }
   },
   "source": [
    "- It often happens because there is a hidden factor (i.e. a **confounder**) within the data that influences results."
   ]
  },
  {
   "cell_type": "markdown",
   "id": "27e4fe43",
   "metadata": {
    "slideshow": {
     "slide_type": "fragment"
    }
   },
   "source": [
    "- **Question:** What is the \"correct\" way to summarize your data? What if you had to act on these results?"
   ]
  },
  {
   "cell_type": "markdown",
   "id": "4f62c363",
   "metadata": {
    "slideshow": {
     "slide_type": "slide"
    }
   },
   "source": [
    "### Example: How Berkeley was _almost_ sued for gender discrimination (1973)\n",
    "\n",
    "What do you notice?\n",
    "\n",
    "<center><img src='imgs/berkeley.png' width=70%></center>"
   ]
  },
  {
   "cell_type": "code",
   "execution_count": null,
   "id": "d0da5b55",
   "metadata": {
    "scrolled": true,
    "slideshow": {
     "slide_type": "slide"
    }
   },
   "outputs": [],
   "source": [
    "show_paradox_slides()"
   ]
  },
  {
   "cell_type": "markdown",
   "id": "0e443b86",
   "metadata": {
    "slideshow": {
     "slide_type": "slide"
    }
   },
   "source": [
    "### What happened?"
   ]
  },
  {
   "cell_type": "markdown",
   "id": "8b77f8b9",
   "metadata": {
    "slideshow": {
     "slide_type": "fragment"
    }
   },
   "source": [
    "- The overall acceptance rate for women (30%) was lower than it was for men (45%)."
   ]
  },
  {
   "cell_type": "markdown",
   "id": "4c30cc54",
   "metadata": {
    "slideshow": {
     "slide_type": "fragment"
    }
   },
   "source": [
    "- However, most departments (A, B, D, F) had a higher acceptance rate for women.\n"
   ]
  },
  {
   "cell_type": "markdown",
   "id": "e9b86975",
   "metadata": {
    "slideshow": {
     "slide_type": "fragment"
    }
   },
   "source": [
    "- Department A had a 62% acceptance rate for men and an 82% acceptance rate for women!\n",
    "    - 31% of men applied to Department A.\n",
    "    - 6% of women applied to Department A."
   ]
  },
  {
   "cell_type": "markdown",
   "id": "8c1ec727",
   "metadata": {
    "slideshow": {
     "slide_type": "fragment"
    }
   },
   "source": [
    "- Department F had a 6% acceptance rate for men and a 7% acceptance rate for women!\n",
    "    - 14% of men applied to Department F.\n",
    "    - 19% of women applied to Department F."
   ]
  },
  {
   "cell_type": "markdown",
   "id": "1bad9190",
   "metadata": {
    "slideshow": {
     "slide_type": "fragment"
    }
   },
   "source": [
    "- **Conclusion:** Women tended to apply to departments with a lower acceptance rate."
   ]
  },
  {
   "cell_type": "markdown",
   "id": "06dd1143",
   "metadata": {
    "slideshow": {
     "slide_type": "slide"
    }
   },
   "source": [
    "### Caution!\n",
    "\n",
    "This doesn't mean that admissions are free from gender discrimination! \n",
    "\n",
    "From [Moss-Racusin et al., 2012, PNAS](https://www.pnas.org/doi/10.1073/pnas.1211286109) (cited 2600+ times):\n",
    "\n",
    "> In a randomized double-blind study (n = 127), **science faculty** from research-intensive universities **rated the application materials of a student—who was randomly assigned either a male or female** name—for a laboratory manager position. Faculty **participants rated the male applicant as significantly more competent and hireable than the (identical) female applicant**. These participants also selected a higher starting salary and offered more career mentoring to the male applicant. The gender of the faculty participants did not affect responses, such that female and male faculty were equally likely to exhibit bias against the female student."
   ]
  },
  {
   "cell_type": "markdown",
   "id": "c062e680",
   "metadata": {
    "slideshow": {
     "slide_type": "slide"
    }
   },
   "source": [
    "### But then...\n",
    "\n",
    "From [Williams and Ceci, 2015, PNAS](https://www.pnas.org/doi/10.1073/pnas.1418878112):\n",
    "\n",
    "> Here we report five hiring experiments in which faculty evaluated hypothetical female and male applicants, using systematically varied profiles disguising identical scholarship, for assistant professorships in biology, engineering, economics, and psychology. Contrary to prevailing assumptions, **men and women faculty members from all four fields preferred female applicants 2:1 over identically qualified males** with matching lifestyles (single, married, divorced), with the exception of male economists, who showed no gender preference."
   ]
  },
  {
   "cell_type": "markdown",
   "id": "6ca45cbb",
   "metadata": {
    "slideshow": {
     "slide_type": "slide"
    }
   },
   "source": [
    "### Do these conflict?\n",
    "\n",
    "Not necessarily. One explanation, from William and Ceci:\n",
    "\n",
    "> Instead, past studies have used ratings of students’ hirability for a range of posts that do not include tenure-track jobs, such as managing laboratories or performing math assignments for a company. However, hiring tenure-track faculty differs from hiring lower-level staff: it entails selecting among highly accomplished candidates, all of whom have completed Ph.D.s and amassed publications and strong letters of support. **Hiring bias may occur when applicants’ records are ambiguous, as was true in studies of hiring bias for lower-level staff posts, but such bias may not occur when records are clearly strong**, as is the case with tenure-track hiring."
   ]
  },
  {
   "cell_type": "markdown",
   "id": "805d73d6",
   "metadata": {
    "slideshow": {
     "slide_type": "slide"
    }
   },
   "source": [
    "### Do these conflict?\n",
    "\n",
    "From Witteman, et al, 2019, in *The Lancet*:\n",
    "\n",
    "> Thus, evidence of scientists favouring women comes exclusively from hypothetical scenarios, whereas evidence of scientists favouring men comes from hypothetical scenarios and real behaviour. This **might reflect academics' growing awareness of the social desirability of achieving gender balance, while real academic behaviour might not yet put such ideals into action**."
   ]
  },
  {
   "cell_type": "markdown",
   "id": "0de1b64a",
   "metadata": {
    "slideshow": {
     "slide_type": "slide"
    }
   },
   "source": [
    "### Example: Restaurant reviews and phone types\n",
    "\n",
    "* You are deciding whether to eat at Dirty Birds or The Loft."
   ]
  },
  {
   "cell_type": "markdown",
   "id": "b8623424",
   "metadata": {
    "slideshow": {
     "slide_type": "fragment"
    }
   },
   "source": [
    "* Suppose Yelp shows ratings aggregated by phone type (Android vs. iPhone).\n",
    "\n",
    "|Phone Type|Stars for Dirty Birds|Stars for The Loft|\n",
    "|---|---|---|\n",
    "|Android|4.24|4.0|\n",
    "|iPhone|2.99|2.79|\n",
    "|**All**|**3.32**|**3.37**|\n"
   ]
  },
  {
   "cell_type": "markdown",
   "id": "d8036a82",
   "metadata": {
    "slideshow": {
     "slide_type": "fragment"
    }
   },
   "source": [
    "* **Question**: Should you choose Dirty Birds or The Loft? \n"
   ]
  },
  {
   "cell_type": "markdown",
   "id": "c62a8aa2",
   "metadata": {
    "slideshow": {
     "slide_type": "fragment"
    }
   },
   "source": [
    "* **Answer**: The type of phone you use likely has nothing to do with your taste in food – pick the restaurant that is rated higher overall."
   ]
  },
  {
   "cell_type": "markdown",
   "id": "82f553ca",
   "metadata": {
    "slideshow": {
     "slide_type": "fragment"
    }
   },
   "source": [
    "* Remember, Simpson's paradox is merely a property of weighted averages!"
   ]
  },
  {
   "cell_type": "markdown",
   "id": "0f6aa801",
   "metadata": {
    "slideshow": {
     "slide_type": "slide"
    }
   },
   "source": [
    "### Verifying Simpson's paradox"
   ]
  },
  {
   "cell_type": "code",
   "execution_count": null,
   "id": "6adde456",
   "metadata": {
    "slideshow": {
     "slide_type": "-"
    }
   },
   "outputs": [],
   "source": [
    "ratings_path = os.path.join('data', 'ratings.csv')\n",
    "ratings = pd.read_csv(ratings_path)\n",
    "ratings.sample(5).head()"
   ]
  },
  {
   "cell_type": "code",
   "execution_count": null,
   "id": "bbccc920",
   "metadata": {},
   "outputs": [],
   "source": [
    "ratings['phone'].value_counts(normalize=True)"
   ]
  },
  {
   "cell_type": "markdown",
   "id": "a7f7151e",
   "metadata": {},
   "source": [
    "Aggregated means:"
   ]
  },
  {
   "cell_type": "code",
   "execution_count": null,
   "id": "177d32b1",
   "metadata": {},
   "outputs": [],
   "source": [
    "ratings.pivot_table(index='phone', columns='restaurant', values='rating', aggfunc='mean')"
   ]
  },
  {
   "cell_type": "code",
   "execution_count": null,
   "id": "360579af",
   "metadata": {},
   "outputs": [],
   "source": [
    "ratings.pivot_table(index='phone', columns='restaurant', values='rating', aggfunc='count')"
   ]
  },
  {
   "cell_type": "markdown",
   "id": "75b0b33d",
   "metadata": {},
   "source": [
    "Disaggregated means:"
   ]
  },
  {
   "cell_type": "code",
   "execution_count": null,
   "id": "8c2c52bd",
   "metadata": {},
   "outputs": [],
   "source": [
    "ratings.groupby('restaurant').mean()"
   ]
  },
  {
   "cell_type": "markdown",
   "id": "0bda3331",
   "metadata": {
    "slideshow": {
     "slide_type": "slide"
    }
   },
   "source": [
    "### Takeaways\n",
    "\n",
    "Be skeptical of...\n",
    "- Aggregate statistics.\n",
    "- People misusing statistics to \"prove\" that discrimination doesn't exist.\n",
    "- Drawing conclusions from individual publications ($p$-hacking, publication bias, narrow focus, etc.).\n",
    "- Everything!"
   ]
  },
  {
   "cell_type": "markdown",
   "id": "25547cfa",
   "metadata": {
    "slideshow": {
     "slide_type": "slide"
    }
   },
   "source": [
    "### Further reading\n",
    "\n",
    "- [Gender Bias in Admission Statistics?](https://www.cantorsparadise.com/gender-bias-in-admission-statistics-eaabca650810)\n",
    "    - Contains a **great** visualization.\n",
    "- [Simpson's paradox](https://en.wikipedia.org/wiki/Simpson%27s_paradox#UC_Berkeley_gender_bias) on Wikipedia."
   ]
  },
  {
   "cell_type": "markdown",
   "id": "7f4029ad",
   "metadata": {
    "slideshow": {
     "slide_type": "slide"
    }
   },
   "source": [
    "## Aside: Working with time series data"
   ]
  },
  {
   "cell_type": "markdown",
   "id": "f59e1d02",
   "metadata": {
    "slideshow": {
     "slide_type": "slide"
    }
   },
   "source": [
    "### Time series – why now?\n",
    "\n",
    "- Next lecture, we'll start looking at how to combine multiple DataFrames.\n",
    "- Data is often partitioned by time. For instance, there may be one `.csv` file per day for 1 year.\n",
    "- We will need to load in the files as DataFrames and `pd.concat` them together.\n",
    "- Note: \"time series\" is a general term and is not related to Series in `pandas`."
   ]
  },
  {
   "cell_type": "markdown",
   "id": "18be0709",
   "metadata": {
    "slideshow": {
     "slide_type": "slide"
    }
   },
   "source": [
    "### Datetime types\n",
    "\n",
    "When working with time data, you will see two different kinds of \"times\":"
   ]
  },
  {
   "cell_type": "markdown",
   "id": "0a192faa",
   "metadata": {
    "slideshow": {
     "slide_type": "fragment"
    }
   },
   "source": [
    "* **Datetimes** reference particular moments in time (e.g. November 26th, 1998 at 8:26AM).\n",
    "    - Could just be a date, e.g. January 20, 2023.\n",
    "    - Could just be a time, e.g. 4:45 AM.\n",
    "    - Datetimes typically don't keep track of timezones."
   ]
  },
  {
   "cell_type": "markdown",
   "id": "ed2c50fa",
   "metadata": {
    "slideshow": {
     "slide_type": "fragment"
    }
   },
   "source": [
    "* **Timedeltas**, or durations, reference an exact length of time (e.g. a duration of 3 hours)."
   ]
  },
  {
   "cell_type": "markdown",
   "id": "611ea257",
   "metadata": {
    "slideshow": {
     "slide_type": "slide"
    }
   },
   "source": [
    "### The `datetime` module\n",
    "\n",
    "Python has an in-built `datetime` module, which contains `datetime` and `timedelta` types. These are much more convenient to deal with than strings that contain times."
   ]
  },
  {
   "cell_type": "code",
   "execution_count": null,
   "id": "e357c375",
   "metadata": {},
   "outputs": [],
   "source": [
    "import datetime"
   ]
  },
  {
   "cell_type": "code",
   "execution_count": null,
   "id": "83a270b5",
   "metadata": {},
   "outputs": [],
   "source": [
    "datetime.datetime.now()"
   ]
  },
  {
   "cell_type": "code",
   "execution_count": null,
   "id": "ecced75c",
   "metadata": {},
   "outputs": [],
   "source": [
    "datetime.datetime.now() + datetime.timedelta(days=3, hours=5)"
   ]
  },
  {
   "cell_type": "markdown",
   "id": "954e7e71",
   "metadata": {},
   "source": [
    "Unix timestamps count the number of seconds since January 1st, 1970."
   ]
  },
  {
   "cell_type": "code",
   "execution_count": null,
   "id": "165675d1",
   "metadata": {},
   "outputs": [],
   "source": [
    "datetime.datetime.now().timestamp()"
   ]
  },
  {
   "cell_type": "markdown",
   "id": "1bbed66d",
   "metadata": {
    "slideshow": {
     "slide_type": "slide"
    }
   },
   "source": [
    "### Times in `pandas`\n",
    "\n",
    "- `pd.Timestamp` is the `pandas` equivalent of `datetime`.\n",
    "- `pd.to_datetime` converts strings to `pd.Timestamp` objects."
   ]
  },
  {
   "cell_type": "code",
   "execution_count": null,
   "id": "71f8282c",
   "metadata": {},
   "outputs": [],
   "source": [
    "pd.Timestamp(year=1998, month=11, day=26)"
   ]
  },
  {
   "cell_type": "code",
   "execution_count": null,
   "id": "e06a95e5",
   "metadata": {},
   "outputs": [],
   "source": [
    "final_start = pd.to_datetime('March 22nd, 2023, 11:30AM')\n",
    "final_start"
   ]
  },
  {
   "cell_type": "code",
   "execution_count": null,
   "id": "ef1b1507",
   "metadata": {},
   "outputs": [],
   "source": [
    "final_finish = pd.to_datetime('March 22nd, 2023, 2:30PM')\n",
    "final_finish"
   ]
  },
  {
   "cell_type": "markdown",
   "id": "78b7d2e9",
   "metadata": {},
   "source": [
    "Timestamps have time-related attributes, e.g. `dayofweek`, `hour`, `min`, `sec`."
   ]
  },
  {
   "cell_type": "code",
   "execution_count": null,
   "id": "5c5754bf",
   "metadata": {
    "scrolled": true
   },
   "outputs": [],
   "source": [
    "# 0 is Monday, 1 is Tuesday, etc.\n",
    "final_finish.dayofweek"
   ]
  },
  {
   "cell_type": "code",
   "execution_count": null,
   "id": "8fdaea4e",
   "metadata": {},
   "outputs": [],
   "source": [
    "final_finish.year"
   ]
  },
  {
   "cell_type": "markdown",
   "id": "0e68ea42",
   "metadata": {},
   "source": [
    "Subtracting timestamps yields `pd.Timedelta` objects."
   ]
  },
  {
   "cell_type": "code",
   "execution_count": null,
   "id": "798d1af2",
   "metadata": {},
   "outputs": [],
   "source": [
    "final_finish - final_start"
   ]
  },
  {
   "cell_type": "markdown",
   "id": "16192b25",
   "metadata": {
    "slideshow": {
     "slide_type": "slide"
    }
   },
   "source": [
    "### Example: Exam speeds\n",
    "\n",
    "Below, we have the Final Exam starting and ending times for two sections of a course."
   ]
  },
  {
   "cell_type": "code",
   "execution_count": null,
   "id": "a88a7b80",
   "metadata": {},
   "outputs": [],
   "source": [
    "exam_times_path = os.path.join('data', 'exam-times.csv')\n",
    "exam_times = pd.read_csv(exam_times_path)\n",
    "exam_times"
   ]
  },
  {
   "cell_type": "markdown",
   "id": "21e71d33",
   "metadata": {},
   "source": [
    "**Question:** Who took the longest time to finish the exam?"
   ]
  },
  {
   "cell_type": "code",
   "execution_count": null,
   "id": "eb9024bd",
   "metadata": {},
   "outputs": [],
   "source": [
    "# Step 1: Convert the time columns to timestamps, using pd.to_datetime.\n",
    "exam_times['start_exam'] = pd.to_datetime(exam_times['start_exam'])\n",
    "exam_times['finish_exam'] = pd.to_datetime(exam_times['finish_exam'])\n",
    "exam_times"
   ]
  },
  {
   "cell_type": "code",
   "execution_count": null,
   "id": "841541a5",
   "metadata": {},
   "outputs": [],
   "source": [
    "# Note that datetime64[ns] is the data type pandas uses to store timestamps in a Series/DataFrame.\n",
    "exam_times.dtypes"
   ]
  },
  {
   "cell_type": "code",
   "execution_count": null,
   "id": "7926594a",
   "metadata": {},
   "outputs": [],
   "source": [
    "# Step 2: Find the difference between the two time columns.\n",
    "exam_times['difference'] = exam_times['finish_exam'] - exam_times['start_exam']\n",
    "exam_times"
   ]
  },
  {
   "cell_type": "code",
   "execution_count": null,
   "id": "86eefeda",
   "metadata": {},
   "outputs": [],
   "source": [
    "exam_times.dtypes"
   ]
  },
  {
   "cell_type": "code",
   "execution_count": null,
   "id": "7cf1bd2e",
   "metadata": {},
   "outputs": [],
   "source": [
    "# Step 3: Sort by the difference in descending order and take the first row.\n",
    "exam_times.sort_values('difference', ascending=False)['name'].iloc[0]"
   ]
  },
  {
   "cell_type": "markdown",
   "id": "660a37e9",
   "metadata": {
    "slideshow": {
     "slide_type": "slide"
    }
   },
   "source": [
    "## Summary, next time"
   ]
  },
  {
   "cell_type": "markdown",
   "id": "5efffc9f",
   "metadata": {
    "slideshow": {
     "slide_type": "slide"
    }
   },
   "source": [
    "### Summary\n",
    "\n",
    "- `pivot_table` aggregates data based on two categorical columns, and reshapes the result to be \"wide\" instead of \"long\".\n",
    "- Simpson's paradox occurs when grouped data and ungrouped data show opposing trends.\n",
    "    - It is a consequence of arithmetic.\n",
    "- Timestamps in `pandas` are stored using `pd.Timestamp` and `pd.Timedelta` objects."
   ]
  },
  {
   "cell_type": "markdown",
   "id": "e1561851",
   "metadata": {
    "slideshow": {
     "slide_type": "slide"
    }
   },
   "source": [
    "### Next time\n",
    "\n",
    "Combining DataFrames."
   ]
  }
 ],
 "metadata": {
  "celltoolbar": "Slideshow",
  "kernelspec": {
   "display_name": "Python 3 (ipykernel)",
   "language": "python",
   "name": "python3"
  },
  "language_info": {
   "codemirror_mode": {
    "name": "ipython",
    "version": 3
   },
   "file_extension": ".py",
   "mimetype": "text/x-python",
   "name": "python",
   "nbconvert_exporter": "python",
   "pygments_lexer": "ipython3",
   "version": "3.9.6"
  },
  "livereveal": {
   "scroll": true
  },
  "rise": {
   "transition": "none"
  }
 },
 "nbformat": 4,
 "nbformat_minor": 5
}
