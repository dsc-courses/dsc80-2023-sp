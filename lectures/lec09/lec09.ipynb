{
 "cells": [
  {
   "cell_type": "code",
   "execution_count": null,
   "id": "8c8a44b8",
   "metadata": {
    "slideshow": {
     "slide_type": "skip"
    }
   },
   "outputs": [],
   "source": [
    "import pandas as pd\n",
    "import numpy as np\n",
    "import os\n",
    "\n",
    "import seaborn as sns\n",
    "import plotly.express as px\n",
    "pd.options.plotting.backend = 'plotly'\n",
    "\n",
    "from ipywidgets import interact"
   ]
  },
  {
   "cell_type": "markdown",
   "id": "ce9e66d9",
   "metadata": {
    "slideshow": {
     "slide_type": "slide"
    }
   },
   "source": [
    "# Lecture 9 – Hypothesis Testing\n",
    "\n",
    "## DSC 80, Spring 2023"
   ]
  },
  {
   "cell_type": "markdown",
   "id": "22824200",
   "metadata": {
    "slideshow": {
     "slide_type": "slide"
    }
   },
   "source": [
    "### Agenda\n",
    "\n",
    "We'll look at many examples, and cover the necessary theory along the way.\n",
    "\n",
    "- Coin flipping\n",
    "- Total variation distance.\n",
    "- Penguin bill lengths 🐧."
   ]
  },
  {
   "cell_type": "markdown",
   "id": "57957df2",
   "metadata": {
    "slideshow": {
     "slide_type": "slide"
    }
   },
   "source": [
    "### \"Standard\" hypothesis testing\n",
    "\n",
    "\"Standard\" hypothesis testing helps us answer questions of the form:\n",
    "\n",
    "> I have a population distribution, and I have one sample. Does this sample look like it was drawn from the population?"
   ]
  },
  {
   "cell_type": "markdown",
   "id": "ac5474f5",
   "metadata": {
    "slideshow": {
     "slide_type": "fragment"
    }
   },
   "source": [
    "- Sample: 59 heads and 41 tails. Population: A fair coin."
   ]
  },
  {
   "cell_type": "markdown",
   "id": "e91380f0",
   "metadata": {
    "slideshow": {
     "slide_type": "fragment"
    }
   },
   "source": [
    "- Sample: Ethnic distribution of UCSD. Population: Ethnic distribution of California. (Comparing categorical distributions with the TVD.)"
   ]
  },
  {
   "cell_type": "markdown",
   "id": "a9219cd3",
   "metadata": {
    "slideshow": {
     "slide_type": "fragment"
    }
   },
   "source": [
    "- Sample: Sample of Torgersen Island penguins. Population: All 333 penguins."
   ]
  },
  {
   "cell_type": "markdown",
   "id": "3652b355",
   "metadata": {
    "slideshow": {
     "slide_type": "slide"
    }
   },
   "source": [
    "## Example: Coin flipping"
   ]
  },
  {
   "cell_type": "markdown",
   "id": "09405ecf",
   "metadata": {
    "slideshow": {
     "slide_type": "slide"
    }
   },
   "source": [
    "### Recap: Coin flipping\n",
    "\n",
    "Let's recap the example we saw last time."
   ]
  },
  {
   "cell_type": "markdown",
   "id": "7324c3ce",
   "metadata": {
    "slideshow": {
     "slide_type": "fragment"
    }
   },
   "source": [
    "- **Observation**: We flipped a coin 100 times, and saw 59 heads and 41 tails."
   ]
  },
  {
   "cell_type": "markdown",
   "id": "42796a8e",
   "metadata": {
    "slideshow": {
     "slide_type": "fragment"
    }
   },
   "source": [
    "- **Null Hypothesis**: The coin is fair."
   ]
  },
  {
   "cell_type": "markdown",
   "id": "71676566",
   "metadata": {
    "slideshow": {
     "slide_type": "fragment"
    }
   },
   "source": [
    "- **Alternative Hypothesis**: The coin is biased in favor of heads."
   ]
  },
  {
   "cell_type": "markdown",
   "id": "d9ec8e79",
   "metadata": {
    "slideshow": {
     "slide_type": "fragment"
    }
   },
   "source": [
    "- **Test Statistic**: Number of heads, $N_H$."
   ]
  },
  {
   "cell_type": "markdown",
   "id": "80a6eabf",
   "metadata": {
    "slideshow": {
     "slide_type": "slide"
    }
   },
   "source": [
    "### Generating the null distribution"
   ]
  },
  {
   "cell_type": "markdown",
   "id": "f37d22f1",
   "metadata": {
    "slideshow": {
     "slide_type": "fragment"
    }
   },
   "source": [
    "- Now that we've chosen a test statistic, we need to generate the distribution of the test statistic under the assumption the null hypothesis is true, i.e. the **null distribution**."
   ]
  },
  {
   "cell_type": "markdown",
   "id": "b7d68310",
   "metadata": {
    "slideshow": {
     "slide_type": "fragment"
    }
   },
   "source": [
    "- This distribution will give us, for instance:\n",
    "    - The probability of seeing 4 heads in 100 flips of a fair coin.\n",
    "    - The probability of seeing at most 46 heads in 100 flips of a fair coin.\n",
    "    - **The probability of seeing at least 59 heads in 100 flips of a fair coin.**"
   ]
  },
  {
   "cell_type": "markdown",
   "id": "a929fc61",
   "metadata": {
    "slideshow": {
     "slide_type": "slide"
    }
   },
   "source": [
    "### Generating the null distribution, using math"
   ]
  },
  {
   "cell_type": "markdown",
   "id": "d0c4ff4c",
   "metadata": {
    "slideshow": {
     "slide_type": "fragment"
    }
   },
   "source": [
    "The number of heads in 100 flips of a fair coin follows the $\\text{Binomial(100, 0.5)}$ distribution, in which\n",
    "\n",
    "$$P(\\text{# heads} = k) = {100 \\choose k} (0.5)^k{(1-0.5)^{100-k}} = {100 \\choose k} 0.5^{100}$$"
   ]
  },
  {
   "cell_type": "code",
   "execution_count": null,
   "id": "37b4b4b1",
   "metadata": {
    "slideshow": {
     "slide_type": "fragment"
    }
   },
   "outputs": [],
   "source": [
    "from scipy.special import comb\n",
    "\n",
    "def p_k_heads(k):\n",
    "    return comb(100, k) * (0.5) ** 100"
   ]
  },
  {
   "cell_type": "markdown",
   "id": "f4694a3e",
   "metadata": {},
   "source": [
    "The probability that we see at least 59 heads is then:"
   ]
  },
  {
   "cell_type": "code",
   "execution_count": null,
   "id": "94d62e00",
   "metadata": {},
   "outputs": [],
   "source": [
    "sum([p_k_heads(k) for k in range(59, 101)])"
   ]
  },
  {
   "cell_type": "markdown",
   "id": "1984378e",
   "metadata": {
    "slideshow": {
     "slide_type": "slide"
    }
   },
   "source": [
    "Let's look at this distribution visually."
   ]
  },
  {
   "cell_type": "code",
   "execution_count": null,
   "id": "3486d185",
   "metadata": {},
   "outputs": [],
   "source": [
    "plot_df = pd.DataFrame().assign(k = range(101))\n",
    "plot_df['p_k'] = p_k_heads(plot_df['k'])\n",
    "plot_df['color'] = plot_df['k'].apply(lambda k: 'orange' if k >= 59 else 'blue')\n",
    "\n",
    "fig = plot_df.plot(kind='bar', x='k', y='p_k', color='color', width=1000)\n",
    "fig.add_annotation(text='This red area is called the p-value!', x=77, y=0.008, showarrow=False)"
   ]
  },
  {
   "cell_type": "markdown",
   "id": "3e1b7254",
   "metadata": {
    "slideshow": {
     "slide_type": "slide"
    }
   },
   "source": [
    "### Making a decision\n",
    "\n",
    "We saw that, in 100 flips of a fair coin, $P(\\text{# heads} \\geq 59)$  is only ~4.4%."
   ]
  },
  {
   "cell_type": "markdown",
   "id": "b80ce62f",
   "metadata": {
    "slideshow": {
     "slide_type": "fragment"
    }
   },
   "source": [
    "- This is quite low – it suggests that our observed result is quite unlikely **under** the null."
   ]
  },
  {
   "cell_type": "markdown",
   "id": "817f557a",
   "metadata": {
    "slideshow": {
     "slide_type": "fragment"
    }
   },
   "source": [
    "- As such, we will **reject** the null hypothesis – our observation is **not consistent** with the hypothesis that the coin is fair."
   ]
  },
  {
   "cell_type": "markdown",
   "id": "a10dba77",
   "metadata": {
    "slideshow": {
     "slide_type": "fragment"
    }
   },
   "source": [
    "- The null still may be true – it's possible that the coin we flipped was fair, and we just happened to see a rare result. For the same reason, we also **cannot \"accept\"** the alternative."
   ]
  },
  {
   "cell_type": "markdown",
   "id": "11b8b6f4",
   "metadata": {
    "slideshow": {
     "slide_type": "fragment"
    }
   },
   "source": [
    "- This probability – **the probability of seeing a result at least as extreme as the observed, under the null hypothesis** – is called the p-value.\n",
    "    - If the p-value is below a pre-defined cutoff (often 5%), we reject the null.\n",
    "    - Otherwise, we fail to reject the null."
   ]
  },
  {
   "cell_type": "markdown",
   "id": "0edf03c3",
   "metadata": {
    "slideshow": {
     "slide_type": "slide"
    }
   },
   "source": [
    "### ⚠️ We can't \"accept\" the null!\n",
    "\n",
    "- Note that we are very careful in saying that we either **reject the null** or **fail to reject the null**."
   ]
  },
  {
   "cell_type": "markdown",
   "id": "1fda08b2",
   "metadata": {
    "slideshow": {
     "slide_type": "fragment"
    }
   },
   "source": [
    "- Just because we fail to reject the null, it doesn't mean the null is true – we cannot \"accept\" it."
   ]
  },
  {
   "cell_type": "markdown",
   "id": "8fabbf5c",
   "metadata": {
    "slideshow": {
     "slide_type": "fragment"
    }
   },
   "source": [
    "- Example:\n",
    "    - Suppose there is a coin that is truly biased towards heads, with probability 0.55.\n",
    "    - We flip it 10 times and see 5 heads and 5 tails.\n",
    "    - If we conduct a hypothesis test where the null is that the coin is fair, we will fail to reject the null.\n",
    "    - But the null isn't true."
   ]
  },
  {
   "cell_type": "markdown",
   "id": "914bbe25",
   "metadata": {
    "slideshow": {
     "slide_type": "slide"
    }
   },
   "source": [
    "### Generating the null distribution, using simulation"
   ]
  },
  {
   "cell_type": "markdown",
   "id": "e92b8a7c",
   "metadata": {
    "slideshow": {
     "slide_type": "fragment"
    }
   },
   "source": [
    "- In the most recent example, we computed the **true probability distribution** of the test statistic under the null hypothesis."
   ]
  },
  {
   "cell_type": "markdown",
   "id": "d755ec75",
   "metadata": {
    "slideshow": {
     "slide_type": "fragment"
    }
   },
   "source": [
    "- We could only do this because we know that the number of heads in $N$ flips of a fair coin follows the $\\text{Binomial}(N, 0.5)$ distribution."
   ]
  },
  {
   "cell_type": "markdown",
   "id": "caa463ae",
   "metadata": {
    "slideshow": {
     "slide_type": "fragment"
    }
   },
   "source": [
    "- Often, we'll pick test statistics for which we don't know the true probability distribution. In such cases, we'll have to **simulate, as we did in DSC 10**."
   ]
  },
  {
   "cell_type": "markdown",
   "id": "1fe89326",
   "metadata": {
    "slideshow": {
     "slide_type": "fragment"
    }
   },
   "source": [
    "- Simulations provide us with **empirical distributions of test statistics**; if we simulate with a large (>= 10,000) number of repetitions, the empirical distribution of the test statistic should look similar to the true probability distribution of the test statistic."
   ]
  },
  {
   "cell_type": "markdown",
   "id": "a137040b",
   "metadata": {
    "slideshow": {
     "slide_type": "slide"
    }
   },
   "source": [
    "### Generating the null distribution, using simulation"
   ]
  },
  {
   "cell_type": "markdown",
   "id": "61a6db11",
   "metadata": {
    "slideshow": {
     "slide_type": "fragment"
    }
   },
   "source": [
    "First, let's figure out how to perform one instance of the experiment – that is, how to flip 100 coins once. Recall, to sample from a categorical distribution, we use `np.random.multinomial`."
   ]
  },
  {
   "cell_type": "code",
   "execution_count": null,
   "id": "8edfe953",
   "metadata": {
    "slideshow": {
     "slide_type": "-"
    }
   },
   "outputs": [],
   "source": [
    "# Flipping a fair coin 100 times.\n",
    "# Interpret the result as [Heads, Tails].\n",
    "np.random.multinomial(100, [0.5, 0.5])"
   ]
  },
  {
   "cell_type": "markdown",
   "id": "1dc6311b",
   "metadata": {
    "slideshow": {
     "slide_type": "fragment"
    }
   },
   "source": [
    "Then, we can repeat it a large number of times."
   ]
  },
  {
   "cell_type": "code",
   "execution_count": null,
   "id": "786eb9c4",
   "metadata": {},
   "outputs": [],
   "source": [
    "# 100,000 times, we want to flip a coin 100 times.\n",
    "results = []\n",
    "\n",
    "for _ in range(100_000):\n",
    "    num_heads = np.random.multinomial(100, [0.5, 0.5])[0]\n",
    "    results.append(num_heads)"
   ]
  },
  {
   "cell_type": "markdown",
   "id": "c5c93762",
   "metadata": {},
   "source": [
    "Each entry in `results` is the number of heads in 100 simulated coin flips."
   ]
  },
  {
   "cell_type": "code",
   "execution_count": null,
   "id": "448cd603",
   "metadata": {},
   "outputs": [],
   "source": [
    "results[:10]"
   ]
  },
  {
   "cell_type": "markdown",
   "id": "71ca400c",
   "metadata": {
    "slideshow": {
     "slide_type": "slide"
    }
   },
   "source": [
    "### Visualizing the empirical distribution of the test statistic"
   ]
  },
  {
   "cell_type": "code",
   "execution_count": null,
   "id": "a015968d",
   "metadata": {
    "scrolled": true
   },
   "outputs": [],
   "source": [
    "fig = px.histogram(pd.DataFrame(results), x=0, nbins=50, histnorm='probability', \n",
    "                   title='Empirical Distribution of the Number of Heads in 100 Flips of a Fair Coin')\n",
    "fig.add_vline(x=59, line_color='red')\n",
    "fig.update_layout(xaxis_range=[0, 100])"
   ]
  },
  {
   "cell_type": "markdown",
   "id": "710f8cc4",
   "metadata": {
    "slideshow": {
     "slide_type": "fragment"
    }
   },
   "source": [
    "Again, we can compute the p-value, which is the **probability of seeing a result as or more extreme than the observed, under the null**."
   ]
  },
  {
   "cell_type": "code",
   "execution_count": null,
   "id": "b2d78743",
   "metadata": {},
   "outputs": [],
   "source": [
    "(np.array(results) >= 59).mean()"
   ]
  },
  {
   "cell_type": "markdown",
   "id": "b3a36132",
   "metadata": {},
   "source": [
    "Note that this number is close, but not identical, to the true p-value we found before. That's because we computed this p-value using a simulation, and hence an approximation."
   ]
  },
  {
   "cell_type": "markdown",
   "id": "224c458c",
   "metadata": {
    "slideshow": {
     "slide_type": "slide"
    }
   },
   "source": [
    "## Reflection"
   ]
  },
  {
   "cell_type": "markdown",
   "id": "95b671bb",
   "metadata": {
    "slideshow": {
     "slide_type": "slide"
    }
   },
   "source": [
    "### Can we make things faster? 🏃"
   ]
  },
  {
   "cell_type": "markdown",
   "id": "19b91ed5",
   "metadata": {
    "slideshow": {
     "slide_type": "fragment"
    }
   },
   "source": [
    "A mantra so far in this course has been **avoid `for`-loops whenever possible**. That applies here, too."
   ]
  },
  {
   "cell_type": "markdown",
   "id": "fbc7859f",
   "metadata": {
    "slideshow": {
     "slide_type": "fragment"
    }
   },
   "source": [
    "`np.random.multinomial` (and `np.random.choice`) accepts a `size` argument. By providing `size=100_000`, we can tell `numpy` to draw 100 elements from a uniform distribution, `100_000` times, **without needing a `for`-loop!**"
   ]
  },
  {
   "cell_type": "code",
   "execution_count": null,
   "id": "b1b321cf",
   "metadata": {
    "slideshow": {
     "slide_type": "fragment"
    }
   },
   "outputs": [],
   "source": [
    "# An array with 100000 rows and 2 columns.\n",
    "np.random.multinomial(100, [0.5, 0.5], size=100_000)"
   ]
  },
  {
   "cell_type": "code",
   "execution_count": null,
   "id": "9b75cb7c",
   "metadata": {},
   "outputs": [],
   "source": [
    "# Just the first column of the above array. Note the iloc-like syntax.\n",
    "np.random.multinomial(100, [0.5, 0.5], size=100_000)[:, 0]"
   ]
  },
  {
   "cell_type": "code",
   "execution_count": null,
   "id": "3629abc2",
   "metadata": {},
   "outputs": [],
   "source": [
    "%%time\n",
    "\n",
    "faster_results = np.random.multinomial(100, [0.5, 0.5], size=100_000)[:, 0]"
   ]
  },
  {
   "cell_type": "markdown",
   "id": "78f8e31f",
   "metadata": {
    "slideshow": {
     "slide_type": "fragment"
    }
   },
   "source": [
    "The above approach is orders of magnitude faster than the `for`-loop approach! With that said, you are still _allowed_ to use `for`-loops for hypothesis (and permutation) tests on assignments."
   ]
  },
  {
   "cell_type": "code",
   "execution_count": null,
   "id": "dd73dfc9",
   "metadata": {},
   "outputs": [],
   "source": [
    "%%time\n",
    "\n",
    "# 100,000 times, we want to flip a coin 100 times.\n",
    "results = []\n",
    "\n",
    "for _ in range(100_000):\n",
    "    num_heads = np.random.multinomial(100, [0.5, 0.5])[0]\n",
    "    results.append(num_heads)"
   ]
  },
  {
   "cell_type": "markdown",
   "id": "aef4389a",
   "metadata": {
    "slideshow": {
     "slide_type": "slide"
    }
   },
   "source": [
    "### Choosing alternative hypotheses and test statistics"
   ]
  },
  {
   "cell_type": "markdown",
   "id": "32498b9b",
   "metadata": {
    "slideshow": {
     "slide_type": "fragment"
    }
   },
   "source": [
    "- The alternative hypothesis we chose was **the coin is biased in favor of heads**, and the test statistic we chose was the number of heads, $N_H$."
   ]
  },
  {
   "cell_type": "markdown",
   "id": "4c60548c",
   "metadata": {
    "slideshow": {
     "slide_type": "fragment"
    }
   },
   "source": [
    "- We could've also chosen one the following options; each of them has the quality that **large values point to one hypothesis, and small values point to the other**:\n",
    "    - $\\frac{N_H}{100}$, the proportion of heads.\n",
    "    - $N_H - 50$, the difference from the expected number of heads."
   ]
  },
  {
   "cell_type": "markdown",
   "id": "b5246545",
   "metadata": {
    "slideshow": {
     "slide_type": "fragment"
    }
   },
   "source": [
    "- What if our alternative hypothesis was **the coin is biased**?"
   ]
  },
  {
   "cell_type": "markdown",
   "id": "a022318b",
   "metadata": {
    "slideshow": {
     "slide_type": "slide"
    }
   },
   "source": [
    "### Absolute test statistics\n",
    "\n",
    "For the alternative hypothesis \"the coin is biased\", one test statistic we could use is $|N_H - \\frac{N}{2}|$, the absolute difference from the expected number of heads."
   ]
  },
  {
   "cell_type": "markdown",
   "id": "5e9eabb0",
   "metadata": {
    "slideshow": {
     "slide_type": "fragment"
    }
   },
   "source": [
    "- **If this test statistic is large, it means that there were many more heads than expected, or many fewer heads than expected. If this test statistic is small, it means that the number of heads was close to expected.**"
   ]
  },
  {
   "cell_type": "markdown",
   "id": "258db767",
   "metadata": {
    "slideshow": {
     "slide_type": "fragment"
    }
   },
   "source": [
    "- For instance, suppose we flip 100 coins, and I tell you the absolute difference from the expected number of heads is 20."
   ]
  },
  {
   "cell_type": "markdown",
   "id": "b0f0bb63",
   "metadata": {
    "slideshow": {
     "slide_type": "fragment"
    }
   },
   "source": [
    "- Then, either we flipped 70 heads or 30 heads. "
   ]
  },
  {
   "cell_type": "markdown",
   "id": "f780a930",
   "metadata": {
    "slideshow": {
     "slide_type": "fragment"
    }
   },
   "source": [
    "- If our alternative hypothesis is that the coin was biased, then it doesn't matter in which direction it was biased, and this test statistic works.\n"
   ]
  },
  {
   "cell_type": "markdown",
   "id": "9be96455",
   "metadata": {
    "slideshow": {
     "slide_type": "fragment"
    }
   },
   "source": [
    "- But if our alternative hypothesis is that the coin was biased towards heads, then this is not helpful, because we don't know whether or not there were 70 heads (evidence for the alternative) or 30 heads (not evidence for the alternative).  "
   ]
  },
  {
   "cell_type": "markdown",
   "id": "23b0c2fa",
   "metadata": {
    "slideshow": {
     "slide_type": "slide"
    }
   },
   "source": [
    "### Important\n",
    "\n",
    "We'd like to choose a test statistic such that large values of the test statistic correspond to one hypothesis, and small values correspond to the other. \n",
    "\n",
    "**In other words, we'll try to avoid \"two-tailed tests\".** Rough rule of thumb:"
   ]
  },
  {
   "cell_type": "markdown",
   "id": "de34c7b7",
   "metadata": {
    "slideshow": {
     "slide_type": "fragment"
    }
   },
   "source": [
    "- If the alternative hypothesis is \"A > B\", then the test statistic should measure differences and **should not** contain an absolute value."
   ]
  },
  {
   "cell_type": "markdown",
   "id": "deeb9689",
   "metadata": {
    "slideshow": {
     "slide_type": "fragment"
    }
   },
   "source": [
    "- If the alternative hypothesis is \"A and B are different\", then the test statistic should measure distances and **should** contain an absolute value."
   ]
  },
  {
   "cell_type": "markdown",
   "id": "aff11504",
   "metadata": {
    "slideshow": {
     "slide_type": "slide"
    }
   },
   "source": [
    "### Fun fact\n",
    "\n",
    "- One researcher found that coin flips aren't 50/50, but rather are closer to 51/49, biased towards whichever side started facing up.\n",
    "- [Read this](https://www.smithsonianmag.com/science-nature/gamblers-take-note-the-odds-in-a-coin-flip-arent-quite-5050-145465423) for more details."
   ]
  },
  {
   "cell_type": "markdown",
   "id": "008ac358",
   "metadata": {
    "slideshow": {
     "slide_type": "slide"
    }
   },
   "source": [
    "## Example: Total variation distance"
   ]
  },
  {
   "cell_type": "markdown",
   "id": "882e7f67",
   "metadata": {
    "slideshow": {
     "slide_type": "slide"
    }
   },
   "source": [
    "### Ethnic distribution of California vs. UCSD\n",
    "\n",
    "The DataFrame below contains the ethnic breakdown of the state as a whole ([source](https://www.ppic.org/publication/californias-population/)) and UCSD as of 2016 ([source](https://ir.ucsd.edu/_files/stats-data/enrollment/ugethnic.pdf))."
   ]
  },
  {
   "cell_type": "code",
   "execution_count": null,
   "id": "26a84528",
   "metadata": {},
   "outputs": [],
   "source": [
    "eth = pd.DataFrame([['Asian', 0.15, 0.51],\n",
    "                    ['Black', 0.05, 0.02],\n",
    "                    ['Latino', 0.39, 0.16],\n",
    "                    ['White', 0.35, 0.2],\n",
    "                    ['Other', 0.06, 0.11]],\n",
    "                   columns=['Ethnicity', 'California', 'UCSD']).set_index('Ethnicity')\n",
    "\n",
    "eth"
   ]
  },
  {
   "cell_type": "markdown",
   "id": "d440cd5e",
   "metadata": {
    "slideshow": {
     "slide_type": "-"
    }
   },
   "source": [
    "- We want to decide whether UCSD students were drawn at random from the state of California.\n",
    "- The two **categorical distributions** above are clearly different. But how different are they?"
   ]
  },
  {
   "cell_type": "markdown",
   "id": "5eac28c2",
   "metadata": {
    "slideshow": {
     "slide_type": "slide"
    }
   },
   "source": [
    "### Is the difference between the two distributions significant?\n",
    "\n",
    "Let's establish our hypotheses.\n",
    "- **Null Hypothesis**: UCSD students **were** selected at random from the population of California residents.\n",
    "- **Alternative Hypothesis**: UCSD students **were not** selected at random from the population of California residents.\n",
    "- **Observation**: Ethnic distribution of UCSD students.\n",
    "- **Test Statistic**: We need a way of quantifying **how different** two categorical distributions are."
   ]
  },
  {
   "cell_type": "code",
   "execution_count": null,
   "id": "58e89c7c",
   "metadata": {
    "slideshow": {
     "slide_type": "slide"
    }
   },
   "outputs": [],
   "source": [
    "eth.plot(kind='barh', title='Ethnic Distribution of California and UCSD', barmode='group')"
   ]
  },
  {
   "cell_type": "markdown",
   "id": "9bda36d4",
   "metadata": {
    "slideshow": {
     "slide_type": "slide"
    }
   },
   "source": [
    "### Total variation distance\n",
    "\n",
    "The total variation distance (TVD) is a test statistic that describes the **distance between two categorical distributions**."
   ]
  },
  {
   "cell_type": "markdown",
   "id": "1c4f4e26",
   "metadata": {
    "slideshow": {
     "slide_type": "fragment"
    }
   },
   "source": [
    "If $A = [a_1, a_2, ..., a_k]$ and $B = [b_1, b_2, ..., b_k]$ are both categorical distributions, then the TVD between $A$ and $B$ is\n",
    "\n",
    "$$\\text{TVD}(A, B) = \\frac{1}{2} \\sum_{i = 1}^k |a_i - b_i|$$"
   ]
  },
  {
   "cell_type": "code",
   "execution_count": null,
   "id": "7897cf4a",
   "metadata": {
    "slideshow": {
     "slide_type": "fragment"
    }
   },
   "outputs": [],
   "source": [
    "def total_variation_distance(dist1, dist2):\n",
    "    '''Given two categorical distributions, \n",
    "    both sorted with same categories, calculates the TVD'''\n",
    "    return np.sum(np.abs(dist1 - dist2)) / 2"
   ]
  },
  {
   "cell_type": "markdown",
   "id": "fc8519d8",
   "metadata": {},
   "source": [
    "Let's compute the TVD between UCSD's ethnic distribution and California's ethnic distribution."
   ]
  },
  {
   "cell_type": "code",
   "execution_count": null,
   "id": "43bb1a7d",
   "metadata": {},
   "outputs": [],
   "source": [
    "observed_tvd = total_variation_distance(eth['UCSD'], eth['California'])\n",
    "observed_tvd"
   ]
  },
  {
   "cell_type": "markdown",
   "id": "ea6dbd25",
   "metadata": {},
   "source": [
    "The issue is we don't know whether this is a large value or a small value – we don't know where it lies in the **distribution of TVDs under the null**."
   ]
  },
  {
   "cell_type": "markdown",
   "id": "abb823cf",
   "metadata": {
    "slideshow": {
     "slide_type": "slide"
    }
   },
   "source": [
    "### The plan\n",
    "\n",
    "To conduct our hypothesis test, we will:"
   ]
  },
  {
   "cell_type": "markdown",
   "id": "0ec3c4d6",
   "metadata": {
    "slideshow": {
     "slide_type": "fragment"
    }
   },
   "source": [
    "- Repeatedly generate samples of size 30,000 (number of UCSD students) from the ethnic distribution of all of California."
   ]
  },
  {
   "cell_type": "markdown",
   "id": "0ccdc9d4",
   "metadata": {
    "slideshow": {
     "slide_type": "fragment"
    }
   },
   "source": [
    "- Each time, compute the TVD between the simulated distribution and California's distribution."
   ]
  },
  {
   "cell_type": "markdown",
   "id": "3d08f9af",
   "metadata": {
    "slideshow": {
     "slide_type": "fragment"
    }
   },
   "source": [
    "- **This will generate an empirical distribution of TVDs, under the null.**"
   ]
  },
  {
   "cell_type": "markdown",
   "id": "b706f26d",
   "metadata": {
    "slideshow": {
     "slide_type": "fragment"
    }
   },
   "source": [
    "- Finally, determine whether the observed TVD is consistent with the empirical distribution of TVDs."
   ]
  },
  {
   "cell_type": "markdown",
   "id": "02a25c76",
   "metadata": {
    "slideshow": {
     "slide_type": "slide"
    }
   },
   "source": [
    "### Generating one random sample\n",
    "\n",
    "Again, to sample from a categorical distribution, we use `np.random.multinomial`.\n",
    "\n",
    "**Important**: We must sample from the \"population\" distribution here, which is the ethnic distribution of everyone in California."
   ]
  },
  {
   "cell_type": "code",
   "execution_count": null,
   "id": "ee2e16bc",
   "metadata": {},
   "outputs": [],
   "source": [
    "# Number of students at UCSD in this example.\n",
    "N_STUDENTS = 30_000"
   ]
  },
  {
   "cell_type": "code",
   "execution_count": null,
   "id": "7dc3b337",
   "metadata": {},
   "outputs": [],
   "source": [
    "eth['California']"
   ]
  },
  {
   "cell_type": "code",
   "execution_count": null,
   "id": "7333044a",
   "metadata": {},
   "outputs": [],
   "source": [
    "np.random.multinomial(N_STUDENTS, eth['California'])"
   ]
  },
  {
   "cell_type": "code",
   "execution_count": null,
   "id": "83c91ff8",
   "metadata": {},
   "outputs": [],
   "source": [
    "np.random.multinomial(N_STUDENTS, eth['California']) / N_STUDENTS"
   ]
  },
  {
   "cell_type": "markdown",
   "id": "52314ef9",
   "metadata": {
    "slideshow": {
     "slide_type": "slide"
    }
   },
   "source": [
    "### Generating many random samples\n",
    "\n",
    "We _could_ write a `for`-loop to repeat the process on the previous slide repeatedly (and you _can_ in labs and projects). However, we now know about the `size` argument in `np.random.multinomial`, so let's use that here."
   ]
  },
  {
   "cell_type": "code",
   "execution_count": null,
   "id": "826f1cdd",
   "metadata": {},
   "outputs": [],
   "source": [
    "num_reps = 100_000\n",
    "eth_draws = np.random.multinomial(N_STUDENTS, eth['California'], size=num_reps) / N_STUDENTS\n",
    "eth_draws"
   ]
  },
  {
   "cell_type": "code",
   "execution_count": null,
   "id": "96ad4e71",
   "metadata": {},
   "outputs": [],
   "source": [
    "eth_draws.shape"
   ]
  },
  {
   "cell_type": "markdown",
   "id": "d4ef3c6a",
   "metadata": {},
   "source": [
    "Notice that each row of `eth_draws` sums to 1, because each row is a simulated categorical distribution."
   ]
  },
  {
   "cell_type": "markdown",
   "id": "c403776f",
   "metadata": {
    "slideshow": {
     "slide_type": "slide"
    }
   },
   "source": [
    "### Computing many TVDs, without a `for`-loop"
   ]
  },
  {
   "cell_type": "markdown",
   "id": "a567ea55",
   "metadata": {
    "slideshow": {
     "slide_type": "-"
    }
   },
   "source": [
    "One issue is that the `total_variation_distance` function we've defined won't work with `eth_draws` (unless we use a `for`-loop), so we'll have to compute the TVD again."
   ]
  },
  {
   "cell_type": "code",
   "execution_count": null,
   "id": "93bf5385",
   "metadata": {},
   "outputs": [],
   "source": [
    "tvds = np.sum(np.abs(eth_draws - eth['California'].to_numpy()), axis=1) / 2\n",
    "tvds"
   ]
  },
  {
   "cell_type": "markdown",
   "id": "723aae32",
   "metadata": {},
   "source": [
    "Just to make sure we did things correctly, we can compute the TVD between the first row of `eth_draws` and `eth['California']` using our previous function."
   ]
  },
  {
   "cell_type": "code",
   "execution_count": null,
   "id": "60c77d8e",
   "metadata": {},
   "outputs": [],
   "source": [
    "# Note that this is the same as the first element in tvds.\n",
    "total_variation_distance(eth_draws[0], eth['California'])"
   ]
  },
  {
   "cell_type": "markdown",
   "id": "08fb8623",
   "metadata": {
    "slideshow": {
     "slide_type": "slide"
    }
   },
   "source": [
    "### Visualizing the empirical distribution of the test statistic"
   ]
  },
  {
   "cell_type": "code",
   "execution_count": null,
   "id": "cef4235b",
   "metadata": {
    "scrolled": false
   },
   "outputs": [],
   "source": [
    "fig = px.histogram(pd.DataFrame(tvds), x=0, nbins=20, histnorm='probability', \n",
    "                   title='Empirical Distribution of the TVD')\n",
    "fig.add_vline(x=observed_tvd, line_color='red')\n",
    "fig"
   ]
  },
  {
   "cell_type": "code",
   "execution_count": null,
   "id": "c9c37730",
   "metadata": {},
   "outputs": [],
   "source": [
    "(np.array(tvds) >= observed_tvd).mean()"
   ]
  },
  {
   "cell_type": "markdown",
   "id": "3033d925",
   "metadata": {
    "slideshow": {
     "slide_type": "fragment"
    }
   },
   "source": [
    "No, there's not a mistake in our code!"
   ]
  },
  {
   "cell_type": "markdown",
   "id": "e0700b23",
   "metadata": {
    "slideshow": {
     "slide_type": "slide"
    }
   },
   "source": [
    "### Conclusion"
   ]
  },
  {
   "cell_type": "markdown",
   "id": "f7e93c25",
   "metadata": {},
   "source": [
    "- The chance that the observed TVD came from the distribution of TVDs under the null is essentially 0.\n",
    "- This matches our intuition from the start – the two distributions looked very different to begin with. But now we're quite sure the difference can't be explained solely due to chance."
   ]
  },
  {
   "cell_type": "markdown",
   "id": "672005fb",
   "metadata": {
    "slideshow": {
     "slide_type": "slide"
    }
   },
   "source": [
    "### Summary of the method\n",
    "\n",
    "To assess whether an \"observed sample\" was drawn randomly from a known categorical distribution:\n",
    "* Use the TVD as the test statistic because it measures the distance between two categorical distributions.\n",
    "* Sample at random from the population. Compute the TVD between each random sample and the known distribution to get an idea for what reasonable deviations from the eligible pool look like. Repeat this process many, many times.\n",
    "* Compare:\n",
    "    - the empirical distribution of TVDs, with\n",
    "    - the observed TVD from the sample."
   ]
  },
  {
   "cell_type": "markdown",
   "id": "ed872a9b",
   "metadata": {
    "slideshow": {
     "slide_type": "slide"
    }
   },
   "source": [
    "### Aside"
   ]
  },
  {
   "cell_type": "markdown",
   "id": "76ebd0b3",
   "metadata": {
    "slideshow": {
     "slide_type": "fragment"
    }
   },
   "source": [
    "- It was probably obvious that the difference is significant even before running a hypothesis test."
   ]
  },
  {
   "cell_type": "markdown",
   "id": "c5514dce",
   "metadata": {
    "slideshow": {
     "slide_type": "fragment"
    }
   },
   "source": [
    "- Why? There are 30,000 students. Such a difference in proportion is unlikely to be due to random chance (something more systematic at play)."
   ]
  },
  {
   "cell_type": "markdown",
   "id": "ea9fbd6b",
   "metadata": {
    "slideshow": {
     "slide_type": "fragment"
    }
   },
   "source": [
    "- But what if `N_STUDENTS = 300`, `N_STUDENTS = 30`, or `N_STUDENTS=3`?"
   ]
  },
  {
   "cell_type": "markdown",
   "id": "d292d109",
   "metadata": {
    "slideshow": {
     "slide_type": "slide"
    }
   },
   "source": [
    "### Discussion Question\n",
    "\n",
    "At what value of `N_STUDENTS` would we fail to reject the null (at a 0.05 p-value cutoff)?"
   ]
  },
  {
   "cell_type": "code",
   "execution_count": null,
   "id": "6333e441",
   "metadata": {},
   "outputs": [],
   "source": [
    "def p_value_given_n_students(N_STUDENTS):\n",
    "    eth_draws = np.random.multinomial(N_STUDENTS, eth['California'], size=num_reps) / N_STUDENTS\n",
    "    tvds = np.sum(np.abs(eth_draws - eth['California'].to_numpy()), axis=1) / 2\n",
    "    p_value = (tvds >= observed_tvd).mean()\n",
    "    return p_value"
   ]
  },
  {
   "cell_type": "code",
   "execution_count": null,
   "id": "a3778912",
   "metadata": {},
   "outputs": [],
   "source": [
    "interact(p_value_given_n_students, N_STUDENTS=(1, 300));"
   ]
  },
  {
   "cell_type": "markdown",
   "id": "ac842166",
   "metadata": {
    "slideshow": {
     "slide_type": "fragment"
    }
   },
   "source": [
    "To fail to reject the null, our sample size (that is, the number of students at UCSD) would have to be in the single digits."
   ]
  },
  {
   "cell_type": "markdown",
   "id": "079e1bad",
   "metadata": {
    "slideshow": {
     "slide_type": "slide"
    }
   },
   "source": [
    "## Example: Penguins (again!)\n",
    "\n",
    "<center><img src='imgs/lter_penguins.png' width=60%></center>\n",
    "\n",
    "([source](https://allisonhorst.github.io/palmerpenguins/articles/intro.html))"
   ]
  },
  {
   "cell_type": "markdown",
   "id": "ef724e98",
   "metadata": {
    "slideshow": {
     "slide_type": "slide"
    }
   },
   "source": [
    "Consider the `penguins` dataset from a few lectures ago."
   ]
  },
  {
   "cell_type": "code",
   "execution_count": null,
   "id": "0c34f214",
   "metadata": {},
   "outputs": [],
   "source": [
    "penguins = sns.load_dataset('penguins').dropna()\n",
    "penguins.head()"
   ]
  },
  {
   "cell_type": "markdown",
   "id": "6c1ac6b2",
   "metadata": {
    "slideshow": {
     "slide_type": "slide"
    }
   },
   "source": [
    "### Average bill length by island"
   ]
  },
  {
   "cell_type": "code",
   "execution_count": null,
   "id": "f146fbc7",
   "metadata": {},
   "outputs": [],
   "source": [
    "penguins.groupby('island')['bill_length_mm'].agg(['mean', 'count'])"
   ]
  },
  {
   "cell_type": "markdown",
   "id": "339bdd6b",
   "metadata": {},
   "source": [
    "It appears that penguins on Torgersen Island have shorter bills on average than penguins on other islands."
   ]
  },
  {
   "cell_type": "markdown",
   "id": "860681d7",
   "metadata": {
    "slideshow": {
     "slide_type": "fragment"
    }
   },
   "source": [
    "- This could've happened due to random chance. If island and bill length were unrelated, and we randomly assigned all 333 penguins an island, **one of the three islands would have to have the lowest average bill length** (unless multiple islands are tied for the lowest)."
   ]
  },
  {
   "cell_type": "markdown",
   "id": "4c1be0c6",
   "metadata": {
    "slideshow": {
     "slide_type": "fragment"
    }
   },
   "source": [
    "- But, is the average bill length of penguins on Torgersen Island lower than we'd expect due to chance? Let's perform a hypothesis test!"
   ]
  },
  {
   "cell_type": "markdown",
   "id": "f9854bf9",
   "metadata": {
    "slideshow": {
     "slide_type": "slide"
    }
   },
   "source": [
    "### Setup"
   ]
  },
  {
   "cell_type": "markdown",
   "id": "8ea81116",
   "metadata": {
    "slideshow": {
     "slide_type": "fragment"
    }
   },
   "source": [
    "- **Null Hypothesis**: Island and bill length **are not** related – the low average bill length of Torgersen Island penguins is due to chance alone.\n",
    "    - In other words, if we picked 47 penguins randomly from the population of 333 penguins, it is reasonable to see an average this low."
   ]
  },
  {
   "cell_type": "markdown",
   "id": "d8fb8244",
   "metadata": {
    "slideshow": {
     "slide_type": "fragment"
    }
   },
   "source": [
    "- **Alternative Hypothesis**: Island and bill length **are** related – the low average bill length of Torgersen Island penguins is not due to chance alone."
   ]
  },
  {
   "cell_type": "markdown",
   "id": "7362da0e",
   "metadata": {
    "slideshow": {
     "slide_type": "slide"
    }
   },
   "source": [
    "### The plan\n",
    "\n",
    "- The null hypothesis states that the 47 bill lengths of Torgersen Island penguins were drawn uniformly at random from the 333 bill lengths in the population."
   ]
  },
  {
   "cell_type": "markdown",
   "id": "20c8c931",
   "metadata": {
    "slideshow": {
     "slide_type": "fragment"
    }
   },
   "source": [
    "- That is, if we repeatedly sampled groups of 47 penguins from the population and computed their mean bill length, it would not be uncommon to see an average bill length this low."
   ]
  },
  {
   "cell_type": "markdown",
   "id": "34bf0977",
   "metadata": {
    "slideshow": {
     "slide_type": "fragment"
    }
   },
   "source": [
    "- **Plan**: Repeatedly sample (without replacement) 47 penguins from the population and **compute their average bill length**, and see where the Torgersen Island average bill length lies in this distribution.\n",
    "    - Average bill length is our **test statistic**.\n",
    "    - This is not a test statistic we've used in this lecture yet (and this is what separates this example from previous examples)."
   ]
  },
  {
   "cell_type": "markdown",
   "id": "77e03652",
   "metadata": {
    "slideshow": {
     "slide_type": "slide"
    }
   },
   "source": [
    "### Simulation\n",
    "\n",
    "Again, while you could do this with a `for`-loop (and you _can_ use a `for`-loop for hypothesis tests in labs and projects), we'll use the faster `size` approach here.\n",
    "\n",
    "Instead of using `np.random.multinomial`, which samples from a categorical distribution, we'll use `np.random.choice`, which samples from a known sequence of values."
   ]
  },
  {
   "cell_type": "code",
   "execution_count": null,
   "id": "ebb9361d",
   "metadata": {},
   "outputs": [],
   "source": [
    "# Draws two samples of size 47 from penguins['bill_length_mm'].\n",
    "# Question: Why must we sample with replacement here (or, more specifically, in the next cell)?\n",
    "np.random.choice(penguins['bill_length_mm'], size=(2, 47))"
   ]
  },
  {
   "cell_type": "code",
   "execution_count": null,
   "id": "d0fd9cee",
   "metadata": {},
   "outputs": [],
   "source": [
    "# Draws 100000 samples of size 47 from penguins['bill_length_mm'].\n",
    "num_reps = 100_000\n",
    "averages = np.random.choice(penguins['bill_length_mm'], size=(num_reps, 47)).mean(axis=1)\n",
    "averages"
   ]
  },
  {
   "cell_type": "markdown",
   "id": "d0143b67",
   "metadata": {
    "slideshow": {
     "slide_type": "slide"
    }
   },
   "source": [
    "### Visualizing the empirical distribution of the test statistic"
   ]
  },
  {
   "cell_type": "code",
   "execution_count": null,
   "id": "9aff2272",
   "metadata": {},
   "outputs": [],
   "source": [
    "fig = px.histogram(pd.DataFrame(averages), x=0, nbins=50, histnorm='probability', \n",
    "                   title='Empirical Distribution of the Average Bill Length in Samples of Size 47')\n",
    "fig.add_vline(x=penguins.loc[penguins['island'] == 'Torgersen', 'bill_length_mm'].mean(), line_color='red')"
   ]
  },
  {
   "cell_type": "markdown",
   "id": "4190b697",
   "metadata": {},
   "source": [
    "It doesn't look like the average bill length of penguins on Torgersen Island came from the distribution of bill lengths of all penguins in our dataset."
   ]
  },
  {
   "cell_type": "markdown",
   "id": "0807bfaa",
   "metadata": {
    "slideshow": {
     "slide_type": "slide"
    }
   },
   "source": [
    "### Discussion Question\n",
    "\n",
    "There **is** a statistical tool you've learned about that would allow us to find the **true probability distribution** of the test statistic in this case. What is it?\n",
    "\n",
    "<br>\n",
    "\n",
    "<details>\n",
    "    <summary>➡️ Click here to see the answer <b>after</b> you've thought about it.</summary>\n",
    "    <b>The Central Limit Theorem (CLT).</b>\n",
    "    \n",
    "Recall, the CLT tells us that for any population distribution, the distribution of the sample mean is roughly normal, with the same mean as the population mean. Furthermore, it tells that the standard deviation of the distribution of the sample mean is $\\frac{\\text{Population SD}}{\\sqrt{\\text{sample size}}}$.\n",
    "    \n",
    "So, the distribution of sample means of samples of size 47 drawn from <code>penguins['bill_length_mm']</code> is roughly normal with mean <code>penguins['bill_length_mm']</code> and standard deviation <code>penguins['bill_length_mm'].std(ddof=0) / np.sqrt(47)</code>.\n",
    "    \n",
    "</details>"
   ]
  },
  {
   "cell_type": "markdown",
   "id": "0e7f3766",
   "metadata": {
    "slideshow": {
     "slide_type": "slide"
    }
   },
   "source": [
    "## Summary"
   ]
  },
  {
   "cell_type": "markdown",
   "id": "3561e489",
   "metadata": {
    "slideshow": {
     "slide_type": "slide"
    }
   },
   "source": [
    "### The hypothesis testing \"recipe\"\n",
    "\n",
    "Faced with a question about the data raised by an observation...\n",
    "1. Carefully pose the question as a testable \"yes or no\" hypothesis.\n",
    "2. Decide on a **test statistic** that helps differentiate between instances that would affirm or reject the hypothesis.\n",
    "3. Create a probability model for the data generating process that reflects the \"known behavior\" of the process.\n",
    "4. Simulate the data generating process using this probability model (the \"**null hypothesis**\").\n",
    "5. Assess if the observation is consistent with the simulations by computing a **p-value**."
   ]
  },
  {
   "cell_type": "markdown",
   "id": "d5c5b9e8",
   "metadata": {
    "slideshow": {
     "slide_type": "slide"
    }
   },
   "source": [
    "### Hypothesis testing vs. permutation testing\n",
    "\n",
    "\"Standard\" hypothesis testing helps us answer questions of the form:\n",
    "\n",
    "> I have a population distribution, and I have one sample. Does this sample look like it was drawn from the population?"
   ]
  },
  {
   "cell_type": "markdown",
   "id": "437d1db1",
   "metadata": {
    "slideshow": {
     "slide_type": "fragment"
    }
   },
   "source": [
    "- Sample: 59 heads and 41 tails. Population: A fair coin."
   ]
  },
  {
   "cell_type": "markdown",
   "id": "fdbfe1e1",
   "metadata": {
    "slideshow": {
     "slide_type": "fragment"
    }
   },
   "source": [
    "- Sample: Ethnic distribution of UCSD. Population: Ethnic distribution of California. (Comparing categorical distributions with the TVD.)"
   ]
  },
  {
   "cell_type": "markdown",
   "id": "ad18034d",
   "metadata": {
    "slideshow": {
     "slide_type": "fragment"
    }
   },
   "source": [
    "- Sample: Sample of Torgersen Island penguins. Population: All 333 penguins. (Comparing a subgroup statistic to a population parameter.) "
   ]
  },
  {
   "cell_type": "markdown",
   "id": "692e0f64",
   "metadata": {},
   "source": [
    "It **does not** help us answer questions of the form:\n",
    "\n",
    "> I have two samples, but no information about any population distributions. Do these samples look like they were drawn from the same population?\n",
    "\n",
    "That's where permutation testing comes in."
   ]
  },
  {
   "cell_type": "markdown",
   "id": "4baedc08",
   "metadata": {
    "slideshow": {
     "slide_type": "slide"
    }
   },
   "source": [
    "## Additional reading\n",
    "\n",
    "Here are a few more slides with examples that we won't cover in lecture."
   ]
  },
  {
   "cell_type": "markdown",
   "id": "d3f85863",
   "metadata": {
    "slideshow": {
     "slide_type": "slide"
    }
   },
   "source": [
    "### Null hypothesis\n",
    "\n",
    "- Recall, a **null hypothesis** is an initial or default belief as to how data were generated.\n",
    "    - The null hypothesis must be a **probability model**, i.e. something that we can simulate under.\n",
    "\n",
    "- Often, but not always, the null hypothesis states there is no association or difference between variables or subpopulations, and that any observed differences were due to random chance. \n",
    "- Examples:\n",
    "    * The coin was fair.\n",
    "    * The music preferences of Americans and Canadians are the same.\n",
    "    * The median number of Instagram followers of DSC majors is equal to the median number of Instagram followers of all students at UCSD."
   ]
  },
  {
   "cell_type": "markdown",
   "id": "9a7fa75d",
   "metadata": {
    "slideshow": {
     "slide_type": "slide"
    }
   },
   "source": [
    "### Alternative hypothesis\n",
    "\n",
    "- An **alternative hypothesis** is a different viewpoint as to how data were generated.\n",
    "- The alternative hypothesis typically states that the difference between variables or subpopulations exists and is not due to random chance.\n",
    "- Examples:\n",
    "    - The coin is biased towards heads.\n",
    "    - The coin is biased.\n",
    "    - The music preferences of Americans and Canadians are different.\n",
    "    - The median number of Instagram followers of DSC majors is greater than the median number of Instagram followers of all students at UCSD."
   ]
  },
  {
   "cell_type": "markdown",
   "id": "59fa5add",
   "metadata": {
    "slideshow": {
     "slide_type": "slide"
    }
   },
   "source": [
    "### P-values and cutoffs\n",
    "\n",
    "- The **p-value**, or **observed significance level**, is the probability, under the null hypothesis, that the test statistic is equal to the value that was observed in the data or is even further in the direction of the alternative.\n",
    "- If the p-value is below a pre-determined **cutoff**, or **significance level**, we say that our observation is inconsistent with the null hypothesis and we **reject the null**.\n",
    "    - 0.05 (significant) and 0.01 (highly significant) are common cutoffs.\n",
    "    - If the p-value is above the cutoff, we **fail to reject the null**.\n",
    "- Note that the cutoff is an **error probability**.\n",
    "    - If your cutoff is 0.05, then 5% of the time, you will incorrectly reject the null hypothesis."
   ]
  }
 ],
 "metadata": {
  "celltoolbar": "Slideshow",
  "kernelspec": {
   "display_name": "Python 3 (ipykernel)",
   "language": "python",
   "name": "python3"
  },
  "language_info": {
   "codemirror_mode": {
    "name": "ipython",
    "version": 3
   },
   "file_extension": ".py",
   "mimetype": "text/x-python",
   "name": "python",
   "nbconvert_exporter": "python",
   "pygments_lexer": "ipython3",
   "version": "3.9.6"
  },
  "livereveal": {
   "scroll": true
  },
  "rise": {
   "transition": "none"
  }
 },
 "nbformat": 4,
 "nbformat_minor": 5
}
