{
 "cells": [
  {
   "cell_type": "code",
   "execution_count": null,
   "id": "eeb8b201",
   "metadata": {
    "slideshow": {
     "slide_type": "skip"
    }
   },
   "outputs": [],
   "source": [
    "import pandas as pd\n",
    "import numpy as np\n",
    "import matplotlib.pyplot as plt\n",
    "import os\n",
    "\n",
    "pd.set_option('display.max_rows', 9)\n",
    "plt.style.use('ggplot')"
   ]
  },
  {
   "cell_type": "markdown",
   "id": "3143de48",
   "metadata": {
    "slideshow": {
     "slide_type": "slide"
    }
   },
   "source": [
    "# Lecture 3 – More DataFrame Fundamentals\n",
    "\n",
    "## DSC 80, Spring 2023"
   ]
  },
  {
   "cell_type": "markdown",
   "id": "eefc89fc",
   "metadata": {
    "slideshow": {
     "slide_type": "slide"
    }
   },
   "source": [
    "### Agenda\n",
    "\n",
    "- Recap: `loc` and `iloc`.\n",
    "- Adding and modifying columns.\n",
    "- Axes.\n",
    "- `pandas` and `numpy`.\n",
    "- Extra: Data cleaning and `plotly`."
   ]
  },
  {
   "cell_type": "markdown",
   "id": "e47db64c",
   "metadata": {
    "slideshow": {
     "slide_type": "slide"
    }
   },
   "source": [
    "## Recap: `loc` and `iloc`"
   ]
  },
  {
   "cell_type": "markdown",
   "id": "7a9a2914",
   "metadata": {
    "slideshow": {
     "slide_type": "slide"
    }
   },
   "source": [
    "### Example: Universities in California 📚\n",
    "\n",
    "Recall, last lecture we started working with a dataset that contains the name, location, enrollment, and founding date of most UCs and CSUs."
   ]
  },
  {
   "cell_type": "code",
   "execution_count": null,
   "id": "9882999b",
   "metadata": {
    "slideshow": {
     "slide_type": "-"
    }
   },
   "outputs": [],
   "source": [
    "schools_path = os.path.join('data', 'california_universities.csv')\n",
    "schools = pd.read_csv(schools_path)\n",
    "schools.head()"
   ]
  },
  {
   "cell_type": "markdown",
   "id": "914492f4",
   "metadata": {
    "slideshow": {
     "slide_type": "slide"
    }
   },
   "source": [
    "### `loc` and `iloc` with the default index\n",
    "\n",
    "- We use `loc` to access rows by their indexes (labels).\n",
    "- We use `iloc` to access rows by their integer positions.\n",
    "- When we load a DataFrame from file, the default index is 0, 1, 2, 3, ...\n",
    "- In some cases, `loc` and `iloc` behave similarly – but they are **not the same**!"
   ]
  },
  {
   "cell_type": "code",
   "execution_count": null,
   "id": "9f65d63b",
   "metadata": {},
   "outputs": [],
   "source": [
    "schools.head()"
   ]
  },
  {
   "cell_type": "markdown",
   "id": "92178347",
   "metadata": {},
   "source": [
    "What's the difference between the two DataFrames below?"
   ]
  },
  {
   "cell_type": "code",
   "execution_count": null,
   "id": "f2e5787d",
   "metadata": {},
   "outputs": [],
   "source": [
    "schools.loc[1:5]"
   ]
  },
  {
   "cell_type": "code",
   "execution_count": null,
   "id": "b374ecf0",
   "metadata": {},
   "outputs": [],
   "source": [
    "schools.iloc[1:5]"
   ]
  },
  {
   "cell_type": "markdown",
   "id": "3c62a2b2",
   "metadata": {
    "slideshow": {
     "slide_type": "slide"
    }
   },
   "source": [
    "Which of the following two expressions evaluate to the name of the youngest school in `schools`?"
   ]
  },
  {
   "cell_type": "code",
   "execution_count": null,
   "id": "1dda8032",
   "metadata": {},
   "outputs": [],
   "source": [
    "schools.sort_values('Founded', ascending=False).iloc[0]['Name']"
   ]
  },
  {
   "cell_type": "code",
   "execution_count": null,
   "id": "6922d69b",
   "metadata": {},
   "outputs": [],
   "source": [
    "schools.sort_values('Founded', ascending=False).loc[0]['Name']"
   ]
  },
  {
   "cell_type": "markdown",
   "id": "27899f63",
   "metadata": {
    "slideshow": {
     "slide_type": "slide"
    }
   },
   "source": [
    "## Adding and modifying columns"
   ]
  },
  {
   "cell_type": "markdown",
   "id": "0824d676",
   "metadata": {
    "slideshow": {
     "slide_type": "slide"
    }
   },
   "source": [
    "### Adding and modifying columns, using a copy\n",
    "\n",
    "- To add a new column to a DataFrame, use the `assign` method.\n",
    "    - To change the values in a column, add a new column with the same name as the existing column.\n",
    "- Like most `pandas` methods, `assign` returns a new DataFrame.\n",
    "    - **Pro** ✅: This doesn't inadvertently change any existing variables.\n",
    "    - **Con** ❌: It is not very space efficient, as it creates a new copy each time it is called."
   ]
  },
  {
   "cell_type": "code",
   "execution_count": null,
   "id": "92810c49",
   "metadata": {},
   "outputs": [],
   "source": [
    "schools.head()"
   ]
  },
  {
   "cell_type": "code",
   "execution_count": null,
   "id": "4b6a14fc",
   "metadata": {},
   "outputs": [],
   "source": [
    "schools.assign(Age=2023 - schools['Founded'])"
   ]
  },
  {
   "cell_type": "code",
   "execution_count": null,
   "id": "c5a56229",
   "metadata": {},
   "outputs": [],
   "source": [
    "schools.head()"
   ]
  },
  {
   "cell_type": "markdown",
   "id": "c0066c44",
   "metadata": {
    "slideshow": {
     "slide_type": "slide"
    }
   },
   "source": [
    "As an aside, you should try your best to write **chained** `pandas` code, as follows:"
   ]
  },
  {
   "cell_type": "code",
   "execution_count": null,
   "id": "2e6e5c92",
   "metadata": {},
   "outputs": [],
   "source": [
    "(\n",
    "    schools\n",
    "    .assign(Age=(2023 - schools['Founded']))\n",
    "    .assign(is_UC=schools['Name'].str.contains('University of California'))\n",
    ")"
   ]
  },
  {
   "cell_type": "code",
   "execution_count": null,
   "id": "0e6e41dc",
   "metadata": {},
   "outputs": [],
   "source": [
    "schools"
   ]
  },
  {
   "cell_type": "markdown",
   "id": "4d26fe50",
   "metadata": {
    "slideshow": {
     "slide_type": "fragment"
    }
   },
   "source": [
    "You can also use `assign` when the desired column name has spaces, by using keyword arguments."
   ]
  },
  {
   "cell_type": "code",
   "execution_count": null,
   "id": "b992959a",
   "metadata": {},
   "outputs": [],
   "source": [
    "(\n",
    "    schools\n",
    "    .assign(**{'Years since Founding': 2023 - schools['Founded']})\n",
    ")"
   ]
  },
  {
   "cell_type": "markdown",
   "id": "cb6fa478",
   "metadata": {
    "slideshow": {
     "slide_type": "slide"
    }
   },
   "source": [
    "### Adding and modifying columns, in-place\n",
    "\n",
    "* You can assign a new column to a DataFrame **in-place** using `[]`.\n",
    "    - This works like dictionary assignment.\n",
    "    - This **modifies** the underlying DataFrame, unlike `assign`, which returns a new DataFrame.\n",
    "* This is the more \"common\" way of adding/modifying columns. \n",
    "    - ⚠️ Warning: Exercise caution when using this approach, since this approach changes the values of existing variables."
   ]
  },
  {
   "cell_type": "code",
   "execution_count": null,
   "id": "f598df4c",
   "metadata": {},
   "outputs": [],
   "source": [
    "# By default, .copy() returns a deep copy of the object it is called on,\n",
    "# meaning that if you change the copy the original remains unmodified.\n",
    "schools_copy = schools.copy()\n",
    "schools_copy.head()"
   ]
  },
  {
   "cell_type": "code",
   "execution_count": null,
   "id": "9014e9bf",
   "metadata": {},
   "outputs": [],
   "source": [
    "schools_copy['Age'] = 2023 - schools_copy['Founded']"
   ]
  },
  {
   "cell_type": "code",
   "execution_count": null,
   "id": "a0f910cd",
   "metadata": {},
   "outputs": [],
   "source": [
    "schools_copy['Name'] = schools_copy['Name'].str.replace('University of California,', 'UC')"
   ]
  },
  {
   "cell_type": "markdown",
   "id": "2b5d2ac1",
   "metadata": {
    "slideshow": {
     "slide_type": "fragment"
    }
   },
   "source": [
    "Note that we never reassigned `schools_copy` in the two cells above – that is, we never wrote `schools_copy = ...` – though it was still modified."
   ]
  },
  {
   "cell_type": "code",
   "execution_count": null,
   "id": "d5d249be",
   "metadata": {},
   "outputs": [],
   "source": [
    "schools_copy.head()"
   ]
  },
  {
   "cell_type": "markdown",
   "id": "76a86690",
   "metadata": {
    "slideshow": {
     "slide_type": "slide"
    }
   },
   "source": [
    "### Mutability\n",
    "\n",
    "DataFrames, like lists, arrays, and dictionaries, are **mutable**. As you learned in DSC 20, this means that they can be modified after being created. \n",
    "\n",
    "Not only does this explain the behavior on the previous slide, but it also explains the following:"
   ]
  },
  {
   "cell_type": "code",
   "execution_count": null,
   "id": "340e6db0",
   "metadata": {},
   "outputs": [],
   "source": [
    "schools.head()"
   ]
  },
  {
   "cell_type": "code",
   "execution_count": null,
   "id": "bbf0595f",
   "metadata": {},
   "outputs": [],
   "source": [
    "def calculate_age(df):\n",
    "    df['Age'] = 2023 - df['Founded']\n",
    "    return df"
   ]
  },
  {
   "cell_type": "code",
   "execution_count": null,
   "id": "aa86f11d",
   "metadata": {},
   "outputs": [],
   "source": [
    "calculate_age(schools)"
   ]
  },
  {
   "cell_type": "code",
   "execution_count": null,
   "id": "011d994d",
   "metadata": {},
   "outputs": [],
   "source": [
    "schools.head()"
   ]
  },
  {
   "cell_type": "markdown",
   "id": "b6cbd332",
   "metadata": {
    "slideshow": {
     "slide_type": "fragment"
    }
   },
   "source": [
    "Note that `schools` was modified, even though we didn't reassign it! These unintended consequences can **influence the behavior of test cases on labs and projects**, among other things! \n",
    "\n",
    "To avoid this, it's a good idea to include `df = df.copy()` as the first line in functions that take DataFrames as input."
   ]
  },
  {
   "cell_type": "code",
   "execution_count": null,
   "id": "6c56b713",
   "metadata": {},
   "outputs": [],
   "source": [
    "#How to delete a column?\n",
    "#schools.drop('Age', axis=1,inplace=True)"
   ]
  },
  {
   "cell_type": "code",
   "execution_count": null,
   "id": "44bdddd8",
   "metadata": {},
   "outputs": [],
   "source": [
    "def calculate_age(df):\n",
    "    df = df.copy()\n",
    "    # Now, the df referenced below is a fresh copy that is unrelated to the df passed in.\n",
    "    df['Age'] = 2023 - df['Founded']\n",
    "    return df"
   ]
  },
  {
   "cell_type": "code",
   "execution_count": null,
   "id": "c2e03caf",
   "metadata": {
    "scrolled": true
   },
   "outputs": [],
   "source": [
    "calculate_age(schools)"
   ]
  },
  {
   "cell_type": "markdown",
   "id": "1d552f52",
   "metadata": {
    "slideshow": {
     "slide_type": "slide"
    }
   },
   "source": [
    "### What about rows?\n",
    "\n",
    "You can add and modify rows using `loc` and `iloc`. There's a function that can be to add rows, called `pd.concat`; we'll see it in a few lectures."
   ]
  },
  {
   "cell_type": "code",
   "execution_count": null,
   "id": "1d7789a8",
   "metadata": {},
   "outputs": [],
   "source": [
    "schools_copy.iloc[-1, :] = ['University of California, La Jolla', \n",
    "                            'La Jolla', \n",
    "                            'San Diego', \n",
    "                            '80', \n",
    "                            2023, \n",
    "                            0]\n",
    "schools_copy.tail()"
   ]
  },
  {
   "cell_type": "code",
   "execution_count": null,
   "id": "277c3912",
   "metadata": {},
   "outputs": [],
   "source": [
    "schools_copy.loc[-1, :] = ['La Jolla State University', \n",
    "                           'La Jolla', \n",
    "                           'San Diego', \n",
    "                           '10', \n",
    "                           2023, \n",
    "                           0]\n",
    "schools_copy.tail()"
   ]
  },
  {
   "cell_type": "markdown",
   "id": "8acc897f",
   "metadata": {
    "slideshow": {
     "slide_type": "slide"
    }
   },
   "source": [
    "## Axes"
   ]
  },
  {
   "cell_type": "markdown",
   "id": "fffa5177",
   "metadata": {
    "slideshow": {
     "slide_type": "slide"
    }
   },
   "source": [
    "### Axes\n",
    "\n",
    "- The rows and columns of a DataFrame are both stored as Series.\n",
    "- The **axis** specifies the direction of a \"slice\" of a DataFrame.\n",
    "\n",
    "<center><img src='imgs/axis.png' width=30%></center>\n",
    "\n",
    "- Axis 0 refers to the index (rows).\n",
    "- Axis 1 refers to the columns."
   ]
  },
  {
   "cell_type": "markdown",
   "id": "608d22e8",
   "metadata": {
    "slideshow": {
     "slide_type": "slide"
    }
   },
   "source": [
    "### DataFrame methods with `axis`\n",
    "\n",
    "Consider the DataFrame `A` defined below using a dictionary."
   ]
  },
  {
   "cell_type": "code",
   "execution_count": null,
   "id": "16489f0e",
   "metadata": {},
   "outputs": [],
   "source": [
    "A = pd.DataFrame({\n",
    "    'A': [1, 4],\n",
    "    'B': [2, 5],\n",
    "    'C': [3, 6]\n",
    "})\n",
    "A"
   ]
  },
  {
   "cell_type": "markdown",
   "id": "83c0183f",
   "metadata": {},
   "source": [
    "If we specify `axis=0`, `A.sum` will \"compress\" along axis 0, and keep the column labels intact."
   ]
  },
  {
   "cell_type": "code",
   "execution_count": null,
   "id": "7245b1b8",
   "metadata": {},
   "outputs": [],
   "source": [
    "A.sum(axis=0)"
   ]
  },
  {
   "cell_type": "code",
   "execution_count": null,
   "id": "44bee1c0",
   "metadata": {},
   "outputs": [],
   "source": [
    "A.sum(0)"
   ]
  },
  {
   "cell_type": "markdown",
   "id": "e4bb82bc",
   "metadata": {},
   "source": [
    "If we specify `axis=1`, `A.sum` will \"compress\" along axis 1, and keep the row labels (index) intact."
   ]
  },
  {
   "cell_type": "code",
   "execution_count": null,
   "id": "aecaac0f",
   "metadata": {},
   "outputs": [],
   "source": [
    "A.sum(axis=1)"
   ]
  },
  {
   "cell_type": "markdown",
   "id": "8d54b1bb",
   "metadata": {
    "slideshow": {
     "slide_type": "slide"
    }
   },
   "source": [
    "<center><img src='imgs/axis-sum.png' width=600></center>"
   ]
  },
  {
   "cell_type": "markdown",
   "id": "963d2b00",
   "metadata": {
    "slideshow": {
     "slide_type": "fragment"
    }
   },
   "source": [
    "What's the default axis?"
   ]
  },
  {
   "cell_type": "code",
   "execution_count": null,
   "id": "b0ee56c0",
   "metadata": {},
   "outputs": [],
   "source": [
    "A"
   ]
  },
  {
   "cell_type": "code",
   "execution_count": null,
   "id": "783666c3",
   "metadata": {},
   "outputs": [],
   "source": [
    "A.sum()"
   ]
  },
  {
   "cell_type": "markdown",
   "id": "1e91a09c",
   "metadata": {
    "slideshow": {
     "slide_type": "slide"
    }
   },
   "source": [
    "### DataFrame methods with `axis`\n",
    "\n",
    "- In addition to `sum`, many other Series methods work on DataFrames.\n",
    "- In such cases, the DataFrame method usually applies the Series method to every row or column.\n",
    "- Many of these methods accept an `axis` argument; the default is usually `axis=0`."
   ]
  },
  {
   "cell_type": "code",
   "execution_count": null,
   "id": "1ed32960",
   "metadata": {},
   "outputs": [],
   "source": [
    "schools.head()"
   ]
  },
  {
   "cell_type": "code",
   "execution_count": null,
   "id": "f54ab97e",
   "metadata": {},
   "outputs": [],
   "source": [
    "# The maximum element in each column.\n",
    "schools.max()"
   ]
  },
  {
   "cell_type": "code",
   "execution_count": null,
   "id": "9a6231eb",
   "metadata": {},
   "outputs": [],
   "source": [
    "# The number of unique values in each column.\n",
    "schools.nunique()"
   ]
  },
  {
   "cell_type": "code",
   "execution_count": null,
   "id": "8706cb04",
   "metadata": {},
   "outputs": [],
   "source": [
    "# Why is this meaningless?\n",
    "schools[['Founded', 'Age']].mean(axis=1)"
   ]
  },
  {
   "cell_type": "code",
   "execution_count": null,
   "id": "2a9cd66a",
   "metadata": {},
   "outputs": [],
   "source": [
    "# describe doesn't accept an axis argument; it works on every numeric column in the DataFrame it is called on.\n",
    "schools.describe()"
   ]
  },
  {
   "cell_type": "markdown",
   "id": "5409d7a4",
   "metadata": {
    "slideshow": {
     "slide_type": "slide"
    }
   },
   "source": [
    "### Discussion Question\n",
    "\n",
    "In **words**, what characteristic do all schools in the following DataFrame share?\n",
    "\n",
    "```py\n",
    "schools[schools.nunique(axis=1) != schools.nunique(axis=1).max()]\n",
    "```\n",
    "\n",
    "_Hint: What city is SDSU in? What county is it in?_"
   ]
  },
  {
   "cell_type": "code",
   "execution_count": null,
   "id": "66ba2a00",
   "metadata": {},
   "outputs": [],
   "source": []
  },
  {
   "cell_type": "markdown",
   "id": "5549d72e",
   "metadata": {
    "slideshow": {
     "slide_type": "slide"
    }
   },
   "source": [
    "## `pandas` and `numpy`"
   ]
  },
  {
   "cell_type": "markdown",
   "id": "099f532e",
   "metadata": {
    "slideshow": {
     "slide_type": "slide"
    }
   },
   "source": [
    "<center><img src='imgs/python-stack.png' width=60%></center>"
   ]
  },
  {
   "cell_type": "markdown",
   "id": "06331b20",
   "metadata": {
    "slideshow": {
     "slide_type": "slide"
    }
   },
   "source": [
    "### `numpy`\n",
    "\n",
    "- NumPy stands for \"numerical Python\". It is a commonly-used Python module that enables **fast** computation involving arrays and matrices.\n",
    "- `numpy`'s main object is the **array**. In `numpy`, arrays are:\n",
    "    - Homogenous – all values are of the same type.\n",
    "    - (Potentially) multi-dimensional.\n",
    "- Computation in `numpy` is fast because:\n",
    "    - Much of it is implemented in C.\n",
    "    - `numpy` arrays are stored more efficiently in memory than, say, Python lists. \n",
    "- [This site](https://cloudxlab.com/blog/numpy-pandas-introduction/) provides a good overview of `numpy` arrays."
   ]
  },
  {
   "cell_type": "markdown",
   "id": "4d5900bf",
   "metadata": {
    "slideshow": {
     "slide_type": "slide"
    }
   },
   "source": [
    "### `pandas` is built upon `numpy`\n",
    "\n",
    "- A Series in `pandas` is a `numpy` array with an index.\n",
    "- A DataFrame is like a dictionary of columns, each of which is a `numpy` array.\n",
    "- Many operations in `pandas` are fast because they use `numpy`'s implementations.\n",
    "- To access the array underlying a DataFrame or Series, use the `to_numpy` method.\n",
    "    - ⚠️ Warning: `to_numpy` returns a view of the original object, not a copy! Read more in the [course notes](https://notes.dsc80.com/content/02/data-types.html#copies-and-views-in-pandas).\n",
    "    - `.values` is a soon-to-be-deprecated version of `.to_numpy()`."
   ]
  },
  {
   "cell_type": "code",
   "execution_count": null,
   "id": "2c7396cf",
   "metadata": {},
   "outputs": [],
   "source": [
    "arr = np.array([4, 2, 9, 15, -1])\n",
    "arr"
   ]
  },
  {
   "cell_type": "code",
   "execution_count": null,
   "id": "4b639c34",
   "metadata": {},
   "outputs": [],
   "source": [
    "ser = pd.Series(arr, index=['a', 'b', 'c', 'd', 'e'])\n",
    "ser"
   ]
  },
  {
   "cell_type": "code",
   "execution_count": null,
   "id": "fc350912",
   "metadata": {},
   "outputs": [],
   "source": [
    "conv = ser.to_numpy()\n",
    "conv"
   ]
  },
  {
   "cell_type": "code",
   "execution_count": null,
   "id": "5282fcab",
   "metadata": {},
   "outputs": [],
   "source": [
    "conv[2] = 100\n",
    "conv"
   ]
  },
  {
   "cell_type": "markdown",
   "id": "5813e0cd",
   "metadata": {
    "slideshow": {
     "slide_type": "fragment"
    }
   },
   "source": [
    "Even though `conv` appears to be \"detached\" from `ser`, it is not:"
   ]
  },
  {
   "cell_type": "code",
   "execution_count": null,
   "id": "5d734eb4",
   "metadata": {},
   "outputs": [],
   "source": [
    "ser"
   ]
  },
  {
   "cell_type": "markdown",
   "id": "eb19cca8",
   "metadata": {
    "slideshow": {
     "slide_type": "slide"
    }
   },
   "source": [
    "### The dangers of `for`-loops\n",
    "\n",
    "- `for`-loops are slow when processing large datasets. **You will rarely write `for`-loops in DSC 80, and may be penalized on assignments for using them when unnecessary!**\n",
    "- One of the biggest benefits of `numpy` is that it supports **vectorized** operations. \n",
    "    - If `a` and `b` are two arrays of the same length, then `a + b` is a new array of the same length containing the element-wise sum of `a` and `b`.\n",
    "- To illustrate how much faster `numpy` arithmetic is than using a `for`-loop, let's compute the distances between the origin $(0, 0)$ and 1000 random points $(x, y)$ in $\\mathbb{R}^2$:\n",
    "    - Using a `for`-loop.\n",
    "    - Using vectorized arithmetic, through `numpy`."
   ]
  },
  {
   "cell_type": "markdown",
   "id": "90d6906a",
   "metadata": {
    "slideshow": {
     "slide_type": "slide"
    }
   },
   "source": [
    "### Aside: Generating data\n",
    "\n",
    "- First, we need to create a DataFrame containing 1000 random points in 2D. \n",
    "- `np.random.random(N)` returns an array containing `N` numbers selected uniformly at random from the interval $[0, 1)$."
   ]
  },
  {
   "cell_type": "code",
   "execution_count": null,
   "id": "fc9acd30",
   "metadata": {},
   "outputs": [],
   "source": [
    "N = 1000\n",
    "x_arr = np.random.random(N)\n",
    "y_arr = np.random.random(N)\n",
    "\n",
    "coordinates = pd.DataFrame({'x': x_arr, 'y': y_arr})\n",
    "coordinates.head()"
   ]
  },
  {
   "cell_type": "code",
   "execution_count": null,
   "id": "0f4709da",
   "metadata": {},
   "outputs": [],
   "source": [
    "coordinates.plot(kind='scatter', x='x', y='y');"
   ]
  },
  {
   "cell_type": "markdown",
   "id": "6fd02de0",
   "metadata": {
    "slideshow": {
     "slide_type": "slide"
    }
   },
   "source": [
    "Next, let's define a function that takes in a DataFrame like `coordinates` and returns the distances between each point and the origin, using a `for`-loop."
   ]
  },
  {
   "cell_type": "code",
   "execution_count": null,
   "id": "5dab7840",
   "metadata": {},
   "outputs": [],
   "source": [
    "def distances(df):\n",
    "    hyp_list = []\n",
    "    for i in df.index:\n",
    "        dist = (df.loc[i, 'x'] ** 2 + df.loc[i, 'y'] ** 2) ** 0.5\n",
    "        hyp_list.append(dist)\n",
    "    return hyp_list\n",
    "\n",
    "distances(coordinates)[:5]"
   ]
  },
  {
   "cell_type": "markdown",
   "id": "b84d3f06",
   "metadata": {
    "slideshow": {
     "slide_type": "slide"
    }
   },
   "source": [
    "The `%timeit` magic command can repeatedly run any snippet of code and give us its average runtime."
   ]
  },
  {
   "cell_type": "code",
   "execution_count": null,
   "id": "2db695a6",
   "metadata": {},
   "outputs": [],
   "source": [
    "%timeit distances(coordinates)"
   ]
  },
  {
   "cell_type": "markdown",
   "id": "1c8cb480",
   "metadata": {},
   "source": [
    "Now, using a vectorized approach:"
   ]
  },
  {
   "cell_type": "code",
   "execution_count": null,
   "id": "d96da51d",
   "metadata": {},
   "outputs": [],
   "source": [
    "%timeit (coordinates['x'] ** 2 + coordinates['y'] ** 2) ** 0.5"
   ]
  },
  {
   "cell_type": "markdown",
   "id": "e6e3dee4",
   "metadata": {},
   "source": [
    "Note that \"µs\" refers to microseconds, which are one-millionth of a second, whereas \"ms\" refers to milliseconds, which are one-thousandth of a second.\n",
    "\n",
    "**Takeaway**: Avoid `for`-loops whenever possible!"
   ]
  },
  {
   "cell_type": "markdown",
   "id": "8e1c6a1f",
   "metadata": {
    "slideshow": {
     "slide_type": "slide"
    }
   },
   "source": [
    "### `pandas` data types\n",
    "\n",
    "- Each Series (column) has a data type, which refers to the type of the values stored within. Access it using the `dtypes` attribute.\n",
    "- A column's data type determines which operations can be applied to it.\n",
    "- `pandas` tries to guess the correct data types for a given DataFrame, and is often wrong.\n",
    "    - This can lead to incorrect calculations and poor memory/time performance.\n",
    "- As a result, you will often need to explicitly convert between data types."
   ]
  },
  {
   "cell_type": "code",
   "execution_count": null,
   "id": "92f843f8",
   "metadata": {},
   "outputs": [],
   "source": [
    "schools.head()"
   ]
  },
  {
   "cell_type": "code",
   "execution_count": null,
   "id": "a9ca61a2",
   "metadata": {},
   "outputs": [],
   "source": [
    "schools.dtypes"
   ]
  },
  {
   "cell_type": "code",
   "execution_count": null,
   "id": "3108e129",
   "metadata": {},
   "outputs": [],
   "source": [
    "schools['Founded'].dtypes"
   ]
  },
  {
   "cell_type": "markdown",
   "id": "c2484929",
   "metadata": {
    "slideshow": {
     "slide_type": "slide"
    }
   },
   "source": [
    "### `pandas` data types\n",
    "\n",
    "|Pandas dtype|Python type|NumPy type|SQL type|Usage|\n",
    "|---|---|---|---|---|\n",
    "|int64|int|int_, int8,...,int64, uint8,...,uint64|INT, BIGINT| Integer numbers|\n",
    "|float64|float|float_, float16, float32, float64|FLOAT| Floating point numbers|\n",
    "|bool|bool|bool_|BOOL|True/False values|\n",
    "|datetime64|NA|datetime64[ns]|DATETIME|Date and time values|\n",
    "|timedelta[ns]|NA|NA|NA|Differences between two datetimes|\n",
    "|category|NA|NA|ENUM|Finite list of text values|\n",
    "|object|str|string, unicode|NA|Text|\n",
    "|object|NA|object|NA|Mixed types|"
   ]
  },
  {
   "cell_type": "markdown",
   "id": "93ca8db1",
   "metadata": {},
   "source": [
    "[This article](https://www.dataquest.io/blog/pandas-big-data/) details how `pandas` stores different data types under the hood."
   ]
  },
  {
   "cell_type": "markdown",
   "id": "6588f272",
   "metadata": {
    "slideshow": {
     "slide_type": "slide"
    }
   },
   "source": [
    "What do you think is happening here? 🚰"
   ]
  },
  {
   "cell_type": "code",
   "execution_count": null,
   "id": "94d8f28e",
   "metadata": {},
   "outputs": [],
   "source": [
    "schools['Founded'] ** 7"
   ]
  },
  {
   "cell_type": "markdown",
   "id": "1a65af47",
   "metadata": {
    "slideshow": {
     "slide_type": "fragment"
    }
   },
   "source": [
    "Read [this article](https://mortada.net/can-integer-operations-overflow-in-python.html#Can-integers-overflow-in-python?) for a discussion of how `numpy`/`pandas` `int64` operations differ from vanilla `int` operations."
   ]
  },
  {
   "cell_type": "markdown",
   "id": "4eff27a4",
   "metadata": {
    "slideshow": {
     "slide_type": "slide"
    }
   },
   "source": [
    "### ⚠️ Warning: `numpy` and `pandas` don't always make the same decisions! "
   ]
  },
  {
   "cell_type": "markdown",
   "id": "2837f737",
   "metadata": {
    "slideshow": {
     "slide_type": "-"
    }
   },
   "source": [
    "`numpy` prefers homogenous data types to optimize memory and read/write speed. This leads to **type coercion**. \n",
    "\n",
    "Notice that the array created below contains only strings, even though there was an `int` in the argument list."
   ]
  },
  {
   "cell_type": "code",
   "execution_count": null,
   "id": "3220eecf",
   "metadata": {
    "scrolled": true
   },
   "outputs": [],
   "source": [
    "np.array(['a', 1])"
   ]
  },
  {
   "cell_type": "markdown",
   "id": "3b618dbd",
   "metadata": {
    "slideshow": {
     "slide_type": "slide"
    }
   },
   "source": [
    "On the other hand, `pandas` likes correctness and ease-of-use. The Series created below is of type `object`, which preserves the original data types in the argument list."
   ]
  },
  {
   "cell_type": "code",
   "execution_count": null,
   "id": "0fb25e77",
   "metadata": {},
   "outputs": [],
   "source": [
    "pd.Series(['a', 1])"
   ]
  },
  {
   "cell_type": "code",
   "execution_count": null,
   "id": "be267398",
   "metadata": {},
   "outputs": [],
   "source": [
    "pd.Series(['a', 1]).values"
   ]
  },
  {
   "cell_type": "markdown",
   "id": "b1857562",
   "metadata": {},
   "source": [
    "You can specify the data type of an array when initializing it by using the `dtype` argument."
   ]
  },
  {
   "cell_type": "code",
   "execution_count": null,
   "id": "5a9ad3fd",
   "metadata": {},
   "outputs": [],
   "source": [
    "np.array(['a', 1], dtype=object)"
   ]
  },
  {
   "cell_type": "markdown",
   "id": "b2dd819e",
   "metadata": {
    "slideshow": {
     "slide_type": "slide"
    }
   },
   "source": [
    "`pandas` does make some trade-offs for efficiency, however. For instance, a Series consisting of both `int`s and `float`s is coerced to the `float64` data type."
   ]
  },
  {
   "cell_type": "code",
   "execution_count": null,
   "id": "ffed41a8",
   "metadata": {},
   "outputs": [],
   "source": [
    "pd.Series([1, 1.0])"
   ]
  },
  {
   "cell_type": "markdown",
   "id": "fea361cc",
   "metadata": {
    "slideshow": {
     "slide_type": "slide"
    }
   },
   "source": [
    "### Type conversion\n",
    "\n",
    "You can change the data type of a Series using the `.astype` Series method.\n",
    "\n",
    "For instance, we can change the data type of the `'Enrollment'` column in `schools` to be `int64`, once we remove the commas."
   ]
  },
  {
   "cell_type": "code",
   "execution_count": null,
   "id": "4309975a",
   "metadata": {},
   "outputs": [],
   "source": [
    "schools.head()"
   ]
  },
  {
   "cell_type": "code",
   "execution_count": null,
   "id": "22c66798",
   "metadata": {},
   "outputs": [],
   "source": [
    "schools.dtypes"
   ]
  },
  {
   "cell_type": "code",
   "execution_count": null,
   "id": "ee7baecf",
   "metadata": {},
   "outputs": [],
   "source": [
    "schools['Enrollment'] = schools['Enrollment'].str.replace(',', '').astype(int)\n",
    "schools.head()"
   ]
  },
  {
   "cell_type": "code",
   "execution_count": null,
   "id": "013dc143",
   "metadata": {},
   "outputs": [],
   "source": [
    "schools.dtypes"
   ]
  },
  {
   "cell_type": "markdown",
   "id": "fcfb02e9",
   "metadata": {
    "slideshow": {
     "slide_type": "slide"
    }
   },
   "source": [
    "### Performance and memory management\n",
    "\n",
    "As we just discovered,\n",
    "* `numpy` is optimized for speed and memory consumption.\n",
    "* `pandas` makes implementation choices that: \n",
    "    - are slow and use a lot of memory, but\n",
    "    - optimize for fast code development."
   ]
  },
  {
   "cell_type": "markdown",
   "id": "a2ab52a4",
   "metadata": {
    "slideshow": {
     "slide_type": "slide"
    }
   },
   "source": [
    "To demonstrate, let's create a large array in which all of the entries are non-negative numbers less than 255, meaning that they can be represented with 8 bits (i.e. as `np.uint8`s, where the \"u\" stands for \"unsigned\")."
   ]
  },
  {
   "cell_type": "code",
   "execution_count": null,
   "id": "968aee1e",
   "metadata": {},
   "outputs": [],
   "source": [
    "data = np.random.choice(np.arange(8), 10 ** 6)"
   ]
  },
  {
   "cell_type": "markdown",
   "id": "2a8fcb7e",
   "metadata": {},
   "source": [
    "When we tell `pandas` to use a `dtype` of `uint8`, the size of the resulting DataFrame is under a megabyte."
   ]
  },
  {
   "cell_type": "code",
   "execution_count": null,
   "id": "e109c0ac",
   "metadata": {},
   "outputs": [],
   "source": [
    "ser1 = pd.Series(data, dtype=np.uint8).to_frame()\n",
    "ser1.info()"
   ]
  },
  {
   "cell_type": "markdown",
   "id": "fe61772d",
   "metadata": {
    "slideshow": {
     "slide_type": "fragment"
    }
   },
   "source": [
    "But by default, even though the numbers are only 8-bit, `pandas` uses the `int64` dtype, and the resulting DataFrame is over 7 megabytes large."
   ]
  },
  {
   "cell_type": "code",
   "execution_count": null,
   "id": "af72cf3b",
   "metadata": {},
   "outputs": [],
   "source": [
    "ser2 = pd.Series(data).to_frame()\n",
    "ser2.info()"
   ]
  },
  {
   "cell_type": "markdown",
   "id": "f3a164d0",
   "metadata": {
    "slideshow": {
     "slide_type": "slide"
    }
   },
   "source": [
    "### Aside: `std`\n",
    "\n",
    "To compute the standard deviation of a Series, we can use:\n",
    "- The `std` method.\n",
    "- The `np.std` function.\n",
    "\n",
    "Let's try both. What do you notice?"
   ]
  },
  {
   "cell_type": "code",
   "execution_count": null,
   "id": "fe68f836",
   "metadata": {},
   "outputs": [],
   "source": [
    "schools['Founded'].std()"
   ]
  },
  {
   "cell_type": "code",
   "execution_count": null,
   "id": "b6f2a9ca",
   "metadata": {},
   "outputs": [],
   "source": [
    "np.std(schools['Founded'])"
   ]
  },
  {
   "cell_type": "markdown",
   "id": "680ada7c",
   "metadata": {
    "slideshow": {
     "slide_type": "slide"
    }
   },
   "source": [
    "### Aside: `std`\n",
    "\n",
    "The two methods/functions use different _degrees of freedom_ (`ddof`) by default.\n",
    "\n",
    "- The `std` method in `pandas` uses `ddof=1` by default (sometimes called the \"sample\" standard deviation):\n",
    "\n",
    "$$\\text{SD} = \\sqrt{\\frac{\\sum_{i = 1}^n (x_i - \\bar{x})^2}{n - 1}}$$\n",
    "\n",
    "- The `np.std` method in `numpy` uses `ddof=0` by default (sometimes called the \"population\" standard deviation):\n",
    "\n",
    "$$\\text{SD} = \\sqrt{\\frac{\\sum_{i = 1}^n (x_i - \\bar{x})^2}{n}}$$\n",
    "\n",
    "Be careful!"
   ]
  },
  {
   "cell_type": "code",
   "execution_count": null,
   "id": "cf61123d",
   "metadata": {},
   "outputs": [],
   "source": [
    "schools['Founded'].std()"
   ]
  },
  {
   "cell_type": "code",
   "execution_count": null,
   "id": "396877fa",
   "metadata": {},
   "outputs": [],
   "source": [
    "schools['Founded'].std(ddof=1)"
   ]
  },
  {
   "cell_type": "code",
   "execution_count": null,
   "id": "1ad1c8b9",
   "metadata": {},
   "outputs": [],
   "source": [
    "schools['Founded'].std(ddof=0)"
   ]
  },
  {
   "cell_type": "markdown",
   "id": "20997e9a",
   "metadata": {
    "slideshow": {
     "slide_type": "slide"
    }
   },
   "source": [
    "## Extra: Data cleaning and `plotly`\n",
    "\n",
    "_Note: We may not get to these slides in lecture; refer to them for extra examples._"
   ]
  },
  {
   "cell_type": "markdown",
   "id": "12d0c155",
   "metadata": {
    "slideshow": {
     "slide_type": "slide"
    }
   },
   "source": [
    "### Example: Universities in California 📚\n",
    "\n",
    "Let's return to `schools`. Towards the end of the last section, we fixed the data type of the `'Enrollment'` column to be `int64`, which means we can now perform calculations with it."
   ]
  },
  {
   "cell_type": "code",
   "execution_count": null,
   "id": "2e4f0ebf",
   "metadata": {},
   "outputs": [],
   "source": [
    "schools.head()"
   ]
  },
  {
   "cell_type": "code",
   "execution_count": null,
   "id": "d5adbc8c",
   "metadata": {},
   "outputs": [],
   "source": [
    "schools.dtypes"
   ]
  },
  {
   "cell_type": "code",
   "execution_count": null,
   "id": "a56757de",
   "metadata": {},
   "outputs": [],
   "source": [
    "schools['Enrollment'].describe()"
   ]
  },
  {
   "cell_type": "markdown",
   "id": "d0e6edc6",
   "metadata": {
    "slideshow": {
     "slide_type": "slide"
    }
   },
   "source": [
    "### Enrollment vs. year founded"
   ]
  },
  {
   "cell_type": "code",
   "execution_count": null,
   "id": "831adf9e",
   "metadata": {},
   "outputs": [],
   "source": [
    "schools.plot(kind='scatter', x='Founded', y='Enrollment', figsize=(10, 5));"
   ]
  },
  {
   "cell_type": "markdown",
   "id": "d50abf65",
   "metadata": {
    "slideshow": {
     "slide_type": "slide"
    }
   },
   "source": [
    "### `plotly`\n",
    "\n",
    "`plotly` is a plotting library that creates interactive graphs. It's not included in your `dsc80` conda environment, so you'll need to `pip install` it."
   ]
  },
  {
   "cell_type": "code",
   "execution_count": null,
   "id": "74b85e64",
   "metadata": {},
   "outputs": [],
   "source": [
    "!pip install plotly"
   ]
  },
  {
   "cell_type": "code",
   "execution_count": null,
   "id": "88d67c72",
   "metadata": {},
   "outputs": [],
   "source": [
    "import plotly.express as px"
   ]
  },
  {
   "cell_type": "markdown",
   "id": "cb9c8920",
   "metadata": {
    "slideshow": {
     "slide_type": "slide"
    }
   },
   "source": [
    "### Enrollment vs. year founded, but interactive"
   ]
  },
  {
   "cell_type": "code",
   "execution_count": null,
   "id": "4c735d13",
   "metadata": {
    "scrolled": true
   },
   "outputs": [],
   "source": [
    "px.scatter(schools, \n",
    "           x='Founded', \n",
    "           y='Enrollment', \n",
    "           hover_name='Name', \n",
    "           color=schools['Name'].str.contains('University of California')\n",
    "           )"
   ]
  },
  {
   "cell_type": "markdown",
   "id": "df582878",
   "metadata": {
    "slideshow": {
     "slide_type": "slide"
    }
   },
   "source": [
    "You can even create `plotly` plots by default by setting `pandas`' plotting backend to `plotly`:"
   ]
  },
  {
   "cell_type": "code",
   "execution_count": null,
   "id": "846aa184",
   "metadata": {},
   "outputs": [],
   "source": [
    "pd.options.plotting.backend = 'plotly'"
   ]
  },
  {
   "cell_type": "code",
   "execution_count": null,
   "id": "5557c79d",
   "metadata": {},
   "outputs": [],
   "source": [
    "schools.plot(kind='scatter', \n",
    "             x='Founded', \n",
    "             y='Enrollment', \n",
    "             hover_name='Name')"
   ]
  },
  {
   "cell_type": "markdown",
   "id": "78158504",
   "metadata": {
    "slideshow": {
     "slide_type": "slide"
    }
   },
   "source": [
    "## Summary, next time"
   ]
  },
  {
   "cell_type": "markdown",
   "id": "b89b6ab7",
   "metadata": {
    "slideshow": {
     "slide_type": "slide"
    }
   },
   "source": [
    "### Summary, next time\n",
    "\n",
    "- `pandas` relies heavily on `numpy`. An understanding of how data types work in both will allow you to write more efficient and bug-free code.\n",
    "- Series and DataFrames share many methods (refer to the [`pandas` documentation](https://pandas.pydata.org/docs/user_guide/index.html#user-guide) for more details).\n",
    "- Most `pandas` methods return copies of Series/DataFrames. Be careful when using techniques that modify values in-place.\n",
    "- Next time: `groupby` and data granularity."
   ]
  }
 ],
 "metadata": {
  "celltoolbar": "Slideshow",
  "kernelspec": {
   "display_name": "Python 3 (ipykernel)",
   "language": "python",
   "name": "python3"
  },
  "language_info": {
   "codemirror_mode": {
    "name": "ipython",
    "version": 3
   },
   "file_extension": ".py",
   "mimetype": "text/x-python",
   "name": "python",
   "nbconvert_exporter": "python",
   "pygments_lexer": "ipython3",
   "version": "3.9.6"
  },
  "livereveal": {
   "scroll": true
  },
  "rise": {
   "transition": "none"
  }
 },
 "nbformat": 4,
 "nbformat_minor": 5
}
