{
 "cells": [
  {
   "cell_type": "code",
   "execution_count": null,
   "id": "8c8a44b8",
   "metadata": {
    "slideshow": {
     "slide_type": "skip"
    }
   },
   "outputs": [],
   "source": [
    "import pandas as pd\n",
    "import numpy as np\n",
    "import os\n",
    "\n",
    "import util\n",
    "\n",
    "import plotly.express as px\n",
    "import plotly.figure_factory as ff\n",
    "pd.options.plotting.backend = 'plotly'"
   ]
  },
  {
   "cell_type": "markdown",
   "id": "6ca51859",
   "metadata": {
    "slideshow": {
     "slide_type": "slide"
    }
   },
   "source": [
    "# Lecture 14 – HTTP Basics\n",
    "\n",
    "## DSC 80, Spring 2023"
   ]
  },
  {
   "cell_type": "markdown",
   "id": "22824200",
   "metadata": {
    "slideshow": {
     "slide_type": "slide"
    }
   },
   "source": [
    "### Agenda\n",
    "\n",
    "- Recap: Imputation\n",
    "- Introduction to HTTP.\n",
    "- Making HTTP requests.\n",
    "- Data formats."
   ]
  },
  {
   "cell_type": "markdown",
   "id": "9bb32bb4",
   "metadata": {
    "slideshow": {
     "slide_type": "slide"
    }
   },
   "source": [
    "## Recap: Imputation"
   ]
  },
  {
   "cell_type": "markdown",
   "id": "7480040d",
   "metadata": {
    "slideshow": {
     "slide_type": "slide"
    }
   },
   "source": [
    "### Example: Heights 🧍📏"
   ]
  },
  {
   "cell_type": "code",
   "execution_count": null,
   "id": "166294ca",
   "metadata": {
    "slideshow": {
     "slide_type": "-"
    }
   },
   "outputs": [],
   "source": [
    "heights = pd.read_csv(os.path.join('data', 'midparent.csv'))\n",
    "heights = (\n",
    "    heights\n",
    "    .rename(columns={'childHeight': 'child', 'childNum': 'number'})\n",
    "    .drop('midparentHeight', axis=1)\n",
    ")\n",
    "heights.head()"
   ]
  },
  {
   "cell_type": "code",
   "execution_count": null,
   "id": "10442cc3",
   "metadata": {},
   "outputs": [],
   "source": [
    "np.random.seed(42) # So that we get the same results each time (for lecture).\n",
    "heights_mcar = util.make_mcar(heights, 'child', pct=0.5)\n",
    "heights_mar = util.make_mar_on_cat(heights, 'child', 'gender', pct=0.5)"
   ]
  },
  {
   "cell_type": "markdown",
   "id": "f26fa57d",
   "metadata": {
    "slideshow": {
     "slide_type": "slide"
    }
   },
   "source": [
    "### Mean imputation\n",
    "\n",
    "Suppose the `'child'` column has missing values."
   ]
  },
  {
   "cell_type": "markdown",
   "id": "c9fbcb74",
   "metadata": {
    "slideshow": {
     "slide_type": "fragment"
    }
   },
   "source": [
    "- If `'child'` is MCAR, then fill in each of the missing values using the **mean of the observed values**."
   ]
  },
  {
   "cell_type": "markdown",
   "id": "05133e27",
   "metadata": {
    "slideshow": {
     "slide_type": "fragment"
    }
   },
   "source": [
    "- If `'child'` is MAR dependent on a categorical column, then fill in each of the missing values using the **mean of the observed values in each category**. For instance, if `'child'` is MAR dependent on `'gender'`, we can fill in:\n",
    "    - missing female `'child'` heights with the observed mean for female children, and\n",
    "    - missing male `'child'` heights with the observed mean for male children."
   ]
  },
  {
   "cell_type": "markdown",
   "id": "eb189e6c",
   "metadata": {
    "slideshow": {
     "slide_type": "fragment"
    }
   },
   "source": [
    "- If `'child'` is MAR dependent on a numerical column, then **bin the numerical column to make it categorical**, then follow the procedure above. See Lab 5, Question 5!"
   ]
  },
  {
   "cell_type": "markdown",
   "id": "4b3824a9",
   "metadata": {
    "slideshow": {
     "slide_type": "fragment"
    }
   },
   "source": [
    "- Mean imputation, when done correctly, creates a distribution whose mean is an unbiased estimate of the true distribution's mean, but whose variance is **an underestimate** of the true variance."
   ]
  },
  {
   "cell_type": "markdown",
   "id": "bfa2e9b1",
   "metadata": {
    "slideshow": {
     "slide_type": "slide"
    }
   },
   "source": [
    "### Conditional mean imputation of MAR data"
   ]
  },
  {
   "cell_type": "code",
   "execution_count": null,
   "id": "1518dae3",
   "metadata": {
    "scrolled": false
   },
   "outputs": [],
   "source": [
    "def mean_impute(ser):\n",
    "    return ser.fillna(ser.mean())\n",
    "\n",
    "heights_mar_cond = heights_mar.groupby('gender')['child'].transform(mean_impute).to_frame() # Conditional mean imputation (good, since MAR).\n",
    "heights_mar_mfilled = heights_mar.fillna(heights_mar['child'].mean()) # Single mean imputation (bad, since MAR).\n",
    "\n",
    "df_map = {'Original': heights, 'MAR, Unfilled': heights_mar, \n",
    "          'MAR, Mean Imputed': heights_mar_mfilled, 'MAR, Conditional Mean Imputed': heights_mar_cond}\n",
    "\n",
    "util.multiple_kdes(df_map)"
   ]
  },
  {
   "cell_type": "markdown",
   "id": "98efadae",
   "metadata": {
    "slideshow": {
     "slide_type": "fragment"
    }
   },
   "source": [
    "The <span style='color:rgb(231,41,138)'><b>pink distribution (conditional mean imputation)</b></span> does a better job of approximating the <span style='color:rgb(27,158,119)'><b>turquoise distribution (the full dataset with no missing values)</b></span> than the <span style='color:rgb(117,112,179)'><b>purple distribution (single mean imputation)</b></span>."
   ]
  },
  {
   "cell_type": "markdown",
   "id": "88817e73",
   "metadata": {
    "slideshow": {
     "slide_type": "slide"
    }
   },
   "source": [
    "### Probabilistic imputation\n",
    "\n",
    "Suppose the `'child'` column has missing values."
   ]
  },
  {
   "cell_type": "markdown",
   "id": "f35a50a0",
   "metadata": {
    "slideshow": {
     "slide_type": "fragment"
    }
   },
   "source": [
    "- If `'child'` is MCAR, then fill in each of the missing values with **randomly selected observed `'child'` heights**.\n",
    "    - For instance, if there are 5 missing `'child'` values, pick 5 of the not-missing `'child'` values."
   ]
  },
  {
   "cell_type": "markdown",
   "id": "04ebb93d",
   "metadata": {
    "slideshow": {
     "slide_type": "fragment"
    }
   },
   "source": [
    "- If `'child'` is MAR dependent on a categorical column, sample from the observed values separately for each category."
   ]
  },
  {
   "cell_type": "markdown",
   "id": "fecf8b53",
   "metadata": {
    "slideshow": {
     "slide_type": "slide"
    }
   },
   "source": [
    "### Conditional probabilistic imputation of MAR data"
   ]
  },
  {
   "cell_type": "code",
   "execution_count": null,
   "id": "b1726da7",
   "metadata": {},
   "outputs": [],
   "source": [
    "def create_imputed(col):\n",
    "    col = col.copy()\n",
    "    \n",
    "    # Find the number of missing child heights for that gender.\n",
    "    num_null = col.isna().sum()\n",
    "    \n",
    "    # Sample num_null observed child heights for that gender.\n",
    "    fill_values = np.random.choice(col.dropna(), num_null)\n",
    "    \n",
    "    # Fill in missing values and return ser.\n",
    "    col[col.isna()] = fill_values\n",
    "    return col"
   ]
  },
  {
   "cell_type": "markdown",
   "id": "9ca7799e",
   "metadata": {
    "slideshow": {
     "slide_type": "fragment"
    }
   },
   "source": [
    "Let's use `transform` to call `create_imputed` separately on each `'gender'`."
   ]
  },
  {
   "cell_type": "code",
   "execution_count": null,
   "id": "298b4285",
   "metadata": {},
   "outputs": [],
   "source": [
    "heights_mar_pfilled = heights_mar.copy()\n",
    "heights_mar_pfilled['child'] = heights_mar.groupby('gender')['child'].transform(create_imputed)\n",
    "heights_mar_pfilled['child'].head()"
   ]
  },
  {
   "cell_type": "code",
   "execution_count": null,
   "id": "1ba3ed9f",
   "metadata": {
    "slideshow": {
     "slide_type": "slide"
    }
   },
   "outputs": [],
   "source": [
    "df_map['MAR, Conditionally Probabilistically Imputed'] = heights_mar_pfilled\n",
    "util.multiple_kdes(df_map)"
   ]
  },
  {
   "cell_type": "markdown",
   "id": "ecca22b0",
   "metadata": {
    "slideshow": {
     "slide_type": "fragment"
    }
   },
   "source": [
    "The <span style='color:rgb(102,166,30)'><b>green distribution (conditional probabilistic imputation)</b></span> does the best job of approximating the <span style='color:rgb(27,158,119)'><b>turquoise distribution (the full dataset with no missing values)</b></span>!\n",
    "\n",
    "_Remember that the graph above is interactive – you can hide/show lines by clicking them in the legend._"
   ]
  },
  {
   "cell_type": "markdown",
   "id": "dd86e579",
   "metadata": {
    "slideshow": {
     "slide_type": "slide"
    }
   },
   "source": [
    "### Randomness"
   ]
  },
  {
   "cell_type": "markdown",
   "id": "c6e75bb7",
   "metadata": {
    "slideshow": {
     "slide_type": "fragment"
    }
   },
   "source": [
    "- Unlike mean imputation, probabilistic imputation is **random** – each time you run the cell in which imputation is performed, the results could be different."
   ]
  },
  {
   "cell_type": "markdown",
   "id": "1e8da02e",
   "metadata": {
    "slideshow": {
     "slide_type": "fragment"
    }
   },
   "source": [
    "- If we're interested in estimating some population **parameter** given our (incomplete) sample, it's best not to rely on just a single random imputation."
   ]
  },
  {
   "cell_type": "markdown",
   "id": "be9b96e8",
   "metadata": {
    "slideshow": {
     "slide_type": "fragment"
    }
   },
   "source": [
    "- **Multiple imputation**: Generate multiple imputed datasets and aggregate the results!\n",
    "    - Similar to bootstrapping."
   ]
  },
  {
   "cell_type": "markdown",
   "id": "b893a4ba",
   "metadata": {
    "slideshow": {
     "slide_type": "slide"
    }
   },
   "source": [
    "### Multiple imputation of MCAR data\n",
    "\n",
    "Steps:"
   ]
  },
  {
   "cell_type": "markdown",
   "id": "4140bd05",
   "metadata": {
    "slideshow": {
     "slide_type": "fragment"
    }
   },
   "source": [
    "0. Start with observed and incomplete data. "
   ]
  },
  {
   "cell_type": "markdown",
   "id": "84cc6a7d",
   "metadata": {
    "slideshow": {
     "slide_type": "fragment"
    }
   },
   "source": [
    "1. Create $m$ **imputed** versions of the data through a probabilistic procedure.\n",
    "    - The imputed datasets are identical for the observed data entries.\n",
    "    - They differ in the imputed values. \n",
    "    - The differences reflect our **uncertainty** about what value to impute."
   ]
  },
  {
   "cell_type": "markdown",
   "id": "21e5f771",
   "metadata": {
    "slideshow": {
     "slide_type": "fragment"
    }
   },
   "source": [
    "2. Then, compute parameter estimates on **each** imputed dataset.\n",
    "    - For instance, the mean, standard deviation, median, etc."
   ]
  },
  {
   "cell_type": "markdown",
   "id": "8394c967",
   "metadata": {
    "slideshow": {
     "slide_type": "fragment"
    }
   },
   "source": [
    "3. Finally, pool the $m$ parameter estimates into one estimate."
   ]
  },
  {
   "cell_type": "markdown",
   "id": "5230ef90",
   "metadata": {
    "slideshow": {
     "slide_type": "slide"
    }
   },
   "source": [
    "### Multiple imputation of MCAR data\n",
    "\n",
    "Let's try this procedure out on the `heights_mcar` dataset."
   ]
  },
  {
   "cell_type": "code",
   "execution_count": null,
   "id": "e59d0d8e",
   "metadata": {},
   "outputs": [],
   "source": [
    "heights_mcar.head()"
   ]
  },
  {
   "cell_type": "markdown",
   "id": "fccab364",
   "metadata": {},
   "source": [
    " Each time we run the following cell, it generates a new imputed version of the `'child'` column."
   ]
  },
  {
   "cell_type": "code",
   "execution_count": null,
   "id": "6c3150a2",
   "metadata": {},
   "outputs": [],
   "source": [
    "create_imputed(heights_mcar['child']).head()"
   ]
  },
  {
   "cell_type": "markdown",
   "id": "13eff734",
   "metadata": {},
   "source": [
    "Let's run the above procedure 100 times."
   ]
  },
  {
   "cell_type": "code",
   "execution_count": null,
   "id": "a6846822",
   "metadata": {},
   "outputs": [],
   "source": [
    "mult_imp = pd.concat([create_imputed(heights_mcar['child']).rename(k) for k in range(100)], axis=1)\n",
    "mult_imp.head()"
   ]
  },
  {
   "cell_type": "markdown",
   "id": "890eb62b",
   "metadata": {
    "slideshow": {
     "slide_type": "slide"
    }
   },
   "source": [
    "Let's plot some of the imputed columns on the previous slide."
   ]
  },
  {
   "cell_type": "code",
   "execution_count": null,
   "id": "be635de5",
   "metadata": {},
   "outputs": [],
   "source": [
    "# Random sample of 15 imputed columns.\n",
    "mult_imp_sample = mult_imp.sample(15, axis=1)\n",
    "fig = ff.create_distplot(mult_imp_sample.to_numpy().T, list(mult_imp_sample.columns), show_hist=False, show_rug=False)\n",
    "fig.update_xaxes(title='child')"
   ]
  },
  {
   "cell_type": "markdown",
   "id": "41d462c8",
   "metadata": {
    "slideshow": {
     "slide_type": "slide"
    }
   },
   "source": [
    "Let's look at the distribution of means across the imputed columns."
   ]
  },
  {
   "cell_type": "code",
   "execution_count": null,
   "id": "d4f4afe1",
   "metadata": {},
   "outputs": [],
   "source": [
    "px.histogram(pd.DataFrame(mult_imp.mean()), nbins=15, histnorm='probability',\n",
    "             title='Distribution of Imputed Sample Means')"
   ]
  },
  {
   "cell_type": "markdown",
   "id": "73f38879",
   "metadata": {
    "slideshow": {
     "slide_type": "slide"
    }
   },
   "source": [
    "### Summary of imputation techniques\n",
    "\n",
    "See the end of Lecture 13 for a detailed summary of all imputation techniques that we've seen so far."
   ]
  },
  {
   "cell_type": "markdown",
   "id": "0b0a7d54",
   "metadata": {
    "slideshow": {
     "slide_type": "slide"
    }
   },
   "source": [
    "## Introduction to HTTP\n",
    "\n",
    "The material we're covering now is _not_ on the Midterm Exam."
   ]
  },
  {
   "cell_type": "markdown",
   "id": "9e1a2732",
   "metadata": {
    "slideshow": {
     "slide_type": "slide"
    }
   },
   "source": [
    "<center><img src=\"imgs/DSLC.png\" width=\"40%\"></center>"
   ]
  },
  {
   "cell_type": "markdown",
   "id": "62270a93",
   "metadata": {
    "slideshow": {
     "slide_type": "slide"
    }
   },
   "source": [
    "### Data sources"
   ]
  },
  {
   "cell_type": "markdown",
   "id": "2e64cbba",
   "metadata": {
    "slideshow": {
     "slide_type": "fragment"
    }
   },
   "source": [
    "* Often, the data you need doesn't exist in \"clean\" `.csv` files."
   ]
  },
  {
   "cell_type": "markdown",
   "id": "46b1c140",
   "metadata": {
    "slideshow": {
     "slide_type": "fragment"
    }
   },
   "source": [
    "* **Solution:** Collect your own data!\n",
    "    - Design and administer your own survey or run an experiment.\n",
    "    - Find related data on the internet."
   ]
  },
  {
   "cell_type": "markdown",
   "id": "d2b57141",
   "metadata": {
    "slideshow": {
     "slide_type": "fragment"
    }
   },
   "source": [
    "- The internet contains **massive** amounts of historical record; for most questions you can think of, the answer exists somewhere on the internet."
   ]
  },
  {
   "cell_type": "markdown",
   "id": "ff801f12",
   "metadata": {
    "slideshow": {
     "slide_type": "slide"
    }
   },
   "source": [
    "### Collecting data from the internet"
   ]
  },
  {
   "cell_type": "markdown",
   "id": "76594f73",
   "metadata": {
    "slideshow": {
     "slide_type": "fragment"
    }
   },
   "source": [
    "- There are two ways to programmatically access data on the internet:\n",
    "    - through an API.\n",
    "    - by scraping."
   ]
  },
  {
   "cell_type": "markdown",
   "id": "f991f72f",
   "metadata": {
    "slideshow": {
     "slide_type": "fragment"
    }
   },
   "source": [
    "- We will discuss the differences between both approaches next lecture, but for now, the important part is that they **both use HTTP**."
   ]
  },
  {
   "cell_type": "markdown",
   "id": "d51a660f",
   "metadata": {
    "slideshow": {
     "slide_type": "slide"
    }
   },
   "source": [
    "### HTTP"
   ]
  },
  {
   "cell_type": "markdown",
   "id": "005a0fc3",
   "metadata": {
    "slideshow": {
     "slide_type": "fragment"
    }
   },
   "source": [
    "- HTTP stands for **Hypertext Transfer Protocol**.\n",
    "    - It was developed in 1989 by Tim Berners-Lee (and friends)."
   ]
  },
  {
   "cell_type": "markdown",
   "id": "9fb42973",
   "metadata": {
    "slideshow": {
     "slide_type": "fragment"
    }
   },
   "source": [
    "- It is a **request-response** protocol.\n",
    "    - Protocol = set of rules."
   ]
  },
  {
   "cell_type": "markdown",
   "id": "ad4d1a77",
   "metadata": {
    "slideshow": {
     "slide_type": "fragment"
    }
   },
   "source": [
    "- HTTP allows...\n",
    "    - computers to talk to each other over a network.\n",
    "    - devices to fetch data from \"web servers\"."
   ]
  },
  {
   "cell_type": "markdown",
   "id": "db6ec30e",
   "metadata": {
    "slideshow": {
     "slide_type": "fragment"
    }
   },
   "source": [
    "- The \"S\" in HTTPS stands for \"secure\"."
   ]
  },
  {
   "cell_type": "markdown",
   "id": "f5425cec",
   "metadata": {
    "slideshow": {
     "slide_type": "slide"
    }
   },
   "source": [
    "<center><img src='imgs/ucsd.png' width=750></center>\n",
    "\n",
    "UCSD was a node in ARPANET, the predecessor to the modern internet ([source](https://en.wikipedia.org/wiki/ARPANET#/media/File:Arpanet_map_1973.jpg/))."
   ]
  },
  {
   "cell_type": "markdown",
   "id": "a2dda4ff",
   "metadata": {
    "slideshow": {
     "slide_type": "slide"
    }
   },
   "source": [
    "### The request-response model\n",
    "\n",
    "HTTP follows the **request-response** model.\n",
    "\n",
    "<center><img src='imgs/req-response.png' width=600></center>"
   ]
  },
  {
   "cell_type": "markdown",
   "id": "347d4258",
   "metadata": {
    "slideshow": {
     "slide_type": "fragment"
    }
   },
   "source": [
    "- A **request** is made by the **client**."
   ]
  },
  {
   "cell_type": "markdown",
   "id": "35ba88ec",
   "metadata": {
    "slideshow": {
     "slide_type": "fragment"
    }
   },
   "source": [
    "- A **response** is returned by the **server**."
   ]
  },
  {
   "cell_type": "markdown",
   "id": "221b48f5",
   "metadata": {
    "slideshow": {
     "slide_type": "fragment"
    }
   },
   "source": [
    "- **Example:** YouTube 🎥.\n",
    "    - Your phone's web browser, a **client**, makes an HTTP **request** to view a video.\n",
    "    - The **server**, YouTube, is a computer that is sitting somewhere else.\n",
    "    - The server returns a **response** that contains the video."
   ]
  },
  {
   "cell_type": "markdown",
   "id": "729671b6",
   "metadata": {
    "slideshow": {
     "slide_type": "slide"
    }
   },
   "source": [
    "### Request methods\n",
    "\n",
    "The request methods you will use most often are `GET` and `POST`; see [Mozilla's web docs](https://developer.mozilla.org/en-US/docs/Web/HTTP/Methods) for a detailed list of request methods.    "
   ]
  },
  {
   "cell_type": "markdown",
   "id": "338b8aae",
   "metadata": {
    "slideshow": {
     "slide_type": "fragment"
    }
   },
   "source": [
    "- `GET` is used to request data **from** a specified resource."
   ]
  },
  {
   "cell_type": "markdown",
   "id": "4ea5031a",
   "metadata": {
    "slideshow": {
     "slide_type": "fragment"
    }
   },
   "source": [
    "- `POST` is used to **send** data to the server. \n",
    "    - e.g. uploading a photo to Instagram or entering credit card information on Amazon."
   ]
  },
  {
   "cell_type": "markdown",
   "id": "bcc2a6ab",
   "metadata": {
    "slideshow": {
     "slide_type": "slide"
    }
   },
   "source": [
    "### Example `GET` request\n",
    "\n",
    "Below is an example `GET` HTTP request made by a browser when accessing [datascience.ucsd.edu](https://datascience.ucsd.edu).\n",
    "\n",
    "```HTTP\n",
    "GET / HTTP/1.1\n",
    "Host: datascience.ucsd.edu\n",
    "User-Agent: Mozilla/5.0 (Macintosh; Intel Mac OS X 10_15_7) AppleWebKit/537.36 (KHTML, like Gecko) Chrome/100.0.4896.127 Safari/537.36\n",
    "Connection: keep-alive\n",
    "Accept-Language: en-US,en;q=0.9\n",
    "```"
   ]
  },
  {
   "cell_type": "markdown",
   "id": "e942817d",
   "metadata": {
    "slideshow": {
     "slide_type": "fragment"
    }
   },
   "source": [
    "- The first line (`GET / HTTP/1.1`) is called the \"request line\", and the lines afterwards are called \"header fields\". Header fields contain metadata. "
   ]
  },
  {
   "cell_type": "markdown",
   "id": "6e6dfff8",
   "metadata": {
    "slideshow": {
     "slide_type": "fragment"
    }
   },
   "source": [
    "- We _could_ also provide a \"body\" after the header fields."
   ]
  },
  {
   "cell_type": "markdown",
   "id": "944b582e",
   "metadata": {
    "slideshow": {
     "slide_type": "fragment"
    }
   },
   "source": [
    "- To see HTTP requests in Google Chrome, follow [these steps](https://mkyong.com/computer-tips/how-to-view-http-headers-in-google-chrome/)."
   ]
  },
  {
   "cell_type": "markdown",
   "id": "5546a534",
   "metadata": {
    "slideshow": {
     "slide_type": "slide"
    }
   },
   "source": [
    "### Example `GET` response\n",
    "\n",
    "The response below was generated by executing the request on the previous slide.\n",
    "\n",
    "```HTTP\n",
    "HTTP/1.1 200 OK\n",
    "Date: Fri, 29 Apr 2022 02:54:41 GMT\n",
    "Server: Apache\n",
    "Link: <https://datascience.ucsd.edu/wp-json/>; rel=\"https://api.w.org/\"\n",
    "Link: <https://datascience.ucsd.edu/wp-json/wp/v2/pages/2427>; rel=\"alternate\"; type=\"application/json\"\n",
    "Link: <https://datascience.ucsd.edu/>; rel=shortlink\n",
    "Content-Type: text/html; charset=UTF-8\n",
    "\n",
    "<!DOCTYPE html>\n",
    "<html lang=\"en-US\">\n",
    "<head>\n",
    "\t<meta charset=\"UTF-8\">\n",
    "\t<link rel=\"profile\" href=\"https://gmpg.org/xfn/11\">\n",
    "\t<style media=\"all\">img.wp-smiley,img.emoji{display:inline !important;border:none\n",
    "...\n",
    "```"
   ]
  },
  {
   "cell_type": "markdown",
   "id": "e5c9eb92",
   "metadata": {
    "slideshow": {
     "slide_type": "slide"
    }
   },
   "source": [
    "### Consequences of the request-response model"
   ]
  },
  {
   "cell_type": "markdown",
   "id": "5d4c6b4a",
   "metadata": {
    "slideshow": {
     "slide_type": "fragment"
    }
   },
   "source": [
    "- When a request is sent to view content on a webpage, the server must:\n",
    "    - process your request (i.e. prepare data for the response).\n",
    "    - send content back to the client in its response."
   ]
  },
  {
   "cell_type": "markdown",
   "id": "41ca8f2a",
   "metadata": {
    "slideshow": {
     "slide_type": "fragment"
    }
   },
   "source": [
    "- Remember, servers are computers. \n",
    "    - Someone has to pay to keep these computers running.\n",
    "    - **This means that every time you access a website, someone has to pay.**"
   ]
  },
  {
   "cell_type": "markdown",
   "id": "fb62fe86",
   "metadata": {
    "slideshow": {
     "slide_type": "slide"
    }
   },
   "source": [
    "### Example: [istheshipstuck.com](https://istheshipstillstuck.com)\n",
    "\n",
    "<center><img src='imgs/ships.png' width=35%></center>\n",
    "\n",
    "Read [_Inside a viral website_](https://notfunatparties.substack.com/p/inside-a-viral-website), an account of what it's like to run a site that gained 50 million+ views in 5 days."
   ]
  },
  {
   "cell_type": "markdown",
   "id": "9595b0c3",
   "metadata": {
    "slideshow": {
     "slide_type": "slide"
    }
   },
   "source": [
    "## Making HTTP requests"
   ]
  },
  {
   "cell_type": "markdown",
   "id": "00a3e380",
   "metadata": {
    "slideshow": {
     "slide_type": "slide"
    }
   },
   "source": [
    "### Making HTTP requests\n",
    "\n",
    "We'll see two ways to make HTTP requests outside of a browser:"
   ]
  },
  {
   "cell_type": "markdown",
   "id": "f2eff248",
   "metadata": {
    "slideshow": {
     "slide_type": "fragment"
    }
   },
   "source": [
    "- From the command line, with `curl`."
   ]
  },
  {
   "cell_type": "markdown",
   "id": "0370de40",
   "metadata": {
    "slideshow": {
     "slide_type": "fragment"
    }
   },
   "source": [
    "- **From Python, with the `requests` package.**"
   ]
  },
  {
   "cell_type": "markdown",
   "id": "45ea0a0a",
   "metadata": {
    "slideshow": {
     "slide_type": "slide"
    }
   },
   "source": [
    "### Making HTTP requests using `curl`\n",
    "\n",
    "[`curl`](https://curl.haxx.se/docs/httpscripting.html) is a **command-line tool** that sends HTTP requests, like a browser.\n",
    "\n",
    "1. The client, `curl`, sends a HTTP request. \n",
    "2. The request contains a method (e.g. `GET` or `POST`).\n",
    "3. The HTTP server responds with:\n",
    "    - a status line, indicating if things went well, \n",
    "    - response headers, and\n",
    "    - (usually) a response body, containing the requested data."
   ]
  },
  {
   "cell_type": "markdown",
   "id": "514d9b12",
   "metadata": {
    "slideshow": {
     "slide_type": "slide"
    }
   },
   "source": [
    "### Example: `GET` requests via `curl`"
   ]
  },
  {
   "cell_type": "markdown",
   "id": "9466dfb8",
   "metadata": {
    "slideshow": {
     "slide_type": "fragment"
    }
   },
   "source": [
    "- By default, `curl` issues a `GET` request."
   ]
  },
  {
   "cell_type": "markdown",
   "id": "51dd1706",
   "metadata": {
    "slideshow": {
     "slide_type": "fragment"
    }
   },
   "source": [
    "```zsh\n",
    "# `-v` is short for verbose\n",
    "curl -v https://httpbin.org/html \n",
    "```"
   ]
  },
  {
   "cell_type": "markdown",
   "id": "ae9aee16",
   "metadata": {
    "slideshow": {
     "slide_type": "fragment"
    }
   },
   "source": [
    "- Remember, you can run command-line commands in a Jupyter Notebook by placing a `!` before them. Let's try that here."
   ]
  },
  {
   "cell_type": "code",
   "execution_count": null,
   "id": "93674d90",
   "metadata": {},
   "outputs": [],
   "source": [
    "# Compare the output to what you see when you go to https://httpbin.org/html in your browser!\n",
    "!curl -v https://httpbin.org/html"
   ]
  },
  {
   "cell_type": "markdown",
   "id": "5cfac241",
   "metadata": {
    "slideshow": {
     "slide_type": "slide"
    }
   },
   "source": [
    "### Queries in a `GET` request"
   ]
  },
  {
   "cell_type": "markdown",
   "id": "ae01b2c5",
   "metadata": {
    "slideshow": {
     "slide_type": "fragment"
    }
   },
   "source": [
    "- In order to request more specific information, we can include a **query string** in the URL. `?` begins a query."
   ]
  },
  {
   "cell_type": "markdown",
   "id": "03abfcbf",
   "metadata": {
    "slideshow": {
     "slide_type": "fragment"
    }
   },
   "source": [
    "<a href=\"https://www.google.com/search?q=ucsd+dsc+80+hard&client=safari\"><pre>\n",
    "https://www.google.com/search?q=ucsd+dsc+80+hard&client=safari\n",
    "</pre></a>"
   ]
  },
  {
   "cell_type": "markdown",
   "id": "f5789938",
   "metadata": {
    "slideshow": {
     "slide_type": "fragment"
    }
   },
   "source": [
    "- This method works well when sending small amounts of data; we will use a similiar technique when working with APIs next lecture."
   ]
  },
  {
   "cell_type": "markdown",
   "id": "62b7c2e6",
   "metadata": {
    "slideshow": {
     "slide_type": "fragment"
    }
   },
   "source": [
    "- Be on the lookout for query strings in URLs you share on social media!"
   ]
  },
  {
   "cell_type": "markdown",
   "id": "5c0bd625",
   "metadata": {
    "slideshow": {
     "slide_type": "slide"
    }
   },
   "source": [
    "### Making HTTP requests using `requests`\n",
    "\n",
    "- `requests` is a Python module that allows you to use Python to interact with the internet!  \n",
    "- There are other packages that work similarly (e.g. `urllib`), but `requests` is arguably the easiest to use."
   ]
  },
  {
   "cell_type": "code",
   "execution_count": null,
   "id": "d79da8ad",
   "metadata": {},
   "outputs": [],
   "source": [
    "import requests"
   ]
  },
  {
   "cell_type": "markdown",
   "id": "fa03e447",
   "metadata": {
    "slideshow": {
     "slide_type": "slide"
    }
   },
   "source": [
    "### Example: `GET` requests via `requests`\n",
    "\n",
    "To access the source code of the UCSD home page, all we need to run is the following:\n",
    "\n",
    "```py\n",
    "requests.get('https://ucsd.edu').text\n",
    "```"
   ]
  },
  {
   "cell_type": "code",
   "execution_count": null,
   "id": "a03b40f2",
   "metadata": {},
   "outputs": [],
   "source": [
    "res = requests.get('https://ucsd.edu')"
   ]
  },
  {
   "cell_type": "markdown",
   "id": "17f3fe8e",
   "metadata": {
    "slideshow": {
     "slide_type": "fragment"
    }
   },
   "source": [
    "`res` is now a `Response` object."
   ]
  },
  {
   "cell_type": "code",
   "execution_count": null,
   "id": "f314829f",
   "metadata": {},
   "outputs": [],
   "source": [
    "res"
   ]
  },
  {
   "cell_type": "markdown",
   "id": "b3b1def6",
   "metadata": {
    "slideshow": {
     "slide_type": "fragment"
    }
   },
   "source": [
    "The `text` attribute of `res` is a string that containing the entire response."
   ]
  },
  {
   "cell_type": "code",
   "execution_count": null,
   "id": "527ca37e",
   "metadata": {},
   "outputs": [],
   "source": [
    "type(res.text)"
   ]
  },
  {
   "cell_type": "code",
   "execution_count": null,
   "id": "024fe0e1",
   "metadata": {},
   "outputs": [],
   "source": [
    "len(res.text)"
   ]
  },
  {
   "cell_type": "code",
   "execution_count": null,
   "id": "2b792ad1",
   "metadata": {},
   "outputs": [],
   "source": [
    "print(res.text[:1000])"
   ]
  },
  {
   "cell_type": "markdown",
   "id": "b812c6fd",
   "metadata": {
    "slideshow": {
     "slide_type": "slide"
    }
   },
   "source": [
    "### Example: `POST` requests via `requests`\n",
    "\n",
    "The following call to `requests.post` makes a post request to https://httpbin.org/post, with a `'name'` parameter of `'King Triton'`."
   ]
  },
  {
   "cell_type": "code",
   "execution_count": null,
   "id": "b6522677",
   "metadata": {},
   "outputs": [],
   "source": [
    "post_res = requests.post('https://httpbin.org/post',\n",
    "                         data={'name': 'King Triton'})\n",
    "\n",
    "post_res"
   ]
  },
  {
   "cell_type": "code",
   "execution_count": null,
   "id": "c8fc5dc1",
   "metadata": {
    "scrolled": true
   },
   "outputs": [],
   "source": [
    "post_res.text"
   ]
  },
  {
   "cell_type": "code",
   "execution_count": null,
   "id": "6c289e1a",
   "metadata": {
    "slideshow": {
     "slide_type": "fragment"
    }
   },
   "outputs": [],
   "source": [
    "# More on this shortly!\n",
    "post_res.json()"
   ]
  },
  {
   "cell_type": "markdown",
   "id": "e3d264eb",
   "metadata": {
    "slideshow": {
     "slide_type": "slide"
    }
   },
   "source": [
    "What happens when we try and make a `POST` request somewhere where we're unable to?"
   ]
  },
  {
   "cell_type": "code",
   "execution_count": null,
   "id": "f0d389b8",
   "metadata": {},
   "outputs": [],
   "source": [
    "yt_res = requests.post('https://youtube.com',\n",
    "                       data={'name': 'King Triton'})\n",
    "\n",
    "yt_res"
   ]
  },
  {
   "cell_type": "markdown",
   "id": "c0e99fa7",
   "metadata": {
    "slideshow": {
     "slide_type": "fragment"
    }
   },
   "source": [
    "`yt_res.text` is a string containing HTML – we can render this in-line using `IPython.display.HTML`."
   ]
  },
  {
   "cell_type": "code",
   "execution_count": null,
   "id": "c91edd27",
   "metadata": {},
   "outputs": [],
   "source": [
    "from IPython.display import HTML"
   ]
  },
  {
   "cell_type": "code",
   "execution_count": null,
   "id": "ec9c5220",
   "metadata": {
    "scrolled": false
   },
   "outputs": [],
   "source": [
    "HTML(yt_res.text)"
   ]
  },
  {
   "cell_type": "markdown",
   "id": "c28709d4",
   "metadata": {
    "slideshow": {
     "slide_type": "slide"
    }
   },
   "source": [
    "### HTTP status codes"
   ]
  },
  {
   "cell_type": "markdown",
   "id": "37bea987",
   "metadata": {
    "slideshow": {
     "slide_type": "fragment"
    }
   },
   "source": [
    "- When we **request** data from a website, the server includes an **HTTP status code** in the response.  "
   ]
  },
  {
   "cell_type": "markdown",
   "id": "8b05503d",
   "metadata": {
    "slideshow": {
     "slide_type": "fragment"
    }
   },
   "source": [
    "* The most common status code is `200`, which means there were no issues.  "
   ]
  },
  {
   "cell_type": "markdown",
   "id": "0d3e5caa",
   "metadata": {
    "slideshow": {
     "slide_type": "fragment"
    }
   },
   "source": [
    "* Other times, you will see a different status code, describing some sort of event or error.\n",
    "    - Common examples: `400` – bad request, `404` – page not found, `500` – internal server error.\n",
    "    - [The first digit of a status describes its general \"category\".](https://developer.mozilla.org/en-US/docs/Web/HTTP/Status)"
   ]
  },
  {
   "cell_type": "markdown",
   "id": "de58497b",
   "metadata": {
    "slideshow": {
     "slide_type": "fragment"
    }
   },
   "source": [
    "- See [https://httpstat.us](https://httpstat.us/) for a list of all HTTP status codes.\n",
    "    - It also has example sites for each status code; for example, https://httpstat.us/404 returns a `404`."
   ]
  },
  {
   "cell_type": "code",
   "execution_count": null,
   "id": "72ccc861",
   "metadata": {},
   "outputs": [],
   "source": [
    "yt_res.status_code"
   ]
  },
  {
   "cell_type": "markdown",
   "id": "d0576fcf",
   "metadata": {
    "slideshow": {
     "slide_type": "slide"
    }
   },
   "source": [
    "### Successful requests ✅"
   ]
  },
  {
   "cell_type": "markdown",
   "id": "4e5dcabd",
   "metadata": {
    "slideshow": {
     "slide_type": "fragment"
    }
   },
   "source": [
    "- You can check if a request was successful using the `ok` attribute, which returns a bool.\n",
    "    - If a status is in the 200s, then it is successful."
   ]
  },
  {
   "cell_type": "code",
   "execution_count": null,
   "id": "8b512fde",
   "metadata": {
    "slideshow": {
     "slide_type": "fragment"
    }
   },
   "outputs": [],
   "source": [
    "yt_res.status_code, yt_res.ok"
   ]
  },
  {
   "cell_type": "code",
   "execution_count": null,
   "id": "e30602d4",
   "metadata": {
    "slideshow": {
     "slide_type": "fragment"
    }
   },
   "outputs": [],
   "source": [
    "post_res.status_code, post_res.ok"
   ]
  },
  {
   "cell_type": "markdown",
   "id": "3ae073e2",
   "metadata": {
    "slideshow": {
     "slide_type": "fragment"
    }
   },
   "source": [
    "- Unsuccessful requests can be re-tried, depending on the issue.\n",
    "    - Wait a little, then try the request again.\n",
    "    - You can even re-try requests programmatically (e.g. using a loop). If rate of requests is too high, slow down requests between each retry (e.g. using `time.sleep`)."
   ]
  },
  {
   "cell_type": "markdown",
   "id": "333ab4bc",
   "metadata": {
    "slideshow": {
     "slide_type": "fragment"
    }
   },
   "source": [
    "- See the [course notes](https://notes.dsc80.com/content/07/requests.html#responsible-use-of-http-requests) for more examples."
   ]
  },
  {
   "cell_type": "markdown",
   "id": "9e447bab",
   "metadata": {
    "slideshow": {
     "slide_type": "slide"
    }
   },
   "source": [
    "## Data formats"
   ]
  },
  {
   "cell_type": "markdown",
   "id": "68142b5f",
   "metadata": {
    "slideshow": {
     "slide_type": "slide"
    }
   },
   "source": [
    "### The data formats of the internet\n",
    "\n",
    "Responses typically come in one of two formats: HTML or JSON."
   ]
  },
  {
   "cell_type": "markdown",
   "id": "cd5f16cc",
   "metadata": {
    "slideshow": {
     "slide_type": "fragment"
    }
   },
   "source": [
    "- The response body of a `GET` request is usually either JSON (when using an API) or HTML (when accessing a webpage)."
   ]
  },
  {
   "cell_type": "markdown",
   "id": "2f8248fa",
   "metadata": {
    "slideshow": {
     "slide_type": "fragment"
    }
   },
   "source": [
    "- The response body of a `POST` request is usually JSON."
   ]
  },
  {
   "cell_type": "markdown",
   "id": "73f8cebd",
   "metadata": {
    "slideshow": {
     "slide_type": "fragment"
    }
   },
   "source": [
    "- XML is also a common format, but not as popular as it once was."
   ]
  },
  {
   "cell_type": "markdown",
   "id": "ebf8dfb3",
   "metadata": {
    "slideshow": {
     "slide_type": "slide"
    }
   },
   "source": [
    "<center><img src='imgs/json.png' width=50%></center>"
   ]
  },
  {
   "cell_type": "markdown",
   "id": "44796fee",
   "metadata": {
    "slideshow": {
     "slide_type": "slide"
    }
   },
   "source": [
    "### JSON"
   ]
  },
  {
   "cell_type": "markdown",
   "id": "2046cb5f",
   "metadata": {
    "slideshow": {
     "slide_type": "fragment"
    }
   },
   "source": [
    "- JSON stands for **JavaScript Object Notation**. It is a lightweight format for storing and transferring data."
   ]
  },
  {
   "cell_type": "markdown",
   "id": "db2a5617",
   "metadata": {
    "slideshow": {
     "slide_type": "fragment"
    }
   },
   "source": [
    "- It is:\n",
    "    - very easy for computers to read and write.\n",
    "    - moderately easy for programmers to read and write by hand.\n",
    "    - meant to be generated and parsed."
   ]
  },
  {
   "cell_type": "markdown",
   "id": "508e3001",
   "metadata": {
    "slideshow": {
     "slide_type": "fragment"
    }
   },
   "source": [
    "- Most modern languages have an interface for working with JSON objects.\n",
    "    - JSON objects _resemble_ Python dictionaries (but are not the same!)."
   ]
  },
  {
   "cell_type": "markdown",
   "id": "ff1a792a",
   "metadata": {
    "slideshow": {
     "slide_type": "slide"
    }
   },
   "source": [
    "### JSON data types\n",
    "\n",
    "| Type | Description |\n",
    "| --- | --- |\n",
    "| String | Anything inside double quotes. |\n",
    "| Number | Any number (no difference between ints and floats). |\n",
    "| Boolean | `true` and `false`. |\n",
    "| Null | JSON's empty value, denoted by `null`. |\n",
    "| Array | Like Python lists. |\n",
    "| Object | A collection of key-value pairs, like dictionaries. Keys must be strings, values can be anything (even other objects). |\n",
    "\n",
    "See [json-schema.org](https://json-schema.org/understanding-json-schema/reference/type.html) for more details."
   ]
  },
  {
   "cell_type": "markdown",
   "id": "1e49584b",
   "metadata": {
    "slideshow": {
     "slide_type": "slide"
    }
   },
   "source": [
    "### Example JSON object\n",
    "\n",
    "See `data/family.json`.\n",
    "\n",
    "<center><img src='imgs/hierarchy.png' width=50%></center>"
   ]
  },
  {
   "cell_type": "code",
   "execution_count": null,
   "id": "0096bba7",
   "metadata": {},
   "outputs": [],
   "source": [
    "import json\n",
    "\n",
    "f = open(os.path.join('data', 'family.json'), 'r')\n",
    "family_tree = json.load(f)"
   ]
  },
  {
   "cell_type": "code",
   "execution_count": null,
   "id": "c0df56f4",
   "metadata": {},
   "outputs": [],
   "source": [
    "family_tree"
   ]
  },
  {
   "cell_type": "code",
   "execution_count": null,
   "id": "5d717b05",
   "metadata": {},
   "outputs": [],
   "source": [
    "family_tree['children'][0]['children'][0]['age']"
   ]
  },
  {
   "cell_type": "markdown",
   "id": "66c53aa4",
   "metadata": {
    "slideshow": {
     "slide_type": "slide"
    }
   },
   "source": [
    "### Aside: `eval`"
   ]
  },
  {
   "cell_type": "markdown",
   "id": "58c63e0b",
   "metadata": {
    "slideshow": {
     "slide_type": "fragment"
    }
   },
   "source": [
    "- `eval`, which stands for \"evaluate\", is a function built into Python."
   ]
  },
  {
   "cell_type": "markdown",
   "id": "7e64c348",
   "metadata": {
    "slideshow": {
     "slide_type": "fragment"
    }
   },
   "source": [
    "- It takes in a **string containing a Python expression** and evaluates it in the current context."
   ]
  },
  {
   "cell_type": "code",
   "execution_count": null,
   "id": "071fbf6b",
   "metadata": {},
   "outputs": [],
   "source": [
    "x = 4\n",
    "eval('x + 5')"
   ]
  },
  {
   "cell_type": "markdown",
   "id": "5d59ca5f",
   "metadata": {
    "slideshow": {
     "slide_type": "fragment"
    }
   },
   "source": [
    "- It seems like `eval` can do the same thing that `json.load` does..."
   ]
  },
  {
   "cell_type": "code",
   "execution_count": null,
   "id": "23909326",
   "metadata": {},
   "outputs": [],
   "source": [
    "f = open(os.path.join('data', 'family.json'), 'r')\n",
    "eval(f.read())"
   ]
  },
  {
   "cell_type": "markdown",
   "id": "c7200fc7",
   "metadata": {
    "slideshow": {
     "slide_type": "fragment"
    }
   },
   "source": [
    "- But you should **never use `eval`**. The next slide demonstrates why."
   ]
  },
  {
   "cell_type": "markdown",
   "id": "13687f1f",
   "metadata": {
    "slideshow": {
     "slide_type": "slide"
    }
   },
   "source": [
    "### `eval` gone wrong\n",
    "\n",
    "Observe what happens when we use `eval` on a string representation of a JSON object:"
   ]
  },
  {
   "cell_type": "code",
   "execution_count": null,
   "id": "0aef79df",
   "metadata": {},
   "outputs": [],
   "source": [
    "f_other = open(os.path.join('data', 'evil_family.json'))\n",
    "eval(f_other.read())"
   ]
  },
  {
   "cell_type": "markdown",
   "id": "9cf8adad",
   "metadata": {
    "slideshow": {
     "slide_type": "fragment"
    }
   },
   "source": [
    "- Oh no! Since `evil_family.json`, which could have been downloaded from the internet, contained malicious code, we now lost all of our files.\n"
   ]
  },
  {
   "cell_type": "markdown",
   "id": "c94ff043",
   "metadata": {
    "slideshow": {
     "slide_type": "fragment"
    }
   },
   "source": [
    "- This happened because `eval` **evaluates** all parts of the input string as if it were Python code."
   ]
  },
  {
   "cell_type": "markdown",
   "id": "e6f8fe3a",
   "metadata": {
    "slideshow": {
     "slide_type": "fragment"
    }
   },
   "source": [
    "- You never need to do this – instead, use the `.json()` method of a response object, or use the `json` library."
   ]
  },
  {
   "cell_type": "markdown",
   "id": "be22ed20",
   "metadata": {
    "slideshow": {
     "slide_type": "slide"
    }
   },
   "source": [
    "### Using the `json` module\n",
    "\n",
    "Let's process the same file using the `json` module. Recall:\n",
    "- `json.load(f)` loads a JSON file from a file object.\n",
    "- `json.loads(f)` loads a JSON file from a **s**tring."
   ]
  },
  {
   "cell_type": "code",
   "execution_count": null,
   "id": "8a26d63b",
   "metadata": {},
   "outputs": [],
   "source": [
    "f_other = open(os.path.join('data', 'evil_family.json'))\n",
    "s = f_other.read()\n",
    "s"
   ]
  },
  {
   "cell_type": "code",
   "execution_count": null,
   "id": "63a2329b",
   "metadata": {},
   "outputs": [],
   "source": [
    "json.loads(s)"
   ]
  },
  {
   "cell_type": "markdown",
   "id": "c544faf7",
   "metadata": {
    "slideshow": {
     "slide_type": "fragment"
    }
   },
   "source": [
    "- Since `util.err()` is not a string in JSON (there are no quotes around it), `json.loads` is not able to parse it as a JSON object."
   ]
  },
  {
   "cell_type": "markdown",
   "id": "0aabad14",
   "metadata": {
    "slideshow": {
     "slide_type": "fragment"
    }
   },
   "source": [
    "- This \"safety check\" is intentional."
   ]
  },
  {
   "cell_type": "markdown",
   "id": "bbe64ccb",
   "metadata": {
    "slideshow": {
     "slide_type": "slide"
    }
   },
   "source": [
    "### Handling _unfamiliar_ data"
   ]
  },
  {
   "cell_type": "markdown",
   "id": "6923029b",
   "metadata": {
    "slideshow": {
     "slide_type": "fragment"
    }
   },
   "source": [
    "- Never trust data from an unfamiliar site."
   ]
  },
  {
   "cell_type": "markdown",
   "id": "c173556c",
   "metadata": {
    "slideshow": {
     "slide_type": "fragment"
    }
   },
   "source": [
    "- **Never** use `eval` on \"raw\" data that you didn't create!"
   ]
  },
  {
   "cell_type": "markdown",
   "id": "74c89bb6",
   "metadata": {
    "slideshow": {
     "slide_type": "fragment"
    }
   },
   "source": [
    "- The JSON data format needs to be **parsed**, not evaluated as a dictionary.\n",
    "    - It was designed with safety in mind!"
   ]
  },
  {
   "cell_type": "markdown",
   "id": "269efd96",
   "metadata": {
    "slideshow": {
     "slide_type": "slide"
    }
   },
   "source": [
    "## Summary, next time"
   ]
  },
  {
   "cell_type": "markdown",
   "id": "ea3ab7da",
   "metadata": {
    "slideshow": {
     "slide_type": "slide"
    }
   },
   "source": [
    "### Summary\n",
    "\n",
    "- HTTP is the protocol the internet uses for transferring information.\n",
    "- Clients can make `GET` HTTP requests to ask for information and `POST` HTTP requests to send information.\n",
    "- Servers send responses with the desired information.\n",
    "- We can use `curl` in the command-line or the `requests` Python module to make HTTP requests.\n",
    "- The two main file formats used for storing information on the internet are HTML and JSON.\n",
    "    - JSON objects resemble Python dictionaries, but they are not quite the same. \n",
    "    - Use the `.json()` method of a response object or the `json` package to parse them, **not** `eval`."
   ]
  },
  {
   "cell_type": "markdown",
   "id": "0acc2e7a",
   "metadata": {
    "slideshow": {
     "slide_type": "slide"
    }
   },
   "source": [
    "### Next time\n",
    "\n",
    "- Using HTTP to make API requests and scrape the web. \n",
    "- Parsing HTML files."
   ]
  }
 ],
 "metadata": {
  "celltoolbar": "Slideshow",
  "kernelspec": {
   "display_name": "Python 3 (ipykernel)",
   "language": "python",
   "name": "python3"
  },
  "language_info": {
   "codemirror_mode": {
    "name": "ipython",
    "version": 3
   },
   "file_extension": ".py",
   "mimetype": "text/x-python",
   "name": "python",
   "nbconvert_exporter": "python",
   "pygments_lexer": "ipython3",
   "version": "3.9.6"
  },
  "livereveal": {
   "scroll": true
  },
  "rise": {
   "transition": "none"
  }
 },
 "nbformat": 4,
 "nbformat_minor": 5
}
