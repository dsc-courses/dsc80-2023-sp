{
 "cells": [
  {
   "attachments": {},
   "cell_type": "markdown",
   "id": "80daf52b",
   "metadata": {
    "deletable": false,
    "editable": false
   },
   "source": [
    "\n",
    "# Lab 8 Validation Notebook\n",
    "\n",
    "You cannot write any code in this notebook – to actually work on the lab, open `lab.py` and `lab.ipynb`.\n",
    "\n",
    "The only purpose of this notebook is to give you a blank copy of `lab.ipynb`,\n",
    "so that you can go to **Kernel > Restart & Run All** and ensure that all public `grader.check` cells pass using just the code in your `lab.py`.\n",
    "\n",
    "**Before submitting Lab 8, make sure that the call to `grader.check_all()` at the bottom of this notebook shows that all test cases passed!** \n",
    "If it doesn't, there's likely a function in `lab.ipynb` that is not implemented correctly in `lab.py`, or it could be that a function in `lab.py` depends on an object (e.g. a DataFrame) that is not an argument to that function.\n",
    "    "
   ]
  },
  {
   "cell_type": "code",
   "execution_count": null,
   "id": "49292a6f",
   "metadata": {
    "deletable": false,
    "editable": false
   },
   "outputs": [],
   "source": [
    "# Initialize Otter\n",
    "import otter\n",
    "grader = otter.Notebook(\"lab.ipynb\")"
   ]
  },
  {
   "cell_type": "code",
   "execution_count": null,
   "id": "2c57e3f8",
   "metadata": {
    "deletable": false,
    "editable": false
   },
   "outputs": [],
   "source": [
    "%load_ext autoreload\n",
    "%autoreload 2"
   ]
  },
  {
   "cell_type": "code",
   "execution_count": null,
   "id": "b50d3cf7",
   "metadata": {
    "deletable": false,
    "editable": false
   },
   "outputs": [],
   "source": [
    "from lab import *"
   ]
  },
  {
   "cell_type": "code",
   "execution_count": null,
   "id": "67ca3360",
   "metadata": {
    "deletable": false,
    "editable": false
   },
   "outputs": [],
   "source": [
    "import pandas as pd\n",
    "import numpy as np\n",
    "import plotly.express as px\n",
    "import statsmodels.api as sm\n",
    "import os\n",
    "from sklearn.preprocessing import Binarizer, QuantileTransformer, FunctionTransformer\n",
    "\n",
    "import warnings\n",
    "warnings.filterwarnings('ignore')"
   ]
  },
  {
   "cell_type": "code",
   "execution_count": null,
   "id": "fe151892",
   "metadata": {
    "deletable": false,
    "editable": false
   },
   "outputs": [],
   "source": [
    "# By setting a seed, we guarantee that we will see the same results each time we run this cell.\n",
    "np.random.seed(23)\n",
    "\n",
    "# Generates a random scatter plot\n",
    "x = np.arange(1, 101) + np.random.normal(0, 0.5, 100)\n",
    "y = 2 * ((x + np.random.normal(0, 1, 100)) ** 2) + np.abs(x) * np.random.normal(0, 30, 100)\n",
    "df_1 = pd.DataFrame().assign(x=x, y=y)\n",
    "\n",
    "px.scatter(df_1, x='x', y='y', trendline=\"ols\", trendline_color_override=\"red\")"
   ]
  },
  {
   "cell_type": "code",
   "execution_count": null,
   "id": "63745b29",
   "metadata": {
    "deletable": false,
    "editable": false
   },
   "outputs": [],
   "source": [
    "df_1['root y'] = np.sqrt(df_1['y'])\n",
    "\n",
    "px.scatter(df_1, x='x', y='root y', trendline=\"ols\", trendline_color_override=\"red\")"
   ]
  },
  {
   "cell_type": "code",
   "execution_count": null,
   "id": "a8eae329",
   "metadata": {
    "deletable": false,
    "editable": false
   },
   "outputs": [],
   "source": [
    "# By setting a seed, we guarantee that we will see the same results each time we run this cell\n",
    "np.random.seed(32)\n",
    "\n",
    "# Generates a different random scatter plot\n",
    "x = np.linspace(2, 5, 100)\n",
    "y = 10 * (np.e ** x) + np.abs(x) * np.random.normal(0, 5, 100) + np.random.normal(0, 30, 100)\n",
    "df_2 = pd.DataFrame().assign(x=x, y=y)\n",
    "\n",
    "px.scatter(df_2, x='x', y='y', trendline=\"ols\", trendline_color_override=\"red\")"
   ]
  },
  {
   "cell_type": "code",
   "execution_count": null,
   "id": "5ff2c978",
   "metadata": {
    "deletable": false,
    "editable": false
   },
   "outputs": [],
   "source": [
    "df_2['root y'] = np.sqrt(df_2['y'])\n",
    "\n",
    "px.scatter(df_2, x='x', y='root y', trendline=\"ols\", trendline_color_override=\"red\")"
   ]
  },
  {
   "cell_type": "code",
   "execution_count": null,
   "id": "a7979667",
   "metadata": {
    "deletable": false,
    "editable": false
   },
   "outputs": [],
   "source": [
    "# Feel free to use this function directly to help you answer Question 1.\n",
    "def create_residual_plot(df, x, y):\n",
    "    df = df.copy()\n",
    "    from sklearn.linear_model import LinearRegression\n",
    "    model = LinearRegression()\n",
    "    model.fit(df[[x]], df[y])\n",
    "    df[f'{y} residuals'] = df[y] - model.predict(df[[x]])\n",
    "    return px.scatter(df, x=x, y=f'{y} residuals', trendline='ols', trendline_color_override='red')\n",
    "\n",
    "create_residual_plot(df_2, 'x', 'root y')"
   ]
  },
  {
   "cell_type": "code",
   "execution_count": null,
   "id": "4d4073bc",
   "metadata": {
    "deletable": false,
    "editable": false
   },
   "outputs": [],
   "source": [
    "df_2['log y'] = np.log(df_2['y'])\n",
    "\n",
    "px.scatter(df_2, x='x', y='log y', trendline=\"ols\", trendline_color_override=\"red\")"
   ]
  },
  {
   "cell_type": "code",
   "execution_count": null,
   "id": "89a2d826",
   "metadata": {
    "deletable": false,
    "editable": false
   },
   "outputs": [],
   "source": [
    "create_residual_plot(df_2, 'x', 'log y')"
   ]
  },
  {
   "cell_type": "code",
   "execution_count": null,
   "id": "058ecb10",
   "metadata": {
    "deletable": false,
    "editable": false
   },
   "outputs": [],
   "source": [
    "homeruns_fp = os.path.join('data', 'homeruns.csv')\n",
    "homeruns = pd.read_csv(homeruns_fp)"
   ]
  },
  {
   "cell_type": "code",
   "execution_count": null,
   "id": "b87a02ff",
   "metadata": {
    "deletable": false,
    "editable": false
   },
   "outputs": [],
   "source": [
    "grader.check(\"q1\")"
   ]
  },
  {
   "cell_type": "code",
   "execution_count": null,
   "id": "7461e0de",
   "metadata": {
    "deletable": false,
    "editable": false
   },
   "outputs": [],
   "source": [
    "diamonds = pd.read_csv(os.path.join('data', 'diamonds.csv'))\n",
    "diamonds.head()"
   ]
  },
  {
   "cell_type": "code",
   "execution_count": null,
   "id": "70ba717c",
   "metadata": {
    "deletable": false,
    "editable": false
   },
   "outputs": [],
   "source": [
    "# don't change this cell, but do run it -- it is needed for the tests to work\n",
    "diamonds = pd.read_csv(os.path.join('data', 'diamonds.csv'))\n",
    "out_q2 = create_ordinal(diamonds)"
   ]
  },
  {
   "cell_type": "code",
   "execution_count": null,
   "id": "065165ba",
   "metadata": {
    "deletable": false,
    "editable": false
   },
   "outputs": [],
   "source": [
    "grader.check(\"q2\")"
   ]
  },
  {
   "cell_type": "code",
   "execution_count": null,
   "id": "5cc538ec",
   "metadata": {
    "deletable": false,
    "editable": false
   },
   "outputs": [],
   "source": [
    "# don't change this cell, but do run it -- it is needed for the tests to work\n",
    "diamonds = pd.read_csv(os.path.join('data', 'diamonds.csv'))\n",
    "out1_q3 = create_one_hot(diamonds)\n",
    "out2_q3 = create_proportions(diamonds)"
   ]
  },
  {
   "cell_type": "code",
   "execution_count": null,
   "id": "bab43d0a",
   "metadata": {
    "deletable": false,
    "editable": false
   },
   "outputs": [],
   "source": [
    "grader.check(\"q3\")"
   ]
  },
  {
   "cell_type": "code",
   "execution_count": null,
   "id": "21f8093e",
   "metadata": {
    "deletable": false,
    "editable": false
   },
   "outputs": [],
   "source": [
    "# don't change this cell, but do run it -- it is needed for the tests to work\n",
    "diamonds = pd.read_csv(os.path.join('data', 'diamonds.csv'))\n",
    "out_q4 = create_quadratics(diamonds)"
   ]
  },
  {
   "cell_type": "code",
   "execution_count": null,
   "id": "40295e94",
   "metadata": {
    "deletable": false,
    "editable": false
   },
   "outputs": [],
   "source": [
    "grader.check(\"q4\")"
   ]
  },
  {
   "cell_type": "code",
   "execution_count": null,
   "id": "59efed0a",
   "metadata": {
    "deletable": false,
    "editable": false
   },
   "outputs": [],
   "source": [
    "from sklearn.linear_model import LinearRegression\n",
    "\n",
    "# X = ...\n",
    "# y = ...\n",
    "\n",
    "# lr = LinearRegression()\n",
    "# lr.fit(X, y)  # X is a DataFrame of training data; y is a Series of prices\n",
    "# lr.score(X, y)  # R-squared\n",
    "# lr.predict(X) # predicted prices"
   ]
  },
  {
   "cell_type": "code",
   "execution_count": null,
   "id": "0dded1fb",
   "metadata": {
    "deletable": false,
    "editable": false
   },
   "outputs": [],
   "source": [
    "# don't change this cell, but do run it -- it is needed for the tests to work\n",
    "import numbers\n",
    "out_q5 = comparing_performance()"
   ]
  },
  {
   "cell_type": "code",
   "execution_count": null,
   "id": "26b21d87",
   "metadata": {
    "deletable": false,
    "editable": false
   },
   "outputs": [],
   "source": [
    "grader.check(\"q5\")"
   ]
  },
  {
   "cell_type": "code",
   "execution_count": null,
   "id": "ab7436d2",
   "metadata": {
    "deletable": false,
    "editable": false
   },
   "outputs": [],
   "source": [
    "from sklearn.preprocessing import Binarizer, QuantileTransformer, FunctionTransformer"
   ]
  },
  {
   "cell_type": "code",
   "execution_count": null,
   "id": "fef1ee94",
   "metadata": {
    "deletable": false,
    "editable": false
   },
   "outputs": [],
   "source": [
    "# don't change this cell, but do run it -- it is needed for the tests to work\n",
    "diamonds = pd.read_csv(os.path.join('data', 'diamonds.csv'))\n",
    "q6a_trans = TransformDiamonds(diamonds)\n",
    "q6a_out = q6a_trans.transform_carat(diamonds)"
   ]
  },
  {
   "cell_type": "code",
   "execution_count": null,
   "id": "c29313eb",
   "metadata": {
    "deletable": false,
    "editable": false
   },
   "outputs": [],
   "source": [
    "grader.check(\"q6.1\")"
   ]
  },
  {
   "cell_type": "code",
   "execution_count": null,
   "id": "45bf1107",
   "metadata": {
    "deletable": false,
    "editable": false
   },
   "outputs": [],
   "source": [
    "# don't change this cell, but do run it -- it is needed for the tests to work\n",
    "q6b_trans = TransformDiamonds(diamonds)\n",
    "q6b_out = q6b_trans.transform_to_quantile(diamonds)\n",
    "q6b_trans_top_1000 = TransformDiamonds(diamonds[:1000])\n",
    "q6b_out_top_1000 = q6b_trans_top_1000.transform_to_quantile(diamonds)"
   ]
  },
  {
   "cell_type": "code",
   "execution_count": null,
   "id": "7866e9f3",
   "metadata": {
    "deletable": false,
    "editable": false
   },
   "outputs": [],
   "source": [
    "grader.check(\"q6.2\")"
   ]
  },
  {
   "cell_type": "code",
   "execution_count": null,
   "id": "008a4fe8",
   "metadata": {
    "deletable": false,
    "editable": false
   },
   "outputs": [],
   "source": [
    "# don't change this cell, but do run it -- it is needed for the tests to work\n",
    "diamonds = pd.read_csv(os.path.join('data', 'diamonds.csv'))\n",
    "q6c_trans = TransformDiamonds(diamonds)\n",
    "q6c_out = q6c_trans.transform_to_depth_pct(diamonds)"
   ]
  },
  {
   "cell_type": "code",
   "execution_count": null,
   "id": "4a96bc52",
   "metadata": {
    "deletable": false,
    "editable": false
   },
   "outputs": [],
   "source": [
    "grader.check(\"q6.3\")"
   ]
  },
  {
   "cell_type": "code",
   "execution_count": null,
   "id": "64be8f95",
   "metadata": {
    "deletable": false,
    "editable": false
   },
   "outputs": [],
   "source": [
    "grader.check_all()"
   ]
  },
  {
   "attachments": {},
   "cell_type": "markdown",
   "id": "227da591",
   "metadata": {
    "deletable": false,
    "editable": false
   },
   "source": [
    "\n",
    "If you were able to go to **Kernel > Restart & Run All** and see all test cases pass above, and you've thoroughly tested your code yourself, you're ready to submit `lab.py` to Gradescope!\n",
    "    "
   ]
  }
 ],
 "metadata": {
  "kernelspec": {
   "display_name": "Python 3 (ipykernel)",
   "language": "python",
   "name": "python3"
  },
  "language_info": {
   "codemirror_mode": {
    "name": "ipython",
    "version": 3
   },
   "file_extension": ".py",
   "mimetype": "text/x-python",
   "name": "python",
   "nbconvert_exporter": "python",
   "pygments_lexer": "ipython3",
   "version": "3.8.13"
  },
  "otter": {
   "tests": {
    "q1": {
     "name": "q1",
     "points": null,
     "suites": [
      {
       "cases": [
        {
         "code": ">>> best_transformation() in [1, 2, 3, 4]\nTrue",
         "hidden": false,
         "locked": false,
         "points": 1
        },
        {
         "code": ">>> best_transformation() == 1\nTrue",
         "failure_message": "root transformation",
         "hidden": true,
         "locked": false,
         "points": 4
        }
       ],
       "scored": true,
       "setup": "",
       "teardown": "",
       "type": "doctest"
      }
     ]
    },
    "q2": {
     "name": "q2",
     "points": null,
     "suites": [
      {
       "cases": [
        {
         "code": ">>> set(out_q2.columns) == {'ordinal_cut', 'ordinal_clarity', 'ordinal_color'}\nTrue",
         "hidden": false,
         "locked": false,
         "points": 0.5
        },
        {
         "code": ">>> np.unique(out_q2['ordinal_cut']).tolist() == [0, 1, 2, 3, 4]\nTrue",
         "hidden": false,
         "locked": false,
         "points": 0.5
        },
        {
         "code": ">>> out_q2.loc[1, 'ordinal_cut'] == 3\nTrue",
         "hidden": true,
         "locked": false,
         "points": 1
        },
        {
         "code": ">>> set(out_q2['ordinal_cut']) == {0, 1, 2, 3, 4}\nTrue",
         "hidden": true,
         "locked": false,
         "points": 1
        },
        {
         "code": ">>> set(out_q2['ordinal_clarity']) == {0, 1, 2, 3, 4, 5, 6, 7}\nTrue",
         "hidden": true,
         "locked": false,
         "points": 1
        },
        {
         "code": ">>> set(out_q2['ordinal_color']) == {0, 1, 2, 3, 4, 5, 6}\nTrue",
         "hidden": true,
         "locked": false,
         "points": 1
        },
        {
         "code": ">>> cond1 = np.isclose(out_q2['ordinal_cut'].mean(), 2.904097144975899, atol=0.01)\n>>> \n>>> cond2 = np.isclose((4 - out_q2['ordinal_cut']).mean(), 2.904097144975899, atol=0.01)\n>>> \n>>> cond1 or cond2\nTrue",
         "hidden": true,
         "locked": false,
         "points": 1
        },
        {
         "code": ">>> cond1 = np.isclose(out_q2['ordinal_clarity'].mean(), 3.0510196514645904, atol=0.01)\n>>> \n>>> cond2 = np.isclose((7 - out_q2['ordinal_clarity']).mean(), 3.0510196514645904, atol=0.01)\n>>> \n>>> cond1 or cond2\nTrue",
         "hidden": true,
         "locked": false,
         "points": 1
        },
        {
         "code": ">>> cond1 = np.isclose(out_q2['ordinal_color'].mean(), 2.5941972562106046, atol=0.05)\n>>> \n>>> cond2 = np.isclose((6 - out_q2['ordinal_color']).mean(), 2.5941972562106046, atol=0.05)\n>>> \n>>> cond1 or cond2\nTrue",
         "hidden": true,
         "locked": false,
         "points": 1
        }
       ],
       "scored": true,
       "setup": "",
       "teardown": "",
       "type": "doctest"
      }
     ]
    },
    "q3": {
     "name": "q3",
     "points": null,
     "suites": [
      {
       "cases": [
        {
         "code": ">>> out1_q3.shape == (53940, 20)\nTrue",
         "hidden": false,
         "locked": false,
         "points": 1
        },
        {
         "code": ">>> out1_q3.columns.str.startswith('one_hot').all()\nTrue",
         "hidden": false,
         "locked": false,
         "points": 1
        },
        {
         "code": ">>> out1_q3.isin([0,1]).all().all()\nTrue",
         "hidden": false,
         "locked": false,
         "points": 1
        },
        {
         "code": ">>> out2_q3.shape[1] == 3\nTrue",
         "hidden": false,
         "locked": false,
         "points": 1
        },
        {
         "code": ">>> out2_q3.columns.str.startswith('proportion_').all()\nTrue",
         "hidden": false,
         "locked": false,
         "points": 1
        },
        {
         "code": ">>> ((out2_q3 >= 0) & (out2_q3 <= 1)).all().all()\nTrue",
         "hidden": false,
         "locked": false,
         "points": 1
        },
        {
         "code": ">>> np.isclose(out1_q3['one_hot_clarity_VVS2'].mean(), 0.0939191694475343, atol=0.01)\nTrue",
         "hidden": true,
         "locked": false,
         "points": 1
        },
        {
         "code": ">>> np.isclose(out1_q3['one_hot_cut_Fair'].mean(), 0.029847979236188357, atol=0.01)\nTrue",
         "hidden": true,
         "locked": false,
         "points": 1
        },
        {
         "code": ">>> out2_q3.shape == (53940, 3)\nTrue",
         "hidden": true,
         "locked": false,
         "points": 1
        },
        {
         "code": ">>> np.isclose(out2_q3['proportion_cut'], 0.399537, atol=0.01).sum() == 21551\nTrue",
         "hidden": true,
         "locked": false,
         "points": 1
        },
        {
         "code": ">>> out2_q3['proportion_color'].nunique() == 7\nTrue",
         "hidden": true,
         "locked": false,
         "points": 1
        }
       ],
       "scored": true,
       "setup": "",
       "teardown": "",
       "type": "doctest"
      }
     ]
    },
    "q4": {
     "name": "q4",
     "points": null,
     "suites": [
      {
       "cases": [
        {
         "code": ">>> out_q4.columns.str.contains(' * ').all()\nTrue",
         "hidden": false,
         "locked": false,
         "points": 1
        },
        {
         "code": ">>> ('x * z' in out_q4.columns) or ('z * x' in out_q4.columns)\nTrue",
         "hidden": false,
         "locked": false,
         "points": 1
        },
        {
         "code": ">>> out_q4.shape[1] == 15\nTrue",
         "hidden": false,
         "locked": false,
         "points": 1
        },
        {
         "code": ">>> out_q4.shape == (53940, 15)\nTrue",
         "hidden": true,
         "locked": false,
         "points": 1
        },
        {
         "code": ">>> cols = pd.read_csv(os.path.join('data', 'diamonds.csv')).columns\n>>> s = set([f'{x} * {y}' for x in cols for y in cols])\n>>> set(out_q4.columns) <= s\nTrue",
         "hidden": true,
         "locked": false,
         "points": 1
        },
        {
         "code": ">>> np.isclose(out_q4.mean(axis=1).iloc[0], 310.24, atol=0.1)\nTrue",
         "hidden": true,
         "locked": false,
         "points": 1
        },
        {
         "code": ">>> out_q4.max().max() == 5767\nTrue",
         "hidden": true,
         "locked": false,
         "points": 1
        },
        {
         "code": ">>> out_q4.min().min() == 0\nTrue",
         "hidden": true,
         "locked": false,
         "points": 1
        },
        {
         "code": ">>> out_q4.min().loc[lambda x: x > 0].min() == 11\nTrue",
         "hidden": true,
         "locked": false,
         "points": 1
        }
       ],
       "scored": true,
       "setup": "",
       "teardown": "",
       "type": "doctest"
      }
     ]
    },
    "q5": {
     "name": "q5",
     "points": null,
     "suites": [
      {
       "cases": [
        {
         "code": ">>> len(out_q5) == 6\nTrue",
         "hidden": false,
         "locked": false,
         "points": 1
        },
        {
         "code": ">>> isinstance(out_q5[0], numbers.Real)\nTrue",
         "hidden": false,
         "locked": false,
         "points": 1
        },
        {
         "code": ">>> all(isinstance(x, str) for x in out_q5[2:-1])\nTrue",
         "hidden": false,
         "locked": false,
         "points": 1
        },
        {
         "code": ">>> out_q5[1] > out_q5[-1]\nTrue",
         "hidden": false,
         "locked": false,
         "points": 1
        },
        {
         "code": ">>> np.isclose(out_q5[0], 0.8493305264354857, atol=0.01)\nTrue",
         "hidden": true,
         "locked": false,
         "points": 1
        },
        {
         "code": ">>> np.isclose(out_q5[1], 1548.53, atol=0.1)\nTrue",
         "hidden": true,
         "locked": false,
         "points": 1
        },
        {
         "code": ">>> out_q5[2] == 'x'\nTrue",
         "hidden": true,
         "locked": false,
         "points": 1
        },
        {
         "code": ">>> ('carat' in out_q5[3]) or ('x' in out_q5[3])\nTrue",
         "hidden": true,
         "locked": false,
         "points": 1
        },
        {
         "code": ">>> (out_q5[3] == 'carat * x') or (out_q5[3] == 'x * carat')\nTrue",
         "hidden": true,
         "locked": false,
         "points": 1
        },
        {
         "code": ">>> s1 = out_q5[4] in ('ordinal_color', 'ordinal_clarity', 'one_hot_clarity_SI2')\n>>> s2 = out_q5[4] in ('color', 'clarity')\n>>> s1 or s2\nTrue",
         "hidden": true,
         "locked": false,
         "points": 1
        },
        {
         "code": ">>> (out_q5[4] == 'ordinal_color') or (out_q5[4] == 'color')\nTrue",
         "hidden": true,
         "locked": false,
         "points": 1
        },
        {
         "code": ">>> np.isclose(out_q5[5], 1434.84, atol=0.1)\nTrue",
         "hidden": true,
         "locked": false,
         "points": 1
        }
       ],
       "scored": true,
       "setup": "",
       "teardown": "",
       "type": "doctest"
      }
     ]
    },
    "q6.1": {
     "name": "q6.1",
     "points": null,
     "suites": [
      {
       "cases": [
        {
         "code": ">>> isinstance(q6a_out, np.ndarray)\nTrue",
         "hidden": false,
         "locked": false,
         "points": 0.5
        },
        {
         "code": ">>> q6a_out[172, 0] == 1\nTrue",
         "hidden": false,
         "locked": false,
         "points": 0.5
        },
        {
         "code": ">>> q6a_out[0, 0] == 0\nTrue",
         "hidden": false,
         "locked": false,
         "points": 0.5
        },
        {
         "code": ">>> int(q6a_out[172, 0]) == 1\nTrue",
         "hidden": true,
         "locked": false,
         "points": 1
        },
        {
         "code": ">>> int(q6a_out[0, 0]) == 0\nTrue",
         "hidden": true,
         "locked": false,
         "points": 1
        },
        {
         "code": ">>> ((q6a_out == 0) | (q6a_out == 1)).all().all()\nTrue",
         "hidden": true,
         "locked": false,
         "points": 1
        },
        {
         "code": ">>> np.isclose(q6a_out.mean(), 0.32447, atol=0.01)\nTrue",
         "hidden": true,
         "locked": false,
         "points": 1
        },
        {
         "code": ">>> np.isclose(q6a_out.mean(), 0.32447, atol=0.05)\nTrue",
         "hidden": true,
         "locked": false,
         "points": 1
        }
       ],
       "scored": true,
       "setup": "",
       "teardown": "",
       "type": "doctest"
      }
     ]
    },
    "q6.2": {
     "name": "q6.2",
     "points": null,
     "suites": [
      {
       "cases": [
        {
         "code": ">>> isinstance(q6b_out, np.ndarray)\nTrue",
         "hidden": false,
         "locked": false,
         "points": 0.5
        },
        {
         "code": ">>> np.isclose(q6b_out[0, 0], 0.0075757, atol=0.0001)\nTrue",
         "hidden": false,
         "locked": false,
         "points": 0.5
        },
        {
         "code": ">>> np.isclose(q6b_out[1, 0], 0.0025252, atol=0.0001)\nTrue",
         "hidden": false,
         "locked": false,
         "points": 0.5
        },
        {
         "code": ">>> np.isclose(np.median(q6b_out), 0.4848, atol=0.02)\nTrue",
         "hidden": true,
         "locked": false,
         "points": 1
        },
        {
         "code": ">>> np.isclose(q6b_out.squeeze()[-1], 0.5606, atol=0.01)\nTrue",
         "hidden": true,
         "locked": false,
         "points": 1
        },
        {
         "code": ">>> ((q6b_out >= 0) | (q6b_out <= 1)).all().all()\nTrue",
         "hidden": true,
         "locked": false,
         "points": 1
        },
        {
         "code": ">>> np.isclose(q6b_out_top_1000.squeeze()[0], 0.01515, atol=0.001)\nTrue",
         "hidden": true,
         "locked": false,
         "points": 1
        },
        {
         "code": ">>> np.isclose(q6b_out_top_1000.squeeze()[-1], 0.67171, atol=0.01)\nTrue",
         "hidden": true,
         "locked": false,
         "points": 1
        },
        {
         "code": ">>> ((q6b_out_top_1000 >= 0) | (q6b_out_top_1000 <= 1)).all().all()\nTrue",
         "hidden": true,
         "locked": false,
         "points": 1
        }
       ],
       "scored": true,
       "setup": "",
       "teardown": "",
       "type": "doctest"
      }
     ]
    },
    "q6.3": {
     "name": "q6.3",
     "points": null,
     "suites": [
      {
       "cases": [
        {
         "code": ">>> len(q6c_out.shape) == 1\nTrue",
         "hidden": false,
         "locked": false,
         "points": 0.5
        },
        {
         "code": ">>> np.isclose(q6c_out[0], 61.286, atol=0.0001)\nTrue",
         "hidden": false,
         "locked": false,
         "points": 0.5
        },
        {
         "code": ">>> np.isclose(q6c_out[-1], 62.22222, atol=0.001)\nTrue",
         "hidden": true,
         "locked": false,
         "points": 1
        },
        {
         "code": ">>> np.isclose(np.nanmean(q6c_out), 61.744, atol=10.0)\nTrue",
         "hidden": true,
         "locked": false,
         "points": 1
        },
        {
         "code": ">>> np.isclose(np.nanmean(q6c_out), 61.744, atol=1.0)\nTrue",
         "hidden": true,
         "locked": false,
         "points": 1
        },
        {
         "code": ">>> np.isclose(np.nanmax(q6c_out), 619.279, atol=0.1)\nTrue",
         "hidden": true,
         "locked": false,
         "points": 2
        }
       ],
       "scored": true,
       "setup": "",
       "teardown": "",
       "type": "doctest"
      }
     ]
    }
   }
  }
 },
 "nbformat": 4,
 "nbformat_minor": 5
}
